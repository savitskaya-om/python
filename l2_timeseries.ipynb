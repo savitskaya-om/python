{
 "cells": [
  {
   "cell_type": "code",
   "execution_count": 3,
   "metadata": {
    "id": "Og74jUQWsjG7"
   },
   "outputs": [],
   "source": [
    "import pandas as pd"
   ]
  },
  {
   "cell_type": "code",
   "execution_count": 4,
   "metadata": {},
   "outputs": [],
   "source": [
    "df = pd.read_csv('SBER.csv')"
   ]
  },
  {
   "cell_type": "code",
   "execution_count": 5,
   "metadata": {
    "colab": {
     "base_uri": "https://localhost:8080/",
     "height": 419
    },
    "id": "NBfEkMiJPm15",
    "outputId": "836d1ab8-c31d-47f3-d489-f04c87481af6"
   },
   "outputs": [
    {
     "data": {
      "text/html": [
       "<div>\n",
       "<style scoped>\n",
       "    .dataframe tbody tr th:only-of-type {\n",
       "        vertical-align: middle;\n",
       "    }\n",
       "\n",
       "    .dataframe tbody tr th {\n",
       "        vertical-align: top;\n",
       "    }\n",
       "\n",
       "    .dataframe thead th {\n",
       "        text-align: right;\n",
       "    }\n",
       "</style>\n",
       "<table border=\"1\" class=\"dataframe\">\n",
       "  <thead>\n",
       "    <tr style=\"text-align: right;\">\n",
       "      <th></th>\n",
       "      <th>Дата</th>\n",
       "      <th>Цена</th>\n",
       "      <th>Откр.</th>\n",
       "      <th>Макс.</th>\n",
       "      <th>Мин.</th>\n",
       "      <th>Объём</th>\n",
       "      <th>Изм. %</th>\n",
       "    </tr>\n",
       "  </thead>\n",
       "  <tbody>\n",
       "    <tr>\n",
       "      <th>0</th>\n",
       "      <td>10.01.2022</td>\n",
       "      <td>290,40</td>\n",
       "      <td>297,15</td>\n",
       "      <td>298,88</td>\n",
       "      <td>289,65</td>\n",
       "      <td>42,96M</td>\n",
       "      <td>-1,20%</td>\n",
       "    </tr>\n",
       "    <tr>\n",
       "      <th>1</th>\n",
       "      <td>06.01.2022</td>\n",
       "      <td>293,92</td>\n",
       "      <td>286,60</td>\n",
       "      <td>295,10</td>\n",
       "      <td>281,00</td>\n",
       "      <td>79,38M</td>\n",
       "      <td>2,41%</td>\n",
       "    </tr>\n",
       "    <tr>\n",
       "      <th>2</th>\n",
       "      <td>05.01.2022</td>\n",
       "      <td>287,01</td>\n",
       "      <td>303,72</td>\n",
       "      <td>304,26</td>\n",
       "      <td>287,00</td>\n",
       "      <td>70,02M</td>\n",
       "      <td>-5,66%</td>\n",
       "    </tr>\n",
       "    <tr>\n",
       "      <th>3</th>\n",
       "      <td>04.01.2022</td>\n",
       "      <td>304,24</td>\n",
       "      <td>305,51</td>\n",
       "      <td>310,10</td>\n",
       "      <td>301,63</td>\n",
       "      <td>53,27M</td>\n",
       "      <td>-0,40%</td>\n",
       "    </tr>\n",
       "    <tr>\n",
       "      <th>4</th>\n",
       "      <td>03.01.2022</td>\n",
       "      <td>305,47</td>\n",
       "      <td>295,90</td>\n",
       "      <td>305,50</td>\n",
       "      <td>294,34</td>\n",
       "      <td>50,18M</td>\n",
       "      <td>4,08%</td>\n",
       "    </tr>\n",
       "    <tr>\n",
       "      <th>...</th>\n",
       "      <td>...</td>\n",
       "      <td>...</td>\n",
       "      <td>...</td>\n",
       "      <td>...</td>\n",
       "      <td>...</td>\n",
       "      <td>...</td>\n",
       "      <td>...</td>\n",
       "    </tr>\n",
       "    <tr>\n",
       "      <th>270</th>\n",
       "      <td>16.12.2020</td>\n",
       "      <td>278,35</td>\n",
       "      <td>278,00</td>\n",
       "      <td>280,84</td>\n",
       "      <td>276,14</td>\n",
       "      <td>54,75M</td>\n",
       "      <td>-0,13%</td>\n",
       "    </tr>\n",
       "    <tr>\n",
       "      <th>271</th>\n",
       "      <td>15.12.2020</td>\n",
       "      <td>278,70</td>\n",
       "      <td>278,53</td>\n",
       "      <td>283,76</td>\n",
       "      <td>276,07</td>\n",
       "      <td>84,19M</td>\n",
       "      <td>-0,45%</td>\n",
       "    </tr>\n",
       "    <tr>\n",
       "      <th>272</th>\n",
       "      <td>14.12.2020</td>\n",
       "      <td>279,95</td>\n",
       "      <td>285,01</td>\n",
       "      <td>287,74</td>\n",
       "      <td>277,10</td>\n",
       "      <td>90,42M</td>\n",
       "      <td>-1,33%</td>\n",
       "    </tr>\n",
       "    <tr>\n",
       "      <th>273</th>\n",
       "      <td>11.12.2020</td>\n",
       "      <td>283,73</td>\n",
       "      <td>282,50</td>\n",
       "      <td>284,60</td>\n",
       "      <td>279,78</td>\n",
       "      <td>76,10M</td>\n",
       "      <td>0,54%</td>\n",
       "    </tr>\n",
       "    <tr>\n",
       "      <th>274</th>\n",
       "      <td>10.12.2020</td>\n",
       "      <td>282,20</td>\n",
       "      <td>276,55</td>\n",
       "      <td>282,20</td>\n",
       "      <td>275,20</td>\n",
       "      <td>75,66M</td>\n",
       "      <td>1,92%</td>\n",
       "    </tr>\n",
       "  </tbody>\n",
       "</table>\n",
       "<p>275 rows × 7 columns</p>\n",
       "</div>"
      ],
      "text/plain": [
       "           Дата    Цена   Откр.   Макс.    Мин.   Объём  Изм. %\n",
       "0    10.01.2022  290,40  297,15  298,88  289,65  42,96M  -1,20%\n",
       "1    06.01.2022  293,92  286,60  295,10  281,00  79,38M   2,41%\n",
       "2    05.01.2022  287,01  303,72  304,26  287,00  70,02M  -5,66%\n",
       "3    04.01.2022  304,24  305,51  310,10  301,63  53,27M  -0,40%\n",
       "4    03.01.2022  305,47  295,90  305,50  294,34  50,18M   4,08%\n",
       "..          ...     ...     ...     ...     ...     ...     ...\n",
       "270  16.12.2020  278,35  278,00  280,84  276,14  54,75M  -0,13%\n",
       "271  15.12.2020  278,70  278,53  283,76  276,07  84,19M  -0,45%\n",
       "272  14.12.2020  279,95  285,01  287,74  277,10  90,42M  -1,33%\n",
       "273  11.12.2020  283,73  282,50  284,60  279,78  76,10M   0,54%\n",
       "274  10.12.2020  282,20  276,55  282,20  275,20  75,66M   1,92%\n",
       "\n",
       "[275 rows x 7 columns]"
      ]
     },
     "execution_count": 5,
     "metadata": {},
     "output_type": "execute_result"
    }
   ],
   "source": [
    "df"
   ]
  },
  {
   "cell_type": "code",
   "execution_count": 6,
   "metadata": {},
   "outputs": [],
   "source": [
    "df = df[['Дата','Цена']]"
   ]
  },
  {
   "cell_type": "code",
   "execution_count": 7,
   "metadata": {
    "id": "sHaMbcyktP2B"
   },
   "outputs": [],
   "source": [
    "df.columns = ['ds','y']"
   ]
  },
  {
   "cell_type": "code",
   "execution_count": 8,
   "metadata": {},
   "outputs": [
    {
     "name": "stdout",
     "output_type": "stream",
     "text": [
      "<class 'pandas.core.frame.DataFrame'>\n",
      "RangeIndex: 275 entries, 0 to 274\n",
      "Data columns (total 2 columns):\n",
      " #   Column  Non-Null Count  Dtype \n",
      "---  ------  --------------  ----- \n",
      " 0   ds      275 non-null    object\n",
      " 1   y       275 non-null    object\n",
      "dtypes: object(2)\n",
      "memory usage: 4.4+ KB\n"
     ]
    }
   ],
   "source": [
    "df.info()"
   ]
  },
  {
   "cell_type": "code",
   "execution_count": 9,
   "metadata": {},
   "outputs": [
    {
     "data": {
      "text/html": [
       "<div>\n",
       "<style scoped>\n",
       "    .dataframe tbody tr th:only-of-type {\n",
       "        vertical-align: middle;\n",
       "    }\n",
       "\n",
       "    .dataframe tbody tr th {\n",
       "        vertical-align: top;\n",
       "    }\n",
       "\n",
       "    .dataframe thead th {\n",
       "        text-align: right;\n",
       "    }\n",
       "</style>\n",
       "<table border=\"1\" class=\"dataframe\">\n",
       "  <thead>\n",
       "    <tr style=\"text-align: right;\">\n",
       "      <th></th>\n",
       "      <th>ds</th>\n",
       "      <th>y</th>\n",
       "    </tr>\n",
       "  </thead>\n",
       "  <tbody>\n",
       "    <tr>\n",
       "      <th>0</th>\n",
       "      <td>10.01.2022</td>\n",
       "      <td>290,40</td>\n",
       "    </tr>\n",
       "    <tr>\n",
       "      <th>1</th>\n",
       "      <td>06.01.2022</td>\n",
       "      <td>293,92</td>\n",
       "    </tr>\n",
       "    <tr>\n",
       "      <th>2</th>\n",
       "      <td>05.01.2022</td>\n",
       "      <td>287,01</td>\n",
       "    </tr>\n",
       "    <tr>\n",
       "      <th>3</th>\n",
       "      <td>04.01.2022</td>\n",
       "      <td>304,24</td>\n",
       "    </tr>\n",
       "    <tr>\n",
       "      <th>4</th>\n",
       "      <td>03.01.2022</td>\n",
       "      <td>305,47</td>\n",
       "    </tr>\n",
       "  </tbody>\n",
       "</table>\n",
       "</div>"
      ],
      "text/plain": [
       "           ds       y\n",
       "0  10.01.2022  290,40\n",
       "1  06.01.2022  293,92\n",
       "2  05.01.2022  287,01\n",
       "3  04.01.2022  304,24\n",
       "4  03.01.2022  305,47"
      ]
     },
     "execution_count": 9,
     "metadata": {},
     "output_type": "execute_result"
    }
   ],
   "source": [
    "df.head()"
   ]
  },
  {
   "cell_type": "code",
   "execution_count": 10,
   "metadata": {},
   "outputs": [
    {
     "name": "stderr",
     "output_type": "stream",
     "text": [
      "/Users/18827990/DA_4/lec_venv/lib/python3.6/site-packages/ipykernel_launcher.py:1: SettingWithCopyWarning: \n",
      "A value is trying to be set on a copy of a slice from a DataFrame.\n",
      "Try using .loc[row_indexer,col_indexer] = value instead\n",
      "\n",
      "See the caveats in the documentation: https://pandas.pydata.org/pandas-docs/stable/user_guide/indexing.html#returning-a-view-versus-a-copy\n",
      "  \"\"\"Entry point for launching an IPython kernel.\n"
     ]
    }
   ],
   "source": [
    "df['y'] = df.y.str.replace(',','.')"
   ]
  },
  {
   "cell_type": "code",
   "execution_count": 11,
   "metadata": {},
   "outputs": [
    {
     "name": "stderr",
     "output_type": "stream",
     "text": [
      "/Users/18827990/DA_4/lec_venv/lib/python3.6/site-packages/ipykernel_launcher.py:1: SettingWithCopyWarning: \n",
      "A value is trying to be set on a copy of a slice from a DataFrame.\n",
      "Try using .loc[row_indexer,col_indexer] = value instead\n",
      "\n",
      "See the caveats in the documentation: https://pandas.pydata.org/pandas-docs/stable/user_guide/indexing.html#returning-a-view-versus-a-copy\n",
      "  \"\"\"Entry point for launching an IPython kernel.\n"
     ]
    }
   ],
   "source": [
    "df['y'] = pd.to_numeric(df['y'])"
   ]
  },
  {
   "cell_type": "code",
   "execution_count": 12,
   "metadata": {},
   "outputs": [
    {
     "name": "stderr",
     "output_type": "stream",
     "text": [
      "/Users/18827990/DA_4/lec_venv/lib/python3.6/site-packages/ipykernel_launcher.py:1: SettingWithCopyWarning: \n",
      "A value is trying to be set on a copy of a slice from a DataFrame.\n",
      "Try using .loc[row_indexer,col_indexer] = value instead\n",
      "\n",
      "See the caveats in the documentation: https://pandas.pydata.org/pandas-docs/stable/user_guide/indexing.html#returning-a-view-versus-a-copy\n",
      "  \"\"\"Entry point for launching an IPython kernel.\n"
     ]
    }
   ],
   "source": [
    "df['ds'] = pd.to_datetime(df['ds'],dayfirst=True)"
   ]
  },
  {
   "cell_type": "code",
   "execution_count": 13,
   "metadata": {},
   "outputs": [
    {
     "data": {
      "text/plain": [
       "Timestamp('2020-12-10 00:00:00')"
      ]
     },
     "execution_count": 13,
     "metadata": {},
     "output_type": "execute_result"
    }
   ],
   "source": [
    "df.ds.min()"
   ]
  },
  {
   "cell_type": "code",
   "execution_count": 14,
   "metadata": {
    "colab": {
     "base_uri": "https://localhost:8080/",
     "height": 282
    },
    "id": "Td5Gj1AxP6u7",
    "outputId": "67b5f100-c2a4-48f4-a7a6-67e60303eff5"
   },
   "outputs": [
    {
     "data": {
      "text/plain": [
       "<AxesSubplot:>"
      ]
     },
     "execution_count": 14,
     "metadata": {},
     "output_type": "execute_result"
    },
    {
     "data": {
      "image/png": "[encoded data removed]",
      "text/plain": [
       "<Figure size 432x288 with 1 Axes>"
      ]
     },
     "metadata": {
      "needs_background": "light"
     },
     "output_type": "display_data"
    }
   ],
   "source": [
    "df.y.plot()"
   ]
  },
  {
   "cell_type": "code",
   "execution_count": 15,
   "metadata": {},
   "outputs": [
    {
     "name": "stderr",
     "output_type": "stream",
     "text": [
      "/Users/18827990/DA_4/lec_venv/lib/python3.6/site-packages/ipykernel_launcher.py:1: SettingWithCopyWarning: \n",
      "A value is trying to be set on a copy of a slice from a DataFrame\n",
      "\n",
      "See the caveats in the documentation: https://pandas.pydata.org/pandas-docs/stable/user_guide/indexing.html#returning-a-view-versus-a-copy\n",
      "  \"\"\"Entry point for launching an IPython kernel.\n"
     ]
    }
   ],
   "source": [
    "df.sort_values(by=['ds'],inplace=True)"
   ]
  },
  {
   "cell_type": "code",
   "execution_count": 16,
   "metadata": {
    "colab": {
     "base_uri": "https://localhost:8080/",
     "height": 204
    },
    "id": "DHmHLy_HQGur",
    "outputId": "6cd7a5c9-4fb0-4906-8a69-947419120d70"
   },
   "outputs": [
    {
     "data": {
      "text/html": [
       "<div>\n",
       "<style scoped>\n",
       "    .dataframe tbody tr th:only-of-type {\n",
       "        vertical-align: middle;\n",
       "    }\n",
       "\n",
       "    .dataframe tbody tr th {\n",
       "        vertical-align: top;\n",
       "    }\n",
       "\n",
       "    .dataframe thead th {\n",
       "        text-align: right;\n",
       "    }\n",
       "</style>\n",
       "<table border=\"1\" class=\"dataframe\">\n",
       "  <thead>\n",
       "    <tr style=\"text-align: right;\">\n",
       "      <th></th>\n",
       "      <th>ds</th>\n",
       "      <th>y</th>\n",
       "    </tr>\n",
       "  </thead>\n",
       "  <tbody>\n",
       "    <tr>\n",
       "      <th>4</th>\n",
       "      <td>2022-01-03</td>\n",
       "      <td>305.47</td>\n",
       "    </tr>\n",
       "    <tr>\n",
       "      <th>3</th>\n",
       "      <td>2022-01-04</td>\n",
       "      <td>304.24</td>\n",
       "    </tr>\n",
       "    <tr>\n",
       "      <th>2</th>\n",
       "      <td>2022-01-05</td>\n",
       "      <td>287.01</td>\n",
       "    </tr>\n",
       "    <tr>\n",
       "      <th>1</th>\n",
       "      <td>2022-01-06</td>\n",
       "      <td>293.92</td>\n",
       "    </tr>\n",
       "    <tr>\n",
       "      <th>0</th>\n",
       "      <td>2022-01-10</td>\n",
       "      <td>290.40</td>\n",
       "    </tr>\n",
       "  </tbody>\n",
       "</table>\n",
       "</div>"
      ],
      "text/plain": [
       "          ds       y\n",
       "4 2022-01-03  305.47\n",
       "3 2022-01-04  304.24\n",
       "2 2022-01-05  287.01\n",
       "1 2022-01-06  293.92\n",
       "0 2022-01-10  290.40"
      ]
     },
     "execution_count": 16,
     "metadata": {},
     "output_type": "execute_result"
    }
   ],
   "source": [
    "df.tail()"
   ]
  },
  {
   "cell_type": "code",
   "execution_count": 17,
   "metadata": {
    "colab": {
     "base_uri": "https://localhost:8080/"
    },
    "id": "1j62y7k4tUxd",
    "outputId": "97cadfb5-ed7f-499a-8e2e-5a1addd69111"
   },
   "outputs": [
    {
     "name": "stdout",
     "output_type": "stream",
     "text": [
      "Монотонность -  True\n"
     ]
    }
   ],
   "source": [
    "df.set_index('ds', inplace=True)\n",
    "df.sort_index(inplace=True)\n",
    "print('Монотонность - ',df.index.is_monotonic)"
   ]
  },
  {
   "cell_type": "code",
   "execution_count": 18,
   "metadata": {
    "colab": {
     "base_uri": "https://localhost:8080/",
     "height": 235
    },
    "id": "AlN8sRN9QcU2",
    "outputId": "96f91f9a-3e0a-48e7-ca04-c425fda55be1"
   },
   "outputs": [
    {
     "data": {
      "text/html": [
       "<div>\n",
       "<style scoped>\n",
       "    .dataframe tbody tr th:only-of-type {\n",
       "        vertical-align: middle;\n",
       "    }\n",
       "\n",
       "    .dataframe tbody tr th {\n",
       "        vertical-align: top;\n",
       "    }\n",
       "\n",
       "    .dataframe thead th {\n",
       "        text-align: right;\n",
       "    }\n",
       "</style>\n",
       "<table border=\"1\" class=\"dataframe\">\n",
       "  <thead>\n",
       "    <tr style=\"text-align: right;\">\n",
       "      <th></th>\n",
       "      <th>y</th>\n",
       "    </tr>\n",
       "    <tr>\n",
       "      <th>ds</th>\n",
       "      <th></th>\n",
       "    </tr>\n",
       "  </thead>\n",
       "  <tbody>\n",
       "    <tr>\n",
       "      <th>2020-12-10</th>\n",
       "      <td>282.20</td>\n",
       "    </tr>\n",
       "    <tr>\n",
       "      <th>2020-12-11</th>\n",
       "      <td>283.73</td>\n",
       "    </tr>\n",
       "    <tr>\n",
       "      <th>2020-12-14</th>\n",
       "      <td>279.95</td>\n",
       "    </tr>\n",
       "    <tr>\n",
       "      <th>2020-12-15</th>\n",
       "      <td>278.70</td>\n",
       "    </tr>\n",
       "    <tr>\n",
       "      <th>2020-12-16</th>\n",
       "      <td>278.35</td>\n",
       "    </tr>\n",
       "  </tbody>\n",
       "</table>\n",
       "</div>"
      ],
      "text/plain": [
       "                 y\n",
       "ds                \n",
       "2020-12-10  282.20\n",
       "2020-12-11  283.73\n",
       "2020-12-14  279.95\n",
       "2020-12-15  278.70\n",
       "2020-12-16  278.35"
      ]
     },
     "execution_count": 18,
     "metadata": {},
     "output_type": "execute_result"
    }
   ],
   "source": [
    "df.head()"
   ]
  },
  {
   "cell_type": "code",
   "execution_count": 19,
   "metadata": {
    "colab": {
     "base_uri": "https://localhost:8080/",
     "height": 294
    },
    "id": "3Hs4d5U_tiPn",
    "outputId": "6f4fd5a4-408a-4f99-a82a-d9207a941b83"
   },
   "outputs": [
    {
     "data": {
      "text/plain": [
       "<AxesSubplot:xlabel='ds'>"
      ]
     },
     "execution_count": 19,
     "metadata": {},
     "output_type": "execute_result"
    },
    {
     "data": {
      "image/png": "[encoded data removed]",
      "text/plain": [
       "<Figure size 432x288 with 1 Axes>"
      ]
     },
     "metadata": {
      "needs_background": "light"
     },
     "output_type": "display_data"
    }
   ],
   "source": [
    "df.plot()"
   ]
  },
  {
   "cell_type": "code",
   "execution_count": 48,
   "metadata": {
    "colab": {
     "base_uri": "https://localhost:8080/",
     "height": 294
    },
    "id": "YOgkG6vzRGoK",
    "outputId": "c0c816f0-bef3-4131-d89e-290850dbdcee"
   },
   "outputs": [
    {
     "data": {
      "text/plain": [
       "<AxesSubplot:xlabel='ds'>"
      ]
     },
     "execution_count": 48,
     "metadata": {},
     "output_type": "execute_result"
    },
    {
     "data": {
      "image/png": "[encoded data removed]",
      "text/plain": [
       "<Figure size 432x288 with 1 Axes>"
      ]
     },
     "metadata": {
      "needs_background": "light"
     },
     "output_type": "display_data"
    }
   ],
   "source": [
    "df.rolling(50).mean().plot()"
   ]
  },
  {
   "cell_type": "code",
   "execution_count": 49,
   "metadata": {},
   "outputs": [
    {
     "data": {
      "text/html": [
       "<div>\n",
       "<style scoped>\n",
       "    .dataframe tbody tr th:only-of-type {\n",
       "        vertical-align: middle;\n",
       "    }\n",
       "\n",
       "    .dataframe tbody tr th {\n",
       "        vertical-align: top;\n",
       "    }\n",
       "\n",
       "    .dataframe thead th {\n",
       "        text-align: right;\n",
       "    }\n",
       "</style>\n",
       "<table border=\"1\" class=\"dataframe\">\n",
       "  <thead>\n",
       "    <tr style=\"text-align: right;\">\n",
       "      <th></th>\n",
       "      <th>y</th>\n",
       "    </tr>\n",
       "    <tr>\n",
       "      <th>ds</th>\n",
       "      <th></th>\n",
       "    </tr>\n",
       "  </thead>\n",
       "  <tbody>\n",
       "    <tr>\n",
       "      <th>2020-12-10</th>\n",
       "      <td>282.20</td>\n",
       "    </tr>\n",
       "    <tr>\n",
       "      <th>2020-12-11</th>\n",
       "      <td>283.73</td>\n",
       "    </tr>\n",
       "    <tr>\n",
       "      <th>2020-12-14</th>\n",
       "      <td>279.95</td>\n",
       "    </tr>\n",
       "    <tr>\n",
       "      <th>2020-12-15</th>\n",
       "      <td>278.70</td>\n",
       "    </tr>\n",
       "    <tr>\n",
       "      <th>2020-12-16</th>\n",
       "      <td>278.35</td>\n",
       "    </tr>\n",
       "    <tr>\n",
       "      <th>...</th>\n",
       "      <td>...</td>\n",
       "    </tr>\n",
       "    <tr>\n",
       "      <th>2022-01-03</th>\n",
       "      <td>305.47</td>\n",
       "    </tr>\n",
       "    <tr>\n",
       "      <th>2022-01-04</th>\n",
       "      <td>304.24</td>\n",
       "    </tr>\n",
       "    <tr>\n",
       "      <th>2022-01-05</th>\n",
       "      <td>287.01</td>\n",
       "    </tr>\n",
       "    <tr>\n",
       "      <th>2022-01-06</th>\n",
       "      <td>293.92</td>\n",
       "    </tr>\n",
       "    <tr>\n",
       "      <th>2022-01-10</th>\n",
       "      <td>290.40</td>\n",
       "    </tr>\n",
       "  </tbody>\n",
       "</table>\n",
       "<p>275 rows × 1 columns</p>\n",
       "</div>"
      ],
      "text/plain": [
       "                 y\n",
       "ds                \n",
       "2020-12-10  282.20\n",
       "2020-12-11  283.73\n",
       "2020-12-14  279.95\n",
       "2020-12-15  278.70\n",
       "2020-12-16  278.35\n",
       "...            ...\n",
       "2022-01-03  305.47\n",
       "2022-01-04  304.24\n",
       "2022-01-05  287.01\n",
       "2022-01-06  293.92\n",
       "2022-01-10  290.40\n",
       "\n",
       "[275 rows x 1 columns]"
      ]
     },
     "execution_count": 49,
     "metadata": {},
     "output_type": "execute_result"
    }
   ],
   "source": [
    "df"
   ]
  },
  {
   "cell_type": "code",
   "execution_count": 20,
   "metadata": {
    "id": "l1ctDHA3tzn2"
   },
   "outputs": [],
   "source": [
    "# функция по созданию сгенерированных признаков\n",
    "def make_features(data, max_lag, rolling_mean_size):\n",
    "    data['year'] = data.index.year\n",
    "    data['month'] = data.index.month\n",
    "    data['day'] = data.index.day\n",
    "    data['dayofweek'] = data.index.dayofweek\n",
    "    data['is_weekend'] = data.index.isin([5,6])*1\n",
    "    \n",
    "    for lag in range(1, max_lag + 1):\n",
    "        data['lag_{}'.format(lag)] = data['y'].shift(lag)\n",
    "\n",
    "    data['y_mean'] = data['y'].shift().rolling(rolling_mean_size).mean().copy()"
   ]
  },
  {
   "cell_type": "code",
   "execution_count": 21,
   "metadata": {
    "colab": {
     "base_uri": "https://localhost:8080/"
    },
    "id": "vni1pC8FuXyJ",
    "outputId": "3db41039-cb6b-4108-a697-4f8d90943b2d"
   },
   "outputs": [
    {
     "name": "stderr",
     "output_type": "stream",
     "text": [
      "/Users/18827990/DA_4/lec_venv/lib/python3.6/site-packages/ipykernel_launcher.py:3: SettingWithCopyWarning: \n",
      "A value is trying to be set on a copy of a slice from a DataFrame.\n",
      "Try using .loc[row_indexer,col_indexer] = value instead\n",
      "\n",
      "See the caveats in the documentation: https://pandas.pydata.org/pandas-docs/stable/user_guide/indexing.html#returning-a-view-versus-a-copy\n",
      "  This is separate from the ipykernel package so we can avoid doing imports until\n",
      "/Users/18827990/DA_4/lec_venv/lib/python3.6/site-packages/ipykernel_launcher.py:4: SettingWithCopyWarning: \n",
      "A value is trying to be set on a copy of a slice from a DataFrame.\n",
      "Try using .loc[row_indexer,col_indexer] = value instead\n",
      "\n",
      "See the caveats in the documentation: https://pandas.pydata.org/pandas-docs/stable/user_guide/indexing.html#returning-a-view-versus-a-copy\n",
      "  after removing the cwd from sys.path.\n",
      "/Users/18827990/DA_4/lec_venv/lib/python3.6/site-packages/ipykernel_launcher.py:5: SettingWithCopyWarning: \n",
      "A value is trying to be set on a copy of a slice from a DataFrame.\n",
      "Try using .loc[row_indexer,col_indexer] = value instead\n",
      "\n",
      "See the caveats in the documentation: https://pandas.pydata.org/pandas-docs/stable/user_guide/indexing.html#returning-a-view-versus-a-copy\n",
      "  \"\"\"\n",
      "/Users/18827990/DA_4/lec_venv/lib/python3.6/site-packages/ipykernel_launcher.py:6: SettingWithCopyWarning: \n",
      "A value is trying to be set on a copy of a slice from a DataFrame.\n",
      "Try using .loc[row_indexer,col_indexer] = value instead\n",
      "\n",
      "See the caveats in the documentation: https://pandas.pydata.org/pandas-docs/stable/user_guide/indexing.html#returning-a-view-versus-a-copy\n",
      "  \n",
      "/Users/18827990/DA_4/lec_venv/lib/python3.6/site-packages/ipykernel_launcher.py:7: SettingWithCopyWarning: \n",
      "A value is trying to be set on a copy of a slice from a DataFrame.\n",
      "Try using .loc[row_indexer,col_indexer] = value instead\n",
      "\n",
      "See the caveats in the documentation: https://pandas.pydata.org/pandas-docs/stable/user_guide/indexing.html#returning-a-view-versus-a-copy\n",
      "  import sys\n"
     ]
    }
   ],
   "source": [
    "make_features(df, 7, 3)"
   ]
  },
  {
   "cell_type": "code",
   "execution_count": 22,
   "metadata": {},
   "outputs": [
    {
     "data": {
      "text/html": [
       "<div>\n",
       "<style scoped>\n",
       "    .dataframe tbody tr th:only-of-type {\n",
       "        vertical-align: middle;\n",
       "    }\n",
       "\n",
       "    .dataframe tbody tr th {\n",
       "        vertical-align: top;\n",
       "    }\n",
       "\n",
       "    .dataframe thead th {\n",
       "        text-align: right;\n",
       "    }\n",
       "</style>\n",
       "<table border=\"1\" class=\"dataframe\">\n",
       "  <thead>\n",
       "    <tr style=\"text-align: right;\">\n",
       "      <th></th>\n",
       "      <th>y</th>\n",
       "      <th>year</th>\n",
       "      <th>month</th>\n",
       "      <th>day</th>\n",
       "      <th>dayofweek</th>\n",
       "      <th>is_weekend</th>\n",
       "      <th>lag_1</th>\n",
       "      <th>lag_2</th>\n",
       "      <th>lag_3</th>\n",
       "      <th>lag_4</th>\n",
       "      <th>lag_5</th>\n",
       "      <th>lag_6</th>\n",
       "      <th>lag_7</th>\n",
       "      <th>y_mean</th>\n",
       "    </tr>\n",
       "    <tr>\n",
       "      <th>ds</th>\n",
       "      <th></th>\n",
       "      <th></th>\n",
       "      <th></th>\n",
       "      <th></th>\n",
       "      <th></th>\n",
       "      <th></th>\n",
       "      <th></th>\n",
       "      <th></th>\n",
       "      <th></th>\n",
       "      <th></th>\n",
       "      <th></th>\n",
       "      <th></th>\n",
       "      <th></th>\n",
       "      <th></th>\n",
       "    </tr>\n",
       "  </thead>\n",
       "  <tbody>\n",
       "    <tr>\n",
       "      <th>2020-12-10</th>\n",
       "      <td>282.20</td>\n",
       "      <td>2020</td>\n",
       "      <td>12</td>\n",
       "      <td>10</td>\n",
       "      <td>3</td>\n",
       "      <td>0</td>\n",
       "      <td>NaN</td>\n",
       "      <td>NaN</td>\n",
       "      <td>NaN</td>\n",
       "      <td>NaN</td>\n",
       "      <td>NaN</td>\n",
       "      <td>NaN</td>\n",
       "      <td>NaN</td>\n",
       "      <td>NaN</td>\n",
       "    </tr>\n",
       "    <tr>\n",
       "      <th>2020-12-11</th>\n",
       "      <td>283.73</td>\n",
       "      <td>2020</td>\n",
       "      <td>12</td>\n",
       "      <td>11</td>\n",
       "      <td>4</td>\n",
       "      <td>0</td>\n",
       "      <td>282.20</td>\n",
       "      <td>NaN</td>\n",
       "      <td>NaN</td>\n",
       "      <td>NaN</td>\n",
       "      <td>NaN</td>\n",
       "      <td>NaN</td>\n",
       "      <td>NaN</td>\n",
       "      <td>NaN</td>\n",
       "    </tr>\n",
       "    <tr>\n",
       "      <th>2020-12-14</th>\n",
       "      <td>279.95</td>\n",
       "      <td>2020</td>\n",
       "      <td>12</td>\n",
       "      <td>14</td>\n",
       "      <td>0</td>\n",
       "      <td>0</td>\n",
       "      <td>283.73</td>\n",
       "      <td>282.20</td>\n",
       "      <td>NaN</td>\n",
       "      <td>NaN</td>\n",
       "      <td>NaN</td>\n",
       "      <td>NaN</td>\n",
       "      <td>NaN</td>\n",
       "      <td>NaN</td>\n",
       "    </tr>\n",
       "    <tr>\n",
       "      <th>2020-12-15</th>\n",
       "      <td>278.70</td>\n",
       "      <td>2020</td>\n",
       "      <td>12</td>\n",
       "      <td>15</td>\n",
       "      <td>1</td>\n",
       "      <td>0</td>\n",
       "      <td>279.95</td>\n",
       "      <td>283.73</td>\n",
       "      <td>282.20</td>\n",
       "      <td>NaN</td>\n",
       "      <td>NaN</td>\n",
       "      <td>NaN</td>\n",
       "      <td>NaN</td>\n",
       "      <td>281.960000</td>\n",
       "    </tr>\n",
       "    <tr>\n",
       "      <th>2020-12-16</th>\n",
       "      <td>278.35</td>\n",
       "      <td>2020</td>\n",
       "      <td>12</td>\n",
       "      <td>16</td>\n",
       "      <td>2</td>\n",
       "      <td>0</td>\n",
       "      <td>278.70</td>\n",
       "      <td>279.95</td>\n",
       "      <td>283.73</td>\n",
       "      <td>282.20</td>\n",
       "      <td>NaN</td>\n",
       "      <td>NaN</td>\n",
       "      <td>NaN</td>\n",
       "      <td>280.793333</td>\n",
       "    </tr>\n",
       "    <tr>\n",
       "      <th>2020-12-17</th>\n",
       "      <td>278.50</td>\n",
       "      <td>2020</td>\n",
       "      <td>12</td>\n",
       "      <td>17</td>\n",
       "      <td>3</td>\n",
       "      <td>0</td>\n",
       "      <td>278.35</td>\n",
       "      <td>278.70</td>\n",
       "      <td>279.95</td>\n",
       "      <td>283.73</td>\n",
       "      <td>282.2</td>\n",
       "      <td>NaN</td>\n",
       "      <td>NaN</td>\n",
       "      <td>279.000000</td>\n",
       "    </tr>\n",
       "  </tbody>\n",
       "</table>\n",
       "</div>"
      ],
      "text/plain": [
       "                 y  year  month  day  dayofweek  is_weekend   lag_1   lag_2  \\\n",
       "ds                                                                            \n",
       "2020-12-10  282.20  2020     12   10          3           0     NaN     NaN   \n",
       "2020-12-11  283.73  2020     12   11          4           0  282.20     NaN   \n",
       "2020-12-14  279.95  2020     12   14          0           0  283.73  282.20   \n",
       "2020-12-15  278.70  2020     12   15          1           0  279.95  283.73   \n",
       "2020-12-16  278.35  2020     12   16          2           0  278.70  279.95   \n",
       "2020-12-17  278.50  2020     12   17          3           0  278.35  278.70   \n",
       "\n",
       "             lag_3   lag_4  lag_5  lag_6  lag_7      y_mean  \n",
       "ds                                                           \n",
       "2020-12-10     NaN     NaN    NaN    NaN    NaN         NaN  \n",
       "2020-12-11     NaN     NaN    NaN    NaN    NaN         NaN  \n",
       "2020-12-14     NaN     NaN    NaN    NaN    NaN         NaN  \n",
       "2020-12-15  282.20     NaN    NaN    NaN    NaN  281.960000  \n",
       "2020-12-16  283.73  282.20    NaN    NaN    NaN  280.793333  \n",
       "2020-12-17  279.95  283.73  282.2    NaN    NaN  279.000000  "
      ]
     },
     "execution_count": 22,
     "metadata": {},
     "output_type": "execute_result"
    }
   ],
   "source": [
    "df.head(6)"
   ]
  },
  {
   "cell_type": "code",
   "execution_count": 55,
   "metadata": {
    "id": "RKJC_a31uhVf"
   },
   "outputs": [],
   "source": [
    "df.dropna(inplace=True)"
   ]
  },
  {
   "cell_type": "code",
   "execution_count": 56,
   "metadata": {},
   "outputs": [
    {
     "data": {
      "text/html": [
       "<div>\n",
       "<style scoped>\n",
       "    .dataframe tbody tr th:only-of-type {\n",
       "        vertical-align: middle;\n",
       "    }\n",
       "\n",
       "    .dataframe tbody tr th {\n",
       "        vertical-align: top;\n",
       "    }\n",
       "\n",
       "    .dataframe thead th {\n",
       "        text-align: right;\n",
       "    }\n",
       "</style>\n",
       "<table border=\"1\" class=\"dataframe\">\n",
       "  <thead>\n",
       "    <tr style=\"text-align: right;\">\n",
       "      <th></th>\n",
       "      <th>y</th>\n",
       "      <th>year</th>\n",
       "      <th>month</th>\n",
       "      <th>day</th>\n",
       "      <th>dayofweek</th>\n",
       "      <th>is_weekend</th>\n",
       "      <th>lag_1</th>\n",
       "      <th>lag_2</th>\n",
       "      <th>lag_3</th>\n",
       "      <th>lag_4</th>\n",
       "      <th>lag_5</th>\n",
       "      <th>lag_6</th>\n",
       "      <th>lag_7</th>\n",
       "      <th>y_mean</th>\n",
       "    </tr>\n",
       "    <tr>\n",
       "      <th>ds</th>\n",
       "      <th></th>\n",
       "      <th></th>\n",
       "      <th></th>\n",
       "      <th></th>\n",
       "      <th></th>\n",
       "      <th></th>\n",
       "      <th></th>\n",
       "      <th></th>\n",
       "      <th></th>\n",
       "      <th></th>\n",
       "      <th></th>\n",
       "      <th></th>\n",
       "      <th></th>\n",
       "      <th></th>\n",
       "    </tr>\n",
       "  </thead>\n",
       "  <tbody>\n",
       "    <tr>\n",
       "      <th>2020-12-21</th>\n",
       "      <td>261.79</td>\n",
       "      <td>2020</td>\n",
       "      <td>12</td>\n",
       "      <td>21</td>\n",
       "      <td>0</td>\n",
       "      <td>0</td>\n",
       "      <td>270.16</td>\n",
       "      <td>278.50</td>\n",
       "      <td>278.35</td>\n",
       "      <td>278.70</td>\n",
       "      <td>279.95</td>\n",
       "      <td>283.73</td>\n",
       "      <td>282.20</td>\n",
       "      <td>275.670000</td>\n",
       "    </tr>\n",
       "    <tr>\n",
       "      <th>2020-12-22</th>\n",
       "      <td>262.04</td>\n",
       "      <td>2020</td>\n",
       "      <td>12</td>\n",
       "      <td>22</td>\n",
       "      <td>1</td>\n",
       "      <td>0</td>\n",
       "      <td>261.79</td>\n",
       "      <td>270.16</td>\n",
       "      <td>278.50</td>\n",
       "      <td>278.35</td>\n",
       "      <td>278.70</td>\n",
       "      <td>279.95</td>\n",
       "      <td>283.73</td>\n",
       "      <td>270.150000</td>\n",
       "    </tr>\n",
       "    <tr>\n",
       "      <th>2020-12-23</th>\n",
       "      <td>270.10</td>\n",
       "      <td>2020</td>\n",
       "      <td>12</td>\n",
       "      <td>23</td>\n",
       "      <td>2</td>\n",
       "      <td>0</td>\n",
       "      <td>262.04</td>\n",
       "      <td>261.79</td>\n",
       "      <td>270.16</td>\n",
       "      <td>278.50</td>\n",
       "      <td>278.35</td>\n",
       "      <td>278.70</td>\n",
       "      <td>279.95</td>\n",
       "      <td>264.663333</td>\n",
       "    </tr>\n",
       "    <tr>\n",
       "      <th>2020-12-24</th>\n",
       "      <td>269.32</td>\n",
       "      <td>2020</td>\n",
       "      <td>12</td>\n",
       "      <td>24</td>\n",
       "      <td>3</td>\n",
       "      <td>0</td>\n",
       "      <td>270.10</td>\n",
       "      <td>262.04</td>\n",
       "      <td>261.79</td>\n",
       "      <td>270.16</td>\n",
       "      <td>278.50</td>\n",
       "      <td>278.35</td>\n",
       "      <td>278.70</td>\n",
       "      <td>264.643333</td>\n",
       "    </tr>\n",
       "    <tr>\n",
       "      <th>2020-12-25</th>\n",
       "      <td>270.64</td>\n",
       "      <td>2020</td>\n",
       "      <td>12</td>\n",
       "      <td>25</td>\n",
       "      <td>4</td>\n",
       "      <td>0</td>\n",
       "      <td>269.32</td>\n",
       "      <td>270.10</td>\n",
       "      <td>262.04</td>\n",
       "      <td>261.79</td>\n",
       "      <td>270.16</td>\n",
       "      <td>278.50</td>\n",
       "      <td>278.35</td>\n",
       "      <td>267.153333</td>\n",
       "    </tr>\n",
       "    <tr>\n",
       "      <th>...</th>\n",
       "      <td>...</td>\n",
       "      <td>...</td>\n",
       "      <td>...</td>\n",
       "      <td>...</td>\n",
       "      <td>...</td>\n",
       "      <td>...</td>\n",
       "      <td>...</td>\n",
       "      <td>...</td>\n",
       "      <td>...</td>\n",
       "      <td>...</td>\n",
       "      <td>...</td>\n",
       "      <td>...</td>\n",
       "      <td>...</td>\n",
       "      <td>...</td>\n",
       "    </tr>\n",
       "    <tr>\n",
       "      <th>2022-01-03</th>\n",
       "      <td>305.47</td>\n",
       "      <td>2022</td>\n",
       "      <td>1</td>\n",
       "      <td>3</td>\n",
       "      <td>0</td>\n",
       "      <td>0</td>\n",
       "      <td>293.49</td>\n",
       "      <td>293.51</td>\n",
       "      <td>295.00</td>\n",
       "      <td>295.68</td>\n",
       "      <td>293.89</td>\n",
       "      <td>292.80</td>\n",
       "      <td>294.00</td>\n",
       "      <td>294.000000</td>\n",
       "    </tr>\n",
       "    <tr>\n",
       "      <th>2022-01-04</th>\n",
       "      <td>304.24</td>\n",
       "      <td>2022</td>\n",
       "      <td>1</td>\n",
       "      <td>4</td>\n",
       "      <td>1</td>\n",
       "      <td>0</td>\n",
       "      <td>305.47</td>\n",
       "      <td>293.49</td>\n",
       "      <td>293.51</td>\n",
       "      <td>295.00</td>\n",
       "      <td>295.68</td>\n",
       "      <td>293.89</td>\n",
       "      <td>292.80</td>\n",
       "      <td>297.490000</td>\n",
       "    </tr>\n",
       "    <tr>\n",
       "      <th>2022-01-05</th>\n",
       "      <td>287.01</td>\n",
       "      <td>2022</td>\n",
       "      <td>1</td>\n",
       "      <td>5</td>\n",
       "      <td>2</td>\n",
       "      <td>0</td>\n",
       "      <td>304.24</td>\n",
       "      <td>305.47</td>\n",
       "      <td>293.49</td>\n",
       "      <td>293.51</td>\n",
       "      <td>295.00</td>\n",
       "      <td>295.68</td>\n",
       "      <td>293.89</td>\n",
       "      <td>301.066667</td>\n",
       "    </tr>\n",
       "    <tr>\n",
       "      <th>2022-01-06</th>\n",
       "      <td>293.92</td>\n",
       "      <td>2022</td>\n",
       "      <td>1</td>\n",
       "      <td>6</td>\n",
       "      <td>3</td>\n",
       "      <td>0</td>\n",
       "      <td>287.01</td>\n",
       "      <td>304.24</td>\n",
       "      <td>305.47</td>\n",
       "      <td>293.49</td>\n",
       "      <td>293.51</td>\n",
       "      <td>295.00</td>\n",
       "      <td>295.68</td>\n",
       "      <td>298.906667</td>\n",
       "    </tr>\n",
       "    <tr>\n",
       "      <th>2022-01-10</th>\n",
       "      <td>290.40</td>\n",
       "      <td>2022</td>\n",
       "      <td>1</td>\n",
       "      <td>10</td>\n",
       "      <td>0</td>\n",
       "      <td>0</td>\n",
       "      <td>293.92</td>\n",
       "      <td>287.01</td>\n",
       "      <td>304.24</td>\n",
       "      <td>305.47</td>\n",
       "      <td>293.49</td>\n",
       "      <td>293.51</td>\n",
       "      <td>295.00</td>\n",
       "      <td>295.056667</td>\n",
       "    </tr>\n",
       "  </tbody>\n",
       "</table>\n",
       "<p>268 rows × 14 columns</p>\n",
       "</div>"
      ],
      "text/plain": [
       "                 y  year  month  day  dayofweek  is_weekend   lag_1   lag_2  \\\n",
       "ds                                                                            \n",
       "2020-12-21  261.79  2020     12   21          0           0  270.16  278.50   \n",
       "2020-12-22  262.04  2020     12   22          1           0  261.79  270.16   \n",
       "2020-12-23  270.10  2020     12   23          2           0  262.04  261.79   \n",
       "2020-12-24  269.32  2020     12   24          3           0  270.10  262.04   \n",
       "2020-12-25  270.64  2020     12   25          4           0  269.32  270.10   \n",
       "...            ...   ...    ...  ...        ...         ...     ...     ...   \n",
       "2022-01-03  305.47  2022      1    3          0           0  293.49  293.51   \n",
       "2022-01-04  304.24  2022      1    4          1           0  305.47  293.49   \n",
       "2022-01-05  287.01  2022      1    5          2           0  304.24  305.47   \n",
       "2022-01-06  293.92  2022      1    6          3           0  287.01  304.24   \n",
       "2022-01-10  290.40  2022      1   10          0           0  293.92  287.01   \n",
       "\n",
       "             lag_3   lag_4   lag_5   lag_6   lag_7      y_mean  \n",
       "ds                                                              \n",
       "2020-12-21  278.35  278.70  279.95  283.73  282.20  275.670000  \n",
       "2020-12-22  278.50  278.35  278.70  279.95  283.73  270.150000  \n",
       "2020-12-23  270.16  278.50  278.35  278.70  279.95  264.663333  \n",
       "2020-12-24  261.79  270.16  278.50  278.35  278.70  264.643333  \n",
       "2020-12-25  262.04  261.79  270.16  278.50  278.35  267.153333  \n",
       "...            ...     ...     ...     ...     ...         ...  \n",
       "2022-01-03  295.00  295.68  293.89  292.80  294.00  294.000000  \n",
       "2022-01-04  293.51  295.00  295.68  293.89  292.80  297.490000  \n",
       "2022-01-05  293.49  293.51  295.00  295.68  293.89  301.066667  \n",
       "2022-01-06  305.47  293.49  293.51  295.00  295.68  298.906667  \n",
       "2022-01-10  304.24  305.47  293.49  293.51  295.00  295.056667  \n",
       "\n",
       "[268 rows x 14 columns]"
      ]
     },
     "execution_count": 56,
     "metadata": {},
     "output_type": "execute_result"
    }
   ],
   "source": [
    "df"
   ]
  },
  {
   "cell_type": "code",
   "execution_count": 57,
   "metadata": {
    "id": "4wV7sQkeu_O_"
   },
   "outputs": [],
   "source": [
    "from sklearn.model_selection import train_test_split"
   ]
  },
  {
   "cell_type": "code",
   "execution_count": 58,
   "metadata": {
    "colab": {
     "base_uri": "https://localhost:8080/"
    },
    "id": "EbSNSVPZun8o",
    "outputId": "9b51edbc-0f93-4796-9981-9591acf65a15"
   },
   "outputs": [
    {
     "name": "stdout",
     "output_type": "stream",
     "text": [
      "X_train (201, 13)\n",
      "X_test (67, 13)\n"
     ]
    }
   ],
   "source": [
    "features = df.drop(['y'],axis = 1)\n",
    "target = df['y']\n",
    "X_train,X_test,y_train, y_test = train_test_split(features,target, shuffle=False, test_size=0.25)\n",
    "print('X_train',X_train.shape)\n",
    "print('X_test',X_test.shape)"
   ]
  },
  {
   "cell_type": "code",
   "execution_count": 60,
   "metadata": {
    "colab": {
     "base_uri": "https://localhost:8080/"
    },
    "id": "bqUcKZ42vRPi",
    "outputId": "372e4746-3e76-417f-9c2f-4d0013fa2b5a"
   },
   "outputs": [],
   "source": [
    "import pandas as pd\n",
    "import numpy as np\n",
    "from sklearn.model_selection import train_test_split, GridSearchCV\n",
    "from sklearn.linear_model import LinearRegression\n",
    "from sklearn.metrics import mean_squared_error\n",
    "from math import sqrt\n",
    "from statsmodels.tsa.seasonal import seasonal_decompose\n",
    "import matplotlib.pyplot as plt\n",
    "from sklearn.ensemble import RandomForestRegressor"
   ]
  },
  {
   "cell_type": "code",
   "execution_count": 61,
   "metadata": {
    "colab": {
     "base_uri": "https://localhost:8080/"
    },
    "id": "05LviQ17vCLP",
    "outputId": "e72fa5c8-3be7-4b83-85d7-db17f76caf11"
   },
   "outputs": [
    {
     "data": {
      "text/plain": [
       "LinearRegression()"
      ]
     },
     "execution_count": 61,
     "metadata": {},
     "output_type": "execute_result"
    }
   ],
   "source": [
    "model_lr = LinearRegression()\n",
    "model_lr.fit(X_train,y_train)"
   ]
  },
  {
   "cell_type": "code",
   "execution_count": 62,
   "metadata": {
    "id": "Q8bfBkgYvXMN"
   },
   "outputs": [],
   "source": [
    "y_predicted_lr = model_lr.predict(X_test)"
   ]
  },
  {
   "cell_type": "code",
   "execution_count": 63,
   "metadata": {},
   "outputs": [
    {
     "data": {
      "text/plain": [
       "array([345.36598222, 360.10194319, 362.24095254, 365.57494601,\n",
       "       370.63507066, 382.91928672, 375.43068138, 374.05091919,\n",
       "       372.83024095, 369.40241753, 362.81194429, 368.32218241,\n",
       "       366.50087996, 360.65274982, 361.70589683, 366.35140653,\n",
       "       368.45573503, 366.80489061, 361.69931943, 356.01114876,\n",
       "       367.06140106, 367.96641457, 365.74282104, 358.83706172,\n",
       "       356.48908327, 356.0484827 , 347.26326279, 352.68654997,\n",
       "       347.73810911, 343.84799967, 338.33359108, 339.26092811,\n",
       "       337.0403576 , 329.53528092, 313.69100576, 326.66734231,\n",
       "       324.14905714, 318.85884909, 309.85788642, 318.69425474,\n",
       "       320.77420744, 326.43369303, 329.50162589, 325.60662454,\n",
       "       314.66639113, 314.6171092 , 304.38530582, 304.85116681,\n",
       "       304.34267695, 289.78693724, 292.48565811, 294.31658258,\n",
       "       301.68767393, 302.80754458, 296.73357477, 299.76513256,\n",
       "       301.6828141 , 300.11719294, 301.80535211, 303.05971506,\n",
       "       302.65190448, 300.78241249, 301.14331839, 310.91147384,\n",
       "       310.48697745, 295.47348796, 300.64136337])"
      ]
     },
     "execution_count": 63,
     "metadata": {},
     "output_type": "execute_result"
    }
   ],
   "source": [
    "y_predicted_lr"
   ]
  },
  {
   "cell_type": "code",
   "execution_count": 64,
   "metadata": {
    "colab": {
     "base_uri": "https://localhost:8080/"
    },
    "id": "wYTRy73OvkrP",
    "outputId": "ecbe78a7-1db1-462b-df86-edec45db0cb2"
   },
   "outputs": [
    {
     "name": "stdout",
     "output_type": "stream",
     "text": [
      "RMSE тестовой выборки LinearRegression:  8.98704277755883\n"
     ]
    }
   ],
   "source": [
    "print(\"RMSE тестовой выборки LinearRegression: \",np.sqrt(mean_squared_error(y_test, y_predicted_lr)))\n"
   ]
  },
  {
   "cell_type": "code",
   "execution_count": 65,
   "metadata": {
    "colab": {
     "base_uri": "https://localhost:8080/",
     "height": 235
    },
    "id": "1f_Hf8i-SuTj",
    "outputId": "4e3d120c-ab6d-4beb-c8b6-1e419403e02b"
   },
   "outputs": [
    {
     "data": {
      "text/html": [
       "<div>\n",
       "<style scoped>\n",
       "    .dataframe tbody tr th:only-of-type {\n",
       "        vertical-align: middle;\n",
       "    }\n",
       "\n",
       "    .dataframe tbody tr th {\n",
       "        vertical-align: top;\n",
       "    }\n",
       "\n",
       "    .dataframe thead th {\n",
       "        text-align: right;\n",
       "    }\n",
       "</style>\n",
       "<table border=\"1\" class=\"dataframe\">\n",
       "  <thead>\n",
       "    <tr style=\"text-align: right;\">\n",
       "      <th></th>\n",
       "      <th>y</th>\n",
       "      <th>year</th>\n",
       "      <th>month</th>\n",
       "      <th>day</th>\n",
       "      <th>dayofweek</th>\n",
       "      <th>is_weekend</th>\n",
       "      <th>lag_1</th>\n",
       "      <th>lag_2</th>\n",
       "      <th>lag_3</th>\n",
       "      <th>lag_4</th>\n",
       "      <th>lag_5</th>\n",
       "      <th>lag_6</th>\n",
       "      <th>lag_7</th>\n",
       "      <th>y_mean</th>\n",
       "    </tr>\n",
       "    <tr>\n",
       "      <th>ds</th>\n",
       "      <th></th>\n",
       "      <th></th>\n",
       "      <th></th>\n",
       "      <th></th>\n",
       "      <th></th>\n",
       "      <th></th>\n",
       "      <th></th>\n",
       "      <th></th>\n",
       "      <th></th>\n",
       "      <th></th>\n",
       "      <th></th>\n",
       "      <th></th>\n",
       "      <th></th>\n",
       "      <th></th>\n",
       "    </tr>\n",
       "  </thead>\n",
       "  <tbody>\n",
       "    <tr>\n",
       "      <th>2022-01-03</th>\n",
       "      <td>305.47</td>\n",
       "      <td>2022</td>\n",
       "      <td>1</td>\n",
       "      <td>3</td>\n",
       "      <td>0</td>\n",
       "      <td>0</td>\n",
       "      <td>293.49</td>\n",
       "      <td>293.51</td>\n",
       "      <td>295.00</td>\n",
       "      <td>295.68</td>\n",
       "      <td>293.89</td>\n",
       "      <td>292.80</td>\n",
       "      <td>294.00</td>\n",
       "      <td>294.000000</td>\n",
       "    </tr>\n",
       "    <tr>\n",
       "      <th>2022-01-04</th>\n",
       "      <td>304.24</td>\n",
       "      <td>2022</td>\n",
       "      <td>1</td>\n",
       "      <td>4</td>\n",
       "      <td>1</td>\n",
       "      <td>0</td>\n",
       "      <td>305.47</td>\n",
       "      <td>293.49</td>\n",
       "      <td>293.51</td>\n",
       "      <td>295.00</td>\n",
       "      <td>295.68</td>\n",
       "      <td>293.89</td>\n",
       "      <td>292.80</td>\n",
       "      <td>297.490000</td>\n",
       "    </tr>\n",
       "    <tr>\n",
       "      <th>2022-01-05</th>\n",
       "      <td>287.01</td>\n",
       "      <td>2022</td>\n",
       "      <td>1</td>\n",
       "      <td>5</td>\n",
       "      <td>2</td>\n",
       "      <td>0</td>\n",
       "      <td>304.24</td>\n",
       "      <td>305.47</td>\n",
       "      <td>293.49</td>\n",
       "      <td>293.51</td>\n",
       "      <td>295.00</td>\n",
       "      <td>295.68</td>\n",
       "      <td>293.89</td>\n",
       "      <td>301.066667</td>\n",
       "    </tr>\n",
       "    <tr>\n",
       "      <th>2022-01-06</th>\n",
       "      <td>293.92</td>\n",
       "      <td>2022</td>\n",
       "      <td>1</td>\n",
       "      <td>6</td>\n",
       "      <td>3</td>\n",
       "      <td>0</td>\n",
       "      <td>287.01</td>\n",
       "      <td>304.24</td>\n",
       "      <td>305.47</td>\n",
       "      <td>293.49</td>\n",
       "      <td>293.51</td>\n",
       "      <td>295.00</td>\n",
       "      <td>295.68</td>\n",
       "      <td>298.906667</td>\n",
       "    </tr>\n",
       "    <tr>\n",
       "      <th>2022-01-10</th>\n",
       "      <td>290.40</td>\n",
       "      <td>2022</td>\n",
       "      <td>1</td>\n",
       "      <td>10</td>\n",
       "      <td>0</td>\n",
       "      <td>0</td>\n",
       "      <td>293.92</td>\n",
       "      <td>287.01</td>\n",
       "      <td>304.24</td>\n",
       "      <td>305.47</td>\n",
       "      <td>293.49</td>\n",
       "      <td>293.51</td>\n",
       "      <td>295.00</td>\n",
       "      <td>295.056667</td>\n",
       "    </tr>\n",
       "  </tbody>\n",
       "</table>\n",
       "</div>"
      ],
      "text/plain": [
       "                 y  year  month  day  dayofweek  is_weekend   lag_1   lag_2  \\\n",
       "ds                                                                            \n",
       "2022-01-03  305.47  2022      1    3          0           0  293.49  293.51   \n",
       "2022-01-04  304.24  2022      1    4          1           0  305.47  293.49   \n",
       "2022-01-05  287.01  2022      1    5          2           0  304.24  305.47   \n",
       "2022-01-06  293.92  2022      1    6          3           0  287.01  304.24   \n",
       "2022-01-10  290.40  2022      1   10          0           0  293.92  287.01   \n",
       "\n",
       "             lag_3   lag_4   lag_5   lag_6   lag_7      y_mean  \n",
       "ds                                                              \n",
       "2022-01-03  295.00  295.68  293.89  292.80  294.00  294.000000  \n",
       "2022-01-04  293.51  295.00  295.68  293.89  292.80  297.490000  \n",
       "2022-01-05  293.49  293.51  295.00  295.68  293.89  301.066667  \n",
       "2022-01-06  305.47  293.49  293.51  295.00  295.68  298.906667  \n",
       "2022-01-10  304.24  305.47  293.49  293.51  295.00  295.056667  "
      ]
     },
     "execution_count": 65,
     "metadata": {},
     "output_type": "execute_result"
    }
   ],
   "source": [
    "df.tail()"
   ]
  },
  {
   "cell_type": "code",
   "execution_count": 66,
   "metadata": {
    "colab": {
     "base_uri": "https://localhost:8080/",
     "height": 553
    },
    "id": "AgZF_ajIvt6M",
    "outputId": "831f580b-d154-46ba-9390-95ac859d2c52"
   },
   "outputs": [
    {
     "data": {
      "image/png": "[encoded data removed]",
      "text/plain": [
       "<Figure size 1440x648 with 1 Axes>"
      ]
     },
     "metadata": {
      "needs_background": "light"
     },
     "output_type": "display_data"
    }
   ],
   "source": [
    "plt.figure(figsize=(20, 9))\n",
    "plt.plot(y_predicted_lr, \"r\",linewidth=5, label=\"LinearRegression\")\n",
    "plt.plot(y_test.values,'b' ,label=\"actual\", linewidth=5, alpha = 0.5)\n",
    "plt.legend(loc=\"best\")\n",
    "plt.title(\"Оценка моделей\")\n",
    "plt.grid(True);"
   ]
  },
  {
   "cell_type": "markdown",
   "metadata": {},
   "source": [
    "## Используем Facebok"
   ]
  },
  {
   "cell_type": "code",
   "execution_count": 1,
   "metadata": {
    "id": "xvuPnIXRw_d4"
   },
   "outputs": [
    {
     "name": "stderr",
     "output_type": "stream",
     "text": [
      "/Users/18827990/DA_4/lec_venv/lib/python3.6/site-packages/tqdm/auto.py:22: TqdmWarning: IProgress not found. Please update jupyter and ipywidgets. See https://ipywidgets.readthedocs.io/en/stable/user_install.html\n",
      "  from .autonotebook import tqdm as notebook_tqdm\n",
      "Importing plotly failed. Interactive plots will not work.\n"
     ]
    }
   ],
   "source": [
    "# https://facebook.github.io/prophet/\n",
    "from prophet import Prophet\n",
    "m = Prophet()"
   ]
  },
  {
   "cell_type": "code",
   "execution_count": 23,
   "metadata": {
    "id": "GzeoC3UOxLV1"
   },
   "outputs": [],
   "source": [
    "df_prophet = df[['y']]"
   ]
  },
  {
   "cell_type": "code",
   "execution_count": 24,
   "metadata": {},
   "outputs": [
    {
     "data": {
      "text/html": [
       "<div>\n",
       "<style scoped>\n",
       "    .dataframe tbody tr th:only-of-type {\n",
       "        vertical-align: middle;\n",
       "    }\n",
       "\n",
       "    .dataframe tbody tr th {\n",
       "        vertical-align: top;\n",
       "    }\n",
       "\n",
       "    .dataframe thead th {\n",
       "        text-align: right;\n",
       "    }\n",
       "</style>\n",
       "<table border=\"1\" class=\"dataframe\">\n",
       "  <thead>\n",
       "    <tr style=\"text-align: right;\">\n",
       "      <th></th>\n",
       "      <th>y</th>\n",
       "    </tr>\n",
       "    <tr>\n",
       "      <th>ds</th>\n",
       "      <th></th>\n",
       "    </tr>\n",
       "  </thead>\n",
       "  <tbody>\n",
       "    <tr>\n",
       "      <th>2020-12-10</th>\n",
       "      <td>282.20</td>\n",
       "    </tr>\n",
       "    <tr>\n",
       "      <th>2020-12-11</th>\n",
       "      <td>283.73</td>\n",
       "    </tr>\n",
       "    <tr>\n",
       "      <th>2020-12-14</th>\n",
       "      <td>279.95</td>\n",
       "    </tr>\n",
       "    <tr>\n",
       "      <th>2020-12-15</th>\n",
       "      <td>278.70</td>\n",
       "    </tr>\n",
       "    <tr>\n",
       "      <th>2020-12-16</th>\n",
       "      <td>278.35</td>\n",
       "    </tr>\n",
       "    <tr>\n",
       "      <th>...</th>\n",
       "      <td>...</td>\n",
       "    </tr>\n",
       "    <tr>\n",
       "      <th>2022-01-03</th>\n",
       "      <td>305.47</td>\n",
       "    </tr>\n",
       "    <tr>\n",
       "      <th>2022-01-04</th>\n",
       "      <td>304.24</td>\n",
       "    </tr>\n",
       "    <tr>\n",
       "      <th>2022-01-05</th>\n",
       "      <td>287.01</td>\n",
       "    </tr>\n",
       "    <tr>\n",
       "      <th>2022-01-06</th>\n",
       "      <td>293.92</td>\n",
       "    </tr>\n",
       "    <tr>\n",
       "      <th>2022-01-10</th>\n",
       "      <td>290.40</td>\n",
       "    </tr>\n",
       "  </tbody>\n",
       "</table>\n",
       "<p>275 rows × 1 columns</p>\n",
       "</div>"
      ],
      "text/plain": [
       "                 y\n",
       "ds                \n",
       "2020-12-10  282.20\n",
       "2020-12-11  283.73\n",
       "2020-12-14  279.95\n",
       "2020-12-15  278.70\n",
       "2020-12-16  278.35\n",
       "...            ...\n",
       "2022-01-03  305.47\n",
       "2022-01-04  304.24\n",
       "2022-01-05  287.01\n",
       "2022-01-06  293.92\n",
       "2022-01-10  290.40\n",
       "\n",
       "[275 rows x 1 columns]"
      ]
     },
     "execution_count": 24,
     "metadata": {},
     "output_type": "execute_result"
    }
   ],
   "source": [
    "df_prophet"
   ]
  },
  {
   "cell_type": "code",
   "execution_count": 25,
   "metadata": {
    "id": "3iB6571pxRtc"
   },
   "outputs": [],
   "source": [
    "df_prophet.reset_index(inplace=True)"
   ]
  },
  {
   "cell_type": "code",
   "execution_count": 26,
   "metadata": {
    "colab": {
     "base_uri": "https://localhost:8080/",
     "height": 419
    },
    "id": "IqFBroFnTSuc",
    "outputId": "8de05a9c-e840-4a8e-8c9d-e9c920baceb6"
   },
   "outputs": [
    {
     "data": {
      "text/html": [
       "<div>\n",
       "<style scoped>\n",
       "    .dataframe tbody tr th:only-of-type {\n",
       "        vertical-align: middle;\n",
       "    }\n",
       "\n",
       "    .dataframe tbody tr th {\n",
       "        vertical-align: top;\n",
       "    }\n",
       "\n",
       "    .dataframe thead th {\n",
       "        text-align: right;\n",
       "    }\n",
       "</style>\n",
       "<table border=\"1\" class=\"dataframe\">\n",
       "  <thead>\n",
       "    <tr style=\"text-align: right;\">\n",
       "      <th></th>\n",
       "      <th>ds</th>\n",
       "      <th>y</th>\n",
       "    </tr>\n",
       "  </thead>\n",
       "  <tbody>\n",
       "    <tr>\n",
       "      <th>0</th>\n",
       "      <td>2020-12-10</td>\n",
       "      <td>282.20</td>\n",
       "    </tr>\n",
       "    <tr>\n",
       "      <th>1</th>\n",
       "      <td>2020-12-11</td>\n",
       "      <td>283.73</td>\n",
       "    </tr>\n",
       "    <tr>\n",
       "      <th>2</th>\n",
       "      <td>2020-12-14</td>\n",
       "      <td>279.95</td>\n",
       "    </tr>\n",
       "    <tr>\n",
       "      <th>3</th>\n",
       "      <td>2020-12-15</td>\n",
       "      <td>278.70</td>\n",
       "    </tr>\n",
       "    <tr>\n",
       "      <th>4</th>\n",
       "      <td>2020-12-16</td>\n",
       "      <td>278.35</td>\n",
       "    </tr>\n",
       "    <tr>\n",
       "      <th>...</th>\n",
       "      <td>...</td>\n",
       "      <td>...</td>\n",
       "    </tr>\n",
       "    <tr>\n",
       "      <th>270</th>\n",
       "      <td>2022-01-03</td>\n",
       "      <td>305.47</td>\n",
       "    </tr>\n",
       "    <tr>\n",
       "      <th>271</th>\n",
       "      <td>2022-01-04</td>\n",
       "      <td>304.24</td>\n",
       "    </tr>\n",
       "    <tr>\n",
       "      <th>272</th>\n",
       "      <td>2022-01-05</td>\n",
       "      <td>287.01</td>\n",
       "    </tr>\n",
       "    <tr>\n",
       "      <th>273</th>\n",
       "      <td>2022-01-06</td>\n",
       "      <td>293.92</td>\n",
       "    </tr>\n",
       "    <tr>\n",
       "      <th>274</th>\n",
       "      <td>2022-01-10</td>\n",
       "      <td>290.40</td>\n",
       "    </tr>\n",
       "  </tbody>\n",
       "</table>\n",
       "<p>275 rows × 2 columns</p>\n",
       "</div>"
      ],
      "text/plain": [
       "            ds       y\n",
       "0   2020-12-10  282.20\n",
       "1   2020-12-11  283.73\n",
       "2   2020-12-14  279.95\n",
       "3   2020-12-15  278.70\n",
       "4   2020-12-16  278.35\n",
       "..         ...     ...\n",
       "270 2022-01-03  305.47\n",
       "271 2022-01-04  304.24\n",
       "272 2022-01-05  287.01\n",
       "273 2022-01-06  293.92\n",
       "274 2022-01-10  290.40\n",
       "\n",
       "[275 rows x 2 columns]"
      ]
     },
     "execution_count": 26,
     "metadata": {},
     "output_type": "execute_result"
    }
   ],
   "source": [
    "df_prophet"
   ]
  },
  {
   "cell_type": "code",
   "execution_count": 27,
   "metadata": {
    "colab": {
     "base_uri": "https://localhost:8080/"
    },
    "id": "tnfrHACSxaw1",
    "outputId": "4a25fdec-8366-4731-e2a1-d6ff78b71ec1"
   },
   "outputs": [
    {
     "name": "stderr",
     "output_type": "stream",
     "text": [
      "INFO:prophet:Disabling yearly seasonality. Run prophet with yearly_seasonality=True to override this.\n",
      "INFO:prophet:Disabling daily seasonality. Run prophet with daily_seasonality=True to override this.\n"
     ]
    },
    {
     "data": {
      "text/plain": [
       "<prophet.forecaster.Prophet at 0x7ff5de08df60>"
      ]
     },
     "execution_count": 27,
     "metadata": {},
     "output_type": "execute_result"
    }
   ],
   "source": [
    "m.fit(df_prophet)"
   ]
  },
  {
   "cell_type": "code",
   "execution_count": 28,
   "metadata": {
    "colab": {
     "base_uri": "https://localhost:8080/",
     "height": 204
    },
    "id": "GgAxIyzpxhf-",
    "outputId": "6feec2c3-b3e5-4d2e-d04c-398ca301bb58"
   },
   "outputs": [
    {
     "data": {
      "text/html": [
       "<div>\n",
       "<style scoped>\n",
       "    .dataframe tbody tr th:only-of-type {\n",
       "        vertical-align: middle;\n",
       "    }\n",
       "\n",
       "    .dataframe tbody tr th {\n",
       "        vertical-align: top;\n",
       "    }\n",
       "\n",
       "    .dataframe thead th {\n",
       "        text-align: right;\n",
       "    }\n",
       "</style>\n",
       "<table border=\"1\" class=\"dataframe\">\n",
       "  <thead>\n",
       "    <tr style=\"text-align: right;\">\n",
       "      <th></th>\n",
       "      <th>ds</th>\n",
       "    </tr>\n",
       "  </thead>\n",
       "  <tbody>\n",
       "    <tr>\n",
       "      <th>277</th>\n",
       "      <td>2022-01-13</td>\n",
       "    </tr>\n",
       "    <tr>\n",
       "      <th>278</th>\n",
       "      <td>2022-01-14</td>\n",
       "    </tr>\n",
       "    <tr>\n",
       "      <th>279</th>\n",
       "      <td>2022-01-15</td>\n",
       "    </tr>\n",
       "    <tr>\n",
       "      <th>280</th>\n",
       "      <td>2022-01-16</td>\n",
       "    </tr>\n",
       "    <tr>\n",
       "      <th>281</th>\n",
       "      <td>2022-01-17</td>\n",
       "    </tr>\n",
       "  </tbody>\n",
       "</table>\n",
       "</div>"
      ],
      "text/plain": [
       "            ds\n",
       "277 2022-01-13\n",
       "278 2022-01-14\n",
       "279 2022-01-15\n",
       "280 2022-01-16\n",
       "281 2022-01-17"
      ]
     },
     "execution_count": 28,
     "metadata": {},
     "output_type": "execute_result"
    }
   ],
   "source": [
    "future = m.make_future_dataframe(periods=7)\n",
    "future.tail()"
   ]
  },
  {
   "cell_type": "code",
   "execution_count": 29,
   "metadata": {},
   "outputs": [],
   "source": [
    "forecast = m.predict(future)"
   ]
  },
  {
   "cell_type": "code",
   "execution_count": 30,
   "metadata": {},
   "outputs": [
    {
     "data": {
      "text/html": [
       "<div>\n",
       "<style scoped>\n",
       "    .dataframe tbody tr th:only-of-type {\n",
       "        vertical-align: middle;\n",
       "    }\n",
       "\n",
       "    .dataframe tbody tr th {\n",
       "        vertical-align: top;\n",
       "    }\n",
       "\n",
       "    .dataframe thead th {\n",
       "        text-align: right;\n",
       "    }\n",
       "</style>\n",
       "<table border=\"1\" class=\"dataframe\">\n",
       "  <thead>\n",
       "    <tr style=\"text-align: right;\">\n",
       "      <th></th>\n",
       "      <th>ds</th>\n",
       "      <th>trend</th>\n",
       "      <th>yhat_lower</th>\n",
       "      <th>yhat_upper</th>\n",
       "      <th>trend_lower</th>\n",
       "      <th>trend_upper</th>\n",
       "      <th>additive_terms</th>\n",
       "      <th>additive_terms_lower</th>\n",
       "      <th>additive_terms_upper</th>\n",
       "      <th>weekly</th>\n",
       "      <th>weekly_lower</th>\n",
       "      <th>weekly_upper</th>\n",
       "      <th>multiplicative_terms</th>\n",
       "      <th>multiplicative_terms_lower</th>\n",
       "      <th>multiplicative_terms_upper</th>\n",
       "      <th>yhat</th>\n",
       "    </tr>\n",
       "  </thead>\n",
       "  <tbody>\n",
       "    <tr>\n",
       "      <th>0</th>\n",
       "      <td>2020-12-10</td>\n",
       "      <td>274.215204</td>\n",
       "      <td>262.785304</td>\n",
       "      <td>285.255395</td>\n",
       "      <td>274.215204</td>\n",
       "      <td>274.215204</td>\n",
       "      <td>0.136851</td>\n",
       "      <td>0.136851</td>\n",
       "      <td>0.136851</td>\n",
       "      <td>0.136851</td>\n",
       "      <td>0.136851</td>\n",
       "      <td>0.136851</td>\n",
       "      <td>0.0</td>\n",
       "      <td>0.0</td>\n",
       "      <td>0.0</td>\n",
       "      <td>274.352055</td>\n",
       "    </tr>\n",
       "    <tr>\n",
       "      <th>1</th>\n",
       "      <td>2020-12-11</td>\n",
       "      <td>274.174571</td>\n",
       "      <td>261.720330</td>\n",
       "      <td>285.326971</td>\n",
       "      <td>274.174571</td>\n",
       "      <td>274.174571</td>\n",
       "      <td>-0.837698</td>\n",
       "      <td>-0.837698</td>\n",
       "      <td>-0.837698</td>\n",
       "      <td>-0.837698</td>\n",
       "      <td>-0.837698</td>\n",
       "      <td>-0.837698</td>\n",
       "      <td>0.0</td>\n",
       "      <td>0.0</td>\n",
       "      <td>0.0</td>\n",
       "      <td>273.336873</td>\n",
       "    </tr>\n",
       "    <tr>\n",
       "      <th>2</th>\n",
       "      <td>2020-12-14</td>\n",
       "      <td>274.052672</td>\n",
       "      <td>262.862930</td>\n",
       "      <td>286.720780</td>\n",
       "      <td>274.052672</td>\n",
       "      <td>274.052672</td>\n",
       "      <td>0.585121</td>\n",
       "      <td>0.585121</td>\n",
       "      <td>0.585121</td>\n",
       "      <td>0.585121</td>\n",
       "      <td>0.585121</td>\n",
       "      <td>0.585121</td>\n",
       "      <td>0.0</td>\n",
       "      <td>0.0</td>\n",
       "      <td>0.0</td>\n",
       "      <td>274.637792</td>\n",
       "    </tr>\n",
       "    <tr>\n",
       "      <th>3</th>\n",
       "      <td>2020-12-15</td>\n",
       "      <td>274.012038</td>\n",
       "      <td>262.321989</td>\n",
       "      <td>286.273214</td>\n",
       "      <td>274.012038</td>\n",
       "      <td>274.012038</td>\n",
       "      <td>0.739274</td>\n",
       "      <td>0.739274</td>\n",
       "      <td>0.739274</td>\n",
       "      <td>0.739274</td>\n",
       "      <td>0.739274</td>\n",
       "      <td>0.739274</td>\n",
       "      <td>0.0</td>\n",
       "      <td>0.0</td>\n",
       "      <td>0.0</td>\n",
       "      <td>274.751313</td>\n",
       "    </tr>\n",
       "    <tr>\n",
       "      <th>4</th>\n",
       "      <td>2020-12-16</td>\n",
       "      <td>273.971405</td>\n",
       "      <td>262.838920</td>\n",
       "      <td>286.000977</td>\n",
       "      <td>273.971405</td>\n",
       "      <td>273.971405</td>\n",
       "      <td>0.049033</td>\n",
       "      <td>0.049033</td>\n",
       "      <td>0.049033</td>\n",
       "      <td>0.049033</td>\n",
       "      <td>0.049033</td>\n",
       "      <td>0.049033</td>\n",
       "      <td>0.0</td>\n",
       "      <td>0.0</td>\n",
       "      <td>0.0</td>\n",
       "      <td>274.020438</td>\n",
       "    </tr>\n",
       "    <tr>\n",
       "      <th>...</th>\n",
       "      <td>...</td>\n",
       "      <td>...</td>\n",
       "      <td>...</td>\n",
       "      <td>...</td>\n",
       "      <td>...</td>\n",
       "      <td>...</td>\n",
       "      <td>...</td>\n",
       "      <td>...</td>\n",
       "      <td>...</td>\n",
       "      <td>...</td>\n",
       "      <td>...</td>\n",
       "      <td>...</td>\n",
       "      <td>...</td>\n",
       "      <td>...</td>\n",
       "      <td>...</td>\n",
       "      <td>...</td>\n",
       "    </tr>\n",
       "    <tr>\n",
       "      <th>277</th>\n",
       "      <td>2022-01-13</td>\n",
       "      <td>273.721927</td>\n",
       "      <td>262.773760</td>\n",
       "      <td>285.301353</td>\n",
       "      <td>273.721927</td>\n",
       "      <td>273.722159</td>\n",
       "      <td>0.136851</td>\n",
       "      <td>0.136851</td>\n",
       "      <td>0.136851</td>\n",
       "      <td>0.136851</td>\n",
       "      <td>0.136851</td>\n",
       "      <td>0.136851</td>\n",
       "      <td>0.0</td>\n",
       "      <td>0.0</td>\n",
       "      <td>0.0</td>\n",
       "      <td>273.858778</td>\n",
       "    </tr>\n",
       "    <tr>\n",
       "      <th>278</th>\n",
       "      <td>2022-01-14</td>\n",
       "      <td>272.641629</td>\n",
       "      <td>261.156745</td>\n",
       "      <td>284.123146</td>\n",
       "      <td>272.627463</td>\n",
       "      <td>272.700826</td>\n",
       "      <td>-0.837698</td>\n",
       "      <td>-0.837698</td>\n",
       "      <td>-0.837698</td>\n",
       "      <td>-0.837698</td>\n",
       "      <td>-0.837698</td>\n",
       "      <td>-0.837698</td>\n",
       "      <td>0.0</td>\n",
       "      <td>0.0</td>\n",
       "      <td>0.0</td>\n",
       "      <td>271.803931</td>\n",
       "    </tr>\n",
       "    <tr>\n",
       "      <th>279</th>\n",
       "      <td>2022-01-15</td>\n",
       "      <td>271.561331</td>\n",
       "      <td>255.815531</td>\n",
       "      <td>278.884762</td>\n",
       "      <td>271.493897</td>\n",
       "      <td>271.696469</td>\n",
       "      <td>-4.012580</td>\n",
       "      <td>-4.012580</td>\n",
       "      <td>-4.012580</td>\n",
       "      <td>-4.012580</td>\n",
       "      <td>-4.012580</td>\n",
       "      <td>-4.012580</td>\n",
       "      <td>0.0</td>\n",
       "      <td>0.0</td>\n",
       "      <td>0.0</td>\n",
       "      <td>267.548751</td>\n",
       "    </tr>\n",
       "    <tr>\n",
       "      <th>280</th>\n",
       "      <td>2022-01-16</td>\n",
       "      <td>270.481033</td>\n",
       "      <td>262.526981</td>\n",
       "      <td>285.489385</td>\n",
       "      <td>270.355535</td>\n",
       "      <td>270.703655</td>\n",
       "      <td>3.340000</td>\n",
       "      <td>3.340000</td>\n",
       "      <td>3.340000</td>\n",
       "      <td>3.340000</td>\n",
       "      <td>3.340000</td>\n",
       "      <td>3.340000</td>\n",
       "      <td>0.0</td>\n",
       "      <td>0.0</td>\n",
       "      <td>0.0</td>\n",
       "      <td>273.821032</td>\n",
       "    </tr>\n",
       "    <tr>\n",
       "      <th>281</th>\n",
       "      <td>2022-01-17</td>\n",
       "      <td>269.400734</td>\n",
       "      <td>259.150600</td>\n",
       "      <td>281.505200</td>\n",
       "      <td>269.190519</td>\n",
       "      <td>269.713924</td>\n",
       "      <td>0.585121</td>\n",
       "      <td>0.585121</td>\n",
       "      <td>0.585121</td>\n",
       "      <td>0.585121</td>\n",
       "      <td>0.585121</td>\n",
       "      <td>0.585121</td>\n",
       "      <td>0.0</td>\n",
       "      <td>0.0</td>\n",
       "      <td>0.0</td>\n",
       "      <td>269.985855</td>\n",
       "    </tr>\n",
       "  </tbody>\n",
       "</table>\n",
       "<p>282 rows × 16 columns</p>\n",
       "</div>"
      ],
      "text/plain": [
       "            ds       trend  yhat_lower  yhat_upper  trend_lower  trend_upper  \\\n",
       "0   2020-12-10  274.215204  262.785304  285.255395   274.215204   274.215204   \n",
       "1   2020-12-11  274.174571  261.720330  285.326971   274.174571   274.174571   \n",
       "2   2020-12-14  274.052672  262.862930  286.720780   274.052672   274.052672   \n",
       "3   2020-12-15  274.012038  262.321989  286.273214   274.012038   274.012038   \n",
       "4   2020-12-16  273.971405  262.838920  286.000977   273.971405   273.971405   \n",
       "..         ...         ...         ...         ...          ...          ...   \n",
       "277 2022-01-13  273.721927  262.773760  285.301353   273.721927   273.722159   \n",
       "278 2022-01-14  272.641629  261.156745  284.123146   272.627463   272.700826   \n",
       "279 2022-01-15  271.561331  255.815531  278.884762   271.493897   271.696469   \n",
       "280 2022-01-16  270.481033  262.526981  285.489385   270.355535   270.703655   \n",
       "281 2022-01-17  269.400734  259.150600  281.505200   269.190519   269.713924   \n",
       "\n",
       "     additive_terms  additive_terms_lower  additive_terms_upper    weekly  \\\n",
       "0          0.136851              0.136851              0.136851  0.136851   \n",
       "1         -0.837698             -0.837698             -0.837698 -0.837698   \n",
       "2          0.585121              0.585121              0.585121  0.585121   \n",
       "3          0.739274              0.739274              0.739274  0.739274   \n",
       "4          0.049033              0.049033              0.049033  0.049033   \n",
       "..              ...                   ...                   ...       ...   \n",
       "277        0.136851              0.136851              0.136851  0.136851   \n",
       "278       -0.837698             -0.837698             -0.837698 -0.837698   \n",
       "279       -4.012580             -4.012580             -4.012580 -4.012580   \n",
       "280        3.340000              3.340000              3.340000  3.340000   \n",
       "281        0.585121              0.585121              0.585121  0.585121   \n",
       "\n",
       "     weekly_lower  weekly_upper  multiplicative_terms  \\\n",
       "0        0.136851      0.136851                   0.0   \n",
       "1       -0.837698     -0.837698                   0.0   \n",
       "2        0.585121      0.585121                   0.0   \n",
       "3        0.739274      0.739274                   0.0   \n",
       "4        0.049033      0.049033                   0.0   \n",
       "..            ...           ...                   ...   \n",
       "277      0.136851      0.136851                   0.0   \n",
       "278     -0.837698     -0.837698                   0.0   \n",
       "279     -4.012580     -4.012580                   0.0   \n",
       "280      3.340000      3.340000                   0.0   \n",
       "281      0.585121      0.585121                   0.0   \n",
       "\n",
       "     multiplicative_terms_lower  multiplicative_terms_upper        yhat  \n",
       "0                           0.0                         0.0  274.352055  \n",
       "1                           0.0                         0.0  273.336873  \n",
       "2                           0.0                         0.0  274.637792  \n",
       "3                           0.0                         0.0  274.751313  \n",
       "4                           0.0                         0.0  274.020438  \n",
       "..                          ...                         ...         ...  \n",
       "277                         0.0                         0.0  273.858778  \n",
       "278                         0.0                         0.0  271.803931  \n",
       "279                         0.0                         0.0  267.548751  \n",
       "280                         0.0                         0.0  273.821032  \n",
       "281                         0.0                         0.0  269.985855  \n",
       "\n",
       "[282 rows x 16 columns]"
      ]
     },
     "execution_count": 30,
     "metadata": {},
     "output_type": "execute_result"
    }
   ],
   "source": [
    "forecast"
   ]
  },
  {
   "cell_type": "code",
   "execution_count": 31,
   "metadata": {
    "colab": {
     "base_uri": "https://localhost:8080/",
     "height": 266
    },
    "id": "SYR5kVNOxrC-",
    "outputId": "0ac24349-f379-434b-8dc9-98345c983dcb"
   },
   "outputs": [
    {
     "data": {
      "text/html": [
       "<div>\n",
       "<style scoped>\n",
       "    .dataframe tbody tr th:only-of-type {\n",
       "        vertical-align: middle;\n",
       "    }\n",
       "\n",
       "    .dataframe tbody tr th {\n",
       "        vertical-align: top;\n",
       "    }\n",
       "\n",
       "    .dataframe thead th {\n",
       "        text-align: right;\n",
       "    }\n",
       "</style>\n",
       "<table border=\"1\" class=\"dataframe\">\n",
       "  <thead>\n",
       "    <tr style=\"text-align: right;\">\n",
       "      <th></th>\n",
       "      <th>ds</th>\n",
       "      <th>yhat</th>\n",
       "      <th>yhat_lower</th>\n",
       "      <th>yhat_upper</th>\n",
       "    </tr>\n",
       "  </thead>\n",
       "  <tbody>\n",
       "    <tr>\n",
       "      <th>275</th>\n",
       "      <td>2022-01-11</td>\n",
       "      <td>276.621798</td>\n",
       "      <td>266.538898</td>\n",
       "      <td>287.611923</td>\n",
       "    </tr>\n",
       "    <tr>\n",
       "      <th>276</th>\n",
       "      <td>2022-01-12</td>\n",
       "      <td>274.851259</td>\n",
       "      <td>263.510228</td>\n",
       "      <td>286.162189</td>\n",
       "    </tr>\n",
       "    <tr>\n",
       "      <th>277</th>\n",
       "      <td>2022-01-13</td>\n",
       "      <td>273.858778</td>\n",
       "      <td>262.773760</td>\n",
       "      <td>285.301353</td>\n",
       "    </tr>\n",
       "    <tr>\n",
       "      <th>278</th>\n",
       "      <td>2022-01-14</td>\n",
       "      <td>271.803931</td>\n",
       "      <td>261.156745</td>\n",
       "      <td>284.123146</td>\n",
       "    </tr>\n",
       "    <tr>\n",
       "      <th>279</th>\n",
       "      <td>2022-01-15</td>\n",
       "      <td>267.548751</td>\n",
       "      <td>255.815531</td>\n",
       "      <td>278.884762</td>\n",
       "    </tr>\n",
       "    <tr>\n",
       "      <th>280</th>\n",
       "      <td>2022-01-16</td>\n",
       "      <td>273.821032</td>\n",
       "      <td>262.526981</td>\n",
       "      <td>285.489385</td>\n",
       "    </tr>\n",
       "    <tr>\n",
       "      <th>281</th>\n",
       "      <td>2022-01-17</td>\n",
       "      <td>269.985855</td>\n",
       "      <td>259.150600</td>\n",
       "      <td>281.505200</td>\n",
       "    </tr>\n",
       "  </tbody>\n",
       "</table>\n",
       "</div>"
      ],
      "text/plain": [
       "            ds        yhat  yhat_lower  yhat_upper\n",
       "275 2022-01-11  276.621798  266.538898  287.611923\n",
       "276 2022-01-12  274.851259  263.510228  286.162189\n",
       "277 2022-01-13  273.858778  262.773760  285.301353\n",
       "278 2022-01-14  271.803931  261.156745  284.123146\n",
       "279 2022-01-15  267.548751  255.815531  278.884762\n",
       "280 2022-01-16  273.821032  262.526981  285.489385\n",
       "281 2022-01-17  269.985855  259.150600  281.505200"
      ]
     },
     "execution_count": 31,
     "metadata": {},
     "output_type": "execute_result"
    }
   ],
   "source": [
    "\n",
    "\n",
    "forecast[['ds', 'yhat', 'yhat_lower', 'yhat_upper']].tail(7)\n"
   ]
  },
  {
   "cell_type": "code",
   "execution_count": 32,
   "metadata": {
    "colab": {
     "base_uri": "https://localhost:8080/",
     "height": 285
    },
    "id": "Oi0-VKGkT1om",
    "outputId": "554796ba-0017-4824-d08c-6abedf4aa5fe"
   },
   "outputs": [
    {
     "data": {
      "text/plain": [
       "<AxesSubplot:>"
      ]
     },
     "execution_count": 32,
     "metadata": {},
     "output_type": "execute_result"
    },
    {
     "data": {
      "image/png": "[encoded data removed]",
      "text/plain": [
       "<Figure size 432x288 with 1 Axes>"
      ]
     },
     "metadata": {
      "needs_background": "light"
     },
     "output_type": "display_data"
    }
   ],
   "source": [
    "forecast[[ 'yhat', 'yhat_lower', 'yhat_upper']].plot()"
   ]
  },
  {
   "cell_type": "code",
   "execution_count": 33,
   "metadata": {
    "id": "tr-rVxyhyGig"
   },
   "outputs": [],
   "source": [
    "forecast.set_index('ds',inplace=True)"
   ]
  },
  {
   "cell_type": "code",
   "execution_count": 34,
   "metadata": {
    "colab": {
     "base_uri": "https://localhost:8080/"
    },
    "id": "dv2jQcqzyYzi",
    "outputId": "78972980-c424-41e4-a4d2-f262549e51a9"
   },
   "outputs": [
    {
     "data": {
      "text/plain": [
       "ds\n",
       "2022-01-11    276.621798\n",
       "2022-01-12    274.851259\n",
       "2022-01-13    273.858778\n",
       "2022-01-14    271.803931\n",
       "2022-01-15    267.548751\n",
       "2022-01-16    273.821032\n",
       "2022-01-17    269.985855\n",
       "Name: yhat, dtype: float64"
      ]
     },
     "execution_count": 34,
     "metadata": {},
     "output_type": "execute_result"
    }
   ],
   "source": [
    "forecast['yhat'].tail(7)"
   ]
  },
  {
   "cell_type": "code",
   "execution_count": 36,
   "metadata": {},
   "outputs": [],
   "source": [
    "import matplotlib.pyplot as plt"
   ]
  },
  {
   "cell_type": "code",
   "execution_count": null,
   "metadata": {},
   "outputs": [],
   "source": []
  },
  {
   "cell_type": "code",
   "execution_count": null,
   "metadata": {},
   "outputs": [],
   "source": []
  },
  {
   "cell_type": "code",
   "execution_count": null,
   "metadata": {},
   "outputs": [],
   "source": []
  }
 ],
 "metadata": {
  "colab": {
   "collapsed_sections": [],
   "name": "lec1_ts.ipynb",
   "provenance": []
  },
  "kernelspec": {
   "display_name": "lec_venv",
   "language": "python",
   "name": "lec_venv"
  },
  "language_info": {
   "codemirror_mode": {
    "name": "ipython",
    "version": 3
   },
   "file_extension": ".py",
   "mimetype": "text/x-python",
   "name": "python",
   "nbconvert_exporter": "python",
   "pygments_lexer": "ipython3",
   "version": "3.6.5"
  }
 },
 "nbformat": 4,
 "nbformat_minor": 4
}
