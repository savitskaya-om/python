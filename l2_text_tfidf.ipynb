{
 "cells": [
  {
   "cell_type": "code",
   "execution_count": 1,
   "metadata": {},
   "outputs": [],
   "source": [
    "import pandas as pd\n",
    "import re\n",
    "import pymorphy2"
   ]
  },
  {
   "cell_type": "code",
   "execution_count": 2,
   "metadata": {},
   "outputs": [],
   "source": [
    "from sklearn.model_selection import train_test_split\n",
    "from sklearn.metrics import f1_score\n",
    "from nltk.corpus import stopwords\n",
    "from sklearn.feature_extraction.text import TfidfVectorizer\n",
    "import nltk\n",
    "from sklearn import tree"
   ]
  },
  {
   "cell_type": "code",
   "execution_count": 3,
   "metadata": {},
   "outputs": [],
   "source": [
    "df = pd.read_csv('lenta-ru-train.csv')"
   ]
  },
  {
   "cell_type": "code",
   "execution_count": 4,
   "metadata": {},
   "outputs": [
    {
     "data": {
      "text/html": [
       "<div>\n",
       "<style scoped>\n",
       "    .dataframe tbody tr th:only-of-type {\n",
       "        vertical-align: middle;\n",
       "    }\n",
       "\n",
       "    .dataframe tbody tr th {\n",
       "        vertical-align: top;\n",
       "    }\n",
       "\n",
       "    .dataframe thead th {\n",
       "        text-align: right;\n",
       "    }\n",
       "</style>\n",
       "<table border=\"1\" class=\"dataframe\">\n",
       "  <thead>\n",
       "    <tr style=\"text-align: right;\">\n",
       "      <th></th>\n",
       "      <th>title</th>\n",
       "      <th>text</th>\n",
       "      <th>topic</th>\n",
       "      <th>topic_label</th>\n",
       "    </tr>\n",
       "  </thead>\n",
       "  <tbody>\n",
       "    <tr>\n",
       "      <th>0</th>\n",
       "      <td>Инфляция в январе 2006 года составит 2,6 процента</td>\n",
       "      <td>Глава Росстата Владимир Соколин заявил, что в ...</td>\n",
       "      <td>Экономика</td>\n",
       "      <td>0</td>\n",
       "    </tr>\n",
       "    <tr>\n",
       "      <th>1</th>\n",
       "      <td>Никита Михалков учредил День российского кино</td>\n",
       "      <td>У российских кинематографистов  появится новый...</td>\n",
       "      <td>Культура</td>\n",
       "      <td>3</td>\n",
       "    </tr>\n",
       "    <tr>\n",
       "      <th>2</th>\n",
       "      <td>Марко Матерацци вернется в строй к матчу с ЦСКА</td>\n",
       "      <td>Медицинский штаб миланского \"Интера\" обнародов...</td>\n",
       "      <td>Спорт</td>\n",
       "      <td>1</td>\n",
       "    </tr>\n",
       "    <tr>\n",
       "      <th>3</th>\n",
       "      <td>Определены лауреаты премии \"Книга года\"</td>\n",
       "      <td>Премии \"Книга года\" в 13 номинациях вручены на...</td>\n",
       "      <td>Культура</td>\n",
       "      <td>3</td>\n",
       "    </tr>\n",
       "    <tr>\n",
       "      <th>4</th>\n",
       "      <td>Гол Роналду со штрафного спас португальцев от ...</td>\n",
       "      <td>Сборная Португалии сыграла вничью с командой И...</td>\n",
       "      <td>Спорт</td>\n",
       "      <td>1</td>\n",
       "    </tr>\n",
       "  </tbody>\n",
       "</table>\n",
       "</div>"
      ],
      "text/plain": [
       "                                               title  \\\n",
       "0  Инфляция в январе 2006 года составит 2,6 процента   \n",
       "1      Никита Михалков учредил День российского кино   \n",
       "2    Марко Матерацци вернется в строй к матчу с ЦСКА   \n",
       "3            Определены лауреаты премии \"Книга года\"   \n",
       "4  Гол Роналду со штрафного спас португальцев от ...   \n",
       "\n",
       "                                                text      topic  topic_label  \n",
       "0  Глава Росстата Владимир Соколин заявил, что в ...  Экономика            0  \n",
       "1  У российских кинематографистов  появится новый...   Культура            3  \n",
       "2  Медицинский штаб миланского \"Интера\" обнародов...      Спорт            1  \n",
       "3  Премии \"Книга года\" в 13 номинациях вручены на...   Культура            3  \n",
       "4  Сборная Португалии сыграла вничью с командой И...      Спорт            1  "
      ]
     },
     "execution_count": 4,
     "metadata": {},
     "output_type": "execute_result"
    }
   ],
   "source": [
    "df.head()"
   ]
  },
  {
   "cell_type": "code",
   "execution_count": 5,
   "metadata": {},
   "outputs": [
    {
     "data": {
      "text/plain": [
       "Экономика          0.307646\n",
       "Спорт              0.250096\n",
       "Культура           0.208443\n",
       "Наука и техника    0.205113\n",
       "Бизнес             0.028703\n",
       "Name: topic, dtype: float64"
      ]
     },
     "execution_count": 5,
     "metadata": {},
     "output_type": "execute_result"
    }
   ],
   "source": [
    "df.topic.value_counts(normalize=True)"
   ]
  },
  {
   "cell_type": "code",
   "execution_count": 6,
   "metadata": {},
   "outputs": [
    {
     "data": {
      "text/plain": [
       "title          0\n",
       "text           1\n",
       "topic          0\n",
       "topic_label    0\n",
       "dtype: int64"
      ]
     },
     "execution_count": 6,
     "metadata": {},
     "output_type": "execute_result"
    }
   ],
   "source": [
    "df.isna().sum()"
   ]
  },
  {
   "cell_type": "code",
   "execution_count": 7,
   "metadata": {},
   "outputs": [
    {
     "data": {
      "text/plain": [
       "array(['Гребенщиков заработал 10\\xa0тысяч рублей в\\xa0омском подземном переходе'],\n",
       "      dtype=object)"
      ]
     },
     "execution_count": 7,
     "metadata": {},
     "output_type": "execute_result"
    }
   ],
   "source": [
    "df[df.text.isna()]['title'].values"
   ]
  },
  {
   "cell_type": "code",
   "execution_count": 8,
   "metadata": {},
   "outputs": [],
   "source": [
    "df = df[~df.text.isna()]"
   ]
  },
  {
   "cell_type": "code",
   "execution_count": 9,
   "metadata": {},
   "outputs": [
    {
     "data": {
      "text/plain": [
       "(206636, 4)"
      ]
     },
     "execution_count": 9,
     "metadata": {},
     "output_type": "execute_result"
    }
   ],
   "source": [
    "df.shape"
   ]
  },
  {
   "cell_type": "code",
   "execution_count": 25,
   "metadata": {},
   "outputs": [],
   "source": [
    "rs = 1915"
   ]
  },
  {
   "cell_type": "markdown",
   "metadata": {},
   "source": [
    "### Базовая обработка"
   ]
  },
  {
   "cell_type": "code",
   "execution_count": 10,
   "metadata": {},
   "outputs": [],
   "source": [
    "text_transformer = TfidfVectorizer()"
   ]
  },
  {
   "cell_type": "code",
   "execution_count": 11,
   "metadata": {},
   "outputs": [],
   "source": [
    "text = text_transformer.fit_transform(df['text'])"
   ]
  },
  {
   "cell_type": "code",
   "execution_count": 12,
   "metadata": {},
   "outputs": [
    {
     "data": {
      "text/plain": [
       "<206636x567399 sparse matrix of type '<class 'numpy.float64'>'\n",
       "\twith 27370083 stored elements in Compressed Sparse Row format>"
      ]
     },
     "execution_count": 12,
     "metadata": {},
     "output_type": "execute_result"
    }
   ],
   "source": [
    "text"
   ]
  },
  {
   "cell_type": "code",
   "execution_count": 13,
   "metadata": {},
   "outputs": [],
   "source": [
    "X_train, X_test, y_train, y_test = train_test_split(text, df['topic_label'], test_size=0.20, random_state=rs)"
   ]
  },
  {
   "cell_type": "code",
   "execution_count": 14,
   "metadata": {},
   "outputs": [
    {
     "data": {
      "text/plain": [
       "(165308, 567399)"
      ]
     },
     "execution_count": 14,
     "metadata": {},
     "output_type": "execute_result"
    }
   ],
   "source": [
    "X_train.shape"
   ]
  },
  {
   "cell_type": "code",
   "execution_count": 15,
   "metadata": {},
   "outputs": [
    {
     "data": {
      "text/plain": [
       "(41328, 567399)"
      ]
     },
     "execution_count": 15,
     "metadata": {},
     "output_type": "execute_result"
    }
   ],
   "source": [
    "X_test.shape"
   ]
  },
  {
   "cell_type": "code",
   "execution_count": 19,
   "metadata": {},
   "outputs": [],
   "source": [
    "clf = tree.DecisionTreeClassifier()"
   ]
  },
  {
   "cell_type": "code",
   "execution_count": 20,
   "metadata": {},
   "outputs": [
    {
     "data": {
      "text/plain": [
       "DecisionTreeClassifier()"
      ]
     },
     "execution_count": 20,
     "metadata": {},
     "output_type": "execute_result"
    }
   ],
   "source": [
    "clf.fit(X_train,y_train)"
   ]
  },
  {
   "cell_type": "code",
   "execution_count": 21,
   "metadata": {},
   "outputs": [
    {
     "name": "stdout",
     "output_type": "stream",
     "text": [
      "Качество модели по метрике F1 0.8633452789745651\n"
     ]
    }
   ],
   "source": [
    "pred = clf.predict(X_test)\n",
    "print('Качество модели по метрике F1', f1_score(y_test,pred,average='weighted'))"
   ]
  },
  {
   "cell_type": "markdown",
   "metadata": {},
   "source": [
    "### Изменим токенизатор"
   ]
  },
  {
   "cell_type": "raw",
   "metadata": {},
   "source": [
    "import nltk\n",
    "import ssl\n",
    "\n",
    "try:\n",
    "    _create_unverified_https_context = ssl._create_unverified_context\n",
    "except AttributeError:\n",
    "    pass\n",
    "else:\n",
    "    ssl._create_default_https_context = _create_unverified_https_context\n",
    "\n",
    "nltk.download()"
   ]
  },
  {
   "cell_type": "raw",
   "metadata": {},
   "source": [
    "nltk.download('stopwords')"
   ]
  },
  {
   "cell_type": "code",
   "execution_count": 22,
   "metadata": {},
   "outputs": [],
   "source": [
    "stop_russian = stopwords.words('russian')"
   ]
  },
  {
   "cell_type": "code",
   "execution_count": 23,
   "metadata": {},
   "outputs": [
    {
     "data": {
      "text/plain": [
       "['и',\n",
       " 'в',\n",
       " 'во',\n",
       " 'не',\n",
       " 'что',\n",
       " 'он',\n",
       " 'на',\n",
       " 'я',\n",
       " 'с',\n",
       " 'со',\n",
       " 'как',\n",
       " 'а',\n",
       " 'то',\n",
       " 'все',\n",
       " 'она',\n",
       " 'так',\n",
       " 'его',\n",
       " 'но',\n",
       " 'да',\n",
       " 'ты',\n",
       " 'к',\n",
       " 'у',\n",
       " 'же',\n",
       " 'вы',\n",
       " 'за',\n",
       " 'бы',\n",
       " 'по',\n",
       " 'только',\n",
       " 'ее',\n",
       " 'мне',\n",
       " 'было',\n",
       " 'вот',\n",
       " 'от',\n",
       " 'меня',\n",
       " 'еще',\n",
       " 'нет',\n",
       " 'о',\n",
       " 'из',\n",
       " 'ему',\n",
       " 'теперь',\n",
       " 'когда',\n",
       " 'даже',\n",
       " 'ну',\n",
       " 'вдруг',\n",
       " 'ли',\n",
       " 'если',\n",
       " 'уже',\n",
       " 'или',\n",
       " 'ни',\n",
       " 'быть',\n",
       " 'был',\n",
       " 'него',\n",
       " 'до',\n",
       " 'вас',\n",
       " 'нибудь',\n",
       " 'опять',\n",
       " 'уж',\n",
       " 'вам',\n",
       " 'ведь',\n",
       " 'там',\n",
       " 'потом',\n",
       " 'себя',\n",
       " 'ничего',\n",
       " 'ей',\n",
       " 'может',\n",
       " 'они',\n",
       " 'тут',\n",
       " 'где',\n",
       " 'есть',\n",
       " 'надо',\n",
       " 'ней',\n",
       " 'для',\n",
       " 'мы',\n",
       " 'тебя',\n",
       " 'их',\n",
       " 'чем',\n",
       " 'была',\n",
       " 'сам',\n",
       " 'чтоб',\n",
       " 'без',\n",
       " 'будто',\n",
       " 'чего',\n",
       " 'раз',\n",
       " 'тоже',\n",
       " 'себе',\n",
       " 'под',\n",
       " 'будет',\n",
       " 'ж',\n",
       " 'тогда',\n",
       " 'кто',\n",
       " 'этот',\n",
       " 'того',\n",
       " 'потому',\n",
       " 'этого',\n",
       " 'какой',\n",
       " 'совсем',\n",
       " 'ним',\n",
       " 'здесь',\n",
       " 'этом',\n",
       " 'один',\n",
       " 'почти',\n",
       " 'мой',\n",
       " 'тем',\n",
       " 'чтобы',\n",
       " 'нее',\n",
       " 'сейчас',\n",
       " 'были',\n",
       " 'куда',\n",
       " 'зачем',\n",
       " 'всех',\n",
       " 'никогда',\n",
       " 'можно',\n",
       " 'при',\n",
       " 'наконец',\n",
       " 'два',\n",
       " 'об',\n",
       " 'другой',\n",
       " 'хоть',\n",
       " 'после',\n",
       " 'над',\n",
       " 'больше',\n",
       " 'тот',\n",
       " 'через',\n",
       " 'эти',\n",
       " 'нас',\n",
       " 'про',\n",
       " 'всего',\n",
       " 'них',\n",
       " 'какая',\n",
       " 'много',\n",
       " 'разве',\n",
       " 'три',\n",
       " 'эту',\n",
       " 'моя',\n",
       " 'впрочем',\n",
       " 'хорошо',\n",
       " 'свою',\n",
       " 'этой',\n",
       " 'перед',\n",
       " 'иногда',\n",
       " 'лучше',\n",
       " 'чуть',\n",
       " 'том',\n",
       " 'нельзя',\n",
       " 'такой',\n",
       " 'им',\n",
       " 'более',\n",
       " 'всегда',\n",
       " 'конечно',\n",
       " 'всю',\n",
       " 'между']"
      ]
     },
     "execution_count": 23,
     "metadata": {},
     "output_type": "execute_result"
    }
   ],
   "source": [
    "stop_russian"
   ]
  },
  {
   "cell_type": "code",
   "execution_count": 26,
   "metadata": {},
   "outputs": [],
   "source": [
    "text_transformer = TfidfVectorizer(stop_words=stop_russian, ngram_range=(1,1), lowercase=True, max_features=10000 )\n",
    "text = text_transformer.fit_transform(df['text'])\n",
    "X_train, X_test, y_train, y_test = train_test_split(text, df['topic_label'], test_size=0.2, random_state=rs)"
   ]
  },
  {
   "cell_type": "code",
   "execution_count": 27,
   "metadata": {},
   "outputs": [
    {
     "data": {
      "text/plain": [
       "(165308, 10000)"
      ]
     },
     "execution_count": 27,
     "metadata": {},
     "output_type": "execute_result"
    }
   ],
   "source": [
    "X_train.shape"
   ]
  },
  {
   "cell_type": "code",
   "execution_count": 28,
   "metadata": {},
   "outputs": [
    {
     "data": {
      "text/plain": [
       "DecisionTreeClassifier()"
      ]
     },
     "execution_count": 28,
     "metadata": {},
     "output_type": "execute_result"
    }
   ],
   "source": [
    "clf2 = tree.DecisionTreeClassifier()\n",
    "clf2.fit(X_train,y_train)"
   ]
  },
  {
   "cell_type": "code",
   "execution_count": 29,
   "metadata": {},
   "outputs": [
    {
     "name": "stdout",
     "output_type": "stream",
     "text": [
      "Качество модели по метрике F1 (токенизатор настроен) 0.8787745921040077\n"
     ]
    }
   ],
   "source": [
    "pred2 = clf2.predict(X_test)\n",
    "print('Качество модели по метрике F1 (токенизатор настроен)', f1_score(y_test,pred2,average='weighted'))"
   ]
  },
  {
   "cell_type": "raw",
   "metadata": {},
   "source": [
    "df['text'] = df['text'].str.replace('/','')"
   ]
  },
  {
   "cell_type": "markdown",
   "metadata": {},
   "source": [
    "### приведем слова к первой форме"
   ]
  },
  {
   "cell_type": "code",
   "execution_count": 30,
   "metadata": {},
   "outputs": [],
   "source": [
    "pattern = r'[^А-Яа-я]+'"
   ]
  },
  {
   "cell_type": "code",
   "execution_count": 39,
   "metadata": {},
   "outputs": [],
   "source": [
    "list = [re.sub(pattern, ' ', i) for i in ['проверка weyweywt iweiwue  238238 ? 123 тест']]"
   ]
  },
  {
   "cell_type": "code",
   "execution_count": 40,
   "metadata": {},
   "outputs": [
    {
     "data": {
      "text/plain": [
       "['проверка тест']"
      ]
     },
     "execution_count": 40,
     "metadata": {},
     "output_type": "execute_result"
    }
   ],
   "source": [
    "list"
   ]
  },
  {
   "cell_type": "code",
   "execution_count": 41,
   "metadata": {},
   "outputs": [],
   "source": [
    "# функция удаления пунктуации и цифр\n",
    "def remove_trash(list): \n",
    "    pattern = r'[^А-Яа-я]+'\n",
    "    try:\n",
    "      list = [re.sub(pattern, ' ', i) for i in list] \n",
    "      print (list)\n",
    "    except Exception as e:\n",
    "      print(e)\n",
    "    return list"
   ]
  },
  {
   "cell_type": "code",
   "execution_count": 42,
   "metadata": {},
   "outputs": [
    {
     "name": "stderr",
     "output_type": "stream",
     "text": [
      "IOPub data rate exceeded.\n",
      "The notebook server will temporarily stop sending output\n",
      "to the client in order to avoid crashing it.\n",
      "To change this limit, set the config variable\n",
      "`--NotebookApp.iopub_data_rate_limit`.\n",
      "\n",
      "Current values:\n",
      "NotebookApp.iopub_data_rate_limit=1000000.0 (bytes/sec)\n",
      "NotebookApp.rate_limit_window=3.0 (secs)\n",
      "\n"
     ]
    }
   ],
   "source": [
    "df['text_clean'] = remove_trash(df['text'])"
   ]
  },
  {
   "cell_type": "code",
   "execution_count": 44,
   "metadata": {},
   "outputs": [
    {
     "data": {
      "text/html": [
       "<div>\n",
       "<style scoped>\n",
       "    .dataframe tbody tr th:only-of-type {\n",
       "        vertical-align: middle;\n",
       "    }\n",
       "\n",
       "    .dataframe tbody tr th {\n",
       "        vertical-align: top;\n",
       "    }\n",
       "\n",
       "    .dataframe thead th {\n",
       "        text-align: right;\n",
       "    }\n",
       "</style>\n",
       "<table border=\"1\" class=\"dataframe\">\n",
       "  <thead>\n",
       "    <tr style=\"text-align: right;\">\n",
       "      <th></th>\n",
       "      <th>text</th>\n",
       "      <th>text_clean</th>\n",
       "    </tr>\n",
       "  </thead>\n",
       "  <tbody>\n",
       "    <tr>\n",
       "      <th>0</th>\n",
       "      <td>Глава Росстата Владимир Соколин заявил, что в ...</td>\n",
       "      <td>Глава Росстата Владимир Соколин заявил что в я...</td>\n",
       "    </tr>\n",
       "    <tr>\n",
       "      <th>1</th>\n",
       "      <td>У российских кинематографистов  появится новый...</td>\n",
       "      <td>У российских кинематографистов появится новый ...</td>\n",
       "    </tr>\n",
       "    <tr>\n",
       "      <th>2</th>\n",
       "      <td>Медицинский штаб миланского \"Интера\" обнародов...</td>\n",
       "      <td>Медицинский штаб миланского Интера обнародовал...</td>\n",
       "    </tr>\n",
       "    <tr>\n",
       "      <th>3</th>\n",
       "      <td>Премии \"Книга года\" в 13 номинациях вручены на...</td>\n",
       "      <td>Премии Книга года в номинациях вручены на Моск...</td>\n",
       "    </tr>\n",
       "    <tr>\n",
       "      <th>4</th>\n",
       "      <td>Сборная Португалии сыграла вничью с командой И...</td>\n",
       "      <td>Сборная Португалии сыграла вничью с командой И...</td>\n",
       "    </tr>\n",
       "  </tbody>\n",
       "</table>\n",
       "</div>"
      ],
      "text/plain": [
       "                                                text  \\\n",
       "0  Глава Росстата Владимир Соколин заявил, что в ...   \n",
       "1  У российских кинематографистов  появится новый...   \n",
       "2  Медицинский штаб миланского \"Интера\" обнародов...   \n",
       "3  Премии \"Книга года\" в 13 номинациях вручены на...   \n",
       "4  Сборная Португалии сыграла вничью с командой И...   \n",
       "\n",
       "                                          text_clean  \n",
       "0  Глава Росстата Владимир Соколин заявил что в я...  \n",
       "1  У российских кинематографистов появится новый ...  \n",
       "2  Медицинский штаб миланского Интера обнародовал...  \n",
       "3  Премии Книга года в номинациях вручены на Моск...  \n",
       "4  Сборная Португалии сыграла вничью с командой И...  "
      ]
     },
     "execution_count": 44,
     "metadata": {},
     "output_type": "execute_result"
    }
   ],
   "source": [
    "df[['text','text_clean']].head()"
   ]
  },
  {
   "cell_type": "code",
   "execution_count": 45,
   "metadata": {},
   "outputs": [],
   "source": [
    "df = df[~df.text_clean.isna()].copy()"
   ]
  },
  {
   "cell_type": "code",
   "execution_count": null,
   "metadata": {},
   "outputs": [],
   "source": [
    "#токенизатор удалил мусор"
   ]
  },
  {
   "cell_type": "code",
   "execution_count": 46,
   "metadata": {},
   "outputs": [],
   "source": [
    "text_transformer = TfidfVectorizer(stop_words=stop_russian, ngram_range=(1,1), lowercase=True, max_features=10000 )\n",
    "text = text_transformer.fit_transform(df['text_clean'])\n",
    "X_train, X_test, y_train, y_test = train_test_split(text, df['topic_label'], test_size=0.2, random_state=rs)"
   ]
  },
  {
   "cell_type": "code",
   "execution_count": 47,
   "metadata": {},
   "outputs": [
    {
     "name": "stdout",
     "output_type": "stream",
     "text": [
      "Качество модели по метрике F1 (токенизатор настроен и убран мусор) 0.8750528908287197\n"
     ]
    }
   ],
   "source": [
    "clf3 = tree.DecisionTreeClassifier()\n",
    "clf3.fit(X_train,y_train)\n",
    "pred3 = clf3.predict(X_test)\n",
    "print('Качество модели по метрике F1 (токенизатор настроен и убран мусор)', f1_score(y_test,pred3,average='weighted'))"
   ]
  },
  {
   "cell_type": "markdown",
   "metadata": {},
   "source": [
    "### попробуем лемматизацию"
   ]
  },
  {
   "cell_type": "code",
   "execution_count": 48,
   "metadata": {},
   "outputs": [],
   "source": [
    "morph = pymorphy2.MorphAnalyzer()"
   ]
  },
  {
   "cell_type": "code",
   "execution_count": 49,
   "metadata": {},
   "outputs": [],
   "source": [
    "# функция лемматизации\n",
    "def lemmatize(row):\n",
    "    t = []\n",
    "    text = row['text_clean']\n",
    "    for word in text.split():\n",
    "        if len(word)<=3:\n",
    "            continue\n",
    "        p = morph.parse(word)[0]\n",
    "        t.append(p.normal_form)\n",
    "    return \" \".join(t)"
   ]
  },
  {
   "cell_type": "code",
   "execution_count": 50,
   "metadata": {},
   "outputs": [
    {
     "data": {
      "text/plain": [
       "0         Глава Росстата Владимир Соколин заявил, что в ...\n",
       "1         У российских кинематографистов  появится новый...\n",
       "2         Медицинский штаб миланского \"Интера\" обнародов...\n",
       "3         Премии \"Книга года\" в 13 номинациях вручены на...\n",
       "4         Сборная Португалии сыграла вничью с командой И...\n",
       "                                ...                        \n",
       "206632    Бывшей вице-президенту ювелирной компании Tiff...\n",
       "206633    Минфин предлагает увеличить размер штрафа для ...\n",
       "206634    Индекс потребительской уверенности россиян в п...\n",
       "206635    Капитан женской сборной России по теннису Шами...\n",
       "206636    Союз европейских футбольных ассоциаций (УЕФА) ...\n",
       "Name: text, Length: 206636, dtype: object"
      ]
     },
     "execution_count": 50,
     "metadata": {},
     "output_type": "execute_result"
    }
   ],
   "source": [
    "df.text"
   ]
  },
  {
   "cell_type": "code",
   "execution_count": 51,
   "metadata": {},
   "outputs": [],
   "source": [
    "t = []\n",
    "text = 'У российских кинематографистов  появится новый'\n",
    "for word in text.split():\n",
    "    if len(word)<=3:\n",
    "        continue\n",
    "    p = morph.parse(word)[0]\n",
    "    t.append(p.normal_form)"
   ]
  },
  {
   "cell_type": "code",
   "execution_count": 53,
   "metadata": {},
   "outputs": [
    {
     "data": {
      "text/plain": [
       "'российский кинематографист появиться новый'"
      ]
     },
     "execution_count": 53,
     "metadata": {},
     "output_type": "execute_result"
    }
   ],
   "source": [
    "\" \".join(t)"
   ]
  },
  {
   "cell_type": "code",
   "execution_count": null,
   "metadata": {},
   "outputs": [],
   "source": [
    "%%time\n",
    "df['text_clean_normal'] = df.apply(lemmatize,axis=1)"
   ]
  },
  {
   "cell_type": "code",
   "execution_count": 54,
   "metadata": {},
   "outputs": [],
   "source": [
    "import pickle"
   ]
  },
  {
   "cell_type": "raw",
   "metadata": {},
   "source": [
    "# пример записи объекта в файл\n",
    "with open('df_norma.pkl','wb') as f:\n",
    "    pickle.dump(df,f)"
   ]
  },
  {
   "cell_type": "raw",
   "metadata": {},
   "source": [
    "# пример чтения объекта из файла в оперативную память\n",
    "with open('df_norma.pkl','rb') as f:\n",
    "    df = pickle.load(f)"
   ]
  },
  {
   "cell_type": "code",
   "execution_count": 57,
   "metadata": {},
   "outputs": [
    {
     "data": {
      "text/html": [
       "<div>\n",
       "<style scoped>\n",
       "    .dataframe tbody tr th:only-of-type {\n",
       "        vertical-align: middle;\n",
       "    }\n",
       "\n",
       "    .dataframe tbody tr th {\n",
       "        vertical-align: top;\n",
       "    }\n",
       "\n",
       "    .dataframe thead th {\n",
       "        text-align: right;\n",
       "    }\n",
       "</style>\n",
       "<table border=\"1\" class=\"dataframe\">\n",
       "  <thead>\n",
       "    <tr style=\"text-align: right;\">\n",
       "      <th></th>\n",
       "      <th>text</th>\n",
       "      <th>text_clean_normal</th>\n",
       "    </tr>\n",
       "  </thead>\n",
       "  <tbody>\n",
       "    <tr>\n",
       "      <th>206627</th>\n",
       "      <td>Государство выдвинет для избрания в совет дире...</td>\n",
       "      <td>государство выдвинуть избрание совет директор ...</td>\n",
       "    </tr>\n",
       "    <tr>\n",
       "      <th>206628</th>\n",
       "      <td>Режиссер Василий Сигарев рассказал о том, что ...</td>\n",
       "      <td>режиссёр василий сигарёв рассказать добиться у...</td>\n",
       "    </tr>\n",
       "    <tr>\n",
       "      <th>206629</th>\n",
       "      <td>Руководителей компании Valve Software удивила ...</td>\n",
       "      <td>руководитель компания удивить информация второ...</td>\n",
       "    </tr>\n",
       "    <tr>\n",
       "      <th>206630</th>\n",
       "      <td>Бывший тренер сборной России Владимир Плющев п...</td>\n",
       "      <td>бывший тренер сборная россия владимир плющев п...</td>\n",
       "    </tr>\n",
       "    <tr>\n",
       "      <th>206631</th>\n",
       "      <td>Москвич Александр Морозевич одержал черными по...</td>\n",
       "      <td>москвич александр морозевич одержать чёрный по...</td>\n",
       "    </tr>\n",
       "    <tr>\n",
       "      <th>206632</th>\n",
       "      <td>Бывшей вице-президенту ювелирной компании Tiff...</td>\n",
       "      <td>бывший вица президент ювелирный компания ингри...</td>\n",
       "    </tr>\n",
       "    <tr>\n",
       "      <th>206633</th>\n",
       "      <td>Минфин предлагает увеличить размер штрафа для ...</td>\n",
       "      <td>минфин предлагать увеличить размер штраф должн...</td>\n",
       "    </tr>\n",
       "    <tr>\n",
       "      <th>206634</th>\n",
       "      <td>Индекс потребительской уверенности россиян в п...</td>\n",
       "      <td>индекс потребительский уверенность россиянин п...</td>\n",
       "    </tr>\n",
       "    <tr>\n",
       "      <th>206635</th>\n",
       "      <td>Капитан женской сборной России по теннису Шами...</td>\n",
       "      <td>капитан женский сборная россия теннис шамиль т...</td>\n",
       "    </tr>\n",
       "    <tr>\n",
       "      <th>206636</th>\n",
       "      <td>Союз европейских футбольных ассоциаций (УЕФА) ...</td>\n",
       "      <td>союз европейский футбольный ассоциация уефа пр...</td>\n",
       "    </tr>\n",
       "  </tbody>\n",
       "</table>\n",
       "</div>"
      ],
      "text/plain": [
       "                                                     text  \\\n",
       "206627  Государство выдвинет для избрания в совет дире...   \n",
       "206628  Режиссер Василий Сигарев рассказал о том, что ...   \n",
       "206629  Руководителей компании Valve Software удивила ...   \n",
       "206630  Бывший тренер сборной России Владимир Плющев п...   \n",
       "206631  Москвич Александр Морозевич одержал черными по...   \n",
       "206632  Бывшей вице-президенту ювелирной компании Tiff...   \n",
       "206633  Минфин предлагает увеличить размер штрафа для ...   \n",
       "206634  Индекс потребительской уверенности россиян в п...   \n",
       "206635  Капитан женской сборной России по теннису Шами...   \n",
       "206636  Союз европейских футбольных ассоциаций (УЕФА) ...   \n",
       "\n",
       "                                        text_clean_normal  \n",
       "206627  государство выдвинуть избрание совет директор ...  \n",
       "206628  режиссёр василий сигарёв рассказать добиться у...  \n",
       "206629  руководитель компания удивить информация второ...  \n",
       "206630  бывший тренер сборная россия владимир плющев п...  \n",
       "206631  москвич александр морозевич одержать чёрный по...  \n",
       "206632  бывший вица президент ювелирный компания ингри...  \n",
       "206633  минфин предлагать увеличить размер штраф должн...  \n",
       "206634  индекс потребительский уверенность россиянин п...  \n",
       "206635  капитан женский сборная россия теннис шамиль т...  \n",
       "206636  союз европейский футбольный ассоциация уефа пр...  "
      ]
     },
     "execution_count": 57,
     "metadata": {},
     "output_type": "execute_result"
    }
   ],
   "source": [
    "df[['text','text_clean_normal']].tail(10)"
   ]
  },
  {
   "cell_type": "code",
   "execution_count": null,
   "metadata": {},
   "outputs": [],
   "source": []
  },
  {
   "cell_type": "markdown",
   "metadata": {},
   "source": [
    "### качество модели после лемматизации"
   ]
  },
  {
   "cell_type": "code",
   "execution_count": 58,
   "metadata": {},
   "outputs": [],
   "source": [
    "text_transformer = TfidfVectorizer(stop_words=stop_russian, ngram_range=(1,1), lowercase=True, max_features=10000)\n",
    "text_norm = text_transformer.fit_transform(df['text_clean_normal'])\n",
    "X_train, X_test, y_train, y_test = train_test_split(text_norm, df['topic_label'], test_size=0.20, random_state=rs)"
   ]
  },
  {
   "cell_type": "code",
   "execution_count": 59,
   "metadata": {},
   "outputs": [],
   "source": [
    "clf_norm = tree.DecisionTreeClassifier()\n",
    "clf_norm.fit(X_train,y_train)\n",
    "pred_norm = clf_norm.predict(X_test)"
   ]
  },
  {
   "cell_type": "code",
   "execution_count": 60,
   "metadata": {},
   "outputs": [
    {
     "name": "stdout",
     "output_type": "stream",
     "text": [
      "Качество модели по метрике F1 после лемматизации 0.9013850129316823\n"
     ]
    }
   ],
   "source": [
    "\n",
    "print('Качество модели по метрике F1 после лемматизации', f1_score(y_test,pred_norm,average='weighted'))"
   ]
  },
  {
   "cell_type": "code",
   "execution_count": null,
   "metadata": {},
   "outputs": [],
   "source": []
  }
 ],
 "metadata": {
  "kernelspec": {
   "display_name": "lec_venv",
   "language": "python",
   "name": "lec_venv"
  },
  "language_info": {
   "codemirror_mode": {
    "name": "ipython",
    "version": 3
   },
   "file_extension": ".py",
   "mimetype": "text/x-python",
   "name": "python",
   "nbconvert_exporter": "python",
   "pygments_lexer": "ipython3",
   "version": "3.6.5"
  }
 },
 "nbformat": 4,
 "nbformat_minor": 5
}
