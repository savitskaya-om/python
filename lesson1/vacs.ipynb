{
 "cells": [
  {
   "cell_type": "code",
   "execution_count": null,
   "metadata": {
    "collapsed": true,
    "pycharm": {
     "name": "#%%\n"
    }
   },
   "outputs": [],
   "source": [
    "import csv\n",
    "import sys\n",
    "from collections import defaultdict\n",
    "from collections import Counter\n"
   ]
  },
  {
   "cell_type": "code",
   "execution_count": null,
   "outputs": [],
   "source": [
    "csv.field_size_limit(sys.maxsize)\n",
    "csv.field_size_limit(100000000)\n",
    "filepath = 'python/lesson1/vacancy.csv'\n",
    "vacs = list(csv.DictReader(open(filepath, encoding=\"utf-8\")))\n",
    "vacs_keys = vacs[0].keys()\n",
    "vacs_keys"
   ],
   "metadata": {
    "collapsed": false,
    "pycharm": {
     "name": "#%%\n"
    }
   }
  },
  {
   "cell_type": "code",
   "execution_count": null,
   "outputs": [],
   "source": [
    "c = Counter (row['vactitle'] for row in vacs)\n",
    "c.most_common(10)"
   ],
   "metadata": {
    "collapsed": false,
    "pycharm": {
     "name": "#%%\n"
    }
   }
  },
  {
   "cell_type": "code",
   "execution_count": null,
   "outputs": [],
   "source": [
    "vactitles = [row['vactitle'] for row in vacs]\n",
    "\n",
    "# Сколько вакансий, которые вам нравятся?\n",
    "ilike = [row for row in vactitles if (\"data scientist\" in row.lower() or \"analyst\" in row.lower() ) and \"казна\" in row.lower()]\n",
    "print(\"вакансии, которые мне нравятся \",len(ilike), \": \", [el for el in ilike] )"
   ],
   "metadata": {
    "collapsed": false,
    "pycharm": {
     "name": "#%%\n"
    }
   }
  },
  {
   "cell_type": "code",
   "execution_count": null,
   "outputs": [],
   "source": [
    "# За какие периоды эти вакансии?\n",
    "period = set (row['created_at'][0:7] for row in vacs if row['vactitle'] in ilike)\n",
    "print(\"эти вакансии за период: \", [el for el in period])"
   ],
   "metadata": {
    "collapsed": false,
    "pycharm": {
     "name": "#%%\n"
    }
   }
  },
  {
   "cell_type": "code",
   "execution_count": null,
   "outputs": [],
   "source": [
    "# Сколько вакансий с такими позициями, на которых вы работаете?\n",
    "my_prof = [row for row in vactitles if \"казначейств\" in row.lower() or \"risk\" in row.lower() or \"риск\" in row.lower() and \"юриск\" not in row.lower()]\n",
    "print(\"количество вакансий с такими позициями, на которых я работаю: \", len(my_prof))"
   ],
   "metadata": {
    "collapsed": false,
    "pycharm": {
     "name": "#%%\n"
    }
   }
  },
  {
   "cell_type": "code",
   "execution_count": null,
   "outputs": [],
   "source": [
    "# Сколько вакансий для аналитика данных?\n",
    "analyst =[row for row in vactitles if (\"аналитик данных\" in row.lower() or \"data analyst\" in row.lower())]\n",
    "print(\"количество вакансий для аналитика данных: \", len(analyst))"
   ],
   "metadata": {
    "collapsed": false,
    "pycharm": {
     "name": "#%%\n"
    }
   }
  },
  {
   "cell_type": "code",
   "execution_count": null,
   "outputs": [],
   "source": [
    "# Сколько вакансий для аналитика данных с использованием Python?\n",
    "analyst_py  = [row['vactitle'] for row in vacs if (row['vactitle'] in analyst and \"python\" in row['vacdescription'].lower())]\n",
    "print(\"количество вакансий для аналитика данных с использованием Python: \", len(analyst_py))"
   ],
   "metadata": {
    "collapsed": false,
    "pycharm": {
     "name": "#%%\n"
    }
   }
  }
 ],
 "metadata": {
  "kernelspec": {
   "display_name": "Python 3",
   "language": "python",
   "name": "python3"
  },
  "language_info": {
   "codemirror_mode": {
    "name": "ipython",
    "version": 2
   },
   "file_extension": ".py",
   "mimetype": "text/x-python",
   "name": "python",
   "nbconvert_exporter": "python",
   "pygments_lexer": "ipython2",
   "version": "2.7.6"
  }
 },
 "nbformat": 4,
 "nbformat_minor": 0
}
