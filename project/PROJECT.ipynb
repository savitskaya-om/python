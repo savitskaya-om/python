{
  "nbformat": 4,
  "nbformat_minor": 0,
  "metadata": {
    "colab": {
      "name": "Untitled8.ipynb",
      "provenance": [],
      "authorship_tag": "ABX9TyOPWNiaQ1gj/zI4xgWUbEMR",
      "include_colab_link": true
    },
    "kernelspec": {
      "name": "python3",
      "display_name": "Python 3"
    },
    "language_info": {
      "name": "python"
    }
  },
  "cells": [
    {
      "cell_type": "markdown",
      "metadata": {
        "id": "view-in-github",
        "colab_type": "text"
      },
      "source": [
        "<a href=\"https://colab.research.google.com/github/savitskaya-om/python/blob/main/project/PROJECT.ipynb\" target=\"_parent\"><img src=\"https://colab.research.google.com/assets/colab-badge.svg\" alt=\"Open In Colab\"/></a>"
      ]
    },
    {
      "cell_type": "markdown",
      "source": [
        "**Import Libraries**"
      ],
      "metadata": {
        "id": "aPZ-Caiqwc7Z"
      }
    },
    {
      "cell_type": "code",
      "source": [
        "import pandas as pd\n",
        "import numpy as np\n",
        "import matplotlib.pyplot as plt\n",
        "import seaborn as sns\n",
        "from nltk.probability import FreqDist\n"
      ],
      "metadata": {
        "id": "unmdpW6FrTz3"
      },
      "execution_count": 583,
      "outputs": []
    },
    {
      "cell_type": "code",
      "source": [
        "#plt.__version__"
      ],
      "metadata": {
        "id": "6PC2Kl2jv9IM"
      },
      "execution_count": 584,
      "outputs": []
    },
    {
      "cell_type": "markdown",
      "source": [
        "*if matplotlib version is older than 3.4*"
      ],
      "metadata": {
        "id": "o0-nR4eVwCUM"
      }
    },
    {
      "cell_type": "code",
      "source": [
        "#!pip install matplotlib==3.4"
      ],
      "metadata": {
        "id": "LVN8NP8Qv--k"
      },
      "execution_count": 585,
      "outputs": []
    },
    {
      "cell_type": "markdown",
      "source": [
        "**Load Data**"
      ],
      "metadata": {
        "id": "s4Exod5qwnzP"
      }
    },
    {
      "cell_type": "code",
      "execution_count": 586,
      "metadata": {
        "colab": {
          "base_uri": "https://localhost:8080/"
        },
        "id": "0GJF7vUWq7Cf",
        "outputId": "461a7373-d70d-4154-b5e4-94a8957815ee"
      },
      "outputs": [
        {
          "output_type": "stream",
          "name": "stdout",
          "text": [
            "fatal: destination path 'Kaggle-SF-Salaries' already exists and is not an empty directory.\n"
          ]
        }
      ],
      "source": [
        "!git clone https://github.com/Kokkalo4/Kaggle-SF-Salaries "
      ]
    },
    {
      "cell_type": "code",
      "source": [
        "sal = pd.read_csv(\"Kaggle-SF-Salaries/Salaries.csv\")"
      ],
      "metadata": {
        "colab": {
          "base_uri": "https://localhost:8080/"
        },
        "id": "-nfLkKpUrIxw",
        "outputId": "2aebd571-ff8e-4984-b600-895e12052603"
      },
      "execution_count": 587,
      "outputs": [
        {
          "output_type": "stream",
          "name": "stderr",
          "text": [
            "/usr/local/lib/python3.7/dist-packages/IPython/core/interactiveshell.py:3326: DtypeWarning: Columns (3,4,5,6,12) have mixed types.Specify dtype option on import or set low_memory=False.\n",
            "  exec(code_obj, self.user_global_ns, self.user_ns)\n"
          ]
        }
      ]
    },
    {
      "cell_type": "markdown",
      "source": [
        "**Overview**"
      ],
      "metadata": {
        "id": "AuoPIRMBwtdm"
      }
    },
    {
      "cell_type": "code",
      "source": [
        "sal.head()"
      ],
      "metadata": {
        "colab": {
          "base_uri": "https://localhost:8080/",
          "height": 337
        },
        "id": "aZrXfqNzrPtY",
        "outputId": "7b582575-bcb7-409f-f73b-747ab5cd8547"
      },
      "execution_count": 588,
      "outputs": [
        {
          "output_type": "execute_result",
          "data": {
            "text/plain": [
              "   Id       EmployeeName                                        JobTitle  \\\n",
              "0   1     NATHANIEL FORD  GENERAL MANAGER-METROPOLITAN TRANSIT AUTHORITY   \n",
              "1   2       GARY JIMENEZ                 CAPTAIN III (POLICE DEPARTMENT)   \n",
              "2   3     ALBERT PARDINI                 CAPTAIN III (POLICE DEPARTMENT)   \n",
              "3   4  CHRISTOPHER CHONG            WIRE ROPE CABLE MAINTENANCE MECHANIC   \n",
              "4   5    PATRICK GARDNER    DEPUTY CHIEF OF DEPARTMENT,(FIRE DEPARTMENT)   \n",
              "\n",
              "     BasePay OvertimePay   OtherPay Benefits   TotalPay  TotalPayBenefits  \\\n",
              "0  167411.18         0.0  400184.25      NaN  567595.43         567595.43   \n",
              "1  155966.02   245131.88  137811.38      NaN  538909.28         538909.28   \n",
              "2  212739.13   106088.18    16452.6      NaN  335279.91         335279.91   \n",
              "3    77916.0    56120.71   198306.9      NaN  332343.61         332343.61   \n",
              "4   134401.6      9737.0  182234.59      NaN  326373.19         326373.19   \n",
              "\n",
              "   Year  Notes         Agency Status  \n",
              "0  2011    NaN  San Francisco    NaN  \n",
              "1  2011    NaN  San Francisco    NaN  \n",
              "2  2011    NaN  San Francisco    NaN  \n",
              "3  2011    NaN  San Francisco    NaN  \n",
              "4  2011    NaN  San Francisco    NaN  "
            ],
            "text/html": [
              "\n",
              "  <div id=\"df-193b5144-de5f-4093-999e-bc19c4ca318b\">\n",
              "    <div class=\"colab-df-container\">\n",
              "      <div>\n",
              "<style scoped>\n",
              "    .dataframe tbody tr th:only-of-type {\n",
              "        vertical-align: middle;\n",
              "    }\n",
              "\n",
              "    .dataframe tbody tr th {\n",
              "        vertical-align: top;\n",
              "    }\n",
              "\n",
              "    .dataframe thead th {\n",
              "        text-align: right;\n",
              "    }\n",
              "</style>\n",
              "<table border=\"1\" class=\"dataframe\">\n",
              "  <thead>\n",
              "    <tr style=\"text-align: right;\">\n",
              "      <th></th>\n",
              "      <th>Id</th>\n",
              "      <th>EmployeeName</th>\n",
              "      <th>JobTitle</th>\n",
              "      <th>BasePay</th>\n",
              "      <th>OvertimePay</th>\n",
              "      <th>OtherPay</th>\n",
              "      <th>Benefits</th>\n",
              "      <th>TotalPay</th>\n",
              "      <th>TotalPayBenefits</th>\n",
              "      <th>Year</th>\n",
              "      <th>Notes</th>\n",
              "      <th>Agency</th>\n",
              "      <th>Status</th>\n",
              "    </tr>\n",
              "  </thead>\n",
              "  <tbody>\n",
              "    <tr>\n",
              "      <th>0</th>\n",
              "      <td>1</td>\n",
              "      <td>NATHANIEL FORD</td>\n",
              "      <td>GENERAL MANAGER-METROPOLITAN TRANSIT AUTHORITY</td>\n",
              "      <td>167411.18</td>\n",
              "      <td>0.0</td>\n",
              "      <td>400184.25</td>\n",
              "      <td>NaN</td>\n",
              "      <td>567595.43</td>\n",
              "      <td>567595.43</td>\n",
              "      <td>2011</td>\n",
              "      <td>NaN</td>\n",
              "      <td>San Francisco</td>\n",
              "      <td>NaN</td>\n",
              "    </tr>\n",
              "    <tr>\n",
              "      <th>1</th>\n",
              "      <td>2</td>\n",
              "      <td>GARY JIMENEZ</td>\n",
              "      <td>CAPTAIN III (POLICE DEPARTMENT)</td>\n",
              "      <td>155966.02</td>\n",
              "      <td>245131.88</td>\n",
              "      <td>137811.38</td>\n",
              "      <td>NaN</td>\n",
              "      <td>538909.28</td>\n",
              "      <td>538909.28</td>\n",
              "      <td>2011</td>\n",
              "      <td>NaN</td>\n",
              "      <td>San Francisco</td>\n",
              "      <td>NaN</td>\n",
              "    </tr>\n",
              "    <tr>\n",
              "      <th>2</th>\n",
              "      <td>3</td>\n",
              "      <td>ALBERT PARDINI</td>\n",
              "      <td>CAPTAIN III (POLICE DEPARTMENT)</td>\n",
              "      <td>212739.13</td>\n",
              "      <td>106088.18</td>\n",
              "      <td>16452.6</td>\n",
              "      <td>NaN</td>\n",
              "      <td>335279.91</td>\n",
              "      <td>335279.91</td>\n",
              "      <td>2011</td>\n",
              "      <td>NaN</td>\n",
              "      <td>San Francisco</td>\n",
              "      <td>NaN</td>\n",
              "    </tr>\n",
              "    <tr>\n",
              "      <th>3</th>\n",
              "      <td>4</td>\n",
              "      <td>CHRISTOPHER CHONG</td>\n",
              "      <td>WIRE ROPE CABLE MAINTENANCE MECHANIC</td>\n",
              "      <td>77916.0</td>\n",
              "      <td>56120.71</td>\n",
              "      <td>198306.9</td>\n",
              "      <td>NaN</td>\n",
              "      <td>332343.61</td>\n",
              "      <td>332343.61</td>\n",
              "      <td>2011</td>\n",
              "      <td>NaN</td>\n",
              "      <td>San Francisco</td>\n",
              "      <td>NaN</td>\n",
              "    </tr>\n",
              "    <tr>\n",
              "      <th>4</th>\n",
              "      <td>5</td>\n",
              "      <td>PATRICK GARDNER</td>\n",
              "      <td>DEPUTY CHIEF OF DEPARTMENT,(FIRE DEPARTMENT)</td>\n",
              "      <td>134401.6</td>\n",
              "      <td>9737.0</td>\n",
              "      <td>182234.59</td>\n",
              "      <td>NaN</td>\n",
              "      <td>326373.19</td>\n",
              "      <td>326373.19</td>\n",
              "      <td>2011</td>\n",
              "      <td>NaN</td>\n",
              "      <td>San Francisco</td>\n",
              "      <td>NaN</td>\n",
              "    </tr>\n",
              "  </tbody>\n",
              "</table>\n",
              "</div>\n",
              "      <button class=\"colab-df-convert\" onclick=\"convertToInteractive('df-193b5144-de5f-4093-999e-bc19c4ca318b')\"\n",
              "              title=\"Convert this dataframe to an interactive table.\"\n",
              "              style=\"display:none;\">\n",
              "        \n",
              "  <svg xmlns=\"http://www.w3.org/2000/svg\" height=\"24px\"viewBox=\"0 0 24 24\"\n",
              "       width=\"24px\">\n",
              "    <path d=\"M0 0h24v24H0V0z\" fill=\"none\"/>\n",
              "    <path d=\"M18.56 5.44l.94 2.06.94-2.06 2.06-.94-2.06-.94-.94-2.06-.94 2.06-2.06.94zm-11 1L8.5 8.5l.94-2.06 2.06-.94-2.06-.94L8.5 2.5l-.94 2.06-2.06.94zm10 10l.94 2.06.94-2.06 2.06-.94-2.06-.94-.94-2.06-.94 2.06-2.06.94z\"/><path d=\"M17.41 7.96l-1.37-1.37c-.4-.4-.92-.59-1.43-.59-.52 0-1.04.2-1.43.59L10.3 9.45l-7.72 7.72c-.78.78-.78 2.05 0 2.83L4 21.41c.39.39.9.59 1.41.59.51 0 1.02-.2 1.41-.59l7.78-7.78 2.81-2.81c.8-.78.8-2.07 0-2.86zM5.41 20L4 18.59l7.72-7.72 1.47 1.35L5.41 20z\"/>\n",
              "  </svg>\n",
              "      </button>\n",
              "      \n",
              "  <style>\n",
              "    .colab-df-container {\n",
              "      display:flex;\n",
              "      flex-wrap:wrap;\n",
              "      gap: 12px;\n",
              "    }\n",
              "\n",
              "    .colab-df-convert {\n",
              "      background-color: #E8F0FE;\n",
              "      border: none;\n",
              "      border-radius: 50%;\n",
              "      cursor: pointer;\n",
              "      display: none;\n",
              "      fill: #1967D2;\n",
              "      height: 32px;\n",
              "      padding: 0 0 0 0;\n",
              "      width: 32px;\n",
              "    }\n",
              "\n",
              "    .colab-df-convert:hover {\n",
              "      background-color: #E2EBFA;\n",
              "      box-shadow: 0px 1px 2px rgba(60, 64, 67, 0.3), 0px 1px 3px 1px rgba(60, 64, 67, 0.15);\n",
              "      fill: #174EA6;\n",
              "    }\n",
              "\n",
              "    [theme=dark] .colab-df-convert {\n",
              "      background-color: #3B4455;\n",
              "      fill: #D2E3FC;\n",
              "    }\n",
              "\n",
              "    [theme=dark] .colab-df-convert:hover {\n",
              "      background-color: #434B5C;\n",
              "      box-shadow: 0px 1px 3px 1px rgba(0, 0, 0, 0.15);\n",
              "      filter: drop-shadow(0px 1px 2px rgba(0, 0, 0, 0.3));\n",
              "      fill: #FFFFFF;\n",
              "    }\n",
              "  </style>\n",
              "\n",
              "      <script>\n",
              "        const buttonEl =\n",
              "          document.querySelector('#df-193b5144-de5f-4093-999e-bc19c4ca318b button.colab-df-convert');\n",
              "        buttonEl.style.display =\n",
              "          google.colab.kernel.accessAllowed ? 'block' : 'none';\n",
              "\n",
              "        async function convertToInteractive(key) {\n",
              "          const element = document.querySelector('#df-193b5144-de5f-4093-999e-bc19c4ca318b');\n",
              "          const dataTable =\n",
              "            await google.colab.kernel.invokeFunction('convertToInteractive',\n",
              "                                                     [key], {});\n",
              "          if (!dataTable) return;\n",
              "\n",
              "          const docLinkHtml = 'Like what you see? Visit the ' +\n",
              "            '<a target=\"_blank\" href=https://colab.research.google.com/notebooks/data_table.ipynb>data table notebook</a>'\n",
              "            + ' to learn more about interactive tables.';\n",
              "          element.innerHTML = '';\n",
              "          dataTable['output_type'] = 'display_data';\n",
              "          await google.colab.output.renderOutput(dataTable, element);\n",
              "          const docLink = document.createElement('div');\n",
              "          docLink.innerHTML = docLinkHtml;\n",
              "          element.appendChild(docLink);\n",
              "        }\n",
              "      </script>\n",
              "    </div>\n",
              "  </div>\n",
              "  "
            ]
          },
          "metadata": {},
          "execution_count": 588
        }
      ]
    },
    {
      "cell_type": "code",
      "source": [
        "sal.info()"
      ],
      "metadata": {
        "colab": {
          "base_uri": "https://localhost:8080/"
        },
        "id": "CQps6E1XrQa3",
        "outputId": "16bc3774-e9c0-4f32-d990-81618db661b8"
      },
      "execution_count": 589,
      "outputs": [
        {
          "output_type": "stream",
          "name": "stdout",
          "text": [
            "<class 'pandas.core.frame.DataFrame'>\n",
            "RangeIndex: 148654 entries, 0 to 148653\n",
            "Data columns (total 13 columns):\n",
            " #   Column            Non-Null Count   Dtype  \n",
            "---  ------            --------------   -----  \n",
            " 0   Id                148654 non-null  int64  \n",
            " 1   EmployeeName      148654 non-null  object \n",
            " 2   JobTitle          148654 non-null  object \n",
            " 3   BasePay           148049 non-null  object \n",
            " 4   OvertimePay       148654 non-null  object \n",
            " 5   OtherPay          148654 non-null  object \n",
            " 6   Benefits          112495 non-null  object \n",
            " 7   TotalPay          148654 non-null  float64\n",
            " 8   TotalPayBenefits  148654 non-null  float64\n",
            " 9   Year              148654 non-null  int64  \n",
            " 10  Notes             0 non-null       float64\n",
            " 11  Agency            148654 non-null  object \n",
            " 12  Status            38119 non-null   object \n",
            "dtypes: float64(3), int64(2), object(8)\n",
            "memory usage: 14.7+ MB\n"
          ]
        }
      ]
    },
    {
      "cell_type": "code",
      "source": [
        "sal.describe()"
      ],
      "metadata": {
        "colab": {
          "base_uri": "https://localhost:8080/",
          "height": 300
        },
        "id": "X9rCEveDsVtl",
        "outputId": "484653a6-3c45-49de-c744-8d1545bb68c2"
      },
      "execution_count": 590,
      "outputs": [
        {
          "output_type": "execute_result",
          "data": {
            "text/plain": [
              "                  Id       TotalPay  TotalPayBenefits           Year  Notes\n",
              "count  148654.000000  148654.000000     148654.000000  148654.000000    0.0\n",
              "mean    74327.500000   74768.321972      93692.554811    2012.522643    NaN\n",
              "std     42912.857795   50517.005274      62793.533483       1.117538    NaN\n",
              "min         1.000000    -618.130000       -618.130000    2011.000000    NaN\n",
              "25%     37164.250000   36168.995000      44065.650000    2012.000000    NaN\n",
              "50%     74327.500000   71426.610000      92404.090000    2013.000000    NaN\n",
              "75%    111490.750000  105839.135000     132876.450000    2014.000000    NaN\n",
              "max    148654.000000  567595.430000     567595.430000    2014.000000    NaN"
            ],
            "text/html": [
              "\n",
              "  <div id=\"df-99561634-3ea6-4d30-a5ef-41394188276a\">\n",
              "    <div class=\"colab-df-container\">\n",
              "      <div>\n",
              "<style scoped>\n",
              "    .dataframe tbody tr th:only-of-type {\n",
              "        vertical-align: middle;\n",
              "    }\n",
              "\n",
              "    .dataframe tbody tr th {\n",
              "        vertical-align: top;\n",
              "    }\n",
              "\n",
              "    .dataframe thead th {\n",
              "        text-align: right;\n",
              "    }\n",
              "</style>\n",
              "<table border=\"1\" class=\"dataframe\">\n",
              "  <thead>\n",
              "    <tr style=\"text-align: right;\">\n",
              "      <th></th>\n",
              "      <th>Id</th>\n",
              "      <th>TotalPay</th>\n",
              "      <th>TotalPayBenefits</th>\n",
              "      <th>Year</th>\n",
              "      <th>Notes</th>\n",
              "    </tr>\n",
              "  </thead>\n",
              "  <tbody>\n",
              "    <tr>\n",
              "      <th>count</th>\n",
              "      <td>148654.000000</td>\n",
              "      <td>148654.000000</td>\n",
              "      <td>148654.000000</td>\n",
              "      <td>148654.000000</td>\n",
              "      <td>0.0</td>\n",
              "    </tr>\n",
              "    <tr>\n",
              "      <th>mean</th>\n",
              "      <td>74327.500000</td>\n",
              "      <td>74768.321972</td>\n",
              "      <td>93692.554811</td>\n",
              "      <td>2012.522643</td>\n",
              "      <td>NaN</td>\n",
              "    </tr>\n",
              "    <tr>\n",
              "      <th>std</th>\n",
              "      <td>42912.857795</td>\n",
              "      <td>50517.005274</td>\n",
              "      <td>62793.533483</td>\n",
              "      <td>1.117538</td>\n",
              "      <td>NaN</td>\n",
              "    </tr>\n",
              "    <tr>\n",
              "      <th>min</th>\n",
              "      <td>1.000000</td>\n",
              "      <td>-618.130000</td>\n",
              "      <td>-618.130000</td>\n",
              "      <td>2011.000000</td>\n",
              "      <td>NaN</td>\n",
              "    </tr>\n",
              "    <tr>\n",
              "      <th>25%</th>\n",
              "      <td>37164.250000</td>\n",
              "      <td>36168.995000</td>\n",
              "      <td>44065.650000</td>\n",
              "      <td>2012.000000</td>\n",
              "      <td>NaN</td>\n",
              "    </tr>\n",
              "    <tr>\n",
              "      <th>50%</th>\n",
              "      <td>74327.500000</td>\n",
              "      <td>71426.610000</td>\n",
              "      <td>92404.090000</td>\n",
              "      <td>2013.000000</td>\n",
              "      <td>NaN</td>\n",
              "    </tr>\n",
              "    <tr>\n",
              "      <th>75%</th>\n",
              "      <td>111490.750000</td>\n",
              "      <td>105839.135000</td>\n",
              "      <td>132876.450000</td>\n",
              "      <td>2014.000000</td>\n",
              "      <td>NaN</td>\n",
              "    </tr>\n",
              "    <tr>\n",
              "      <th>max</th>\n",
              "      <td>148654.000000</td>\n",
              "      <td>567595.430000</td>\n",
              "      <td>567595.430000</td>\n",
              "      <td>2014.000000</td>\n",
              "      <td>NaN</td>\n",
              "    </tr>\n",
              "  </tbody>\n",
              "</table>\n",
              "</div>\n",
              "      <button class=\"colab-df-convert\" onclick=\"convertToInteractive('df-99561634-3ea6-4d30-a5ef-41394188276a')\"\n",
              "              title=\"Convert this dataframe to an interactive table.\"\n",
              "              style=\"display:none;\">\n",
              "        \n",
              "  <svg xmlns=\"http://www.w3.org/2000/svg\" height=\"24px\"viewBox=\"0 0 24 24\"\n",
              "       width=\"24px\">\n",
              "    <path d=\"M0 0h24v24H0V0z\" fill=\"none\"/>\n",
              "    <path d=\"M18.56 5.44l.94 2.06.94-2.06 2.06-.94-2.06-.94-.94-2.06-.94 2.06-2.06.94zm-11 1L8.5 8.5l.94-2.06 2.06-.94-2.06-.94L8.5 2.5l-.94 2.06-2.06.94zm10 10l.94 2.06.94-2.06 2.06-.94-2.06-.94-.94-2.06-.94 2.06-2.06.94z\"/><path d=\"M17.41 7.96l-1.37-1.37c-.4-.4-.92-.59-1.43-.59-.52 0-1.04.2-1.43.59L10.3 9.45l-7.72 7.72c-.78.78-.78 2.05 0 2.83L4 21.41c.39.39.9.59 1.41.59.51 0 1.02-.2 1.41-.59l7.78-7.78 2.81-2.81c.8-.78.8-2.07 0-2.86zM5.41 20L4 18.59l7.72-7.72 1.47 1.35L5.41 20z\"/>\n",
              "  </svg>\n",
              "      </button>\n",
              "      \n",
              "  <style>\n",
              "    .colab-df-container {\n",
              "      display:flex;\n",
              "      flex-wrap:wrap;\n",
              "      gap: 12px;\n",
              "    }\n",
              "\n",
              "    .colab-df-convert {\n",
              "      background-color: #E8F0FE;\n",
              "      border: none;\n",
              "      border-radius: 50%;\n",
              "      cursor: pointer;\n",
              "      display: none;\n",
              "      fill: #1967D2;\n",
              "      height: 32px;\n",
              "      padding: 0 0 0 0;\n",
              "      width: 32px;\n",
              "    }\n",
              "\n",
              "    .colab-df-convert:hover {\n",
              "      background-color: #E2EBFA;\n",
              "      box-shadow: 0px 1px 2px rgba(60, 64, 67, 0.3), 0px 1px 3px 1px rgba(60, 64, 67, 0.15);\n",
              "      fill: #174EA6;\n",
              "    }\n",
              "\n",
              "    [theme=dark] .colab-df-convert {\n",
              "      background-color: #3B4455;\n",
              "      fill: #D2E3FC;\n",
              "    }\n",
              "\n",
              "    [theme=dark] .colab-df-convert:hover {\n",
              "      background-color: #434B5C;\n",
              "      box-shadow: 0px 1px 3px 1px rgba(0, 0, 0, 0.15);\n",
              "      filter: drop-shadow(0px 1px 2px rgba(0, 0, 0, 0.3));\n",
              "      fill: #FFFFFF;\n",
              "    }\n",
              "  </style>\n",
              "\n",
              "      <script>\n",
              "        const buttonEl =\n",
              "          document.querySelector('#df-99561634-3ea6-4d30-a5ef-41394188276a button.colab-df-convert');\n",
              "        buttonEl.style.display =\n",
              "          google.colab.kernel.accessAllowed ? 'block' : 'none';\n",
              "\n",
              "        async function convertToInteractive(key) {\n",
              "          const element = document.querySelector('#df-99561634-3ea6-4d30-a5ef-41394188276a');\n",
              "          const dataTable =\n",
              "            await google.colab.kernel.invokeFunction('convertToInteractive',\n",
              "                                                     [key], {});\n",
              "          if (!dataTable) return;\n",
              "\n",
              "          const docLinkHtml = 'Like what you see? Visit the ' +\n",
              "            '<a target=\"_blank\" href=https://colab.research.google.com/notebooks/data_table.ipynb>data table notebook</a>'\n",
              "            + ' to learn more about interactive tables.';\n",
              "          element.innerHTML = '';\n",
              "          dataTable['output_type'] = 'display_data';\n",
              "          await google.colab.output.renderOutput(dataTable, element);\n",
              "          const docLink = document.createElement('div');\n",
              "          docLink.innerHTML = docLinkHtml;\n",
              "          element.appendChild(docLink);\n",
              "        }\n",
              "      </script>\n",
              "    </div>\n",
              "  </div>\n",
              "  "
            ]
          },
          "metadata": {},
          "execution_count": 590
        }
      ]
    },
    {
      "cell_type": "code",
      "source": [
        "sal.describe(include = ['O'])"
      ],
      "metadata": {
        "colab": {
          "base_uri": "https://localhost:8080/",
          "height": 175
        },
        "id": "GyqxKTtz37BE",
        "outputId": "572e427c-c4cd-4c30-daf3-56c4d9c86fd6"
      },
      "execution_count": 591,
      "outputs": [
        {
          "output_type": "execute_result",
          "data": {
            "text/plain": [
              "       EmployeeName          JobTitle   BasePay  OvertimePay  OtherPay  \\\n",
              "count        148654            148654  148049.0     148654.0  148654.0   \n",
              "unique       110811              2159  109900.0      66555.0   84968.0   \n",
              "top       Kevin Lee  Transit Operator       0.0          0.0       0.0   \n",
              "freq             13              7036     875.0      66103.0   35218.0   \n",
              "\n",
              "        Benefits         Agency Status  \n",
              "count   112495.0         148654  38119  \n",
              "unique   99635.0              1      2  \n",
              "top          0.0  San Francisco     FT  \n",
              "freq      1053.0         148654  22334  "
            ],
            "text/html": [
              "\n",
              "  <div id=\"df-f6031318-f5ce-4e00-b281-f215fe2d849d\">\n",
              "    <div class=\"colab-df-container\">\n",
              "      <div>\n",
              "<style scoped>\n",
              "    .dataframe tbody tr th:only-of-type {\n",
              "        vertical-align: middle;\n",
              "    }\n",
              "\n",
              "    .dataframe tbody tr th {\n",
              "        vertical-align: top;\n",
              "    }\n",
              "\n",
              "    .dataframe thead th {\n",
              "        text-align: right;\n",
              "    }\n",
              "</style>\n",
              "<table border=\"1\" class=\"dataframe\">\n",
              "  <thead>\n",
              "    <tr style=\"text-align: right;\">\n",
              "      <th></th>\n",
              "      <th>EmployeeName</th>\n",
              "      <th>JobTitle</th>\n",
              "      <th>BasePay</th>\n",
              "      <th>OvertimePay</th>\n",
              "      <th>OtherPay</th>\n",
              "      <th>Benefits</th>\n",
              "      <th>Agency</th>\n",
              "      <th>Status</th>\n",
              "    </tr>\n",
              "  </thead>\n",
              "  <tbody>\n",
              "    <tr>\n",
              "      <th>count</th>\n",
              "      <td>148654</td>\n",
              "      <td>148654</td>\n",
              "      <td>148049.0</td>\n",
              "      <td>148654.0</td>\n",
              "      <td>148654.0</td>\n",
              "      <td>112495.0</td>\n",
              "      <td>148654</td>\n",
              "      <td>38119</td>\n",
              "    </tr>\n",
              "    <tr>\n",
              "      <th>unique</th>\n",
              "      <td>110811</td>\n",
              "      <td>2159</td>\n",
              "      <td>109900.0</td>\n",
              "      <td>66555.0</td>\n",
              "      <td>84968.0</td>\n",
              "      <td>99635.0</td>\n",
              "      <td>1</td>\n",
              "      <td>2</td>\n",
              "    </tr>\n",
              "    <tr>\n",
              "      <th>top</th>\n",
              "      <td>Kevin Lee</td>\n",
              "      <td>Transit Operator</td>\n",
              "      <td>0.0</td>\n",
              "      <td>0.0</td>\n",
              "      <td>0.0</td>\n",
              "      <td>0.0</td>\n",
              "      <td>San Francisco</td>\n",
              "      <td>FT</td>\n",
              "    </tr>\n",
              "    <tr>\n",
              "      <th>freq</th>\n",
              "      <td>13</td>\n",
              "      <td>7036</td>\n",
              "      <td>875.0</td>\n",
              "      <td>66103.0</td>\n",
              "      <td>35218.0</td>\n",
              "      <td>1053.0</td>\n",
              "      <td>148654</td>\n",
              "      <td>22334</td>\n",
              "    </tr>\n",
              "  </tbody>\n",
              "</table>\n",
              "</div>\n",
              "      <button class=\"colab-df-convert\" onclick=\"convertToInteractive('df-f6031318-f5ce-4e00-b281-f215fe2d849d')\"\n",
              "              title=\"Convert this dataframe to an interactive table.\"\n",
              "              style=\"display:none;\">\n",
              "        \n",
              "  <svg xmlns=\"http://www.w3.org/2000/svg\" height=\"24px\"viewBox=\"0 0 24 24\"\n",
              "       width=\"24px\">\n",
              "    <path d=\"M0 0h24v24H0V0z\" fill=\"none\"/>\n",
              "    <path d=\"M18.56 5.44l.94 2.06.94-2.06 2.06-.94-2.06-.94-.94-2.06-.94 2.06-2.06.94zm-11 1L8.5 8.5l.94-2.06 2.06-.94-2.06-.94L8.5 2.5l-.94 2.06-2.06.94zm10 10l.94 2.06.94-2.06 2.06-.94-2.06-.94-.94-2.06-.94 2.06-2.06.94z\"/><path d=\"M17.41 7.96l-1.37-1.37c-.4-.4-.92-.59-1.43-.59-.52 0-1.04.2-1.43.59L10.3 9.45l-7.72 7.72c-.78.78-.78 2.05 0 2.83L4 21.41c.39.39.9.59 1.41.59.51 0 1.02-.2 1.41-.59l7.78-7.78 2.81-2.81c.8-.78.8-2.07 0-2.86zM5.41 20L4 18.59l7.72-7.72 1.47 1.35L5.41 20z\"/>\n",
              "  </svg>\n",
              "      </button>\n",
              "      \n",
              "  <style>\n",
              "    .colab-df-container {\n",
              "      display:flex;\n",
              "      flex-wrap:wrap;\n",
              "      gap: 12px;\n",
              "    }\n",
              "\n",
              "    .colab-df-convert {\n",
              "      background-color: #E8F0FE;\n",
              "      border: none;\n",
              "      border-radius: 50%;\n",
              "      cursor: pointer;\n",
              "      display: none;\n",
              "      fill: #1967D2;\n",
              "      height: 32px;\n",
              "      padding: 0 0 0 0;\n",
              "      width: 32px;\n",
              "    }\n",
              "\n",
              "    .colab-df-convert:hover {\n",
              "      background-color: #E2EBFA;\n",
              "      box-shadow: 0px 1px 2px rgba(60, 64, 67, 0.3), 0px 1px 3px 1px rgba(60, 64, 67, 0.15);\n",
              "      fill: #174EA6;\n",
              "    }\n",
              "\n",
              "    [theme=dark] .colab-df-convert {\n",
              "      background-color: #3B4455;\n",
              "      fill: #D2E3FC;\n",
              "    }\n",
              "\n",
              "    [theme=dark] .colab-df-convert:hover {\n",
              "      background-color: #434B5C;\n",
              "      box-shadow: 0px 1px 3px 1px rgba(0, 0, 0, 0.15);\n",
              "      filter: drop-shadow(0px 1px 2px rgba(0, 0, 0, 0.3));\n",
              "      fill: #FFFFFF;\n",
              "    }\n",
              "  </style>\n",
              "\n",
              "      <script>\n",
              "        const buttonEl =\n",
              "          document.querySelector('#df-f6031318-f5ce-4e00-b281-f215fe2d849d button.colab-df-convert');\n",
              "        buttonEl.style.display =\n",
              "          google.colab.kernel.accessAllowed ? 'block' : 'none';\n",
              "\n",
              "        async function convertToInteractive(key) {\n",
              "          const element = document.querySelector('#df-f6031318-f5ce-4e00-b281-f215fe2d849d');\n",
              "          const dataTable =\n",
              "            await google.colab.kernel.invokeFunction('convertToInteractive',\n",
              "                                                     [key], {});\n",
              "          if (!dataTable) return;\n",
              "\n",
              "          const docLinkHtml = 'Like what you see? Visit the ' +\n",
              "            '<a target=\"_blank\" href=https://colab.research.google.com/notebooks/data_table.ipynb>data table notebook</a>'\n",
              "            + ' to learn more about interactive tables.';\n",
              "          element.innerHTML = '';\n",
              "          dataTable['output_type'] = 'display_data';\n",
              "          await google.colab.output.renderOutput(dataTable, element);\n",
              "          const docLink = document.createElement('div');\n",
              "          docLink.innerHTML = docLinkHtml;\n",
              "          element.appendChild(docLink);\n",
              "        }\n",
              "      </script>\n",
              "    </div>\n",
              "  </div>\n",
              "  "
            ]
          },
          "metadata": {},
          "execution_count": 591
        }
      ]
    },
    {
      "cell_type": "markdown",
      "source": [
        "**Clean data**"
      ],
      "metadata": {
        "id": "7hgGd5Kxwy6m"
      }
    },
    {
      "cell_type": "markdown",
      "source": [
        "Типы данных и неинформативные данные "
      ],
      "metadata": {
        "id": "S69rTthx3p5-"
      }
    },
    {
      "cell_type": "code",
      "source": [
        "# convert numeric columns to float, text column to string instead of object.\n",
        "sal[['BasePay', 'OvertimePay', 'OtherPay', 'Benefits']] = sal[['BasePay', 'OvertimePay', 'OtherPay', 'Benefits']].apply(pd.to_numeric, errors='coerce')\n",
        "sal[['EmployeeName', 'JobTitle']] = sal[['EmployeeName', 'JobTitle']].astype('string', errors='ignore')\n",
        "\n",
        "# convert year column to datetime type\n",
        "sal['Year'] = pd.to_datetime(sal.Year, format='%Y').dt.year\n",
        "\n",
        "# drop ['Notes', 'Status'] columns as there are many missing values and column 'Agency' as it is not informative (contains just one unique value)\n",
        "sal.drop(columns = ['Notes','Status', 'Agency'], inplace=True)"
      ],
      "metadata": {
        "id": "dVXtQIb95B8B"
      },
      "execution_count": 592,
      "outputs": []
    },
    {
      "cell_type": "code",
      "source": [
        "sal.dtypes"
      ],
      "metadata": {
        "id": "cKmnMYfWv28b",
        "colab": {
          "base_uri": "https://localhost:8080/"
        },
        "outputId": "29fc1600-0dfa-45f7-f609-c73a540ddd72"
      },
      "execution_count": 593,
      "outputs": [
        {
          "output_type": "execute_result",
          "data": {
            "text/plain": [
              "Id                    int64\n",
              "EmployeeName         string\n",
              "JobTitle             string\n",
              "BasePay             float64\n",
              "OvertimePay         float64\n",
              "OtherPay            float64\n",
              "Benefits            float64\n",
              "TotalPay            float64\n",
              "TotalPayBenefits    float64\n",
              "Year                  int64\n",
              "dtype: object"
            ]
          },
          "metadata": {},
          "execution_count": 593
        }
      ]
    },
    {
      "cell_type": "code",
      "source": [
        "#check whether there are rows with missing values in 'TotalPay' column (not informative)\n",
        "sal[sal.TotalPay == 0].describe()"
      ],
      "metadata": {
        "colab": {
          "base_uri": "https://localhost:8080/",
          "height": 300
        },
        "id": "KGd8SjuBMKRE",
        "outputId": "d981d0f2-8f07-4f49-d598-d436dbacd5a6"
      },
      "execution_count": 594,
      "outputs": [
        {
          "output_type": "execute_result",
          "data": {
            "text/plain": [
              "                  Id  BasePay  OvertimePay  OtherPay     Benefits  TotalPay  \\\n",
              "count     368.000000     76.0        364.0     364.0   361.000000     368.0   \n",
              "mean   109608.964674      0.0          0.0       0.0  6795.511856       0.0   \n",
              "std     18735.983397      0.0          0.0       0.0  2481.110854       0.0   \n",
              "min     36157.000000      0.0          0.0       0.0   -33.890000       0.0   \n",
              "25%    106758.750000      0.0          0.0       0.0  7959.180000       0.0   \n",
              "50%    106850.500000      0.0          0.0       0.0  7959.180000       0.0   \n",
              "75%    106942.250000      0.0          0.0       0.0  7959.180000       0.0   \n",
              "max    148653.000000      0.0          0.0       0.0  8308.870000       0.0   \n",
              "\n",
              "       TotalPayBenefits         Year  \n",
              "count        368.000000   368.000000  \n",
              "mean        6666.249402  2013.057065  \n",
              "std         2627.268462     0.489123  \n",
              "min          -33.890000  2011.000000  \n",
              "25%         7959.180000  2013.000000  \n",
              "50%         7959.180000  2013.000000  \n",
              "75%         7959.180000  2013.000000  \n",
              "max         8308.870000  2014.000000  "
            ],
            "text/html": [
              "\n",
              "  <div id=\"df-25839e68-b1cd-46f2-bd1c-c2d7a99115d1\">\n",
              "    <div class=\"colab-df-container\">\n",
              "      <div>\n",
              "<style scoped>\n",
              "    .dataframe tbody tr th:only-of-type {\n",
              "        vertical-align: middle;\n",
              "    }\n",
              "\n",
              "    .dataframe tbody tr th {\n",
              "        vertical-align: top;\n",
              "    }\n",
              "\n",
              "    .dataframe thead th {\n",
              "        text-align: right;\n",
              "    }\n",
              "</style>\n",
              "<table border=\"1\" class=\"dataframe\">\n",
              "  <thead>\n",
              "    <tr style=\"text-align: right;\">\n",
              "      <th></th>\n",
              "      <th>Id</th>\n",
              "      <th>BasePay</th>\n",
              "      <th>OvertimePay</th>\n",
              "      <th>OtherPay</th>\n",
              "      <th>Benefits</th>\n",
              "      <th>TotalPay</th>\n",
              "      <th>TotalPayBenefits</th>\n",
              "      <th>Year</th>\n",
              "    </tr>\n",
              "  </thead>\n",
              "  <tbody>\n",
              "    <tr>\n",
              "      <th>count</th>\n",
              "      <td>368.000000</td>\n",
              "      <td>76.0</td>\n",
              "      <td>364.0</td>\n",
              "      <td>364.0</td>\n",
              "      <td>361.000000</td>\n",
              "      <td>368.0</td>\n",
              "      <td>368.000000</td>\n",
              "      <td>368.000000</td>\n",
              "    </tr>\n",
              "    <tr>\n",
              "      <th>mean</th>\n",
              "      <td>109608.964674</td>\n",
              "      <td>0.0</td>\n",
              "      <td>0.0</td>\n",
              "      <td>0.0</td>\n",
              "      <td>6795.511856</td>\n",
              "      <td>0.0</td>\n",
              "      <td>6666.249402</td>\n",
              "      <td>2013.057065</td>\n",
              "    </tr>\n",
              "    <tr>\n",
              "      <th>std</th>\n",
              "      <td>18735.983397</td>\n",
              "      <td>0.0</td>\n",
              "      <td>0.0</td>\n",
              "      <td>0.0</td>\n",
              "      <td>2481.110854</td>\n",
              "      <td>0.0</td>\n",
              "      <td>2627.268462</td>\n",
              "      <td>0.489123</td>\n",
              "    </tr>\n",
              "    <tr>\n",
              "      <th>min</th>\n",
              "      <td>36157.000000</td>\n",
              "      <td>0.0</td>\n",
              "      <td>0.0</td>\n",
              "      <td>0.0</td>\n",
              "      <td>-33.890000</td>\n",
              "      <td>0.0</td>\n",
              "      <td>-33.890000</td>\n",
              "      <td>2011.000000</td>\n",
              "    </tr>\n",
              "    <tr>\n",
              "      <th>25%</th>\n",
              "      <td>106758.750000</td>\n",
              "      <td>0.0</td>\n",
              "      <td>0.0</td>\n",
              "      <td>0.0</td>\n",
              "      <td>7959.180000</td>\n",
              "      <td>0.0</td>\n",
              "      <td>7959.180000</td>\n",
              "      <td>2013.000000</td>\n",
              "    </tr>\n",
              "    <tr>\n",
              "      <th>50%</th>\n",
              "      <td>106850.500000</td>\n",
              "      <td>0.0</td>\n",
              "      <td>0.0</td>\n",
              "      <td>0.0</td>\n",
              "      <td>7959.180000</td>\n",
              "      <td>0.0</td>\n",
              "      <td>7959.180000</td>\n",
              "      <td>2013.000000</td>\n",
              "    </tr>\n",
              "    <tr>\n",
              "      <th>75%</th>\n",
              "      <td>106942.250000</td>\n",
              "      <td>0.0</td>\n",
              "      <td>0.0</td>\n",
              "      <td>0.0</td>\n",
              "      <td>7959.180000</td>\n",
              "      <td>0.0</td>\n",
              "      <td>7959.180000</td>\n",
              "      <td>2013.000000</td>\n",
              "    </tr>\n",
              "    <tr>\n",
              "      <th>max</th>\n",
              "      <td>148653.000000</td>\n",
              "      <td>0.0</td>\n",
              "      <td>0.0</td>\n",
              "      <td>0.0</td>\n",
              "      <td>8308.870000</td>\n",
              "      <td>0.0</td>\n",
              "      <td>8308.870000</td>\n",
              "      <td>2014.000000</td>\n",
              "    </tr>\n",
              "  </tbody>\n",
              "</table>\n",
              "</div>\n",
              "      <button class=\"colab-df-convert\" onclick=\"convertToInteractive('df-25839e68-b1cd-46f2-bd1c-c2d7a99115d1')\"\n",
              "              title=\"Convert this dataframe to an interactive table.\"\n",
              "              style=\"display:none;\">\n",
              "        \n",
              "  <svg xmlns=\"http://www.w3.org/2000/svg\" height=\"24px\"viewBox=\"0 0 24 24\"\n",
              "       width=\"24px\">\n",
              "    <path d=\"M0 0h24v24H0V0z\" fill=\"none\"/>\n",
              "    <path d=\"M18.56 5.44l.94 2.06.94-2.06 2.06-.94-2.06-.94-.94-2.06-.94 2.06-2.06.94zm-11 1L8.5 8.5l.94-2.06 2.06-.94-2.06-.94L8.5 2.5l-.94 2.06-2.06.94zm10 10l.94 2.06.94-2.06 2.06-.94-2.06-.94-.94-2.06-.94 2.06-2.06.94z\"/><path d=\"M17.41 7.96l-1.37-1.37c-.4-.4-.92-.59-1.43-.59-.52 0-1.04.2-1.43.59L10.3 9.45l-7.72 7.72c-.78.78-.78 2.05 0 2.83L4 21.41c.39.39.9.59 1.41.59.51 0 1.02-.2 1.41-.59l7.78-7.78 2.81-2.81c.8-.78.8-2.07 0-2.86zM5.41 20L4 18.59l7.72-7.72 1.47 1.35L5.41 20z\"/>\n",
              "  </svg>\n",
              "      </button>\n",
              "      \n",
              "  <style>\n",
              "    .colab-df-container {\n",
              "      display:flex;\n",
              "      flex-wrap:wrap;\n",
              "      gap: 12px;\n",
              "    }\n",
              "\n",
              "    .colab-df-convert {\n",
              "      background-color: #E8F0FE;\n",
              "      border: none;\n",
              "      border-radius: 50%;\n",
              "      cursor: pointer;\n",
              "      display: none;\n",
              "      fill: #1967D2;\n",
              "      height: 32px;\n",
              "      padding: 0 0 0 0;\n",
              "      width: 32px;\n",
              "    }\n",
              "\n",
              "    .colab-df-convert:hover {\n",
              "      background-color: #E2EBFA;\n",
              "      box-shadow: 0px 1px 2px rgba(60, 64, 67, 0.3), 0px 1px 3px 1px rgba(60, 64, 67, 0.15);\n",
              "      fill: #174EA6;\n",
              "    }\n",
              "\n",
              "    [theme=dark] .colab-df-convert {\n",
              "      background-color: #3B4455;\n",
              "      fill: #D2E3FC;\n",
              "    }\n",
              "\n",
              "    [theme=dark] .colab-df-convert:hover {\n",
              "      background-color: #434B5C;\n",
              "      box-shadow: 0px 1px 3px 1px rgba(0, 0, 0, 0.15);\n",
              "      filter: drop-shadow(0px 1px 2px rgba(0, 0, 0, 0.3));\n",
              "      fill: #FFFFFF;\n",
              "    }\n",
              "  </style>\n",
              "\n",
              "      <script>\n",
              "        const buttonEl =\n",
              "          document.querySelector('#df-25839e68-b1cd-46f2-bd1c-c2d7a99115d1 button.colab-df-convert');\n",
              "        buttonEl.style.display =\n",
              "          google.colab.kernel.accessAllowed ? 'block' : 'none';\n",
              "\n",
              "        async function convertToInteractive(key) {\n",
              "          const element = document.querySelector('#df-25839e68-b1cd-46f2-bd1c-c2d7a99115d1');\n",
              "          const dataTable =\n",
              "            await google.colab.kernel.invokeFunction('convertToInteractive',\n",
              "                                                     [key], {});\n",
              "          if (!dataTable) return;\n",
              "\n",
              "          const docLinkHtml = 'Like what you see? Visit the ' +\n",
              "            '<a target=\"_blank\" href=https://colab.research.google.com/notebooks/data_table.ipynb>data table notebook</a>'\n",
              "            + ' to learn more about interactive tables.';\n",
              "          element.innerHTML = '';\n",
              "          dataTable['output_type'] = 'display_data';\n",
              "          await google.colab.output.renderOutput(dataTable, element);\n",
              "          const docLink = document.createElement('div');\n",
              "          docLink.innerHTML = docLinkHtml;\n",
              "          element.appendChild(docLink);\n",
              "        }\n",
              "      </script>\n",
              "    </div>\n",
              "  </div>\n",
              "  "
            ]
          },
          "metadata": {},
          "execution_count": 594
        }
      ]
    },
    {
      "cell_type": "code",
      "source": [
        "#save part of the dataset with non-zero 'TotalPayBenefits' and  zero 'TotalPay' for potential separate analysis \n",
        "benefits_only = sal[(sal.TotalPay == 0) & (sal.TotalPayBenefits != 0)]\n",
        "print(f\"There are {len(benefits_only)} rows with non-zero 'TotalPayBenefits' and  zero 'TotalPay'\")\n",
        "benefits_only.head()"
      ],
      "metadata": {
        "colab": {
          "base_uri": "https://localhost:8080/",
          "height": 223
        },
        "id": "rs2rZsVBLTeZ",
        "outputId": "ead6cc5e-1254-4b26-bcd9-c77b569321b4"
      },
      "execution_count": 595,
      "outputs": [
        {
          "output_type": "stream",
          "name": "stdout",
          "text": [
            "There are 338 rows with non-zero 'TotalPayBenefits' and  zero 'TotalPay'\n"
          ]
        },
        {
          "output_type": "execute_result",
          "data": {
            "text/plain": [
              "          Id      EmployeeName                   JobTitle  BasePay  \\\n",
              "70877  70878     Roland Baylon      Deputy Court Clerk II      0.0   \n",
              "70927  70928  Felecia Phillips           Registered Nurse      0.0   \n",
              "70928  70929   Robert Giannini                    Painter      0.0   \n",
              "70932  70933        Nelly Kuan  Senior Eligibility Worker      0.0   \n",
              "70933  70934   William Mathews  Transit Power Line Worker      0.0   \n",
              "\n",
              "       OvertimePay  OtherPay  Benefits  TotalPay  TotalPayBenefits  Year  \n",
              "70877          0.0       0.0   3728.05       0.0           3728.05  2012  \n",
              "70927          0.0       0.0   3618.13       0.0           3618.13  2012  \n",
              "70928          0.0       0.0   3614.56       0.0           3614.56  2012  \n",
              "70932          0.0       0.0   3610.32       0.0           3610.32  2012  \n",
              "70933          0.0       0.0   3608.42       0.0           3608.42  2012  "
            ],
            "text/html": [
              "\n",
              "  <div id=\"df-196c414c-5db9-47d3-806a-499b4df1919e\">\n",
              "    <div class=\"colab-df-container\">\n",
              "      <div>\n",
              "<style scoped>\n",
              "    .dataframe tbody tr th:only-of-type {\n",
              "        vertical-align: middle;\n",
              "    }\n",
              "\n",
              "    .dataframe tbody tr th {\n",
              "        vertical-align: top;\n",
              "    }\n",
              "\n",
              "    .dataframe thead th {\n",
              "        text-align: right;\n",
              "    }\n",
              "</style>\n",
              "<table border=\"1\" class=\"dataframe\">\n",
              "  <thead>\n",
              "    <tr style=\"text-align: right;\">\n",
              "      <th></th>\n",
              "      <th>Id</th>\n",
              "      <th>EmployeeName</th>\n",
              "      <th>JobTitle</th>\n",
              "      <th>BasePay</th>\n",
              "      <th>OvertimePay</th>\n",
              "      <th>OtherPay</th>\n",
              "      <th>Benefits</th>\n",
              "      <th>TotalPay</th>\n",
              "      <th>TotalPayBenefits</th>\n",
              "      <th>Year</th>\n",
              "    </tr>\n",
              "  </thead>\n",
              "  <tbody>\n",
              "    <tr>\n",
              "      <th>70877</th>\n",
              "      <td>70878</td>\n",
              "      <td>Roland Baylon</td>\n",
              "      <td>Deputy Court Clerk II</td>\n",
              "      <td>0.0</td>\n",
              "      <td>0.0</td>\n",
              "      <td>0.0</td>\n",
              "      <td>3728.05</td>\n",
              "      <td>0.0</td>\n",
              "      <td>3728.05</td>\n",
              "      <td>2012</td>\n",
              "    </tr>\n",
              "    <tr>\n",
              "      <th>70927</th>\n",
              "      <td>70928</td>\n",
              "      <td>Felecia Phillips</td>\n",
              "      <td>Registered Nurse</td>\n",
              "      <td>0.0</td>\n",
              "      <td>0.0</td>\n",
              "      <td>0.0</td>\n",
              "      <td>3618.13</td>\n",
              "      <td>0.0</td>\n",
              "      <td>3618.13</td>\n",
              "      <td>2012</td>\n",
              "    </tr>\n",
              "    <tr>\n",
              "      <th>70928</th>\n",
              "      <td>70929</td>\n",
              "      <td>Robert Giannini</td>\n",
              "      <td>Painter</td>\n",
              "      <td>0.0</td>\n",
              "      <td>0.0</td>\n",
              "      <td>0.0</td>\n",
              "      <td>3614.56</td>\n",
              "      <td>0.0</td>\n",
              "      <td>3614.56</td>\n",
              "      <td>2012</td>\n",
              "    </tr>\n",
              "    <tr>\n",
              "      <th>70932</th>\n",
              "      <td>70933</td>\n",
              "      <td>Nelly Kuan</td>\n",
              "      <td>Senior Eligibility Worker</td>\n",
              "      <td>0.0</td>\n",
              "      <td>0.0</td>\n",
              "      <td>0.0</td>\n",
              "      <td>3610.32</td>\n",
              "      <td>0.0</td>\n",
              "      <td>3610.32</td>\n",
              "      <td>2012</td>\n",
              "    </tr>\n",
              "    <tr>\n",
              "      <th>70933</th>\n",
              "      <td>70934</td>\n",
              "      <td>William Mathews</td>\n",
              "      <td>Transit Power Line Worker</td>\n",
              "      <td>0.0</td>\n",
              "      <td>0.0</td>\n",
              "      <td>0.0</td>\n",
              "      <td>3608.42</td>\n",
              "      <td>0.0</td>\n",
              "      <td>3608.42</td>\n",
              "      <td>2012</td>\n",
              "    </tr>\n",
              "  </tbody>\n",
              "</table>\n",
              "</div>\n",
              "      <button class=\"colab-df-convert\" onclick=\"convertToInteractive('df-196c414c-5db9-47d3-806a-499b4df1919e')\"\n",
              "              title=\"Convert this dataframe to an interactive table.\"\n",
              "              style=\"display:none;\">\n",
              "        \n",
              "  <svg xmlns=\"http://www.w3.org/2000/svg\" height=\"24px\"viewBox=\"0 0 24 24\"\n",
              "       width=\"24px\">\n",
              "    <path d=\"M0 0h24v24H0V0z\" fill=\"none\"/>\n",
              "    <path d=\"M18.56 5.44l.94 2.06.94-2.06 2.06-.94-2.06-.94-.94-2.06-.94 2.06-2.06.94zm-11 1L8.5 8.5l.94-2.06 2.06-.94-2.06-.94L8.5 2.5l-.94 2.06-2.06.94zm10 10l.94 2.06.94-2.06 2.06-.94-2.06-.94-.94-2.06-.94 2.06-2.06.94z\"/><path d=\"M17.41 7.96l-1.37-1.37c-.4-.4-.92-.59-1.43-.59-.52 0-1.04.2-1.43.59L10.3 9.45l-7.72 7.72c-.78.78-.78 2.05 0 2.83L4 21.41c.39.39.9.59 1.41.59.51 0 1.02-.2 1.41-.59l7.78-7.78 2.81-2.81c.8-.78.8-2.07 0-2.86zM5.41 20L4 18.59l7.72-7.72 1.47 1.35L5.41 20z\"/>\n",
              "  </svg>\n",
              "      </button>\n",
              "      \n",
              "  <style>\n",
              "    .colab-df-container {\n",
              "      display:flex;\n",
              "      flex-wrap:wrap;\n",
              "      gap: 12px;\n",
              "    }\n",
              "\n",
              "    .colab-df-convert {\n",
              "      background-color: #E8F0FE;\n",
              "      border: none;\n",
              "      border-radius: 50%;\n",
              "      cursor: pointer;\n",
              "      display: none;\n",
              "      fill: #1967D2;\n",
              "      height: 32px;\n",
              "      padding: 0 0 0 0;\n",
              "      width: 32px;\n",
              "    }\n",
              "\n",
              "    .colab-df-convert:hover {\n",
              "      background-color: #E2EBFA;\n",
              "      box-shadow: 0px 1px 2px rgba(60, 64, 67, 0.3), 0px 1px 3px 1px rgba(60, 64, 67, 0.15);\n",
              "      fill: #174EA6;\n",
              "    }\n",
              "\n",
              "    [theme=dark] .colab-df-convert {\n",
              "      background-color: #3B4455;\n",
              "      fill: #D2E3FC;\n",
              "    }\n",
              "\n",
              "    [theme=dark] .colab-df-convert:hover {\n",
              "      background-color: #434B5C;\n",
              "      box-shadow: 0px 1px 3px 1px rgba(0, 0, 0, 0.15);\n",
              "      filter: drop-shadow(0px 1px 2px rgba(0, 0, 0, 0.3));\n",
              "      fill: #FFFFFF;\n",
              "    }\n",
              "  </style>\n",
              "\n",
              "      <script>\n",
              "        const buttonEl =\n",
              "          document.querySelector('#df-196c414c-5db9-47d3-806a-499b4df1919e button.colab-df-convert');\n",
              "        buttonEl.style.display =\n",
              "          google.colab.kernel.accessAllowed ? 'block' : 'none';\n",
              "\n",
              "        async function convertToInteractive(key) {\n",
              "          const element = document.querySelector('#df-196c414c-5db9-47d3-806a-499b4df1919e');\n",
              "          const dataTable =\n",
              "            await google.colab.kernel.invokeFunction('convertToInteractive',\n",
              "                                                     [key], {});\n",
              "          if (!dataTable) return;\n",
              "\n",
              "          const docLinkHtml = 'Like what you see? Visit the ' +\n",
              "            '<a target=\"_blank\" href=https://colab.research.google.com/notebooks/data_table.ipynb>data table notebook</a>'\n",
              "            + ' to learn more about interactive tables.';\n",
              "          element.innerHTML = '';\n",
              "          dataTable['output_type'] = 'display_data';\n",
              "          await google.colab.output.renderOutput(dataTable, element);\n",
              "          const docLink = document.createElement('div');\n",
              "          docLink.innerHTML = docLinkHtml;\n",
              "          element.appendChild(docLink);\n",
              "        }\n",
              "      </script>\n",
              "    </div>\n",
              "  </div>\n",
              "  "
            ]
          },
          "metadata": {},
          "execution_count": 595
        }
      ]
    },
    {
      "cell_type": "code",
      "source": [
        "#remove rows with zero 'TotalPay' values from main dataframe\n",
        "sal.drop(sal[sal.TotalPay == 0].index, inplace = True)"
      ],
      "metadata": {
        "id": "xoN_J121L85F"
      },
      "execution_count": 596,
      "outputs": []
    },
    {
      "cell_type": "markdown",
      "source": [
        "Пропущенные значения"
      ],
      "metadata": {
        "id": "0mcEvlAC-IJ9"
      }
    },
    {
      "cell_type": "code",
      "source": [
        "print(f\"sal.BasePay null values: {sal.BasePay.isnull().sum()}\\nsal.OvertimePay null values: {sal.OvertimePay.isnull().sum()}\\n \\\n",
        "sal.OtherPay null values: {sal.OtherPay.isnull().sum()}\\nsal.Benefits null values: {sal.Benefits.isnull().sum()}\\nsal.TotalPayBenefits null values: {sal.TotalPayBenefits.isnull().sum()}\")"
      ],
      "metadata": {
        "colab": {
          "base_uri": "https://localhost:8080/"
        },
        "id": "XOJ1t6bNTv4s",
        "outputId": "8d1ac520-8484-445c-a9e2-44772b7804a9"
      },
      "execution_count": 597,
      "outputs": [
        {
          "output_type": "stream",
          "name": "stdout",
          "text": [
            "sal.BasePay null values: 317\n",
            "sal.OvertimePay null values: 0\n",
            " sal.OtherPay null values: 0\n",
            "sal.Benefits null values: 36156\n",
            "sal.TotalPayBenefits null values: 0\n"
          ]
        }
      ]
    },
    {
      "cell_type": "code",
      "source": [
        "#fill missing \"BasePay\" values \n",
        "sal.loc[sal.BasePay.isnull(),\"BasePay\"] = sal.loc[sal.BasePay.isnull(), \"TotalPay\"] - sal.loc[sal.BasePay.isnull(),\"OvertimePay\"] - sal.loc[sal.BasePay.isnull(), \"OtherPay\"]\n",
        "#fill missing \"Benefits\" values \n",
        "sal.loc[sal.Benefits.isnull(),\"Benefits\"] = sal.loc[sal.Benefits.isnull(), \"TotalPayBenefits\"] - sal.loc[sal.Benefits.isnull(),\"TotalPay\"]"
      ],
      "metadata": {
        "id": "BbOIClT5JajM"
      },
      "execution_count": 598,
      "outputs": []
    },
    {
      "cell_type": "code",
      "source": [
        "sal.describe()"
      ],
      "metadata": {
        "colab": {
          "base_uri": "https://localhost:8080/",
          "height": 300
        },
        "id": "Fvc-ol_Y67T1",
        "outputId": "9a712992-221e-4e4e-9c29-dab9443a3670"
      },
      "execution_count": 599,
      "outputs": [
        {
          "output_type": "execute_result",
          "data": {
            "text/plain": [
              "                  Id        BasePay    OvertimePay       OtherPay  \\\n",
              "count  148286.000000  148286.000000  148286.000000  148286.000000   \n",
              "mean    74239.942314   66217.654219    5078.495624    3657.723984   \n",
              "std     42919.899896   42813.312492   11465.676891    8064.453244   \n",
              "min         1.000000    -166.010000      -0.010000   -7058.590000   \n",
              "25%     37075.250000   33272.910000       0.000000       0.000000   \n",
              "50%     74171.500000   64957.515000       0.000000     819.535000   \n",
              "75%    111530.750000   94691.010000    4680.157500    4254.895000   \n",
              "max    148654.000000  319275.010000  245131.880000  400184.250000   \n",
              "\n",
              "            Benefits       TotalPay  TotalPayBenefits           Year  \n",
              "count  148286.000000  148286.000000     148286.000000  148286.000000  \n",
              "mean    18954.653363   74953.873827      93908.527191    2012.521317  \n",
              "std     17175.189711   50441.977909      62721.241666       1.118341  \n",
              "min       -13.800000    -618.130000       -618.130000    2011.000000  \n",
              "25%         0.000000   36679.020000      44691.035000    2012.000000  \n",
              "50%     23373.810000   71553.000000      92571.480000    2013.000000  \n",
              "75%     33492.905000  105967.057500     133004.167500    2014.000000  \n",
              "max     96570.660000  567595.430000     567595.430000    2014.000000  "
            ],
            "text/html": [
              "\n",
              "  <div id=\"df-8cbb2702-49d5-4933-8dfa-979fc00e682d\">\n",
              "    <div class=\"colab-df-container\">\n",
              "      <div>\n",
              "<style scoped>\n",
              "    .dataframe tbody tr th:only-of-type {\n",
              "        vertical-align: middle;\n",
              "    }\n",
              "\n",
              "    .dataframe tbody tr th {\n",
              "        vertical-align: top;\n",
              "    }\n",
              "\n",
              "    .dataframe thead th {\n",
              "        text-align: right;\n",
              "    }\n",
              "</style>\n",
              "<table border=\"1\" class=\"dataframe\">\n",
              "  <thead>\n",
              "    <tr style=\"text-align: right;\">\n",
              "      <th></th>\n",
              "      <th>Id</th>\n",
              "      <th>BasePay</th>\n",
              "      <th>OvertimePay</th>\n",
              "      <th>OtherPay</th>\n",
              "      <th>Benefits</th>\n",
              "      <th>TotalPay</th>\n",
              "      <th>TotalPayBenefits</th>\n",
              "      <th>Year</th>\n",
              "    </tr>\n",
              "  </thead>\n",
              "  <tbody>\n",
              "    <tr>\n",
              "      <th>count</th>\n",
              "      <td>148286.000000</td>\n",
              "      <td>148286.000000</td>\n",
              "      <td>148286.000000</td>\n",
              "      <td>148286.000000</td>\n",
              "      <td>148286.000000</td>\n",
              "      <td>148286.000000</td>\n",
              "      <td>148286.000000</td>\n",
              "      <td>148286.000000</td>\n",
              "    </tr>\n",
              "    <tr>\n",
              "      <th>mean</th>\n",
              "      <td>74239.942314</td>\n",
              "      <td>66217.654219</td>\n",
              "      <td>5078.495624</td>\n",
              "      <td>3657.723984</td>\n",
              "      <td>18954.653363</td>\n",
              "      <td>74953.873827</td>\n",
              "      <td>93908.527191</td>\n",
              "      <td>2012.521317</td>\n",
              "    </tr>\n",
              "    <tr>\n",
              "      <th>std</th>\n",
              "      <td>42919.899896</td>\n",
              "      <td>42813.312492</td>\n",
              "      <td>11465.676891</td>\n",
              "      <td>8064.453244</td>\n",
              "      <td>17175.189711</td>\n",
              "      <td>50441.977909</td>\n",
              "      <td>62721.241666</td>\n",
              "      <td>1.118341</td>\n",
              "    </tr>\n",
              "    <tr>\n",
              "      <th>min</th>\n",
              "      <td>1.000000</td>\n",
              "      <td>-166.010000</td>\n",
              "      <td>-0.010000</td>\n",
              "      <td>-7058.590000</td>\n",
              "      <td>-13.800000</td>\n",
              "      <td>-618.130000</td>\n",
              "      <td>-618.130000</td>\n",
              "      <td>2011.000000</td>\n",
              "    </tr>\n",
              "    <tr>\n",
              "      <th>25%</th>\n",
              "      <td>37075.250000</td>\n",
              "      <td>33272.910000</td>\n",
              "      <td>0.000000</td>\n",
              "      <td>0.000000</td>\n",
              "      <td>0.000000</td>\n",
              "      <td>36679.020000</td>\n",
              "      <td>44691.035000</td>\n",
              "      <td>2012.000000</td>\n",
              "    </tr>\n",
              "    <tr>\n",
              "      <th>50%</th>\n",
              "      <td>74171.500000</td>\n",
              "      <td>64957.515000</td>\n",
              "      <td>0.000000</td>\n",
              "      <td>819.535000</td>\n",
              "      <td>23373.810000</td>\n",
              "      <td>71553.000000</td>\n",
              "      <td>92571.480000</td>\n",
              "      <td>2013.000000</td>\n",
              "    </tr>\n",
              "    <tr>\n",
              "      <th>75%</th>\n",
              "      <td>111530.750000</td>\n",
              "      <td>94691.010000</td>\n",
              "      <td>4680.157500</td>\n",
              "      <td>4254.895000</td>\n",
              "      <td>33492.905000</td>\n",
              "      <td>105967.057500</td>\n",
              "      <td>133004.167500</td>\n",
              "      <td>2014.000000</td>\n",
              "    </tr>\n",
              "    <tr>\n",
              "      <th>max</th>\n",
              "      <td>148654.000000</td>\n",
              "      <td>319275.010000</td>\n",
              "      <td>245131.880000</td>\n",
              "      <td>400184.250000</td>\n",
              "      <td>96570.660000</td>\n",
              "      <td>567595.430000</td>\n",
              "      <td>567595.430000</td>\n",
              "      <td>2014.000000</td>\n",
              "    </tr>\n",
              "  </tbody>\n",
              "</table>\n",
              "</div>\n",
              "      <button class=\"colab-df-convert\" onclick=\"convertToInteractive('df-8cbb2702-49d5-4933-8dfa-979fc00e682d')\"\n",
              "              title=\"Convert this dataframe to an interactive table.\"\n",
              "              style=\"display:none;\">\n",
              "        \n",
              "  <svg xmlns=\"http://www.w3.org/2000/svg\" height=\"24px\"viewBox=\"0 0 24 24\"\n",
              "       width=\"24px\">\n",
              "    <path d=\"M0 0h24v24H0V0z\" fill=\"none\"/>\n",
              "    <path d=\"M18.56 5.44l.94 2.06.94-2.06 2.06-.94-2.06-.94-.94-2.06-.94 2.06-2.06.94zm-11 1L8.5 8.5l.94-2.06 2.06-.94-2.06-.94L8.5 2.5l-.94 2.06-2.06.94zm10 10l.94 2.06.94-2.06 2.06-.94-2.06-.94-.94-2.06-.94 2.06-2.06.94z\"/><path d=\"M17.41 7.96l-1.37-1.37c-.4-.4-.92-.59-1.43-.59-.52 0-1.04.2-1.43.59L10.3 9.45l-7.72 7.72c-.78.78-.78 2.05 0 2.83L4 21.41c.39.39.9.59 1.41.59.51 0 1.02-.2 1.41-.59l7.78-7.78 2.81-2.81c.8-.78.8-2.07 0-2.86zM5.41 20L4 18.59l7.72-7.72 1.47 1.35L5.41 20z\"/>\n",
              "  </svg>\n",
              "      </button>\n",
              "      \n",
              "  <style>\n",
              "    .colab-df-container {\n",
              "      display:flex;\n",
              "      flex-wrap:wrap;\n",
              "      gap: 12px;\n",
              "    }\n",
              "\n",
              "    .colab-df-convert {\n",
              "      background-color: #E8F0FE;\n",
              "      border: none;\n",
              "      border-radius: 50%;\n",
              "      cursor: pointer;\n",
              "      display: none;\n",
              "      fill: #1967D2;\n",
              "      height: 32px;\n",
              "      padding: 0 0 0 0;\n",
              "      width: 32px;\n",
              "    }\n",
              "\n",
              "    .colab-df-convert:hover {\n",
              "      background-color: #E2EBFA;\n",
              "      box-shadow: 0px 1px 2px rgba(60, 64, 67, 0.3), 0px 1px 3px 1px rgba(60, 64, 67, 0.15);\n",
              "      fill: #174EA6;\n",
              "    }\n",
              "\n",
              "    [theme=dark] .colab-df-convert {\n",
              "      background-color: #3B4455;\n",
              "      fill: #D2E3FC;\n",
              "    }\n",
              "\n",
              "    [theme=dark] .colab-df-convert:hover {\n",
              "      background-color: #434B5C;\n",
              "      box-shadow: 0px 1px 3px 1px rgba(0, 0, 0, 0.15);\n",
              "      filter: drop-shadow(0px 1px 2px rgba(0, 0, 0, 0.3));\n",
              "      fill: #FFFFFF;\n",
              "    }\n",
              "  </style>\n",
              "\n",
              "      <script>\n",
              "        const buttonEl =\n",
              "          document.querySelector('#df-8cbb2702-49d5-4933-8dfa-979fc00e682d button.colab-df-convert');\n",
              "        buttonEl.style.display =\n",
              "          google.colab.kernel.accessAllowed ? 'block' : 'none';\n",
              "\n",
              "        async function convertToInteractive(key) {\n",
              "          const element = document.querySelector('#df-8cbb2702-49d5-4933-8dfa-979fc00e682d');\n",
              "          const dataTable =\n",
              "            await google.colab.kernel.invokeFunction('convertToInteractive',\n",
              "                                                     [key], {});\n",
              "          if (!dataTable) return;\n",
              "\n",
              "          const docLinkHtml = 'Like what you see? Visit the ' +\n",
              "            '<a target=\"_blank\" href=https://colab.research.google.com/notebooks/data_table.ipynb>data table notebook</a>'\n",
              "            + ' to learn more about interactive tables.';\n",
              "          element.innerHTML = '';\n",
              "          dataTable['output_type'] = 'display_data';\n",
              "          await google.colab.output.renderOutput(dataTable, element);\n",
              "          const docLink = document.createElement('div');\n",
              "          docLink.innerHTML = docLinkHtml;\n",
              "          element.appendChild(docLink);\n",
              "        }\n",
              "      </script>\n",
              "    </div>\n",
              "  </div>\n",
              "  "
            ]
          },
          "metadata": {},
          "execution_count": 599
        }
      ]
    },
    {
      "cell_type": "code",
      "source": [
        "print(f\"NaN values in modified dataset:\\n{sal.isnull().sum()}\")"
      ],
      "metadata": {
        "colab": {
          "base_uri": "https://localhost:8080/"
        },
        "id": "E8dNGUAZYENt",
        "outputId": "a587c866-5db8-4ab1-d517-7d33cc1d25c3"
      },
      "execution_count": 600,
      "outputs": [
        {
          "output_type": "stream",
          "name": "stdout",
          "text": [
            "NaN values in modified dataset:\n",
            "Id                  0\n",
            "EmployeeName        0\n",
            "JobTitle            0\n",
            "BasePay             0\n",
            "OvertimePay         0\n",
            "OtherPay            0\n",
            "Benefits            0\n",
            "TotalPay            0\n",
            "TotalPayBenefits    0\n",
            "Year                0\n",
            "dtype: int64\n"
          ]
        }
      ]
    },
    {
      "cell_type": "markdown",
      "source": [
        "Дубликаты"
      ],
      "metadata": {
        "id": "fsqZ-6ogadq_"
      }
    },
    {
      "cell_type": "code",
      "source": [
        "print(f\"There are {sal.duplicated().sum()} duplicated values in the dataset\")"
      ],
      "metadata": {
        "colab": {
          "base_uri": "https://localhost:8080/"
        },
        "id": "YNb-Pn74Zp5Y",
        "outputId": "441cef47-8e58-47e4-8db0-c209360044b8"
      },
      "execution_count": 601,
      "outputs": [
        {
          "output_type": "stream",
          "name": "stdout",
          "text": [
            "There are 0 duplicated values in the dataset\n"
          ]
        }
      ]
    },
    {
      "cell_type": "markdown",
      "source": [
        "**Data Analysis**"
      ],
      "metadata": {
        "id": "c9XcJ_-SFWAU"
      }
    },
    {
      "cell_type": "markdown",
      "source": [
        "Выбросы"
      ],
      "metadata": {
        "id": "rH4yFAzvcTLD"
      }
    },
    {
      "cell_type": "code",
      "source": [
        "fig, axes = plt.subplots(1, 5, figsize=(32, 9))\n",
        "\n",
        "sns.boxplot(data = sal['TotalPay'], ax=axes[0]).set(xlabel='TotalPay')\n",
        "sns.boxplot(data = sal['BasePay'], ax=axes[1]).set(xlabel='BasePay')\n",
        "sns.boxplot(data = sal['OvertimePay'], ax=axes[2]).set(xlabel='OvertimePay')\n",
        "sns.boxplot(data = sal['OtherPay'], ax=axes[3]).set(xlabel='OtherPay')\n",
        "sns.boxplot(data = sal['Benefits'], ax=axes[4]).set(xlabel='Benefits')\n",
        "plt.show()"
      ],
      "metadata": {
        "colab": {
          "base_uri": "https://localhost:8080/",
          "height": 427
        },
        "id": "XH13BdRhcSGT",
        "outputId": "d8c723db-1752-4376-daa3-4793dc7bfcd9"
      },
      "execution_count": 602,
      "outputs": [
        {
          "output_type": "display_data",
          "data": {
            "text/plain": [
              "<Figure size 2304x648 with 5 Axes>"
            ],
            "image/png": "[encoded data removed]"
          },
          "metadata": {
            "needs_background": "light"
          }
        }
      ]
    },
    {
      "cell_type": "code",
      "source": [
        "# outliers are values greater than (Q3+1.5*IQR)\n",
        "Q1 = np.percentile(sal['TotalPay'], 25, interpolation = 'midpoint')\n",
        "Q3 = np.percentile(sal['TotalPay'], 75, interpolation = 'midpoint')\n",
        "IQR = Q3 - Q1"
      ],
      "metadata": {
        "id": "OYyMScV4gUq0"
      },
      "execution_count": 603,
      "outputs": []
    },
    {
      "cell_type": "code",
      "source": [
        "# Upper bound\n",
        "upper = np.where(sal['TotalPay'] >= (Q3+1.5*IQR))\n",
        "# lower bound\n",
        "lower = np.where(sal['TotalPay'] <= (Q1-1.5*IQR))"
      ],
      "metadata": {
        "id": "cITtnnhxghhS"
      },
      "execution_count": 604,
      "outputs": []
    },
    {
      "cell_type": "code",
      "source": [
        "print (f\"В датасете всего {sal.iloc[upper].Id.count() + sal.iloc[lower].Id.count()} выбросов. Оставим пока как есть и попробуем проанализировать выбросы в разрезе по профессиям\")"
      ],
      "metadata": {
        "colab": {
          "base_uri": "https://localhost:8080/"
        },
        "id": "dPxkw0TF-Cg7",
        "outputId": "8f4b6411-b649-4aff-ed3a-041f01a816af"
      },
      "execution_count": 605,
      "outputs": [
        {
          "output_type": "stream",
          "name": "stdout",
          "text": [
            "В датасете всего 1304 выбросов. Оставим пока как есть и попробуем проанализировать выбросы в разрезе по профессиям\n"
          ]
        }
      ]
    },
    {
      "cell_type": "code",
      "source": [
        "# idx1 = (sal.iloc[upper]).index\n",
        "# idx2 = sal[sal.Profession == \"TBD\"].index\n",
        "# idx = idx2.intersection(idx1).values\n",
        "# sal[\"Profession\"].loc[idx1].value_counts()"
      ],
      "metadata": {
        "id": "Bj5ZZ91Dcepr"
      },
      "execution_count": 606,
      "outputs": []
    },
    {
      "cell_type": "markdown",
      "source": [
        "Добавим поле 'Profession', значения в котором будут определяться на основании  'JobTitle'"
      ],
      "metadata": {
        "id": "euGYnvFnOx5w"
      }
    },
    {
      "cell_type": "code",
      "source": [
        "sal.JobTitle = sal.JobTitle.str.lower()"
      ],
      "metadata": {
        "id": "B8VFIEUhyfQY"
      },
      "execution_count": 607,
      "outputs": []
    },
    {
      "cell_type": "code",
      "source": [
        "sal[\"Profession\"] = \"TBD\""
      ],
      "metadata": {
        "id": "kNtfcFKX5g5x"
      },
      "execution_count": 608,
      "outputs": []
    },
    {
      "cell_type": "code",
      "source": [
        "print(f\"Всего в датасете {sal['JobTitle'].nunique()} уникальных Job Titles.\\n30 наиболее частых:\")\n",
        "sal['JobTitle'].value_counts().head(25)"
      ],
      "metadata": {
        "colab": {
          "base_uri": "https://localhost:8080/"
        },
        "id": "WI2-YlgzEqFG",
        "outputId": "71a9c86d-b365-4122-92a1-140848800d6e"
      },
      "execution_count": 609,
      "outputs": [
        {
          "output_type": "stream",
          "name": "stdout",
          "text": [
            "Всего в датасете 1633 уникальных Job Titles.\n",
            "30 наиболее частых:\n"
          ]
        },
        {
          "output_type": "execute_result",
          "data": {
            "text/plain": [
              "transit operator                9381\n",
              "special nurse                   5788\n",
              "registered nurse                4953\n",
              "custodian                       3208\n",
              "firefighter                     3147\n",
              "recreation leader               2660\n",
              "deputy sheriff                  2608\n",
              "public svc aide-public works    2516\n",
              "police officer 3                2417\n",
              "patient care assistant          1944\n",
              "public service trainee          1655\n",
              "attorney (civil/criminal)       1502\n",
              "police officer                  1472\n",
              "porter                          1464\n",
              "general laborer                 1399\n",
              "gardener                        1183\n",
              "police officer 2                1141\n",
              "parking control officer         1132\n",
              "library page                    1107\n",
              "senior clerk                    1063\n",
              "senior clerk typist             1049\n",
              "sergeant 3                      1047\n",
              "clerk                            980\n",
              "eligibility worker               980\n",
              "emt/paramedic/firefighter        917\n",
              "Name: JobTitle, dtype: Int64"
            ]
          },
          "metadata": {},
          "execution_count": 609
        }
      ]
    },
    {
      "cell_type": "markdown",
      "source": [
        "Сделаем разметку Job Title -> Profession для наиболее распространенных job titles из списка выше  "
      ],
      "metadata": {
        "id": "UiKE8h2ueBlz"
      }
    },
    {
      "cell_type": "code",
      "source": [
        "profession_dict = {\"police\":\"police\", \"fire\" : \"fire\", \"medical\": \"medicine\", \"transit\": \"transportation\", \"nurs\":\"medicine\", \"patient care assistant\": \"medicine\", \n",
        "                   \"custodian\": \"custodian\", \"attorney\": \"attorney\", \"sheriff\": \"sheriff\", \"clerk\": \"clerk\", \"public svc\" :\"public service jobs\", \n",
        "                   \"public service\":\"public service jobs\", \"sergeant\": \"police\", \"recreation\": \"recreation\", \"general laborer\":\"general laborer\",\"librar\":\"library\", \"porter\":\"porter\", \"gardener\":\"gardener\"} "
      ],
      "metadata": {
        "id": "rejYSxBeTLIv"
      },
      "execution_count": 610,
      "outputs": []
    },
    {
      "cell_type": "code",
      "source": [
        "def def_prof(): \n",
        "  \"\"\"function which fills in column 'Profession' in the dataset\"\"\"\n",
        "  for k,v in profession_dict.items():\n",
        "      sal.loc[sal['JobTitle'].str.contains(k), \"Profession\"] = v"
      ],
      "metadata": {
        "id": "o_Q0CArPU8Ha"
      },
      "execution_count": 611,
      "outputs": []
    },
    {
      "cell_type": "code",
      "source": [
        "def_prof()"
      ],
      "metadata": {
        "id": "hBGgb3OFg7ik"
      },
      "execution_count": 612,
      "outputs": []
    },
    {
      "cell_type": "markdown",
      "source": [
        "Проверим, какие Job Title осталичь неразмеченными"
      ],
      "metadata": {
        "id": "5vkMMYLAgHQe"
      }
    },
    {
      "cell_type": "code",
      "source": [
        "sal.loc[sal.Profession == \"TBD\", 'JobTitle'].value_counts().head(30)"
      ],
      "metadata": {
        "colab": {
          "base_uri": "https://localhost:8080/"
        },
        "id": "vj5hgqYvGepn",
        "outputId": "1402ab32-308b-4266-dee7-c9d3023dd6fd"
      },
      "execution_count": 613,
      "outputs": [
        {
          "output_type": "execute_result",
          "data": {
            "text/plain": [
              "parking control officer                1132\n",
              "eligibility worker                      980\n",
              "stationary engineer                     885\n",
              "senior eligibility worker               875\n",
              "protective services worker              822\n",
              "museum guard                            820\n",
              "senior administrative analyst           805\n",
              "school crossing guard                   712\n",
              "truck driver                            707\n",
              "food service worker                     700\n",
              "engineer                                629\n",
              "ps aide to prof                         626\n",
              "publ svc aide-asst to prof              574\n",
              "manager iii                             568\n",
              "automotive mechanic                     562\n",
              "mental health rehabilitation worker     559\n",
              "physician specialist                    528\n",
              "senior physician specialist             526\n",
              "manager ii                              517\n",
              "manager i                               512\n",
              "pr administrative analyst               511\n",
              "deputy probation officer                511\n",
              "assoc engineer                          507\n",
              "psychiatric social worker               498\n",
              "public safetycomm disp                  472\n",
              "hsa sr eligibility worker               467\n",
              "painter                                 467\n",
              "administrative analyst                  461\n",
              "counselor, juvenile hall                461\n",
              "asst engr                               460\n",
              "Name: JobTitle, dtype: Int64"
            ]
          },
          "metadata": {},
          "execution_count": 613
        }
      ]
    },
    {
      "cell_type": "code",
      "source": [
        "profession_dict.update({\"publ svc\": \"public service jobs\", \"ps aide\": \"public service jobs\", \"eligibility worker\": \"eligibility worker\", \"engineer\":\"engineer\"})\n",
        "def_prof()"
      ],
      "metadata": {
        "id": "iTmVxtvTgQRG"
      },
      "execution_count": 614,
      "outputs": []
    },
    {
      "cell_type": "code",
      "source": [
        "print(f\"Размечено {sal[~(sal.Profession == 'TBD')].Profession.count()} строк, не размечено -   {sal[sal.Profession == 'TBD'].Profession.count()} \")"
      ],
      "metadata": {
        "colab": {
          "base_uri": "https://localhost:8080/"
        },
        "id": "PsgXhTnSoQ6d",
        "outputId": "3e562ca4-9782-4f2d-9828-15b5bc051821"
      },
      "execution_count": 615,
      "outputs": [
        {
          "output_type": "stream",
          "name": "stdout",
          "text": [
            "Размечено 87671 строк, не размечено -   60615 \n"
          ]
        }
      ]
    },
    {
      "cell_type": "code",
      "source": [
        "plt.figure(figsize=(6,6))\n",
        "sectors = sal['Profession'].value_counts()[0:30]\n",
        "sns.barplot(y=sectors.index, x=sectors.values, alpha=0.6)\n",
        "plt.xlabel('Number of jobs', fontsize=16)\n",
        "plt.ylabel(\"Professions\", fontsize=16)\n",
        "plt.title(\"Number of professions\")\n",
        "plt.show();"
      ],
      "metadata": {
        "colab": {
          "base_uri": "https://localhost:8080/",
          "height": 409
        },
        "id": "rDe04GDz0eut",
        "outputId": "4ecfddc2-9e1a-48ad-d1d4-43bae56a92bd"
      },
      "execution_count": 616,
      "outputs": [
        {
          "output_type": "display_data",
          "data": {
            "text/plain": [
              "<Figure size 432x432 with 1 Axes>"
            ],
            "image/png": "[encoded data removed]"
          },
          "metadata": {
            "needs_background": "light"
          }
        }
      ]
    },
    {
      "cell_type": "markdown",
      "source": [
        "Видно, что осталось много строк, где профессия не определена. Проанализируем, нужна ли дальнейшая грануляция для этих данных"
      ],
      "metadata": {
        "id": "UJHuYbe9ekq8"
      }
    },
    {
      "cell_type": "code",
      "source": [
        "#sal.loc[sal['JobTitle'].str.contains(\"porter|general laborer|gardener\"), \"JobTitle\"].value_counts()"
      ],
      "metadata": {
        "id": "biobWxJawfkM"
      },
      "execution_count": 617,
      "outputs": []
    },
    {
      "cell_type": "markdown",
      "source": [
        "Для начала проверим, менялось ли распределение зарплат от года к году в 2011 - 2014, чтобы понять нужно ли проводить анализ в разрезе профессия+год или можем анализировать просто по профессиям для упрощения"
      ],
      "metadata": {
        "id": "fGAazG4za8M8"
      }
    },
    {
      "cell_type": "code",
      "source": [
        "sns.kdeplot(data=sal, x=\"TotalPay\", hue=\"Year\")"
      ],
      "metadata": {
        "colab": {
          "base_uri": "https://localhost:8080/",
          "height": 307
        },
        "id": "3XFX8So_NE-e",
        "outputId": "04bb8088-7de6-428c-8fe7-9e9066072682"
      },
      "execution_count": 618,
      "outputs": [
        {
          "output_type": "execute_result",
          "data": {
            "text/plain": [
              "<matplotlib.axes._subplots.AxesSubplot at 0x7f96fa4984d0>"
            ]
          },
          "metadata": {},
          "execution_count": 618
        },
        {
          "output_type": "display_data",
          "data": {
            "text/plain": [
              "<Figure size 432x288 with 1 Axes>"
            ],
            "image/png": "[encoded data removed]"
          },
          "metadata": {
            "needs_background": "light"
          }
        }
      ]
    },
    {
      "cell_type": "markdown",
      "source": [
        "Видно, что распредение от года меняется несильно, поэтому для простоты анализ зарплаты в зависимости от профессии будем проводить без разбивки по годам. Также из графика плотности распределения видно, что распределение величины TotalPay бимодально: один пик около 0, второй - ~70k"
      ],
      "metadata": {
        "id": "A0UySkILbINU"
      }
    },
    {
      "cell_type": "markdown",
      "source": [
        "Теперь посмотрим распределение зарплаты в разбивке по профессиям и годам"
      ],
      "metadata": {
        "id": "EnAFRy3Whn5L"
      }
    },
    {
      "cell_type": "code",
      "source": [
        "sns.catplot(x=\"Profession\", y=\"TotalPay\",  data=sal, aspect = 3, hue = \"Year\", dodge=True).set(title='TotalPay in 2011-2014 by Profession')"
      ],
      "metadata": {
        "colab": {
          "base_uri": "https://localhost:8080/",
          "height": 402
        },
        "id": "m8D5lZxMhS9b",
        "outputId": "a3115c65-20eb-4e6a-9805-a897634ace4b"
      },
      "execution_count": 619,
      "outputs": [
        {
          "output_type": "execute_result",
          "data": {
            "text/plain": [
              "<seaborn.axisgrid.FacetGrid at 0x7f96fa51e990>"
            ]
          },
          "metadata": {},
          "execution_count": 619
        },
        {
          "output_type": "display_data",
          "data": {
            "text/plain": [
              "<Figure size 1141.38x360 with 1 Axes>"
            ],
            "image/png": "[encoded data removed]"
          },
          "metadata": {
            "needs_background": "light"
          }
        }
      ]
    },
    {
      "cell_type": "markdown",
      "source": [
        "Видим большие выбросы в сфере transportation, police в 2011 году и TBD (не определено) в 2014. Удалим 3 эти строки из датасета, чтобы не искажать статистику"
      ],
      "metadata": {
        "id": "HILmJfEmBc6O"
      }
    },
    {
      "cell_type": "code",
      "source": [
        "sal.nlargest(3, 'TotalPay').sort_values('TotalPay')"
      ],
      "metadata": {
        "colab": {
          "base_uri": "https://localhost:8080/",
          "height": 143
        },
        "id": "kFsA5zmOjNWg",
        "outputId": "bcec9148-6715-4e60-a1e0-e9e23ce06847"
      },
      "execution_count": 620,
      "outputs": [
        {
          "output_type": "execute_result",
          "data": {
            "text/plain": [
              "            Id    EmployeeName  \\\n",
              "110531  110532     David Shinn   \n",
              "1            2    GARY JIMENEZ   \n",
              "0            1  NATHANIEL FORD   \n",
              "\n",
              "                                              JobTitle    BasePay  \\\n",
              "110531                                  deputy chief 3  129150.01   \n",
              "1                      captain iii (police department)  155966.02   \n",
              "0       general manager-metropolitan transit authority  167411.18   \n",
              "\n",
              "        OvertimePay   OtherPay  Benefits   TotalPay  TotalPayBenefits  Year  \\\n",
              "110531         0.00  342802.63  38780.04  471952.64         510732.68  2014   \n",
              "1         245131.88  137811.38      0.00  538909.28         538909.28  2011   \n",
              "0              0.00  400184.25      0.00  567595.43         567595.43  2011   \n",
              "\n",
              "            Profession  \n",
              "110531             TBD  \n",
              "1               police  \n",
              "0       transportation  "
            ],
            "text/html": [
              "\n",
              "  <div id=\"df-a4381359-903d-44d8-9adf-b3ef2049b9fb\">\n",
              "    <div class=\"colab-df-container\">\n",
              "      <div>\n",
              "<style scoped>\n",
              "    .dataframe tbody tr th:only-of-type {\n",
              "        vertical-align: middle;\n",
              "    }\n",
              "\n",
              "    .dataframe tbody tr th {\n",
              "        vertical-align: top;\n",
              "    }\n",
              "\n",
              "    .dataframe thead th {\n",
              "        text-align: right;\n",
              "    }\n",
              "</style>\n",
              "<table border=\"1\" class=\"dataframe\">\n",
              "  <thead>\n",
              "    <tr style=\"text-align: right;\">\n",
              "      <th></th>\n",
              "      <th>Id</th>\n",
              "      <th>EmployeeName</th>\n",
              "      <th>JobTitle</th>\n",
              "      <th>BasePay</th>\n",
              "      <th>OvertimePay</th>\n",
              "      <th>OtherPay</th>\n",
              "      <th>Benefits</th>\n",
              "      <th>TotalPay</th>\n",
              "      <th>TotalPayBenefits</th>\n",
              "      <th>Year</th>\n",
              "      <th>Profession</th>\n",
              "    </tr>\n",
              "  </thead>\n",
              "  <tbody>\n",
              "    <tr>\n",
              "      <th>110531</th>\n",
              "      <td>110532</td>\n",
              "      <td>David Shinn</td>\n",
              "      <td>deputy chief 3</td>\n",
              "      <td>129150.01</td>\n",
              "      <td>0.00</td>\n",
              "      <td>342802.63</td>\n",
              "      <td>38780.04</td>\n",
              "      <td>471952.64</td>\n",
              "      <td>510732.68</td>\n",
              "      <td>2014</td>\n",
              "      <td>TBD</td>\n",
              "    </tr>\n",
              "    <tr>\n",
              "      <th>1</th>\n",
              "      <td>2</td>\n",
              "      <td>GARY JIMENEZ</td>\n",
              "      <td>captain iii (police department)</td>\n",
              "      <td>155966.02</td>\n",
              "      <td>245131.88</td>\n",
              "      <td>137811.38</td>\n",
              "      <td>0.00</td>\n",
              "      <td>538909.28</td>\n",
              "      <td>538909.28</td>\n",
              "      <td>2011</td>\n",
              "      <td>police</td>\n",
              "    </tr>\n",
              "    <tr>\n",
              "      <th>0</th>\n",
              "      <td>1</td>\n",
              "      <td>NATHANIEL FORD</td>\n",
              "      <td>general manager-metropolitan transit authority</td>\n",
              "      <td>167411.18</td>\n",
              "      <td>0.00</td>\n",
              "      <td>400184.25</td>\n",
              "      <td>0.00</td>\n",
              "      <td>567595.43</td>\n",
              "      <td>567595.43</td>\n",
              "      <td>2011</td>\n",
              "      <td>transportation</td>\n",
              "    </tr>\n",
              "  </tbody>\n",
              "</table>\n",
              "</div>\n",
              "      <button class=\"colab-df-convert\" onclick=\"convertToInteractive('df-a4381359-903d-44d8-9adf-b3ef2049b9fb')\"\n",
              "              title=\"Convert this dataframe to an interactive table.\"\n",
              "              style=\"display:none;\">\n",
              "        \n",
              "  <svg xmlns=\"http://www.w3.org/2000/svg\" height=\"24px\"viewBox=\"0 0 24 24\"\n",
              "       width=\"24px\">\n",
              "    <path d=\"M0 0h24v24H0V0z\" fill=\"none\"/>\n",
              "    <path d=\"M18.56 5.44l.94 2.06.94-2.06 2.06-.94-2.06-.94-.94-2.06-.94 2.06-2.06.94zm-11 1L8.5 8.5l.94-2.06 2.06-.94-2.06-.94L8.5 2.5l-.94 2.06-2.06.94zm10 10l.94 2.06.94-2.06 2.06-.94-2.06-.94-.94-2.06-.94 2.06-2.06.94z\"/><path d=\"M17.41 7.96l-1.37-1.37c-.4-.4-.92-.59-1.43-.59-.52 0-1.04.2-1.43.59L10.3 9.45l-7.72 7.72c-.78.78-.78 2.05 0 2.83L4 21.41c.39.39.9.59 1.41.59.51 0 1.02-.2 1.41-.59l7.78-7.78 2.81-2.81c.8-.78.8-2.07 0-2.86zM5.41 20L4 18.59l7.72-7.72 1.47 1.35L5.41 20z\"/>\n",
              "  </svg>\n",
              "      </button>\n",
              "      \n",
              "  <style>\n",
              "    .colab-df-container {\n",
              "      display:flex;\n",
              "      flex-wrap:wrap;\n",
              "      gap: 12px;\n",
              "    }\n",
              "\n",
              "    .colab-df-convert {\n",
              "      background-color: #E8F0FE;\n",
              "      border: none;\n",
              "      border-radius: 50%;\n",
              "      cursor: pointer;\n",
              "      display: none;\n",
              "      fill: #1967D2;\n",
              "      height: 32px;\n",
              "      padding: 0 0 0 0;\n",
              "      width: 32px;\n",
              "    }\n",
              "\n",
              "    .colab-df-convert:hover {\n",
              "      background-color: #E2EBFA;\n",
              "      box-shadow: 0px 1px 2px rgba(60, 64, 67, 0.3), 0px 1px 3px 1px rgba(60, 64, 67, 0.15);\n",
              "      fill: #174EA6;\n",
              "    }\n",
              "\n",
              "    [theme=dark] .colab-df-convert {\n",
              "      background-color: #3B4455;\n",
              "      fill: #D2E3FC;\n",
              "    }\n",
              "\n",
              "    [theme=dark] .colab-df-convert:hover {\n",
              "      background-color: #434B5C;\n",
              "      box-shadow: 0px 1px 3px 1px rgba(0, 0, 0, 0.15);\n",
              "      filter: drop-shadow(0px 1px 2px rgba(0, 0, 0, 0.3));\n",
              "      fill: #FFFFFF;\n",
              "    }\n",
              "  </style>\n",
              "\n",
              "      <script>\n",
              "        const buttonEl =\n",
              "          document.querySelector('#df-a4381359-903d-44d8-9adf-b3ef2049b9fb button.colab-df-convert');\n",
              "        buttonEl.style.display =\n",
              "          google.colab.kernel.accessAllowed ? 'block' : 'none';\n",
              "\n",
              "        async function convertToInteractive(key) {\n",
              "          const element = document.querySelector('#df-a4381359-903d-44d8-9adf-b3ef2049b9fb');\n",
              "          const dataTable =\n",
              "            await google.colab.kernel.invokeFunction('convertToInteractive',\n",
              "                                                     [key], {});\n",
              "          if (!dataTable) return;\n",
              "\n",
              "          const docLinkHtml = 'Like what you see? Visit the ' +\n",
              "            '<a target=\"_blank\" href=https://colab.research.google.com/notebooks/data_table.ipynb>data table notebook</a>'\n",
              "            + ' to learn more about interactive tables.';\n",
              "          element.innerHTML = '';\n",
              "          dataTable['output_type'] = 'display_data';\n",
              "          await google.colab.output.renderOutput(dataTable, element);\n",
              "          const docLink = document.createElement('div');\n",
              "          docLink.innerHTML = docLinkHtml;\n",
              "          element.appendChild(docLink);\n",
              "        }\n",
              "      </script>\n",
              "    </div>\n",
              "  </div>\n",
              "  "
            ]
          },
          "metadata": {},
          "execution_count": 620
        }
      ]
    },
    {
      "cell_type": "code",
      "source": [
        "sal = sal[~(sal.Id.isin(sal.nlargest(3, 'TotalPay').Id))]"
      ],
      "metadata": {
        "id": "m_aq61OxCoOD"
      },
      "execution_count": 621,
      "outputs": []
    },
    {
      "cell_type": "markdown",
      "source": [
        "Построим гистограммы для величины TotalPay для разных профессий"
      ],
      "metadata": {
        "id": "NkWZnsQJImfW"
      }
    },
    {
      "cell_type": "code",
      "source": [
        "plt.figure(figsize=(24,16))\n",
        "for i, prof in enumerate(sal.Profession.unique()):   \n",
        "  plt.subplot(5,4,i+1)\n",
        "  sns.histplot(data=sal.loc[sal.Profession.str.contains(prof)], x=\"TotalPay\", hue=\"Profession\")\n",
        "plt.subplots_adjust(wspace=0.5,hspace=0.5)"
      ],
      "metadata": {
        "colab": {
          "base_uri": "https://localhost:8080/",
          "height": 936
        },
        "id": "e3NGizYWIZP8",
        "outputId": "c25f8d98-c9cf-4a2f-acb7-a07605a4e78a"
      },
      "execution_count": 622,
      "outputs": [
        {
          "output_type": "display_data",
          "data": {
            "text/plain": [
              "<Figure size 1728x1152 with 17 Axes>"
            ],
            "image/png": "[encoded data removed]"
          },
          "metadata": {
            "needs_background": "light"
          }
        }
      ]
    },
    {
      "cell_type": "markdown",
      "source": [
        "1) Видим, что для большинства профессий TotalPay имеет пик около 0 так же, как и на графике распределения величины TotalPay для разных лет без разбивки по профессиям\n"
      ],
      "metadata": {
        "id": "o6xGMZTbJBve"
      }
    },
    {
      "cell_type": "markdown",
      "source": [
        "2) Также видим, что величина TotalPay для данных, у которых Profession не определено (=\"TBD\"), принимает значение в широком диапазоне, поэтому продолжим определение Profession"
      ],
      "metadata": {
        "id": "SjI21ilgLAca"
      }
    },
    {
      "cell_type": "markdown",
      "source": [
        "Ниже суммируем статистическую информацию в табличном виде"
      ],
      "metadata": {
        "id": "wtJ8e1SsKG28"
      }
    },
    {
      "cell_type": "code",
      "source": [
        "sal_wide = pd.pivot_table (sal, index = 'Id', values = 'TotalPay', columns = 'Profession',  aggfunc=np.sum)\n",
        "sal_wide.describe()"
      ],
      "metadata": {
        "colab": {
          "base_uri": "https://localhost:8080/",
          "height": 399
        },
        "id": "vYK9fQTw1Fp_",
        "outputId": "bec86ce0-f8f7-4012-c83a-f4a8962397cf"
      },
      "execution_count": 623,
      "outputs": [
        {
          "output_type": "execute_result",
          "data": {
            "text/plain": [
              "Profession            TBD       attorney          clerk     custodian  \\\n",
              "count        60614.000000    1840.000000    9321.000000   3208.000000   \n",
              "mean         75938.982817  135990.361413   48251.942425  45533.580916   \n",
              "std          44801.125213   49646.944200   23719.213171  17123.862850   \n",
              "min           -618.130000      13.350000       4.750000     41.950000   \n",
              "25%          49143.132500  105170.375000   35193.300000  37628.810000   \n",
              "50%          76411.010000  148434.400000   54502.010000  52498.850000   \n",
              "75%         100552.997500  175970.350000   64237.110000  56933.155000   \n",
              "max         390111.980000  252221.060000  118781.480000  83846.770000   \n",
              "\n",
              "Profession  eligibility worker       engineer           fire       gardener  \\\n",
              "count              2719.000000    4747.000000    5838.000000    1270.000000   \n",
              "mean              59292.141188   99437.800011  151943.666694   53917.547331   \n",
              "std               22294.659679   35971.827658   51034.576876   18767.650483   \n",
              "min                  59.420000     162.660000       5.800000      21.830000   \n",
              "25%               52917.680000   82038.225000  130373.125000   50063.670000   \n",
              "50%               66066.390000  102937.100000  153828.885000   60218.975000   \n",
              "75%               72952.375000  123747.060000  181509.412500   64680.455000   \n",
              "max              128779.860000  241126.970000  362844.660000  110355.700000   \n",
              "\n",
              "Profession  general laborer        library       medicine         police  \\\n",
              "count           1582.000000    2974.000000   17509.000000    9573.000000   \n",
              "mean           55331.393508   44669.454536   70547.555755  126635.687769   \n",
              "std            20202.749938   27276.249539   52624.917201   42664.343060   \n",
              "min               14.260000      17.780000       3.280000      21.980000   \n",
              "25%            50156.105000   22223.055000   21183.260000  112957.580000   \n",
              "50%            60677.555000   39436.620000   64622.790000  132734.930000   \n",
              "75%            66596.430000   70729.742500  114818.610000  152236.830000   \n",
              "max           128032.170000  155687.410000  278569.210000  339282.070000   \n",
              "\n",
              "Profession         porter  public service jobs     recreation        sheriff  \\\n",
              "count         1694.000000          6740.000000    3072.000000    3532.000000   \n",
              "mean         48247.693129          9468.735335   11613.496839  102592.510906   \n",
              "std          27324.754018          9410.494608   16296.155749   38214.971678   \n",
              "min             81.740000            10.670000      15.500000      24.760000   \n",
              "25%          23782.510000          2813.662500    2625.360000   91406.965000   \n",
              "50%          53111.570000          6650.825000    6423.725000  105981.900000   \n",
              "75%          59690.235000         12886.640000   12247.205000  121882.192500   \n",
              "max         144228.560000         80393.020000  100515.400000  308434.840000   \n",
              "\n",
              "Profession  transportation  \n",
              "count         12050.000000  \n",
              "mean          71683.049849  \n",
              "std           35328.094060  \n",
              "min               0.300000  \n",
              "25%           53983.605000  \n",
              "50%           75106.750000  \n",
              "75%           90493.890000  \n",
              "max          299162.310000  "
            ],
            "text/html": [
              "\n",
              "  <div id=\"df-41937433-fe90-4952-a0fe-422292cb868d\">\n",
              "    <div class=\"colab-df-container\">\n",
              "      <div>\n",
              "<style scoped>\n",
              "    .dataframe tbody tr th:only-of-type {\n",
              "        vertical-align: middle;\n",
              "    }\n",
              "\n",
              "    .dataframe tbody tr th {\n",
              "        vertical-align: top;\n",
              "    }\n",
              "\n",
              "    .dataframe thead th {\n",
              "        text-align: right;\n",
              "    }\n",
              "</style>\n",
              "<table border=\"1\" class=\"dataframe\">\n",
              "  <thead>\n",
              "    <tr style=\"text-align: right;\">\n",
              "      <th>Profession</th>\n",
              "      <th>TBD</th>\n",
              "      <th>attorney</th>\n",
              "      <th>clerk</th>\n",
              "      <th>custodian</th>\n",
              "      <th>eligibility worker</th>\n",
              "      <th>engineer</th>\n",
              "      <th>fire</th>\n",
              "      <th>gardener</th>\n",
              "      <th>general laborer</th>\n",
              "      <th>library</th>\n",
              "      <th>medicine</th>\n",
              "      <th>police</th>\n",
              "      <th>porter</th>\n",
              "      <th>public service jobs</th>\n",
              "      <th>recreation</th>\n",
              "      <th>sheriff</th>\n",
              "      <th>transportation</th>\n",
              "    </tr>\n",
              "  </thead>\n",
              "  <tbody>\n",
              "    <tr>\n",
              "      <th>count</th>\n",
              "      <td>60614.000000</td>\n",
              "      <td>1840.000000</td>\n",
              "      <td>9321.000000</td>\n",
              "      <td>3208.000000</td>\n",
              "      <td>2719.000000</td>\n",
              "      <td>4747.000000</td>\n",
              "      <td>5838.000000</td>\n",
              "      <td>1270.000000</td>\n",
              "      <td>1582.000000</td>\n",
              "      <td>2974.000000</td>\n",
              "      <td>17509.000000</td>\n",
              "      <td>9573.000000</td>\n",
              "      <td>1694.000000</td>\n",
              "      <td>6740.000000</td>\n",
              "      <td>3072.000000</td>\n",
              "      <td>3532.000000</td>\n",
              "      <td>12050.000000</td>\n",
              "    </tr>\n",
              "    <tr>\n",
              "      <th>mean</th>\n",
              "      <td>75938.982817</td>\n",
              "      <td>135990.361413</td>\n",
              "      <td>48251.942425</td>\n",
              "      <td>45533.580916</td>\n",
              "      <td>59292.141188</td>\n",
              "      <td>99437.800011</td>\n",
              "      <td>151943.666694</td>\n",
              "      <td>53917.547331</td>\n",
              "      <td>55331.393508</td>\n",
              "      <td>44669.454536</td>\n",
              "      <td>70547.555755</td>\n",
              "      <td>126635.687769</td>\n",
              "      <td>48247.693129</td>\n",
              "      <td>9468.735335</td>\n",
              "      <td>11613.496839</td>\n",
              "      <td>102592.510906</td>\n",
              "      <td>71683.049849</td>\n",
              "    </tr>\n",
              "    <tr>\n",
              "      <th>std</th>\n",
              "      <td>44801.125213</td>\n",
              "      <td>49646.944200</td>\n",
              "      <td>23719.213171</td>\n",
              "      <td>17123.862850</td>\n",
              "      <td>22294.659679</td>\n",
              "      <td>35971.827658</td>\n",
              "      <td>51034.576876</td>\n",
              "      <td>18767.650483</td>\n",
              "      <td>20202.749938</td>\n",
              "      <td>27276.249539</td>\n",
              "      <td>52624.917201</td>\n",
              "      <td>42664.343060</td>\n",
              "      <td>27324.754018</td>\n",
              "      <td>9410.494608</td>\n",
              "      <td>16296.155749</td>\n",
              "      <td>38214.971678</td>\n",
              "      <td>35328.094060</td>\n",
              "    </tr>\n",
              "    <tr>\n",
              "      <th>min</th>\n",
              "      <td>-618.130000</td>\n",
              "      <td>13.350000</td>\n",
              "      <td>4.750000</td>\n",
              "      <td>41.950000</td>\n",
              "      <td>59.420000</td>\n",
              "      <td>162.660000</td>\n",
              "      <td>5.800000</td>\n",
              "      <td>21.830000</td>\n",
              "      <td>14.260000</td>\n",
              "      <td>17.780000</td>\n",
              "      <td>3.280000</td>\n",
              "      <td>21.980000</td>\n",
              "      <td>81.740000</td>\n",
              "      <td>10.670000</td>\n",
              "      <td>15.500000</td>\n",
              "      <td>24.760000</td>\n",
              "      <td>0.300000</td>\n",
              "    </tr>\n",
              "    <tr>\n",
              "      <th>25%</th>\n",
              "      <td>49143.132500</td>\n",
              "      <td>105170.375000</td>\n",
              "      <td>35193.300000</td>\n",
              "      <td>37628.810000</td>\n",
              "      <td>52917.680000</td>\n",
              "      <td>82038.225000</td>\n",
              "      <td>130373.125000</td>\n",
              "      <td>50063.670000</td>\n",
              "      <td>50156.105000</td>\n",
              "      <td>22223.055000</td>\n",
              "      <td>21183.260000</td>\n",
              "      <td>112957.580000</td>\n",
              "      <td>23782.510000</td>\n",
              "      <td>2813.662500</td>\n",
              "      <td>2625.360000</td>\n",
              "      <td>91406.965000</td>\n",
              "      <td>53983.605000</td>\n",
              "    </tr>\n",
              "    <tr>\n",
              "      <th>50%</th>\n",
              "      <td>76411.010000</td>\n",
              "      <td>148434.400000</td>\n",
              "      <td>54502.010000</td>\n",
              "      <td>52498.850000</td>\n",
              "      <td>66066.390000</td>\n",
              "      <td>102937.100000</td>\n",
              "      <td>153828.885000</td>\n",
              "      <td>60218.975000</td>\n",
              "      <td>60677.555000</td>\n",
              "      <td>39436.620000</td>\n",
              "      <td>64622.790000</td>\n",
              "      <td>132734.930000</td>\n",
              "      <td>53111.570000</td>\n",
              "      <td>6650.825000</td>\n",
              "      <td>6423.725000</td>\n",
              "      <td>105981.900000</td>\n",
              "      <td>75106.750000</td>\n",
              "    </tr>\n",
              "    <tr>\n",
              "      <th>75%</th>\n",
              "      <td>100552.997500</td>\n",
              "      <td>175970.350000</td>\n",
              "      <td>64237.110000</td>\n",
              "      <td>56933.155000</td>\n",
              "      <td>72952.375000</td>\n",
              "      <td>123747.060000</td>\n",
              "      <td>181509.412500</td>\n",
              "      <td>64680.455000</td>\n",
              "      <td>66596.430000</td>\n",
              "      <td>70729.742500</td>\n",
              "      <td>114818.610000</td>\n",
              "      <td>152236.830000</td>\n",
              "      <td>59690.235000</td>\n",
              "      <td>12886.640000</td>\n",
              "      <td>12247.205000</td>\n",
              "      <td>121882.192500</td>\n",
              "      <td>90493.890000</td>\n",
              "    </tr>\n",
              "    <tr>\n",
              "      <th>max</th>\n",
              "      <td>390111.980000</td>\n",
              "      <td>252221.060000</td>\n",
              "      <td>118781.480000</td>\n",
              "      <td>83846.770000</td>\n",
              "      <td>128779.860000</td>\n",
              "      <td>241126.970000</td>\n",
              "      <td>362844.660000</td>\n",
              "      <td>110355.700000</td>\n",
              "      <td>128032.170000</td>\n",
              "      <td>155687.410000</td>\n",
              "      <td>278569.210000</td>\n",
              "      <td>339282.070000</td>\n",
              "      <td>144228.560000</td>\n",
              "      <td>80393.020000</td>\n",
              "      <td>100515.400000</td>\n",
              "      <td>308434.840000</td>\n",
              "      <td>299162.310000</td>\n",
              "    </tr>\n",
              "  </tbody>\n",
              "</table>\n",
              "</div>\n",
              "      <button class=\"colab-df-convert\" onclick=\"convertToInteractive('df-41937433-fe90-4952-a0fe-422292cb868d')\"\n",
              "              title=\"Convert this dataframe to an interactive table.\"\n",
              "              style=\"display:none;\">\n",
              "        \n",
              "  <svg xmlns=\"http://www.w3.org/2000/svg\" height=\"24px\"viewBox=\"0 0 24 24\"\n",
              "       width=\"24px\">\n",
              "    <path d=\"M0 0h24v24H0V0z\" fill=\"none\"/>\n",
              "    <path d=\"M18.56 5.44l.94 2.06.94-2.06 2.06-.94-2.06-.94-.94-2.06-.94 2.06-2.06.94zm-11 1L8.5 8.5l.94-2.06 2.06-.94-2.06-.94L8.5 2.5l-.94 2.06-2.06.94zm10 10l.94 2.06.94-2.06 2.06-.94-2.06-.94-.94-2.06-.94 2.06-2.06.94z\"/><path d=\"M17.41 7.96l-1.37-1.37c-.4-.4-.92-.59-1.43-.59-.52 0-1.04.2-1.43.59L10.3 9.45l-7.72 7.72c-.78.78-.78 2.05 0 2.83L4 21.41c.39.39.9.59 1.41.59.51 0 1.02-.2 1.41-.59l7.78-7.78 2.81-2.81c.8-.78.8-2.07 0-2.86zM5.41 20L4 18.59l7.72-7.72 1.47 1.35L5.41 20z\"/>\n",
              "  </svg>\n",
              "      </button>\n",
              "      \n",
              "  <style>\n",
              "    .colab-df-container {\n",
              "      display:flex;\n",
              "      flex-wrap:wrap;\n",
              "      gap: 12px;\n",
              "    }\n",
              "\n",
              "    .colab-df-convert {\n",
              "      background-color: #E8F0FE;\n",
              "      border: none;\n",
              "      border-radius: 50%;\n",
              "      cursor: pointer;\n",
              "      display: none;\n",
              "      fill: #1967D2;\n",
              "      height: 32px;\n",
              "      padding: 0 0 0 0;\n",
              "      width: 32px;\n",
              "    }\n",
              "\n",
              "    .colab-df-convert:hover {\n",
              "      background-color: #E2EBFA;\n",
              "      box-shadow: 0px 1px 2px rgba(60, 64, 67, 0.3), 0px 1px 3px 1px rgba(60, 64, 67, 0.15);\n",
              "      fill: #174EA6;\n",
              "    }\n",
              "\n",
              "    [theme=dark] .colab-df-convert {\n",
              "      background-color: #3B4455;\n",
              "      fill: #D2E3FC;\n",
              "    }\n",
              "\n",
              "    [theme=dark] .colab-df-convert:hover {\n",
              "      background-color: #434B5C;\n",
              "      box-shadow: 0px 1px 3px 1px rgba(0, 0, 0, 0.15);\n",
              "      filter: drop-shadow(0px 1px 2px rgba(0, 0, 0, 0.3));\n",
              "      fill: #FFFFFF;\n",
              "    }\n",
              "  </style>\n",
              "\n",
              "      <script>\n",
              "        const buttonEl =\n",
              "          document.querySelector('#df-41937433-fe90-4952-a0fe-422292cb868d button.colab-df-convert');\n",
              "        buttonEl.style.display =\n",
              "          google.colab.kernel.accessAllowed ? 'block' : 'none';\n",
              "\n",
              "        async function convertToInteractive(key) {\n",
              "          const element = document.querySelector('#df-41937433-fe90-4952-a0fe-422292cb868d');\n",
              "          const dataTable =\n",
              "            await google.colab.kernel.invokeFunction('convertToInteractive',\n",
              "                                                     [key], {});\n",
              "          if (!dataTable) return;\n",
              "\n",
              "          const docLinkHtml = 'Like what you see? Visit the ' +\n",
              "            '<a target=\"_blank\" href=https://colab.research.google.com/notebooks/data_table.ipynb>data table notebook</a>'\n",
              "            + ' to learn more about interactive tables.';\n",
              "          element.innerHTML = '';\n",
              "          dataTable['output_type'] = 'display_data';\n",
              "          await google.colab.output.renderOutput(dataTable, element);\n",
              "          const docLink = document.createElement('div');\n",
              "          docLink.innerHTML = docLinkHtml;\n",
              "          element.appendChild(docLink);\n",
              "        }\n",
              "      </script>\n",
              "    </div>\n",
              "  </div>\n",
              "  "
            ]
          },
          "metadata": {},
          "execution_count": 623
        }
      ]
    },
    {
      "cell_type": "markdown",
      "source": [
        "Проанализируем  подмножество нашего датасета, в котором пока не определено поле Profession."
      ],
      "metadata": {
        "id": "lwA7ax9UL3zQ"
      }
    },
    {
      "cell_type": "markdown",
      "source": [
        "Boxplot для подмножества датасета, у которого Profession остался неопределенным"
      ],
      "metadata": {
        "id": "KctYUm692vir"
      }
    },
    {
      "cell_type": "code",
      "source": [
        "ax = sns.boxplot(x=\"Year\", y=\"TotalPay\", data=sal[(sal.Profession == \"TBD\")])\n",
        "plt.show()"
      ],
      "metadata": {
        "id": "9JrkPJ0D2H8-",
        "outputId": "15f4effc-843c-4928-9a00-fb505f26cc1d",
        "colab": {
          "base_uri": "https://localhost:8080/",
          "height": 279
        }
      },
      "execution_count": 624,
      "outputs": [
        {
          "output_type": "display_data",
          "data": {
            "text/plain": [
              "<Figure size 432x288 with 1 Axes>"
            ],
            "image/png": "[encoded data removed]"
          },
          "metadata": {
            "needs_background": "light"
          }
        }
      ]
    },
    {
      "cell_type": "markdown",
      "source": [
        "Шаг1. Выбросы"
      ],
      "metadata": {
        "id": "MboHrOFZo30I"
      }
    },
    {
      "cell_type": "code",
      "source": [
        "Q1_TBD = np.percentile(sal.loc[sal.Profession == \"TBD\", 'TotalPay'], 25, interpolation = 'midpoint')\n",
        "Q3_TBD = np.percentile(sal.loc[sal.Profession == \"TBD\", 'TotalPay'], 75, interpolation = 'midpoint')\n",
        "IQR_TBD = Q3_TBD - Q1_TBD"
      ],
      "metadata": {
        "id": "VQLUgLRaLTn5"
      },
      "execution_count": 625,
      "outputs": []
    },
    {
      "cell_type": "code",
      "source": [
        "sal.loc[(sal.TotalPay >= (Q3_TBD+1.5*IQR_TBD))& (sal.Profession == 'TBD'),\"JobTitle\"].value_counts().head(30)"
      ],
      "metadata": {
        "id": "YF3pGOq6NCS2",
        "outputId": "a620ecfb-c847-4da9-fb57-a00ce5363de0",
        "colab": {
          "base_uri": "https://localhost:8080/"
        }
      },
      "execution_count": 626,
      "outputs": [
        {
          "output_type": "execute_result",
          "data": {
            "text/plain": [
              "senior physician specialist         170\n",
              "lieutenant 3                        155\n",
              "head atty, civil & criminal         115\n",
              "inspector 3                         108\n",
              "captain 3                            96\n",
              "manager viii                         75\n",
              "dep dir iv                           56\n",
              "captain, emergency med svcs          54\n",
              "anesthetist                          49\n",
              "manager vii                          47\n",
              "supervising physician spec           41\n",
              "dep dir v                            41\n",
              "manager vi                           33\n",
              "physician specialist                 23\n",
              "dept head iii                        20\n",
              "deputy chief 3                       19\n",
              "commander 3                          18\n",
              "dept head v                          17\n",
              "supervising physician specialist     15\n",
              "incident support specialist          15\n",
              "dept head iv                         15\n",
              "eng/arch/landscape arch sr           15\n",
              "deputy director v                    14\n",
              "project manager 4                    14\n",
              "dep dir iii                          14\n",
              "manager viii, mta                    14\n",
              "deputy dir i, mta                    13\n",
              "chief atty1 (civil & criminal)       13\n",
              "assistant deputy chief 2             11\n",
              "pharmacist                           11\n",
              "Name: JobTitle, dtype: Int64"
            ]
          },
          "metadata": {},
          "execution_count": 626
        }
      ]
    },
    {
      "cell_type": "code",
      "source": [
        "profession_dict.update({\"atty\": \"attorney\", \"physician\": \"physician\", \"anesthetist\": \"medicine\", \"engineer\": \"engineer\", \"emergency med\": \"medicine\", \"lieutenant\":\"police\",\n",
        "                        \"captain\": \"captain\", \"inspector\": \"inspector\", \"dep\": \"executives\", \"manager\":\"manager\", \"deputy\": \"executives\", \"head\": \"executives\"})\n",
        "def_prof()"
      ],
      "metadata": {
        "id": "UbBnjtxoPUMD",
        "outputId": "0b05a1d1-98ef-4ed8-a2aa-82f8f4f2f615",
        "colab": {
          "base_uri": "https://localhost:8080/"
        }
      },
      "execution_count": 627,
      "outputs": [
        {
          "output_type": "stream",
          "name": "stderr",
          "text": [
            "/usr/local/lib/python3.7/dist-packages/pandas/core/indexing.py:1817: SettingWithCopyWarning: \n",
            "A value is trying to be set on a copy of a slice from a DataFrame.\n",
            "Try using .loc[row_indexer,col_indexer] = value instead\n",
            "\n",
            "See the caveats in the documentation: https://pandas.pydata.org/pandas-docs/stable/user_guide/indexing.html#returning-a-view-versus-a-copy\n",
            "  self._setitem_single_column(loc, value, pi)\n"
          ]
        }
      ]
    },
    {
      "cell_type": "markdown",
      "source": [
        "Шаг 2. Хвост распределения"
      ],
      "metadata": {
        "id": "fZz9P8uNo9l-"
      }
    },
    {
      "cell_type": "code",
      "source": [
        "sns.histplot(data=sal.loc[sal.Profession.str.contains(\"TBD\")], x=\"TotalPay\")"
      ],
      "metadata": {
        "id": "qrbyKm-PRTeG",
        "outputId": "ee15ce8a-6fd1-4da4-8676-3e136525975e",
        "colab": {
          "base_uri": "https://localhost:8080/",
          "height": 296
        }
      },
      "execution_count": 628,
      "outputs": [
        {
          "output_type": "execute_result",
          "data": {
            "text/plain": [
              "<matplotlib.axes._subplots.AxesSubplot at 0x7f970143a550>"
            ]
          },
          "metadata": {},
          "execution_count": 628
        },
        {
          "output_type": "display_data",
          "data": {
            "text/plain": [
              "<Figure size 432x288 with 1 Axes>"
            ],
            "image/png": "[encoded data removed]"
          },
          "metadata": {
            "needs_background": "light"
          }
        }
      ]
    },
    {
      "cell_type": "code",
      "source": [
        "sal.loc[(sal.Profession.str.contains(\"TBD\"))&(sal.TotalPay>70000), \"JobTitle\"].value_counts().head(30) #greater than average"
      ],
      "metadata": {
        "id": "0PMjSwr0Pm4h",
        "outputId": "06ab13fe-b185-4396-dc49-6781842cd353",
        "colab": {
          "base_uri": "https://localhost:8080/"
        }
      },
      "execution_count": 629,
      "outputs": [
        {
          "output_type": "execute_result",
          "data": {
            "text/plain": [
              "protective services worker        684\n",
              "senior administrative analyst     638\n",
              "automotive mechanic               478\n",
              "truck driver                      454\n",
              "pr administrative analyst         437\n",
              "asst engr                         415\n",
              "public safetycomm disp            405\n",
              "stationary eng, sewage plant      390\n",
              "electronic maintenance tech       389\n",
              "senior personnel analyst          347\n",
              "psychiatric social worker         338\n",
              "electrician                       318\n",
              "painter                           314\n",
              "administrative analyst            297\n",
              "is business analyst-principal     263\n",
              "eng/arch/landscape arch sr        262\n",
              "automotive service worker         251\n",
              "carpenter                         233\n",
              "parking control officer           232\n",
              "accountant iii                    223\n",
              "program specialist                221\n",
              "is business analyst-senior        218\n",
              "plumber                           218\n",
              "senior social worker              216\n",
              "automotive machinist              216\n",
              "utility plumber                   203\n",
              "hospital eligiblity worker        187\n",
              "utility specialist                186\n",
              "pharmacy technician               186\n",
              "marriage, family & child cnslr    179\n",
              "Name: JobTitle, dtype: Int64"
            ]
          },
          "metadata": {},
          "execution_count": 629
        }
      ]
    },
    {
      "cell_type": "code",
      "source": [
        "profession_dict.update({\"protective services worker\": \"protective services worker\", \"administrative analyst\": \"administrative analyst\", \"accountant\": \"accountant\", \n",
        "                        \"analyst\": \"analyst\", \"asst engr\": \"engineer\", \"stationary eng, sewage plant\":\"engineer\", \"electric\":\"electrician\", \"electronic maintenance\":\"electrician\",\n",
        "                        \"painter\":\"painter\", \"pharma\":\"medicine\", \"driver\":\"driver\", \"utility \":\"utility\", \"eligiblity worker\":\"eligibility worker\"})\n",
        "def_prof()"
      ],
      "metadata": {
        "colab": {
          "base_uri": "https://localhost:8080/"
        },
        "id": "5mqr2VMvAwfV",
        "outputId": "e2b32a2c-2057-440d-ecb0-1c130b7ec8ca"
      },
      "execution_count": 630,
      "outputs": [
        {
          "output_type": "stream",
          "name": "stderr",
          "text": [
            "/usr/local/lib/python3.7/dist-packages/pandas/core/indexing.py:1817: SettingWithCopyWarning: \n",
            "A value is trying to be set on a copy of a slice from a DataFrame.\n",
            "Try using .loc[row_indexer,col_indexer] = value instead\n",
            "\n",
            "See the caveats in the documentation: https://pandas.pydata.org/pandas-docs/stable/user_guide/indexing.html#returning-a-view-versus-a-copy\n",
            "  self._setitem_single_column(loc, value, pi)\n"
          ]
        }
      ]
    },
    {
      "cell_type": "code",
      "source": [
        "pd.pivot_table (sal, index = 'Id', values = 'TotalPay', columns = 'Profession',  aggfunc=np.sum).describe()"
      ],
      "metadata": {
        "colab": {
          "base_uri": "https://localhost:8080/",
          "height": 428
        },
        "id": "I-FjVONiFEsT",
        "outputId": "d68cd863-260e-4ea5-e9e1-6358cc6f10b2"
      },
      "execution_count": 631,
      "outputs": [
        {
          "output_type": "execute_result",
          "data": {
            "text/plain": [
              "Profession            TBD     accountant        analyst       attorney  \\\n",
              "count        39660.000000    1010.000000    4721.000000    1922.000000   \n",
              "mean         63594.236764   72673.134069   82415.229498  133529.893314   \n",
              "std          37873.901494   27113.484656   29656.649652   51011.426901   \n",
              "min           -618.130000      70.230000      16.090000      13.350000   \n",
              "25%          35742.127500   59322.792500   67898.010000  103460.982500   \n",
              "50%          67160.775000   77272.505000   88687.330000  144169.205000   \n",
              "75%          87527.090000   94042.630000  103091.490000  171782.940000   \n",
              "max         390111.980000  119516.190000  178813.700000  252221.060000   \n",
              "\n",
              "Profession        captain          clerk     custodian         driver  \\\n",
              "count          514.000000    8538.000000   3208.000000     725.000000   \n",
              "mean        197159.122685   46288.433799  45533.580916   70163.648841   \n",
              "std          37618.684195   22938.013370  17123.862850   25233.149089   \n",
              "min           3259.400000       4.750000     41.950000     114.040000   \n",
              "25%         174348.630000   32026.625000  37628.810000   61700.240000   \n",
              "50%         197935.290000   53539.400000  52498.850000   77557.340000   \n",
              "75%         216691.800000   61877.030000  56933.155000   86484.930000   \n",
              "max         350403.410000  118781.480000  83846.770000  122908.440000   \n",
              "\n",
              "Profession    electrician  eligibility worker  ...        painter  \\\n",
              "count         2486.000000         2975.000000  ...     592.000000   \n",
              "mean         99649.235893        60103.041748  ...   71151.973260   \n",
              "std          39129.529789        21878.396503  ...   26793.109383   \n",
              "min             48.410000           59.420000  ...     137.480000   \n",
              "25%          87660.685000        53979.630000  ...   65265.360000   \n",
              "50%         104928.770000        66690.340000  ...   78241.050000   \n",
              "75%         121378.757500        74052.575000  ...   83868.620000   \n",
              "max         336393.730000       128779.860000  ...  163802.870000   \n",
              "\n",
              "Profession      physician         police         porter  \\\n",
              "count         1210.000000    9892.000000    1694.000000   \n",
              "mean        101918.629636  129514.278205   48247.693129   \n",
              "std          73084.899768   44743.132928   27324.754018   \n",
              "min             81.780000      21.980000      81.740000   \n",
              "25%          27998.127500  113895.427500   23782.510000   \n",
              "50%          98692.395000  133712.655000   53111.570000   \n",
              "75%         169922.837500  156632.095000   59690.235000   \n",
              "max         322886.840000  362844.660000  144228.560000   \n",
              "\n",
              "Profession  protective services worker  public service jobs     recreation  \\\n",
              "count                       822.000000          6740.000000    3072.000000   \n",
              "mean                      83900.316411          9468.735335   11613.496839   \n",
              "std                       21394.809847          9410.494608   16296.155749   \n",
              "min                          43.500000            10.670000      15.500000   \n",
              "25%                       80258.260000          2813.662500    2625.360000   \n",
              "50%                       89566.260000          6650.825000    6423.725000   \n",
              "75%                       95746.047500         12886.640000   12247.205000   \n",
              "max                      128631.240000         80393.020000  100515.400000   \n",
              "\n",
              "Profession        sheriff  transportation        utility  \n",
              "count          305.000000    10907.000000     849.000000  \n",
              "mean         37088.216295    69000.242433   95564.950118  \n",
              "std          36193.787593    34034.370069   38606.839882  \n",
              "min             24.760000        0.300000      24.520000  \n",
              "25%          17607.760000    50119.510000   69183.570000  \n",
              "50%          36837.510000    73871.130000  102351.740000  \n",
              "75%          45185.030000    87652.175000  123255.790000  \n",
              "max         231739.640000   230239.980000  187528.180000  \n",
              "\n",
              "[8 rows x 29 columns]"
            ],
            "text/html": [
              "\n",
              "  <div id=\"df-33de6e6e-f53b-49e3-85c9-ca6755c9bc29\">\n",
              "    <div class=\"colab-df-container\">\n",
              "      <div>\n",
              "<style scoped>\n",
              "    .dataframe tbody tr th:only-of-type {\n",
              "        vertical-align: middle;\n",
              "    }\n",
              "\n",
              "    .dataframe tbody tr th {\n",
              "        vertical-align: top;\n",
              "    }\n",
              "\n",
              "    .dataframe thead th {\n",
              "        text-align: right;\n",
              "    }\n",
              "</style>\n",
              "<table border=\"1\" class=\"dataframe\">\n",
              "  <thead>\n",
              "    <tr style=\"text-align: right;\">\n",
              "      <th>Profession</th>\n",
              "      <th>TBD</th>\n",
              "      <th>accountant</th>\n",
              "      <th>analyst</th>\n",
              "      <th>attorney</th>\n",
              "      <th>captain</th>\n",
              "      <th>clerk</th>\n",
              "      <th>custodian</th>\n",
              "      <th>driver</th>\n",
              "      <th>electrician</th>\n",
              "      <th>eligibility worker</th>\n",
              "      <th>...</th>\n",
              "      <th>painter</th>\n",
              "      <th>physician</th>\n",
              "      <th>police</th>\n",
              "      <th>porter</th>\n",
              "      <th>protective services worker</th>\n",
              "      <th>public service jobs</th>\n",
              "      <th>recreation</th>\n",
              "      <th>sheriff</th>\n",
              "      <th>transportation</th>\n",
              "      <th>utility</th>\n",
              "    </tr>\n",
              "  </thead>\n",
              "  <tbody>\n",
              "    <tr>\n",
              "      <th>count</th>\n",
              "      <td>39660.000000</td>\n",
              "      <td>1010.000000</td>\n",
              "      <td>4721.000000</td>\n",
              "      <td>1922.000000</td>\n",
              "      <td>514.000000</td>\n",
              "      <td>8538.000000</td>\n",
              "      <td>3208.000000</td>\n",
              "      <td>725.000000</td>\n",
              "      <td>2486.000000</td>\n",
              "      <td>2975.000000</td>\n",
              "      <td>...</td>\n",
              "      <td>592.000000</td>\n",
              "      <td>1210.000000</td>\n",
              "      <td>9892.000000</td>\n",
              "      <td>1694.000000</td>\n",
              "      <td>822.000000</td>\n",
              "      <td>6740.000000</td>\n",
              "      <td>3072.000000</td>\n",
              "      <td>305.000000</td>\n",
              "      <td>10907.000000</td>\n",
              "      <td>849.000000</td>\n",
              "    </tr>\n",
              "    <tr>\n",
              "      <th>mean</th>\n",
              "      <td>63594.236764</td>\n",
              "      <td>72673.134069</td>\n",
              "      <td>82415.229498</td>\n",
              "      <td>133529.893314</td>\n",
              "      <td>197159.122685</td>\n",
              "      <td>46288.433799</td>\n",
              "      <td>45533.580916</td>\n",
              "      <td>70163.648841</td>\n",
              "      <td>99649.235893</td>\n",
              "      <td>60103.041748</td>\n",
              "      <td>...</td>\n",
              "      <td>71151.973260</td>\n",
              "      <td>101918.629636</td>\n",
              "      <td>129514.278205</td>\n",
              "      <td>48247.693129</td>\n",
              "      <td>83900.316411</td>\n",
              "      <td>9468.735335</td>\n",
              "      <td>11613.496839</td>\n",
              "      <td>37088.216295</td>\n",
              "      <td>69000.242433</td>\n",
              "      <td>95564.950118</td>\n",
              "    </tr>\n",
              "    <tr>\n",
              "      <th>std</th>\n",
              "      <td>37873.901494</td>\n",
              "      <td>27113.484656</td>\n",
              "      <td>29656.649652</td>\n",
              "      <td>51011.426901</td>\n",
              "      <td>37618.684195</td>\n",
              "      <td>22938.013370</td>\n",
              "      <td>17123.862850</td>\n",
              "      <td>25233.149089</td>\n",
              "      <td>39129.529789</td>\n",
              "      <td>21878.396503</td>\n",
              "      <td>...</td>\n",
              "      <td>26793.109383</td>\n",
              "      <td>73084.899768</td>\n",
              "      <td>44743.132928</td>\n",
              "      <td>27324.754018</td>\n",
              "      <td>21394.809847</td>\n",
              "      <td>9410.494608</td>\n",
              "      <td>16296.155749</td>\n",
              "      <td>36193.787593</td>\n",
              "      <td>34034.370069</td>\n",
              "      <td>38606.839882</td>\n",
              "    </tr>\n",
              "    <tr>\n",
              "      <th>min</th>\n",
              "      <td>-618.130000</td>\n",
              "      <td>70.230000</td>\n",
              "      <td>16.090000</td>\n",
              "      <td>13.350000</td>\n",
              "      <td>3259.400000</td>\n",
              "      <td>4.750000</td>\n",
              "      <td>41.950000</td>\n",
              "      <td>114.040000</td>\n",
              "      <td>48.410000</td>\n",
              "      <td>59.420000</td>\n",
              "      <td>...</td>\n",
              "      <td>137.480000</td>\n",
              "      <td>81.780000</td>\n",
              "      <td>21.980000</td>\n",
              "      <td>81.740000</td>\n",
              "      <td>43.500000</td>\n",
              "      <td>10.670000</td>\n",
              "      <td>15.500000</td>\n",
              "      <td>24.760000</td>\n",
              "      <td>0.300000</td>\n",
              "      <td>24.520000</td>\n",
              "    </tr>\n",
              "    <tr>\n",
              "      <th>25%</th>\n",
              "      <td>35742.127500</td>\n",
              "      <td>59322.792500</td>\n",
              "      <td>67898.010000</td>\n",
              "      <td>103460.982500</td>\n",
              "      <td>174348.630000</td>\n",
              "      <td>32026.625000</td>\n",
              "      <td>37628.810000</td>\n",
              "      <td>61700.240000</td>\n",
              "      <td>87660.685000</td>\n",
              "      <td>53979.630000</td>\n",
              "      <td>...</td>\n",
              "      <td>65265.360000</td>\n",
              "      <td>27998.127500</td>\n",
              "      <td>113895.427500</td>\n",
              "      <td>23782.510000</td>\n",
              "      <td>80258.260000</td>\n",
              "      <td>2813.662500</td>\n",
              "      <td>2625.360000</td>\n",
              "      <td>17607.760000</td>\n",
              "      <td>50119.510000</td>\n",
              "      <td>69183.570000</td>\n",
              "    </tr>\n",
              "    <tr>\n",
              "      <th>50%</th>\n",
              "      <td>67160.775000</td>\n",
              "      <td>77272.505000</td>\n",
              "      <td>88687.330000</td>\n",
              "      <td>144169.205000</td>\n",
              "      <td>197935.290000</td>\n",
              "      <td>53539.400000</td>\n",
              "      <td>52498.850000</td>\n",
              "      <td>77557.340000</td>\n",
              "      <td>104928.770000</td>\n",
              "      <td>66690.340000</td>\n",
              "      <td>...</td>\n",
              "      <td>78241.050000</td>\n",
              "      <td>98692.395000</td>\n",
              "      <td>133712.655000</td>\n",
              "      <td>53111.570000</td>\n",
              "      <td>89566.260000</td>\n",
              "      <td>6650.825000</td>\n",
              "      <td>6423.725000</td>\n",
              "      <td>36837.510000</td>\n",
              "      <td>73871.130000</td>\n",
              "      <td>102351.740000</td>\n",
              "    </tr>\n",
              "    <tr>\n",
              "      <th>75%</th>\n",
              "      <td>87527.090000</td>\n",
              "      <td>94042.630000</td>\n",
              "      <td>103091.490000</td>\n",
              "      <td>171782.940000</td>\n",
              "      <td>216691.800000</td>\n",
              "      <td>61877.030000</td>\n",
              "      <td>56933.155000</td>\n",
              "      <td>86484.930000</td>\n",
              "      <td>121378.757500</td>\n",
              "      <td>74052.575000</td>\n",
              "      <td>...</td>\n",
              "      <td>83868.620000</td>\n",
              "      <td>169922.837500</td>\n",
              "      <td>156632.095000</td>\n",
              "      <td>59690.235000</td>\n",
              "      <td>95746.047500</td>\n",
              "      <td>12886.640000</td>\n",
              "      <td>12247.205000</td>\n",
              "      <td>45185.030000</td>\n",
              "      <td>87652.175000</td>\n",
              "      <td>123255.790000</td>\n",
              "    </tr>\n",
              "    <tr>\n",
              "      <th>max</th>\n",
              "      <td>390111.980000</td>\n",
              "      <td>119516.190000</td>\n",
              "      <td>178813.700000</td>\n",
              "      <td>252221.060000</td>\n",
              "      <td>350403.410000</td>\n",
              "      <td>118781.480000</td>\n",
              "      <td>83846.770000</td>\n",
              "      <td>122908.440000</td>\n",
              "      <td>336393.730000</td>\n",
              "      <td>128779.860000</td>\n",
              "      <td>...</td>\n",
              "      <td>163802.870000</td>\n",
              "      <td>322886.840000</td>\n",
              "      <td>362844.660000</td>\n",
              "      <td>144228.560000</td>\n",
              "      <td>128631.240000</td>\n",
              "      <td>80393.020000</td>\n",
              "      <td>100515.400000</td>\n",
              "      <td>231739.640000</td>\n",
              "      <td>230239.980000</td>\n",
              "      <td>187528.180000</td>\n",
              "    </tr>\n",
              "  </tbody>\n",
              "</table>\n",
              "<p>8 rows × 29 columns</p>\n",
              "</div>\n",
              "      <button class=\"colab-df-convert\" onclick=\"convertToInteractive('df-33de6e6e-f53b-49e3-85c9-ca6755c9bc29')\"\n",
              "              title=\"Convert this dataframe to an interactive table.\"\n",
              "              style=\"display:none;\">\n",
              "        \n",
              "  <svg xmlns=\"http://www.w3.org/2000/svg\" height=\"24px\"viewBox=\"0 0 24 24\"\n",
              "       width=\"24px\">\n",
              "    <path d=\"M0 0h24v24H0V0z\" fill=\"none\"/>\n",
              "    <path d=\"M18.56 5.44l.94 2.06.94-2.06 2.06-.94-2.06-.94-.94-2.06-.94 2.06-2.06.94zm-11 1L8.5 8.5l.94-2.06 2.06-.94-2.06-.94L8.5 2.5l-.94 2.06-2.06.94zm10 10l.94 2.06.94-2.06 2.06-.94-2.06-.94-.94-2.06-.94 2.06-2.06.94z\"/><path d=\"M17.41 7.96l-1.37-1.37c-.4-.4-.92-.59-1.43-.59-.52 0-1.04.2-1.43.59L10.3 9.45l-7.72 7.72c-.78.78-.78 2.05 0 2.83L4 21.41c.39.39.9.59 1.41.59.51 0 1.02-.2 1.41-.59l7.78-7.78 2.81-2.81c.8-.78.8-2.07 0-2.86zM5.41 20L4 18.59l7.72-7.72 1.47 1.35L5.41 20z\"/>\n",
              "  </svg>\n",
              "      </button>\n",
              "      \n",
              "  <style>\n",
              "    .colab-df-container {\n",
              "      display:flex;\n",
              "      flex-wrap:wrap;\n",
              "      gap: 12px;\n",
              "    }\n",
              "\n",
              "    .colab-df-convert {\n",
              "      background-color: #E8F0FE;\n",
              "      border: none;\n",
              "      border-radius: 50%;\n",
              "      cursor: pointer;\n",
              "      display: none;\n",
              "      fill: #1967D2;\n",
              "      height: 32px;\n",
              "      padding: 0 0 0 0;\n",
              "      width: 32px;\n",
              "    }\n",
              "\n",
              "    .colab-df-convert:hover {\n",
              "      background-color: #E2EBFA;\n",
              "      box-shadow: 0px 1px 2px rgba(60, 64, 67, 0.3), 0px 1px 3px 1px rgba(60, 64, 67, 0.15);\n",
              "      fill: #174EA6;\n",
              "    }\n",
              "\n",
              "    [theme=dark] .colab-df-convert {\n",
              "      background-color: #3B4455;\n",
              "      fill: #D2E3FC;\n",
              "    }\n",
              "\n",
              "    [theme=dark] .colab-df-convert:hover {\n",
              "      background-color: #434B5C;\n",
              "      box-shadow: 0px 1px 3px 1px rgba(0, 0, 0, 0.15);\n",
              "      filter: drop-shadow(0px 1px 2px rgba(0, 0, 0, 0.3));\n",
              "      fill: #FFFFFF;\n",
              "    }\n",
              "  </style>\n",
              "\n",
              "      <script>\n",
              "        const buttonEl =\n",
              "          document.querySelector('#df-33de6e6e-f53b-49e3-85c9-ca6755c9bc29 button.colab-df-convert');\n",
              "        buttonEl.style.display =\n",
              "          google.colab.kernel.accessAllowed ? 'block' : 'none';\n",
              "\n",
              "        async function convertToInteractive(key) {\n",
              "          const element = document.querySelector('#df-33de6e6e-f53b-49e3-85c9-ca6755c9bc29');\n",
              "          const dataTable =\n",
              "            await google.colab.kernel.invokeFunction('convertToInteractive',\n",
              "                                                     [key], {});\n",
              "          if (!dataTable) return;\n",
              "\n",
              "          const docLinkHtml = 'Like what you see? Visit the ' +\n",
              "            '<a target=\"_blank\" href=https://colab.research.google.com/notebooks/data_table.ipynb>data table notebook</a>'\n",
              "            + ' to learn more about interactive tables.';\n",
              "          element.innerHTML = '';\n",
              "          dataTable['output_type'] = 'display_data';\n",
              "          await google.colab.output.renderOutput(dataTable, element);\n",
              "          const docLink = document.createElement('div');\n",
              "          docLink.innerHTML = docLinkHtml;\n",
              "          element.appendChild(docLink);\n",
              "        }\n",
              "      </script>\n",
              "    </div>\n",
              "  </div>\n",
              "  "
            ]
          },
          "metadata": {},
          "execution_count": 631
        }
      ]
    },
    {
      "cell_type": "code",
      "source": [
        "pd.cut(sal.loc[sal.Profession ==\"TBD\", \"TotalPay\"], bins=6).value_counts()"
      ],
      "metadata": {
        "colab": {
          "base_uri": "https://localhost:8080/"
        },
        "id": "SsWULTQjLiAv",
        "outputId": "50dcd884-feb5-4078-c382-786907354f4e"
      },
      "execution_count": 632,
      "outputs": [
        {
          "output_type": "execute_result",
          "data": {
            "text/plain": [
              "(64503.555, 129625.24]     19885\n",
              "(-1008.86, 64503.555]      18443\n",
              "(129625.24, 194746.925]     1226\n",
              "(194746.925, 259868.61]       81\n",
              "(259868.61, 324990.295]       20\n",
              "(324990.295, 390111.98]        5\n",
              "Name: TotalPay, dtype: int64"
            ]
          },
          "metadata": {},
          "execution_count": 632
        }
      ]
    },
    {
      "cell_type": "code",
      "source": [
        "sal.loc[(sal.Profession.str.contains(\"TBD\"))&(sal.TotalPay>130000), \"JobTitle\"].value_counts().head(20) #from 3+ buckets"
      ],
      "metadata": {
        "outputId": "7ddf48b2-26df-463e-918a-115aa23410ea",
        "colab": {
          "base_uri": "https://localhost:8080/"
        },
        "id": "RCjyeQm-EJaP"
      },
      "execution_count": 633,
      "outputs": [
        {
          "output_type": "execute_result",
          "data": {
            "text/plain": [
              "eng/arch/landscape arch sr        252\n",
              "is project director               123\n",
              "train controller                   36\n",
              "diagnostic imaging tech ii         32\n",
              "automotive mechanic                29\n",
              "electrl trnst mech, asst sprv      27\n",
              "incident support specialist        25\n",
              "maintenance machinist              22\n",
              "architect                          21\n",
              "communications systems tech        20\n",
              "public safetycomm disp             20\n",
              "station agent, muni railway        20\n",
              "bldgs & grounds maint supt         19\n",
              "electr maint tech asst sprv        18\n",
              "sr power generation tech           18\n",
              "commander 3                        18\n",
              "mayoral staff xvii                 17\n",
              "automotive trnst shop sprv 1       15\n",
              "chf statnry eng,wtrtreat plnt      15\n",
              "wire rope cable maint mechanic     15\n",
              "Name: JobTitle, dtype: Int64"
            ]
          },
          "metadata": {},
          "execution_count": 633
        }
      ]
    },
    {
      "cell_type": "code",
      "source": [
        "profession_dict.update({\"arch\" :\"architect\", \"director\":\"executives\", \"maint\":\"maintenance\"})\n",
        "def_prof()"
      ],
      "metadata": {
        "colab": {
          "base_uri": "https://localhost:8080/"
        },
        "id": "6jS6dkfToP45",
        "outputId": "d84b4380-dc15-4951-ef27-5a018cf14d08"
      },
      "execution_count": 634,
      "outputs": [
        {
          "output_type": "stream",
          "name": "stderr",
          "text": [
            "/usr/local/lib/python3.7/dist-packages/pandas/core/indexing.py:1817: SettingWithCopyWarning: \n",
            "A value is trying to be set on a copy of a slice from a DataFrame.\n",
            "Try using .loc[row_indexer,col_indexer] = value instead\n",
            "\n",
            "See the caveats in the documentation: https://pandas.pydata.org/pandas-docs/stable/user_guide/indexing.html#returning-a-view-versus-a-copy\n",
            "  self._setitem_single_column(loc, value, pi)\n"
          ]
        }
      ]
    },
    {
      "cell_type": "markdown",
      "source": [
        "Для немногочисленных высокооплачиваемых профессий поле Profession определим равным JobTitle"
      ],
      "metadata": {
        "id": "TM1qIVbWsY98"
      }
    },
    {
      "cell_type": "code",
      "source": [
        "sal.loc[(sal.Profession.str.contains(\"TBD\"))&(sal.TotalPay>130000), \"Profession\"] = sal.loc[(sal.Profession.str.contains(\"TBD\"))&(sal.TotalPay>190000), \"JobTitle\"]"
      ],
      "metadata": {
        "id": "pQ7A6AiDrofR",
        "outputId": "e842fa0a-6dc9-49ee-e17f-6da1798f6069",
        "colab": {
          "base_uri": "https://localhost:8080/"
        }
      },
      "execution_count": 635,
      "outputs": [
        {
          "output_type": "stream",
          "name": "stderr",
          "text": [
            "/usr/local/lib/python3.7/dist-packages/pandas/core/indexing.py:1773: SettingWithCopyWarning: \n",
            "A value is trying to be set on a copy of a slice from a DataFrame.\n",
            "Try using .loc[row_indexer,col_indexer] = value instead\n",
            "\n",
            "See the caveats in the documentation: https://pandas.pydata.org/pandas-docs/stable/user_guide/indexing.html#returning-a-view-versus-a-copy\n",
            "  self._setitem_single_column(ilocs[0], value, pi)\n"
          ]
        }
      ]
    },
    {
      "cell_type": "markdown",
      "source": [
        "Boxplot для подмножества датасета, у которого Profession остался неопределенным, после всех преобразований и статистика по всем профессиям (ниже)"
      ],
      "metadata": {
        "id": "lgE8c0Zn1eCd"
      }
    },
    {
      "cell_type": "code",
      "source": [
        "#fig, axes = plt.subplots(1, 1, figsize=(32, 12))\n",
        "ax = sns.boxplot(x=\"Year\", y=\"TotalPay\", data=sal[(sal.Profession == \"TBD\")])\n",
        "plt.show()"
      ],
      "metadata": {
        "colab": {
          "base_uri": "https://localhost:8080/",
          "height": 279
        },
        "id": "tA4ap3jxtg7e",
        "outputId": "de26e561-81a4-4df9-fa32-0be9b89e4e75"
      },
      "execution_count": 636,
      "outputs": [
        {
          "output_type": "display_data",
          "data": {
            "text/plain": [
              "<Figure size 432x288 with 1 Axes>"
            ],
            "image/png": "[encoded data removed]"
          },
          "metadata": {
            "needs_background": "light"
          }
        }
      ]
    },
    {
      "cell_type": "code",
      "source": [
        "pd.pivot_table (sal, index = 'Id', values = 'TotalPay', columns = 'Profession',  aggfunc=np.sum).describe()"
      ],
      "metadata": {
        "id": "pxioVp4bzWsM",
        "outputId": "f1fa6c70-8c5e-4c81-e498-238256847836",
        "colab": {
          "base_uri": "https://localhost:8080/",
          "height": 428
        }
      },
      "execution_count": 637,
      "outputs": [
        {
          "output_type": "execute_result",
          "data": {
            "text/plain": [
              "Profession            TBD     accountant  administrator, dph        analyst  \\\n",
              "count        36254.000000    1010.000000            2.000000    4721.000000   \n",
              "mean         60643.492574   72673.134069       256750.460000   82415.229498   \n",
              "std          33454.622477   27113.484656        36584.997752   29656.649652   \n",
              "min           -618.130000      70.230000       230880.960000      16.090000   \n",
              "25%          36094.585000   59322.792500       243815.710000   67898.010000   \n",
              "50%          66223.770000   77272.505000       256750.460000   88687.330000   \n",
              "75%          84564.030000   94042.630000       269685.210000  103091.490000   \n",
              "max         129996.740000  119516.190000       282619.960000  178813.700000   \n",
              "\n",
              "Profession      architect  asst med examiner       attorney  \\\n",
              "count         1655.000000           8.000000    1922.000000   \n",
              "mean         65376.213142      301659.681250  133529.893314   \n",
              "std          59424.497097       50570.741154   51011.426901   \n",
              "min             32.290000      238110.930000      13.350000   \n",
              "25%          12447.760000      273743.080000  103460.982500   \n",
              "50%          35902.570000      284509.130000  144169.205000   \n",
              "75%         114814.780000      337700.335000  171782.940000   \n",
              "max         201803.000000      390111.980000  252221.060000   \n",
              "\n",
              "Profession  automotive mechanic sprv 1        captain  \\\n",
              "count                             1.00     514.000000   \n",
              "mean                         190952.97  197159.122685   \n",
              "std                                NaN   37618.684195   \n",
              "min                          190952.97    3259.400000   \n",
              "25%                          190952.97  174348.630000   \n",
              "50%                          190952.97  197935.290000   \n",
              "75%                          190952.97  216691.800000   \n",
              "max                          190952.97  350403.410000   \n",
              "\n",
              "Profession  chf prob ofc, juv court  ...  senior comm systems technican  \\\n",
              "count                      2.000000  ...                       2.000000   \n",
              "mean                  198665.565000  ...                  190960.945000   \n",
              "std                      793.663722  ...                    1050.682895   \n",
              "min                   198104.360000  ...                  190218.000000   \n",
              "25%                   198384.962500  ...                  190589.472500   \n",
              "50%                   198665.565000  ...                  190960.945000   \n",
              "75%                   198946.167500  ...                  191332.417500   \n",
              "max                   199226.770000  ...                  191703.890000   \n",
              "\n",
              "Profession        sheriff  special assistant 21  special assistant 22  \\\n",
              "count          305.000000              2.000000              3.000000   \n",
              "mean         37088.216295         204073.350000         208125.146667   \n",
              "std          36193.787593           2999.320692           8323.685447   \n",
              "min             24.760000         201952.510000         200308.310000   \n",
              "25%          17607.760000         203012.930000         203749.340000   \n",
              "50%          36837.510000         204073.350000         207190.370000   \n",
              "75%          45185.030000         205133.770000         212033.565000   \n",
              "max         231739.640000         206194.190000         216876.760000   \n",
              "\n",
              "Profession  special assistant xxii  train controller  \\\n",
              "count                         1.00               1.0   \n",
              "mean                     199765.74          190566.4   \n",
              "std                            NaN               NaN   \n",
              "min                      199765.74          190566.4   \n",
              "25%                      199765.74          190566.4   \n",
              "50%                      199765.74          190566.4   \n",
              "75%                      199765.74          190566.4   \n",
              "max                      199765.74          190566.4   \n",
              "\n",
              "Profession  transmission line supervisor 1  transportation        utility  \\\n",
              "count                                 1.00    10907.000000     849.000000   \n",
              "mean                             194942.98    69000.242433   95564.950118   \n",
              "std                                    NaN    34034.370069   38606.839882   \n",
              "min                              194942.98        0.300000      24.520000   \n",
              "25%                              194942.98    50119.510000   69183.570000   \n",
              "50%                              194942.98    73871.130000  102351.740000   \n",
              "75%                              194942.98    87652.175000  123255.790000   \n",
              "max                              194942.98   230239.980000  187528.180000   \n",
              "\n",
              "Profession     welder  \n",
              "count            1.00  \n",
              "mean        190014.48  \n",
              "std               NaN  \n",
              "min         190014.48  \n",
              "25%         190014.48  \n",
              "50%         190014.48  \n",
              "75%         190014.48  \n",
              "max         190014.48  \n",
              "\n",
              "[8 rows x 60 columns]"
            ],
            "text/html": [
              "\n",
              "  <div id=\"df-99e86149-328e-42b7-9f84-941cff20f233\">\n",
              "    <div class=\"colab-df-container\">\n",
              "      <div>\n",
              "<style scoped>\n",
              "    .dataframe tbody tr th:only-of-type {\n",
              "        vertical-align: middle;\n",
              "    }\n",
              "\n",
              "    .dataframe tbody tr th {\n",
              "        vertical-align: top;\n",
              "    }\n",
              "\n",
              "    .dataframe thead th {\n",
              "        text-align: right;\n",
              "    }\n",
              "</style>\n",
              "<table border=\"1\" class=\"dataframe\">\n",
              "  <thead>\n",
              "    <tr style=\"text-align: right;\">\n",
              "      <th>Profession</th>\n",
              "      <th>TBD</th>\n",
              "      <th>accountant</th>\n",
              "      <th>administrator, dph</th>\n",
              "      <th>analyst</th>\n",
              "      <th>architect</th>\n",
              "      <th>asst med examiner</th>\n",
              "      <th>attorney</th>\n",
              "      <th>automotive mechanic sprv 1</th>\n",
              "      <th>captain</th>\n",
              "      <th>chf prob ofc, juv court</th>\n",
              "      <th>...</th>\n",
              "      <th>senior comm systems technican</th>\n",
              "      <th>sheriff</th>\n",
              "      <th>special assistant 21</th>\n",
              "      <th>special assistant 22</th>\n",
              "      <th>special assistant xxii</th>\n",
              "      <th>train controller</th>\n",
              "      <th>transmission line supervisor 1</th>\n",
              "      <th>transportation</th>\n",
              "      <th>utility</th>\n",
              "      <th>welder</th>\n",
              "    </tr>\n",
              "  </thead>\n",
              "  <tbody>\n",
              "    <tr>\n",
              "      <th>count</th>\n",
              "      <td>36254.000000</td>\n",
              "      <td>1010.000000</td>\n",
              "      <td>2.000000</td>\n",
              "      <td>4721.000000</td>\n",
              "      <td>1655.000000</td>\n",
              "      <td>8.000000</td>\n",
              "      <td>1922.000000</td>\n",
              "      <td>1.00</td>\n",
              "      <td>514.000000</td>\n",
              "      <td>2.000000</td>\n",
              "      <td>...</td>\n",
              "      <td>2.000000</td>\n",
              "      <td>305.000000</td>\n",
              "      <td>2.000000</td>\n",
              "      <td>3.000000</td>\n",
              "      <td>1.00</td>\n",
              "      <td>1.0</td>\n",
              "      <td>1.00</td>\n",
              "      <td>10907.000000</td>\n",
              "      <td>849.000000</td>\n",
              "      <td>1.00</td>\n",
              "    </tr>\n",
              "    <tr>\n",
              "      <th>mean</th>\n",
              "      <td>60643.492574</td>\n",
              "      <td>72673.134069</td>\n",
              "      <td>256750.460000</td>\n",
              "      <td>82415.229498</td>\n",
              "      <td>65376.213142</td>\n",
              "      <td>301659.681250</td>\n",
              "      <td>133529.893314</td>\n",
              "      <td>190952.97</td>\n",
              "      <td>197159.122685</td>\n",
              "      <td>198665.565000</td>\n",
              "      <td>...</td>\n",
              "      <td>190960.945000</td>\n",
              "      <td>37088.216295</td>\n",
              "      <td>204073.350000</td>\n",
              "      <td>208125.146667</td>\n",
              "      <td>199765.74</td>\n",
              "      <td>190566.4</td>\n",
              "      <td>194942.98</td>\n",
              "      <td>69000.242433</td>\n",
              "      <td>95564.950118</td>\n",
              "      <td>190014.48</td>\n",
              "    </tr>\n",
              "    <tr>\n",
              "      <th>std</th>\n",
              "      <td>33454.622477</td>\n",
              "      <td>27113.484656</td>\n",
              "      <td>36584.997752</td>\n",
              "      <td>29656.649652</td>\n",
              "      <td>59424.497097</td>\n",
              "      <td>50570.741154</td>\n",
              "      <td>51011.426901</td>\n",
              "      <td>NaN</td>\n",
              "      <td>37618.684195</td>\n",
              "      <td>793.663722</td>\n",
              "      <td>...</td>\n",
              "      <td>1050.682895</td>\n",
              "      <td>36193.787593</td>\n",
              "      <td>2999.320692</td>\n",
              "      <td>8323.685447</td>\n",
              "      <td>NaN</td>\n",
              "      <td>NaN</td>\n",
              "      <td>NaN</td>\n",
              "      <td>34034.370069</td>\n",
              "      <td>38606.839882</td>\n",
              "      <td>NaN</td>\n",
              "    </tr>\n",
              "    <tr>\n",
              "      <th>min</th>\n",
              "      <td>-618.130000</td>\n",
              "      <td>70.230000</td>\n",
              "      <td>230880.960000</td>\n",
              "      <td>16.090000</td>\n",
              "      <td>32.290000</td>\n",
              "      <td>238110.930000</td>\n",
              "      <td>13.350000</td>\n",
              "      <td>190952.97</td>\n",
              "      <td>3259.400000</td>\n",
              "      <td>198104.360000</td>\n",
              "      <td>...</td>\n",
              "      <td>190218.000000</td>\n",
              "      <td>24.760000</td>\n",
              "      <td>201952.510000</td>\n",
              "      <td>200308.310000</td>\n",
              "      <td>199765.74</td>\n",
              "      <td>190566.4</td>\n",
              "      <td>194942.98</td>\n",
              "      <td>0.300000</td>\n",
              "      <td>24.520000</td>\n",
              "      <td>190014.48</td>\n",
              "    </tr>\n",
              "    <tr>\n",
              "      <th>25%</th>\n",
              "      <td>36094.585000</td>\n",
              "      <td>59322.792500</td>\n",
              "      <td>243815.710000</td>\n",
              "      <td>67898.010000</td>\n",
              "      <td>12447.760000</td>\n",
              "      <td>273743.080000</td>\n",
              "      <td>103460.982500</td>\n",
              "      <td>190952.97</td>\n",
              "      <td>174348.630000</td>\n",
              "      <td>198384.962500</td>\n",
              "      <td>...</td>\n",
              "      <td>190589.472500</td>\n",
              "      <td>17607.760000</td>\n",
              "      <td>203012.930000</td>\n",
              "      <td>203749.340000</td>\n",
              "      <td>199765.74</td>\n",
              "      <td>190566.4</td>\n",
              "      <td>194942.98</td>\n",
              "      <td>50119.510000</td>\n",
              "      <td>69183.570000</td>\n",
              "      <td>190014.48</td>\n",
              "    </tr>\n",
              "    <tr>\n",
              "      <th>50%</th>\n",
              "      <td>66223.770000</td>\n",
              "      <td>77272.505000</td>\n",
              "      <td>256750.460000</td>\n",
              "      <td>88687.330000</td>\n",
              "      <td>35902.570000</td>\n",
              "      <td>284509.130000</td>\n",
              "      <td>144169.205000</td>\n",
              "      <td>190952.97</td>\n",
              "      <td>197935.290000</td>\n",
              "      <td>198665.565000</td>\n",
              "      <td>...</td>\n",
              "      <td>190960.945000</td>\n",
              "      <td>36837.510000</td>\n",
              "      <td>204073.350000</td>\n",
              "      <td>207190.370000</td>\n",
              "      <td>199765.74</td>\n",
              "      <td>190566.4</td>\n",
              "      <td>194942.98</td>\n",
              "      <td>73871.130000</td>\n",
              "      <td>102351.740000</td>\n",
              "      <td>190014.48</td>\n",
              "    </tr>\n",
              "    <tr>\n",
              "      <th>75%</th>\n",
              "      <td>84564.030000</td>\n",
              "      <td>94042.630000</td>\n",
              "      <td>269685.210000</td>\n",
              "      <td>103091.490000</td>\n",
              "      <td>114814.780000</td>\n",
              "      <td>337700.335000</td>\n",
              "      <td>171782.940000</td>\n",
              "      <td>190952.97</td>\n",
              "      <td>216691.800000</td>\n",
              "      <td>198946.167500</td>\n",
              "      <td>...</td>\n",
              "      <td>191332.417500</td>\n",
              "      <td>45185.030000</td>\n",
              "      <td>205133.770000</td>\n",
              "      <td>212033.565000</td>\n",
              "      <td>199765.74</td>\n",
              "      <td>190566.4</td>\n",
              "      <td>194942.98</td>\n",
              "      <td>87652.175000</td>\n",
              "      <td>123255.790000</td>\n",
              "      <td>190014.48</td>\n",
              "    </tr>\n",
              "    <tr>\n",
              "      <th>max</th>\n",
              "      <td>129996.740000</td>\n",
              "      <td>119516.190000</td>\n",
              "      <td>282619.960000</td>\n",
              "      <td>178813.700000</td>\n",
              "      <td>201803.000000</td>\n",
              "      <td>390111.980000</td>\n",
              "      <td>252221.060000</td>\n",
              "      <td>190952.97</td>\n",
              "      <td>350403.410000</td>\n",
              "      <td>199226.770000</td>\n",
              "      <td>...</td>\n",
              "      <td>191703.890000</td>\n",
              "      <td>231739.640000</td>\n",
              "      <td>206194.190000</td>\n",
              "      <td>216876.760000</td>\n",
              "      <td>199765.74</td>\n",
              "      <td>190566.4</td>\n",
              "      <td>194942.98</td>\n",
              "      <td>230239.980000</td>\n",
              "      <td>187528.180000</td>\n",
              "      <td>190014.48</td>\n",
              "    </tr>\n",
              "  </tbody>\n",
              "</table>\n",
              "<p>8 rows × 60 columns</p>\n",
              "</div>\n",
              "      <button class=\"colab-df-convert\" onclick=\"convertToInteractive('df-99e86149-328e-42b7-9f84-941cff20f233')\"\n",
              "              title=\"Convert this dataframe to an interactive table.\"\n",
              "              style=\"display:none;\">\n",
              "        \n",
              "  <svg xmlns=\"http://www.w3.org/2000/svg\" height=\"24px\"viewBox=\"0 0 24 24\"\n",
              "       width=\"24px\">\n",
              "    <path d=\"M0 0h24v24H0V0z\" fill=\"none\"/>\n",
              "    <path d=\"M18.56 5.44l.94 2.06.94-2.06 2.06-.94-2.06-.94-.94-2.06-.94 2.06-2.06.94zm-11 1L8.5 8.5l.94-2.06 2.06-.94-2.06-.94L8.5 2.5l-.94 2.06-2.06.94zm10 10l.94 2.06.94-2.06 2.06-.94-2.06-.94-.94-2.06-.94 2.06-2.06.94z\"/><path d=\"M17.41 7.96l-1.37-1.37c-.4-.4-.92-.59-1.43-.59-.52 0-1.04.2-1.43.59L10.3 9.45l-7.72 7.72c-.78.78-.78 2.05 0 2.83L4 21.41c.39.39.9.59 1.41.59.51 0 1.02-.2 1.41-.59l7.78-7.78 2.81-2.81c.8-.78.8-2.07 0-2.86zM5.41 20L4 18.59l7.72-7.72 1.47 1.35L5.41 20z\"/>\n",
              "  </svg>\n",
              "      </button>\n",
              "      \n",
              "  <style>\n",
              "    .colab-df-container {\n",
              "      display:flex;\n",
              "      flex-wrap:wrap;\n",
              "      gap: 12px;\n",
              "    }\n",
              "\n",
              "    .colab-df-convert {\n",
              "      background-color: #E8F0FE;\n",
              "      border: none;\n",
              "      border-radius: 50%;\n",
              "      cursor: pointer;\n",
              "      display: none;\n",
              "      fill: #1967D2;\n",
              "      height: 32px;\n",
              "      padding: 0 0 0 0;\n",
              "      width: 32px;\n",
              "    }\n",
              "\n",
              "    .colab-df-convert:hover {\n",
              "      background-color: #E2EBFA;\n",
              "      box-shadow: 0px 1px 2px rgba(60, 64, 67, 0.3), 0px 1px 3px 1px rgba(60, 64, 67, 0.15);\n",
              "      fill: #174EA6;\n",
              "    }\n",
              "\n",
              "    [theme=dark] .colab-df-convert {\n",
              "      background-color: #3B4455;\n",
              "      fill: #D2E3FC;\n",
              "    }\n",
              "\n",
              "    [theme=dark] .colab-df-convert:hover {\n",
              "      background-color: #434B5C;\n",
              "      box-shadow: 0px 1px 3px 1px rgba(0, 0, 0, 0.15);\n",
              "      filter: drop-shadow(0px 1px 2px rgba(0, 0, 0, 0.3));\n",
              "      fill: #FFFFFF;\n",
              "    }\n",
              "  </style>\n",
              "\n",
              "      <script>\n",
              "        const buttonEl =\n",
              "          document.querySelector('#df-99e86149-328e-42b7-9f84-941cff20f233 button.colab-df-convert');\n",
              "        buttonEl.style.display =\n",
              "          google.colab.kernel.accessAllowed ? 'block' : 'none';\n",
              "\n",
              "        async function convertToInteractive(key) {\n",
              "          const element = document.querySelector('#df-99e86149-328e-42b7-9f84-941cff20f233');\n",
              "          const dataTable =\n",
              "            await google.colab.kernel.invokeFunction('convertToInteractive',\n",
              "                                                     [key], {});\n",
              "          if (!dataTable) return;\n",
              "\n",
              "          const docLinkHtml = 'Like what you see? Visit the ' +\n",
              "            '<a target=\"_blank\" href=https://colab.research.google.com/notebooks/data_table.ipynb>data table notebook</a>'\n",
              "            + ' to learn more about interactive tables.';\n",
              "          element.innerHTML = '';\n",
              "          dataTable['output_type'] = 'display_data';\n",
              "          await google.colab.output.renderOutput(dataTable, element);\n",
              "          const docLink = document.createElement('div');\n",
              "          docLink.innerHTML = docLinkHtml;\n",
              "          element.appendChild(docLink);\n",
              "        }\n",
              "      </script>\n",
              "    </div>\n",
              "  </div>\n",
              "  "
            ]
          },
          "metadata": {},
          "execution_count": 637
        }
      ]
    },
    {
      "cell_type": "code",
      "source": [
        "#sns.histplot(data=sal.loc[(sal.JobTitle.str.contains(\"administrative analys\"))&(sal.Profession.str.contains(\"TBD\"))], x=\"TotalPay\")"
      ],
      "metadata": {
        "id": "8pPs_m4xpOWu"
      },
      "execution_count": null,
      "outputs": []
    },
    {
      "cell_type": "code",
      "source": [
        "# idx1 = (sal.iloc[upper]).index\n",
        "# idx2 = sal[sal.Profession == \"TBD\"].index\n",
        "# idx = idx2.intersection(idx1).values\n",
        "# sal[\"Profession\"].loc[idx1].value_counts()"
      ],
      "metadata": {
        "id": "zxf05VUv2F7q"
      },
      "execution_count": null,
      "outputs": []
    },
    {
      "cell_type": "code",
      "source": [
        "sal.loc[sal[\"Benefits\"]>0,[\"JobTitle\",\"Profession\"]].value_counts().head(10)"
      ],
      "metadata": {
        "colab": {
          "base_uri": "https://localhost:8080/"
        },
        "id": "yLLQqdxGCX6K",
        "outputId": "a4c9e007-fcc8-4f2f-ec27-6710f512b410"
      },
      "execution_count": null,
      "outputs": [
        {
          "output_type": "execute_result",
          "data": {
            "text/plain": [
              "JobTitle                      Profession         \n",
              "transit operator              transportation         6976\n",
              "special nurse                 medicine               4142\n",
              "registered nurse              medicine               3724\n",
              "public svc aide-public works  Public Service jobs    2481\n",
              "police officer 3              police                 2376\n",
              "custodian                     custodian              2373\n",
              "firefighter                   fire                   2345\n",
              "patient care assistant        medicine               1928\n",
              "deputy sheriff                sheriff                1914\n",
              "recreation leader             recreation leader      1899\n",
              "dtype: int64"
            ]
          },
          "metadata": {},
          "execution_count": 39
        }
      ]
    },
    {
      "cell_type": "code",
      "source": [
        "sns.set(rc={'figure.figsize':(10,10)})\n",
        "sns.histplot(data=sal.loc[sal.JobTitle.str.lower().str.contains(\"porter|general laborer|gardener\")], x=\"TotalPay\", hue=\"JobTitle\")"
      ],
      "metadata": {
        "colab": {
          "base_uri": "https://localhost:8080/",
          "height": 628
        },
        "id": "m_whvClCDb2Q",
        "outputId": "363f5b64-349b-4f39-ea37-be6083c7c98e"
      },
      "execution_count": null,
      "outputs": [
        {
          "output_type": "execute_result",
          "data": {
            "text/plain": [
              "<matplotlib.axes._subplots.AxesSubplot at 0x7f846417d710>"
            ]
          },
          "metadata": {},
          "execution_count": 44
        },
        {
          "output_type": "display_data",
          "data": {
            "text/plain": [
              "<Figure size 720x720 with 1 Axes>"
            ],
            "image/png": "[encoded data removed]"
          },
          "metadata": {}
        }
      ]
    },
    {
      "cell_type": "code",
      "source": [
        "sal[sal.JobTitle.str.lower().str.contains(\"court\")]"
      ],
      "metadata": {
        "colab": {
          "base_uri": "https://localhost:8080/",
          "height": 423
        },
        "id": "qoDClJj7zXU5",
        "outputId": "9a72bf82-90a7-4146-aab7-9e0bee913149"
      },
      "execution_count": null,
      "outputs": [
        {
          "output_type": "execute_result",
          "data": {
            "text/plain": [
              "            Id        EmployeeName                                 JobTitle  \\\n",
              "398        399  WILLIAM SIFFERMANN  chief probation officer, juvenile court   \n",
              "803        804       TERRENCE YUEN                  court executive officer   \n",
              "1803      1804      MELISSA TAPPLY              senior court staff attorney   \n",
              "2135      2136    REBECCA WIGHTMAN                       court commissioner   \n",
              "2370      2371       ARLENE BORICK                       court commissioner   \n",
              "...        ...                 ...                                      ...   \n",
              "120990  120991         Derek J Hom                 sprv prob ofc, juv court   \n",
              "130320  130321  Rosario A Carbajal           court alternative specialist 1   \n",
              "130321  130322   Alfredo Bojorquez           court alternative specialist 1   \n",
              "132378  132379    Tamara B Aparton           court alternative specialist 1   \n",
              "136749  136750       Shona Navarre                              court clerk   \n",
              "\n",
              "          BasePay  OvertimePay  OtherPay  Benefits   TotalPay  \\\n",
              "398     191319.45          0.0      0.00      0.00  191319.45   \n",
              "803     176028.39          0.0      0.00      0.00  176028.39   \n",
              "1803    110800.24          0.0  45333.73      0.00  156133.97   \n",
              "2135    151387.60          0.0      0.00      0.00  151387.60   \n",
              "2370    122274.60          0.0  25619.61      0.00  147894.21   \n",
              "...           ...          ...       ...       ...        ...   \n",
              "120990  103241.03          0.0      0.00  33977.02  103241.03   \n",
              "130320   68159.03          0.0   1040.00  28986.49   69199.03   \n",
              "130321   68159.01          0.0   1040.00  28986.49   69199.01   \n",
              "132378   62293.82          0.0      0.00  28102.97   62293.82   \n",
              "136749   47093.92          0.0   5507.21  17764.40   52601.13   \n",
              "\n",
              "        TotalPayBenefits  Year Profession  \n",
              "398            191319.45  2011        TBD  \n",
              "803            176028.39  2011        TBD  \n",
              "1803           156133.97  2011   attorney  \n",
              "2135           151387.60  2011        TBD  \n",
              "2370           147894.21  2011        TBD  \n",
              "...                  ...   ...        ...  \n",
              "120990         137218.05  2014        TBD  \n",
              "130320          98185.52  2014        TBD  \n",
              "130321          98185.50  2014        TBD  \n",
              "132378          90396.79  2014        TBD  \n",
              "136749          70365.53  2014      clerk  \n",
              "\n",
              "[1519 rows x 11 columns]"
            ],
            "text/html": [
              "\n",
              "  <div id=\"df-f237ccc4-6364-4d85-a3b3-92dfa1d484f2\">\n",
              "    <div class=\"colab-df-container\">\n",
              "      <div>\n",
              "<style scoped>\n",
              "    .dataframe tbody tr th:only-of-type {\n",
              "        vertical-align: middle;\n",
              "    }\n",
              "\n",
              "    .dataframe tbody tr th {\n",
              "        vertical-align: top;\n",
              "    }\n",
              "\n",
              "    .dataframe thead th {\n",
              "        text-align: right;\n",
              "    }\n",
              "</style>\n",
              "<table border=\"1\" class=\"dataframe\">\n",
              "  <thead>\n",
              "    <tr style=\"text-align: right;\">\n",
              "      <th></th>\n",
              "      <th>Id</th>\n",
              "      <th>EmployeeName</th>\n",
              "      <th>JobTitle</th>\n",
              "      <th>BasePay</th>\n",
              "      <th>OvertimePay</th>\n",
              "      <th>OtherPay</th>\n",
              "      <th>Benefits</th>\n",
              "      <th>TotalPay</th>\n",
              "      <th>TotalPayBenefits</th>\n",
              "      <th>Year</th>\n",
              "      <th>Profession</th>\n",
              "    </tr>\n",
              "  </thead>\n",
              "  <tbody>\n",
              "    <tr>\n",
              "      <th>398</th>\n",
              "      <td>399</td>\n",
              "      <td>WILLIAM SIFFERMANN</td>\n",
              "      <td>chief probation officer, juvenile court</td>\n",
              "      <td>191319.45</td>\n",
              "      <td>0.0</td>\n",
              "      <td>0.00</td>\n",
              "      <td>0.00</td>\n",
              "      <td>191319.45</td>\n",
              "      <td>191319.45</td>\n",
              "      <td>2011</td>\n",
              "      <td>TBD</td>\n",
              "    </tr>\n",
              "    <tr>\n",
              "      <th>803</th>\n",
              "      <td>804</td>\n",
              "      <td>TERRENCE YUEN</td>\n",
              "      <td>court executive officer</td>\n",
              "      <td>176028.39</td>\n",
              "      <td>0.0</td>\n",
              "      <td>0.00</td>\n",
              "      <td>0.00</td>\n",
              "      <td>176028.39</td>\n",
              "      <td>176028.39</td>\n",
              "      <td>2011</td>\n",
              "      <td>TBD</td>\n",
              "    </tr>\n",
              "    <tr>\n",
              "      <th>1803</th>\n",
              "      <td>1804</td>\n",
              "      <td>MELISSA TAPPLY</td>\n",
              "      <td>senior court staff attorney</td>\n",
              "      <td>110800.24</td>\n",
              "      <td>0.0</td>\n",
              "      <td>45333.73</td>\n",
              "      <td>0.00</td>\n",
              "      <td>156133.97</td>\n",
              "      <td>156133.97</td>\n",
              "      <td>2011</td>\n",
              "      <td>attorney</td>\n",
              "    </tr>\n",
              "    <tr>\n",
              "      <th>2135</th>\n",
              "      <td>2136</td>\n",
              "      <td>REBECCA WIGHTMAN</td>\n",
              "      <td>court commissioner</td>\n",
              "      <td>151387.60</td>\n",
              "      <td>0.0</td>\n",
              "      <td>0.00</td>\n",
              "      <td>0.00</td>\n",
              "      <td>151387.60</td>\n",
              "      <td>151387.60</td>\n",
              "      <td>2011</td>\n",
              "      <td>TBD</td>\n",
              "    </tr>\n",
              "    <tr>\n",
              "      <th>2370</th>\n",
              "      <td>2371</td>\n",
              "      <td>ARLENE BORICK</td>\n",
              "      <td>court commissioner</td>\n",
              "      <td>122274.60</td>\n",
              "      <td>0.0</td>\n",
              "      <td>25619.61</td>\n",
              "      <td>0.00</td>\n",
              "      <td>147894.21</td>\n",
              "      <td>147894.21</td>\n",
              "      <td>2011</td>\n",
              "      <td>TBD</td>\n",
              "    </tr>\n",
              "    <tr>\n",
              "      <th>...</th>\n",
              "      <td>...</td>\n",
              "      <td>...</td>\n",
              "      <td>...</td>\n",
              "      <td>...</td>\n",
              "      <td>...</td>\n",
              "      <td>...</td>\n",
              "      <td>...</td>\n",
              "      <td>...</td>\n",
              "      <td>...</td>\n",
              "      <td>...</td>\n",
              "      <td>...</td>\n",
              "    </tr>\n",
              "    <tr>\n",
              "      <th>120990</th>\n",
              "      <td>120991</td>\n",
              "      <td>Derek J Hom</td>\n",
              "      <td>sprv prob ofc, juv court</td>\n",
              "      <td>103241.03</td>\n",
              "      <td>0.0</td>\n",
              "      <td>0.00</td>\n",
              "      <td>33977.02</td>\n",
              "      <td>103241.03</td>\n",
              "      <td>137218.05</td>\n",
              "      <td>2014</td>\n",
              "      <td>TBD</td>\n",
              "    </tr>\n",
              "    <tr>\n",
              "      <th>130320</th>\n",
              "      <td>130321</td>\n",
              "      <td>Rosario A Carbajal</td>\n",
              "      <td>court alternative specialist 1</td>\n",
              "      <td>68159.03</td>\n",
              "      <td>0.0</td>\n",
              "      <td>1040.00</td>\n",
              "      <td>28986.49</td>\n",
              "      <td>69199.03</td>\n",
              "      <td>98185.52</td>\n",
              "      <td>2014</td>\n",
              "      <td>TBD</td>\n",
              "    </tr>\n",
              "    <tr>\n",
              "      <th>130321</th>\n",
              "      <td>130322</td>\n",
              "      <td>Alfredo Bojorquez</td>\n",
              "      <td>court alternative specialist 1</td>\n",
              "      <td>68159.01</td>\n",
              "      <td>0.0</td>\n",
              "      <td>1040.00</td>\n",
              "      <td>28986.49</td>\n",
              "      <td>69199.01</td>\n",
              "      <td>98185.50</td>\n",
              "      <td>2014</td>\n",
              "      <td>TBD</td>\n",
              "    </tr>\n",
              "    <tr>\n",
              "      <th>132378</th>\n",
              "      <td>132379</td>\n",
              "      <td>Tamara B Aparton</td>\n",
              "      <td>court alternative specialist 1</td>\n",
              "      <td>62293.82</td>\n",
              "      <td>0.0</td>\n",
              "      <td>0.00</td>\n",
              "      <td>28102.97</td>\n",
              "      <td>62293.82</td>\n",
              "      <td>90396.79</td>\n",
              "      <td>2014</td>\n",
              "      <td>TBD</td>\n",
              "    </tr>\n",
              "    <tr>\n",
              "      <th>136749</th>\n",
              "      <td>136750</td>\n",
              "      <td>Shona Navarre</td>\n",
              "      <td>court clerk</td>\n",
              "      <td>47093.92</td>\n",
              "      <td>0.0</td>\n",
              "      <td>5507.21</td>\n",
              "      <td>17764.40</td>\n",
              "      <td>52601.13</td>\n",
              "      <td>70365.53</td>\n",
              "      <td>2014</td>\n",
              "      <td>clerk</td>\n",
              "    </tr>\n",
              "  </tbody>\n",
              "</table>\n",
              "<p>1519 rows × 11 columns</p>\n",
              "</div>\n",
              "      <button class=\"colab-df-convert\" onclick=\"convertToInteractive('df-f237ccc4-6364-4d85-a3b3-92dfa1d484f2')\"\n",
              "              title=\"Convert this dataframe to an interactive table.\"\n",
              "              style=\"display:none;\">\n",
              "        \n",
              "  <svg xmlns=\"http://www.w3.org/2000/svg\" height=\"24px\"viewBox=\"0 0 24 24\"\n",
              "       width=\"24px\">\n",
              "    <path d=\"M0 0h24v24H0V0z\" fill=\"none\"/>\n",
              "    <path d=\"M18.56 5.44l.94 2.06.94-2.06 2.06-.94-2.06-.94-.94-2.06-.94 2.06-2.06.94zm-11 1L8.5 8.5l.94-2.06 2.06-.94-2.06-.94L8.5 2.5l-.94 2.06-2.06.94zm10 10l.94 2.06.94-2.06 2.06-.94-2.06-.94-.94-2.06-.94 2.06-2.06.94z\"/><path d=\"M17.41 7.96l-1.37-1.37c-.4-.4-.92-.59-1.43-.59-.52 0-1.04.2-1.43.59L10.3 9.45l-7.72 7.72c-.78.78-.78 2.05 0 2.83L4 21.41c.39.39.9.59 1.41.59.51 0 1.02-.2 1.41-.59l7.78-7.78 2.81-2.81c.8-.78.8-2.07 0-2.86zM5.41 20L4 18.59l7.72-7.72 1.47 1.35L5.41 20z\"/>\n",
              "  </svg>\n",
              "      </button>\n",
              "      \n",
              "  <style>\n",
              "    .colab-df-container {\n",
              "      display:flex;\n",
              "      flex-wrap:wrap;\n",
              "      gap: 12px;\n",
              "    }\n",
              "\n",
              "    .colab-df-convert {\n",
              "      background-color: #E8F0FE;\n",
              "      border: none;\n",
              "      border-radius: 50%;\n",
              "      cursor: pointer;\n",
              "      display: none;\n",
              "      fill: #1967D2;\n",
              "      height: 32px;\n",
              "      padding: 0 0 0 0;\n",
              "      width: 32px;\n",
              "    }\n",
              "\n",
              "    .colab-df-convert:hover {\n",
              "      background-color: #E2EBFA;\n",
              "      box-shadow: 0px 1px 2px rgba(60, 64, 67, 0.3), 0px 1px 3px 1px rgba(60, 64, 67, 0.15);\n",
              "      fill: #174EA6;\n",
              "    }\n",
              "\n",
              "    [theme=dark] .colab-df-convert {\n",
              "      background-color: #3B4455;\n",
              "      fill: #D2E3FC;\n",
              "    }\n",
              "\n",
              "    [theme=dark] .colab-df-convert:hover {\n",
              "      background-color: #434B5C;\n",
              "      box-shadow: 0px 1px 3px 1px rgba(0, 0, 0, 0.15);\n",
              "      filter: drop-shadow(0px 1px 2px rgba(0, 0, 0, 0.3));\n",
              "      fill: #FFFFFF;\n",
              "    }\n",
              "  </style>\n",
              "\n",
              "      <script>\n",
              "        const buttonEl =\n",
              "          document.querySelector('#df-f237ccc4-6364-4d85-a3b3-92dfa1d484f2 button.colab-df-convert');\n",
              "        buttonEl.style.display =\n",
              "          google.colab.kernel.accessAllowed ? 'block' : 'none';\n",
              "\n",
              "        async function convertToInteractive(key) {\n",
              "          const element = document.querySelector('#df-f237ccc4-6364-4d85-a3b3-92dfa1d484f2');\n",
              "          const dataTable =\n",
              "            await google.colab.kernel.invokeFunction('convertToInteractive',\n",
              "                                                     [key], {});\n",
              "          if (!dataTable) return;\n",
              "\n",
              "          const docLinkHtml = 'Like what you see? Visit the ' +\n",
              "            '<a target=\"_blank\" href=https://colab.research.google.com/notebooks/data_table.ipynb>data table notebook</a>'\n",
              "            + ' to learn more about interactive tables.';\n",
              "          element.innerHTML = '';\n",
              "          dataTable['output_type'] = 'display_data';\n",
              "          await google.colab.output.renderOutput(dataTable, element);\n",
              "          const docLink = document.createElement('div');\n",
              "          docLink.innerHTML = docLinkHtml;\n",
              "          element.appendChild(docLink);\n",
              "        }\n",
              "      </script>\n",
              "    </div>\n",
              "  </div>\n",
              "  "
            ]
          },
          "metadata": {},
          "execution_count": 190
        }
      ]
    },
    {
      "cell_type": "code",
      "source": [
        "sal.describe()"
      ],
      "metadata": {
        "colab": {
          "base_uri": "https://localhost:8080/",
          "height": 300
        },
        "id": "lfB0dfvui4Uw",
        "outputId": "d9b0b8a2-c183-4acb-a011-894036432741"
      },
      "execution_count": null,
      "outputs": [
        {
          "output_type": "execute_result",
          "data": {
            "text/plain": [
              "                  Id        BasePay    OvertimePay       OtherPay  \\\n",
              "count  148286.000000  148286.000000  148286.000000  148286.000000   \n",
              "mean    74239.942314   66217.654219    5078.495624    3657.723984   \n",
              "std     42919.899896   42813.312492   11465.676891    8064.453244   \n",
              "min         1.000000    -166.010000      -0.010000   -7058.590000   \n",
              "25%     37075.250000   33272.910000       0.000000       0.000000   \n",
              "50%     74171.500000   64957.515000       0.000000     819.535000   \n",
              "75%    111530.750000   94691.010000    4680.157500    4254.895000   \n",
              "max    148654.000000  319275.010000  245131.880000  400184.250000   \n",
              "\n",
              "            Benefits       TotalPay  TotalPayBenefits           Year  \n",
              "count  148286.000000  148286.000000     148286.000000  148286.000000  \n",
              "mean    18954.653363   74953.873827      93908.527191    2012.521317  \n",
              "std     17175.189711   50441.977909      62721.241666       1.118341  \n",
              "min       -13.800000    -618.130000       -618.130000    2011.000000  \n",
              "25%         0.000000   36679.020000      44691.035000    2012.000000  \n",
              "50%     23373.810000   71553.000000      92571.480000    2013.000000  \n",
              "75%     33492.905000  105967.057500     133004.167500    2014.000000  \n",
              "max     96570.660000  567595.430000     567595.430000    2014.000000  "
            ],
            "text/html": [
              "\n",
              "  <div id=\"df-cbce8d4e-72d3-456e-bf00-b97bec96b3f6\">\n",
              "    <div class=\"colab-df-container\">\n",
              "      <div>\n",
              "<style scoped>\n",
              "    .dataframe tbody tr th:only-of-type {\n",
              "        vertical-align: middle;\n",
              "    }\n",
              "\n",
              "    .dataframe tbody tr th {\n",
              "        vertical-align: top;\n",
              "    }\n",
              "\n",
              "    .dataframe thead th {\n",
              "        text-align: right;\n",
              "    }\n",
              "</style>\n",
              "<table border=\"1\" class=\"dataframe\">\n",
              "  <thead>\n",
              "    <tr style=\"text-align: right;\">\n",
              "      <th></th>\n",
              "      <th>Id</th>\n",
              "      <th>BasePay</th>\n",
              "      <th>OvertimePay</th>\n",
              "      <th>OtherPay</th>\n",
              "      <th>Benefits</th>\n",
              "      <th>TotalPay</th>\n",
              "      <th>TotalPayBenefits</th>\n",
              "      <th>Year</th>\n",
              "    </tr>\n",
              "  </thead>\n",
              "  <tbody>\n",
              "    <tr>\n",
              "      <th>count</th>\n",
              "      <td>148286.000000</td>\n",
              "      <td>148286.000000</td>\n",
              "      <td>148286.000000</td>\n",
              "      <td>148286.000000</td>\n",
              "      <td>148286.000000</td>\n",
              "      <td>148286.000000</td>\n",
              "      <td>148286.000000</td>\n",
              "      <td>148286.000000</td>\n",
              "    </tr>\n",
              "    <tr>\n",
              "      <th>mean</th>\n",
              "      <td>74239.942314</td>\n",
              "      <td>66217.654219</td>\n",
              "      <td>5078.495624</td>\n",
              "      <td>3657.723984</td>\n",
              "      <td>18954.653363</td>\n",
              "      <td>74953.873827</td>\n",
              "      <td>93908.527191</td>\n",
              "      <td>2012.521317</td>\n",
              "    </tr>\n",
              "    <tr>\n",
              "      <th>std</th>\n",
              "      <td>42919.899896</td>\n",
              "      <td>42813.312492</td>\n",
              "      <td>11465.676891</td>\n",
              "      <td>8064.453244</td>\n",
              "      <td>17175.189711</td>\n",
              "      <td>50441.977909</td>\n",
              "      <td>62721.241666</td>\n",
              "      <td>1.118341</td>\n",
              "    </tr>\n",
              "    <tr>\n",
              "      <th>min</th>\n",
              "      <td>1.000000</td>\n",
              "      <td>-166.010000</td>\n",
              "      <td>-0.010000</td>\n",
              "      <td>-7058.590000</td>\n",
              "      <td>-13.800000</td>\n",
              "      <td>-618.130000</td>\n",
              "      <td>-618.130000</td>\n",
              "      <td>2011.000000</td>\n",
              "    </tr>\n",
              "    <tr>\n",
              "      <th>25%</th>\n",
              "      <td>37075.250000</td>\n",
              "      <td>33272.910000</td>\n",
              "      <td>0.000000</td>\n",
              "      <td>0.000000</td>\n",
              "      <td>0.000000</td>\n",
              "      <td>36679.020000</td>\n",
              "      <td>44691.035000</td>\n",
              "      <td>2012.000000</td>\n",
              "    </tr>\n",
              "    <tr>\n",
              "      <th>50%</th>\n",
              "      <td>74171.500000</td>\n",
              "      <td>64957.515000</td>\n",
              "      <td>0.000000</td>\n",
              "      <td>819.535000</td>\n",
              "      <td>23373.810000</td>\n",
              "      <td>71553.000000</td>\n",
              "      <td>92571.480000</td>\n",
              "      <td>2013.000000</td>\n",
              "    </tr>\n",
              "    <tr>\n",
              "      <th>75%</th>\n",
              "      <td>111530.750000</td>\n",
              "      <td>94691.010000</td>\n",
              "      <td>4680.157500</td>\n",
              "      <td>4254.895000</td>\n",
              "      <td>33492.905000</td>\n",
              "      <td>105967.057500</td>\n",
              "      <td>133004.167500</td>\n",
              "      <td>2014.000000</td>\n",
              "    </tr>\n",
              "    <tr>\n",
              "      <th>max</th>\n",
              "      <td>148654.000000</td>\n",
              "      <td>319275.010000</td>\n",
              "      <td>245131.880000</td>\n",
              "      <td>400184.250000</td>\n",
              "      <td>96570.660000</td>\n",
              "      <td>567595.430000</td>\n",
              "      <td>567595.430000</td>\n",
              "      <td>2014.000000</td>\n",
              "    </tr>\n",
              "  </tbody>\n",
              "</table>\n",
              "</div>\n",
              "      <button class=\"colab-df-convert\" onclick=\"convertToInteractive('df-cbce8d4e-72d3-456e-bf00-b97bec96b3f6')\"\n",
              "              title=\"Convert this dataframe to an interactive table.\"\n",
              "              style=\"display:none;\">\n",
              "        \n",
              "  <svg xmlns=\"http://www.w3.org/2000/svg\" height=\"24px\"viewBox=\"0 0 24 24\"\n",
              "       width=\"24px\">\n",
              "    <path d=\"M0 0h24v24H0V0z\" fill=\"none\"/>\n",
              "    <path d=\"M18.56 5.44l.94 2.06.94-2.06 2.06-.94-2.06-.94-.94-2.06-.94 2.06-2.06.94zm-11 1L8.5 8.5l.94-2.06 2.06-.94-2.06-.94L8.5 2.5l-.94 2.06-2.06.94zm10 10l.94 2.06.94-2.06 2.06-.94-2.06-.94-.94-2.06-.94 2.06-2.06.94z\"/><path d=\"M17.41 7.96l-1.37-1.37c-.4-.4-.92-.59-1.43-.59-.52 0-1.04.2-1.43.59L10.3 9.45l-7.72 7.72c-.78.78-.78 2.05 0 2.83L4 21.41c.39.39.9.59 1.41.59.51 0 1.02-.2 1.41-.59l7.78-7.78 2.81-2.81c.8-.78.8-2.07 0-2.86zM5.41 20L4 18.59l7.72-7.72 1.47 1.35L5.41 20z\"/>\n",
              "  </svg>\n",
              "      </button>\n",
              "      \n",
              "  <style>\n",
              "    .colab-df-container {\n",
              "      display:flex;\n",
              "      flex-wrap:wrap;\n",
              "      gap: 12px;\n",
              "    }\n",
              "\n",
              "    .colab-df-convert {\n",
              "      background-color: #E8F0FE;\n",
              "      border: none;\n",
              "      border-radius: 50%;\n",
              "      cursor: pointer;\n",
              "      display: none;\n",
              "      fill: #1967D2;\n",
              "      height: 32px;\n",
              "      padding: 0 0 0 0;\n",
              "      width: 32px;\n",
              "    }\n",
              "\n",
              "    .colab-df-convert:hover {\n",
              "      background-color: #E2EBFA;\n",
              "      box-shadow: 0px 1px 2px rgba(60, 64, 67, 0.3), 0px 1px 3px 1px rgba(60, 64, 67, 0.15);\n",
              "      fill: #174EA6;\n",
              "    }\n",
              "\n",
              "    [theme=dark] .colab-df-convert {\n",
              "      background-color: #3B4455;\n",
              "      fill: #D2E3FC;\n",
              "    }\n",
              "\n",
              "    [theme=dark] .colab-df-convert:hover {\n",
              "      background-color: #434B5C;\n",
              "      box-shadow: 0px 1px 3px 1px rgba(0, 0, 0, 0.15);\n",
              "      filter: drop-shadow(0px 1px 2px rgba(0, 0, 0, 0.3));\n",
              "      fill: #FFFFFF;\n",
              "    }\n",
              "  </style>\n",
              "\n",
              "      <script>\n",
              "        const buttonEl =\n",
              "          document.querySelector('#df-cbce8d4e-72d3-456e-bf00-b97bec96b3f6 button.colab-df-convert');\n",
              "        buttonEl.style.display =\n",
              "          google.colab.kernel.accessAllowed ? 'block' : 'none';\n",
              "\n",
              "        async function convertToInteractive(key) {\n",
              "          const element = document.querySelector('#df-cbce8d4e-72d3-456e-bf00-b97bec96b3f6');\n",
              "          const dataTable =\n",
              "            await google.colab.kernel.invokeFunction('convertToInteractive',\n",
              "                                                     [key], {});\n",
              "          if (!dataTable) return;\n",
              "\n",
              "          const docLinkHtml = 'Like what you see? Visit the ' +\n",
              "            '<a target=\"_blank\" href=https://colab.research.google.com/notebooks/data_table.ipynb>data table notebook</a>'\n",
              "            + ' to learn more about interactive tables.';\n",
              "          element.innerHTML = '';\n",
              "          dataTable['output_type'] = 'display_data';\n",
              "          await google.colab.output.renderOutput(dataTable, element);\n",
              "          const docLink = document.createElement('div');\n",
              "          docLink.innerHTML = docLinkHtml;\n",
              "          element.appendChild(docLink);\n",
              "        }\n",
              "      </script>\n",
              "    </div>\n",
              "  </div>\n",
              "  "
            ]
          },
          "metadata": {},
          "execution_count": 47
        }
      ]
    },
    {
      "cell_type": "code",
      "source": [
        "sal[sal.Profession == \"TBD\"].describe()"
      ],
      "metadata": {
        "colab": {
          "base_uri": "https://localhost:8080/",
          "height": 300
        },
        "id": "55xWDn-qi544",
        "outputId": "f0537acf-149f-46b3-94f4-0479ad9d5ed7"
      },
      "execution_count": null,
      "outputs": [
        {
          "output_type": "execute_result",
          "data": {
            "text/plain": [
              "                  Id        BasePay    OvertimePay       OtherPay  \\\n",
              "count   78641.000000   78641.000000   78641.000000   78641.000000   \n",
              "mean    74518.876871   66660.942265    2649.058203    2385.870931   \n",
              "std     42398.935406   41135.050155    7288.658899    7042.334044   \n",
              "min         4.000000       0.000000      -0.010000   -7058.590000   \n",
              "25%     37045.000000   38985.560000       0.000000       0.000000   \n",
              "50%     74677.000000   67250.990000       0.000000     384.000000   \n",
              "75%    111934.000000   90693.020000    1333.210000    2047.330000   \n",
              "max    148654.000000  318835.490000  146415.320000  342802.630000   \n",
              "\n",
              "           Benefits       TotalPay  TotalPayBenefits          Year  \n",
              "count  78641.000000   78641.000000      78641.000000  78641.000000  \n",
              "mean   19480.047959   71695.871399      91175.919358   2012.519983  \n",
              "std    17081.706308   44341.588314      57203.042848      1.119471  \n",
              "min      -13.800000    -618.130000       -618.130000   2011.000000  \n",
              "25%        0.000000   42080.000000      50635.560000   2012.000000  \n",
              "50%    25003.720000   71968.200000      92487.330000   2013.000000  \n",
              "75%    32907.430000   97461.000000     126502.950000   2014.000000  \n",
              "max    96570.660000  471952.640000     510732.680000   2014.000000  "
            ],
            "text/html": [
              "\n",
              "  <div id=\"df-2d697477-b788-47df-a716-6634c453d807\">\n",
              "    <div class=\"colab-df-container\">\n",
              "      <div>\n",
              "<style scoped>\n",
              "    .dataframe tbody tr th:only-of-type {\n",
              "        vertical-align: middle;\n",
              "    }\n",
              "\n",
              "    .dataframe tbody tr th {\n",
              "        vertical-align: top;\n",
              "    }\n",
              "\n",
              "    .dataframe thead th {\n",
              "        text-align: right;\n",
              "    }\n",
              "</style>\n",
              "<table border=\"1\" class=\"dataframe\">\n",
              "  <thead>\n",
              "    <tr style=\"text-align: right;\">\n",
              "      <th></th>\n",
              "      <th>Id</th>\n",
              "      <th>BasePay</th>\n",
              "      <th>OvertimePay</th>\n",
              "      <th>OtherPay</th>\n",
              "      <th>Benefits</th>\n",
              "      <th>TotalPay</th>\n",
              "      <th>TotalPayBenefits</th>\n",
              "      <th>Year</th>\n",
              "    </tr>\n",
              "  </thead>\n",
              "  <tbody>\n",
              "    <tr>\n",
              "      <th>count</th>\n",
              "      <td>78641.000000</td>\n",
              "      <td>78641.000000</td>\n",
              "      <td>78641.000000</td>\n",
              "      <td>78641.000000</td>\n",
              "      <td>78641.000000</td>\n",
              "      <td>78641.000000</td>\n",
              "      <td>78641.000000</td>\n",
              "      <td>78641.000000</td>\n",
              "    </tr>\n",
              "    <tr>\n",
              "      <th>mean</th>\n",
              "      <td>74518.876871</td>\n",
              "      <td>66660.942265</td>\n",
              "      <td>2649.058203</td>\n",
              "      <td>2385.870931</td>\n",
              "      <td>19480.047959</td>\n",
              "      <td>71695.871399</td>\n",
              "      <td>91175.919358</td>\n",
              "      <td>2012.519983</td>\n",
              "    </tr>\n",
              "    <tr>\n",
              "      <th>std</th>\n",
              "      <td>42398.935406</td>\n",
              "      <td>41135.050155</td>\n",
              "      <td>7288.658899</td>\n",
              "      <td>7042.334044</td>\n",
              "      <td>17081.706308</td>\n",
              "      <td>44341.588314</td>\n",
              "      <td>57203.042848</td>\n",
              "      <td>1.119471</td>\n",
              "    </tr>\n",
              "    <tr>\n",
              "      <th>min</th>\n",
              "      <td>4.000000</td>\n",
              "      <td>0.000000</td>\n",
              "      <td>-0.010000</td>\n",
              "      <td>-7058.590000</td>\n",
              "      <td>-13.800000</td>\n",
              "      <td>-618.130000</td>\n",
              "      <td>-618.130000</td>\n",
              "      <td>2011.000000</td>\n",
              "    </tr>\n",
              "    <tr>\n",
              "      <th>25%</th>\n",
              "      <td>37045.000000</td>\n",
              "      <td>38985.560000</td>\n",
              "      <td>0.000000</td>\n",
              "      <td>0.000000</td>\n",
              "      <td>0.000000</td>\n",
              "      <td>42080.000000</td>\n",
              "      <td>50635.560000</td>\n",
              "      <td>2012.000000</td>\n",
              "    </tr>\n",
              "    <tr>\n",
              "      <th>50%</th>\n",
              "      <td>74677.000000</td>\n",
              "      <td>67250.990000</td>\n",
              "      <td>0.000000</td>\n",
              "      <td>384.000000</td>\n",
              "      <td>25003.720000</td>\n",
              "      <td>71968.200000</td>\n",
              "      <td>92487.330000</td>\n",
              "      <td>2013.000000</td>\n",
              "    </tr>\n",
              "    <tr>\n",
              "      <th>75%</th>\n",
              "      <td>111934.000000</td>\n",
              "      <td>90693.020000</td>\n",
              "      <td>1333.210000</td>\n",
              "      <td>2047.330000</td>\n",
              "      <td>32907.430000</td>\n",
              "      <td>97461.000000</td>\n",
              "      <td>126502.950000</td>\n",
              "      <td>2014.000000</td>\n",
              "    </tr>\n",
              "    <tr>\n",
              "      <th>max</th>\n",
              "      <td>148654.000000</td>\n",
              "      <td>318835.490000</td>\n",
              "      <td>146415.320000</td>\n",
              "      <td>342802.630000</td>\n",
              "      <td>96570.660000</td>\n",
              "      <td>471952.640000</td>\n",
              "      <td>510732.680000</td>\n",
              "      <td>2014.000000</td>\n",
              "    </tr>\n",
              "  </tbody>\n",
              "</table>\n",
              "</div>\n",
              "      <button class=\"colab-df-convert\" onclick=\"convertToInteractive('df-2d697477-b788-47df-a716-6634c453d807')\"\n",
              "              title=\"Convert this dataframe to an interactive table.\"\n",
              "              style=\"display:none;\">\n",
              "        \n",
              "  <svg xmlns=\"http://www.w3.org/2000/svg\" height=\"24px\"viewBox=\"0 0 24 24\"\n",
              "       width=\"24px\">\n",
              "    <path d=\"M0 0h24v24H0V0z\" fill=\"none\"/>\n",
              "    <path d=\"M18.56 5.44l.94 2.06.94-2.06 2.06-.94-2.06-.94-.94-2.06-.94 2.06-2.06.94zm-11 1L8.5 8.5l.94-2.06 2.06-.94-2.06-.94L8.5 2.5l-.94 2.06-2.06.94zm10 10l.94 2.06.94-2.06 2.06-.94-2.06-.94-.94-2.06-.94 2.06-2.06.94z\"/><path d=\"M17.41 7.96l-1.37-1.37c-.4-.4-.92-.59-1.43-.59-.52 0-1.04.2-1.43.59L10.3 9.45l-7.72 7.72c-.78.78-.78 2.05 0 2.83L4 21.41c.39.39.9.59 1.41.59.51 0 1.02-.2 1.41-.59l7.78-7.78 2.81-2.81c.8-.78.8-2.07 0-2.86zM5.41 20L4 18.59l7.72-7.72 1.47 1.35L5.41 20z\"/>\n",
              "  </svg>\n",
              "      </button>\n",
              "      \n",
              "  <style>\n",
              "    .colab-df-container {\n",
              "      display:flex;\n",
              "      flex-wrap:wrap;\n",
              "      gap: 12px;\n",
              "    }\n",
              "\n",
              "    .colab-df-convert {\n",
              "      background-color: #E8F0FE;\n",
              "      border: none;\n",
              "      border-radius: 50%;\n",
              "      cursor: pointer;\n",
              "      display: none;\n",
              "      fill: #1967D2;\n",
              "      height: 32px;\n",
              "      padding: 0 0 0 0;\n",
              "      width: 32px;\n",
              "    }\n",
              "\n",
              "    .colab-df-convert:hover {\n",
              "      background-color: #E2EBFA;\n",
              "      box-shadow: 0px 1px 2px rgba(60, 64, 67, 0.3), 0px 1px 3px 1px rgba(60, 64, 67, 0.15);\n",
              "      fill: #174EA6;\n",
              "    }\n",
              "\n",
              "    [theme=dark] .colab-df-convert {\n",
              "      background-color: #3B4455;\n",
              "      fill: #D2E3FC;\n",
              "    }\n",
              "\n",
              "    [theme=dark] .colab-df-convert:hover {\n",
              "      background-color: #434B5C;\n",
              "      box-shadow: 0px 1px 3px 1px rgba(0, 0, 0, 0.15);\n",
              "      filter: drop-shadow(0px 1px 2px rgba(0, 0, 0, 0.3));\n",
              "      fill: #FFFFFF;\n",
              "    }\n",
              "  </style>\n",
              "\n",
              "      <script>\n",
              "        const buttonEl =\n",
              "          document.querySelector('#df-2d697477-b788-47df-a716-6634c453d807 button.colab-df-convert');\n",
              "        buttonEl.style.display =\n",
              "          google.colab.kernel.accessAllowed ? 'block' : 'none';\n",
              "\n",
              "        async function convertToInteractive(key) {\n",
              "          const element = document.querySelector('#df-2d697477-b788-47df-a716-6634c453d807');\n",
              "          const dataTable =\n",
              "            await google.colab.kernel.invokeFunction('convertToInteractive',\n",
              "                                                     [key], {});\n",
              "          if (!dataTable) return;\n",
              "\n",
              "          const docLinkHtml = 'Like what you see? Visit the ' +\n",
              "            '<a target=\"_blank\" href=https://colab.research.google.com/notebooks/data_table.ipynb>data table notebook</a>'\n",
              "            + ' to learn more about interactive tables.';\n",
              "          element.innerHTML = '';\n",
              "          dataTable['output_type'] = 'display_data';\n",
              "          await google.colab.output.renderOutput(dataTable, element);\n",
              "          const docLink = document.createElement('div');\n",
              "          docLink.innerHTML = docLinkHtml;\n",
              "          element.appendChild(docLink);\n",
              "        }\n",
              "      </script>\n",
              "    </div>\n",
              "  </div>\n",
              "  "
            ]
          },
          "metadata": {},
          "execution_count": 48
        }
      ]
    },
    {
      "cell_type": "code",
      "source": [
        "sal[[\"Profession\",\"Year\"]].groupby([\"Year\", \"Profession\"]).Profession.count()"
      ],
      "metadata": {
        "colab": {
          "base_uri": "https://localhost:8080/"
        },
        "id": "pCO435c0t3dP",
        "outputId": "06d5bc19-cf16-4bef-c00a-771379b1d7a0"
      },
      "execution_count": null,
      "outputs": [
        {
          "output_type": "execute_result",
          "data": {
            "text/plain": [
              "Year  Profession         \n",
              "2011  Public Service jobs     1335\n",
              "      TBD                    19266\n",
              "      attorney                 589\n",
              "      clerk                   2394\n",
              "      custodian                796\n",
              "      fire                    1459\n",
              "      medicine                3788\n",
              "      police                  2567\n",
              "      sheriff                  905\n",
              "      transportation          3057\n",
              "2012  Public Service jobs     1634\n",
              "      TBD                    19413\n",
              "      attorney                 413\n",
              "      clerk                   2401\n",
              "      custodian                824\n",
              "      fire                    1449\n",
              "      medicine                4515\n",
              "      police                  2308\n",
              "      sheriff                  882\n",
              "      transportation          2902\n",
              "2013  Public Service jobs     1822\n",
              "      TBD                    19766\n",
              "      attorney                 419\n",
              "      clerk                   2322\n",
              "      custodian                787\n",
              "      fire                    1453\n",
              "      medicine                4593\n",
              "      police                  2327\n",
              "      sheriff                  876\n",
              "      transportation          2953\n",
              "2014  Public Service jobs     1949\n",
              "      TBD                    20196\n",
              "      attorney                 419\n",
              "      clerk                   2204\n",
              "      custodian                801\n",
              "      fire                    1509\n",
              "      medicine                4613\n",
              "      police                  2372\n",
              "      sheriff                  869\n",
              "      transportation          3139\n",
              "Name: Profession, dtype: int64"
            ]
          },
          "metadata": {},
          "execution_count": 100
        }
      ]
    },
    {
      "cell_type": "code",
      "source": [
        "sns.boxplot(sal.loc[sal.Profession == \"police\", 'TotalPay'])\n",
        "plt.show()\n"
      ],
      "metadata": {
        "id": "3XU2kXkZtLrm"
      },
      "execution_count": null,
      "outputs": []
    },
    {
      "cell_type": "code",
      "source": [
        "#heatmap for dataset\n",
        "f,ax = plt.subplots(figsize=(5, 5))\n",
        "sns.heatmap(sal[[\"Profession\", \"TotalPay\"]], annot=True, linewidths=.5, fmt= 'd',ax=ax)"
      ],
      "metadata": {
        "id": "mDVLHCW51ZYK"
      },
      "execution_count": null,
      "outputs": []
    },
    {
      "cell_type": "code",
      "source": [
        "sal.loc[sal.Profession == \"police\", 'TotalPay']"
      ],
      "metadata": {
        "colab": {
          "base_uri": "https://localhost:8080/"
        },
        "id": "JtZ4us_qte70",
        "outputId": "46352c7b-6602-4233-ec8b-07a5c2b77105"
      },
      "execution_count": null,
      "outputs": [
        {
          "output_type": "execute_result",
          "data": {
            "text/plain": [
              "1         538909.28\n",
              "2         335279.91\n",
              "11        297608.92\n",
              "15        286213.86\n",
              "25        267992.59\n",
              "            ...    \n",
              "148312       309.90\n",
              "148409       242.66\n",
              "148437       212.39\n",
              "148506       134.78\n",
              "148561        59.59\n",
              "Name: TotalPay, Length: 9366, dtype: float64"
            ]
          },
          "metadata": {},
          "execution_count": 247
        }
      ]
    },
    {
      "cell_type": "code",
      "source": [
        ""
      ],
      "metadata": {
        "id": "GifyAkaZtjcA"
      },
      "execution_count": null,
      "outputs": []
    },
    {
      "cell_type": "code",
      "source": [
        "sns.displot(sal[\"TotalPay\"], kde=False, bins = 50, aspect=2)\n",
        "plt.margins(x=0)"
      ],
      "metadata": {
        "colab": {
          "base_uri": "https://localhost:8080/",
          "height": 365
        },
        "id": "Gv9IZJVchG5p",
        "outputId": "429e1789-d42c-41ae-a039-5210c16d1a3c"
      },
      "execution_count": null,
      "outputs": [
        {
          "output_type": "display_data",
          "data": {
            "text/plain": [
              "<Figure size 720x360 with 1 Axes>"
            ],
            "image/png": "[encoded data removed]"
          },
          "metadata": {}
        }
      ]
    },
    {
      "cell_type": "code",
      "source": [
        "# Count Plot показывает количество наблюдений\n",
        "ax = sns.catplot(x='Year', \n",
        "            data=sal, \n",
        "            kind='count', \n",
        "            height=6, \n",
        "            aspect=2\n",
        "           );  \n",
        "#plt.title('5. Count Plot - Продажи по продуктам', size=15, color='g', weight='bold');"
      ],
      "metadata": {
        "id": "bgmCERkMip-n"
      },
      "execution_count": null,
      "outputs": []
    },
    {
      "cell_type": "code",
      "source": [
        "SumByYear = sal[['TotalPay','Year']].groupby('Year').sum().reset_index()\n",
        "CountByYear = sal[['TotalPay','Year']].groupby('Year').count().reset_index()\n",
        "CountByYear"
      ],
      "metadata": {
        "colab": {
          "base_uri": "https://localhost:8080/",
          "height": 175
        },
        "id": "rWWVBkaHszq_",
        "outputId": "8869913a-3449-4aa5-ad92-be097ca9e443"
      },
      "execution_count": null,
      "outputs": [
        {
          "output_type": "execute_result",
          "data": {
            "text/plain": [
              "        Year  TotalPay\n",
              "0 2011-01-01     36156\n",
              "1 2012-01-01     36741\n",
              "2 2013-01-01     37318\n",
              "3 2014-01-01     38071"
            ],
            "text/html": [
              "\n",
              "  <div id=\"df-34e48608-705f-423e-b407-85ef91725062\">\n",
              "    <div class=\"colab-df-container\">\n",
              "      <div>\n",
              "<style scoped>\n",
              "    .dataframe tbody tr th:only-of-type {\n",
              "        vertical-align: middle;\n",
              "    }\n",
              "\n",
              "    .dataframe tbody tr th {\n",
              "        vertical-align: top;\n",
              "    }\n",
              "\n",
              "    .dataframe thead th {\n",
              "        text-align: right;\n",
              "    }\n",
              "</style>\n",
              "<table border=\"1\" class=\"dataframe\">\n",
              "  <thead>\n",
              "    <tr style=\"text-align: right;\">\n",
              "      <th></th>\n",
              "      <th>Year</th>\n",
              "      <th>TotalPay</th>\n",
              "    </tr>\n",
              "  </thead>\n",
              "  <tbody>\n",
              "    <tr>\n",
              "      <th>0</th>\n",
              "      <td>2011-01-01</td>\n",
              "      <td>36156</td>\n",
              "    </tr>\n",
              "    <tr>\n",
              "      <th>1</th>\n",
              "      <td>2012-01-01</td>\n",
              "      <td>36741</td>\n",
              "    </tr>\n",
              "    <tr>\n",
              "      <th>2</th>\n",
              "      <td>2013-01-01</td>\n",
              "      <td>37318</td>\n",
              "    </tr>\n",
              "    <tr>\n",
              "      <th>3</th>\n",
              "      <td>2014-01-01</td>\n",
              "      <td>38071</td>\n",
              "    </tr>\n",
              "  </tbody>\n",
              "</table>\n",
              "</div>\n",
              "      <button class=\"colab-df-convert\" onclick=\"convertToInteractive('df-34e48608-705f-423e-b407-85ef91725062')\"\n",
              "              title=\"Convert this dataframe to an interactive table.\"\n",
              "              style=\"display:none;\">\n",
              "        \n",
              "  <svg xmlns=\"http://www.w3.org/2000/svg\" height=\"24px\"viewBox=\"0 0 24 24\"\n",
              "       width=\"24px\">\n",
              "    <path d=\"M0 0h24v24H0V0z\" fill=\"none\"/>\n",
              "    <path d=\"M18.56 5.44l.94 2.06.94-2.06 2.06-.94-2.06-.94-.94-2.06-.94 2.06-2.06.94zm-11 1L8.5 8.5l.94-2.06 2.06-.94-2.06-.94L8.5 2.5l-.94 2.06-2.06.94zm10 10l.94 2.06.94-2.06 2.06-.94-2.06-.94-.94-2.06-.94 2.06-2.06.94z\"/><path d=\"M17.41 7.96l-1.37-1.37c-.4-.4-.92-.59-1.43-.59-.52 0-1.04.2-1.43.59L10.3 9.45l-7.72 7.72c-.78.78-.78 2.05 0 2.83L4 21.41c.39.39.9.59 1.41.59.51 0 1.02-.2 1.41-.59l7.78-7.78 2.81-2.81c.8-.78.8-2.07 0-2.86zM5.41 20L4 18.59l7.72-7.72 1.47 1.35L5.41 20z\"/>\n",
              "  </svg>\n",
              "      </button>\n",
              "      \n",
              "  <style>\n",
              "    .colab-df-container {\n",
              "      display:flex;\n",
              "      flex-wrap:wrap;\n",
              "      gap: 12px;\n",
              "    }\n",
              "\n",
              "    .colab-df-convert {\n",
              "      background-color: #E8F0FE;\n",
              "      border: none;\n",
              "      border-radius: 50%;\n",
              "      cursor: pointer;\n",
              "      display: none;\n",
              "      fill: #1967D2;\n",
              "      height: 32px;\n",
              "      padding: 0 0 0 0;\n",
              "      width: 32px;\n",
              "    }\n",
              "\n",
              "    .colab-df-convert:hover {\n",
              "      background-color: #E2EBFA;\n",
              "      box-shadow: 0px 1px 2px rgba(60, 64, 67, 0.3), 0px 1px 3px 1px rgba(60, 64, 67, 0.15);\n",
              "      fill: #174EA6;\n",
              "    }\n",
              "\n",
              "    [theme=dark] .colab-df-convert {\n",
              "      background-color: #3B4455;\n",
              "      fill: #D2E3FC;\n",
              "    }\n",
              "\n",
              "    [theme=dark] .colab-df-convert:hover {\n",
              "      background-color: #434B5C;\n",
              "      box-shadow: 0px 1px 3px 1px rgba(0, 0, 0, 0.15);\n",
              "      filter: drop-shadow(0px 1px 2px rgba(0, 0, 0, 0.3));\n",
              "      fill: #FFFFFF;\n",
              "    }\n",
              "  </style>\n",
              "\n",
              "      <script>\n",
              "        const buttonEl =\n",
              "          document.querySelector('#df-34e48608-705f-423e-b407-85ef91725062 button.colab-df-convert');\n",
              "        buttonEl.style.display =\n",
              "          google.colab.kernel.accessAllowed ? 'block' : 'none';\n",
              "\n",
              "        async function convertToInteractive(key) {\n",
              "          const element = document.querySelector('#df-34e48608-705f-423e-b407-85ef91725062');\n",
              "          const dataTable =\n",
              "            await google.colab.kernel.invokeFunction('convertToInteractive',\n",
              "                                                     [key], {});\n",
              "          if (!dataTable) return;\n",
              "\n",
              "          const docLinkHtml = 'Like what you see? Visit the ' +\n",
              "            '<a target=\"_blank\" href=https://colab.research.google.com/notebooks/data_table.ipynb>data table notebook</a>'\n",
              "            + ' to learn more about interactive tables.';\n",
              "          element.innerHTML = '';\n",
              "          dataTable['output_type'] = 'display_data';\n",
              "          await google.colab.output.renderOutput(dataTable, element);\n",
              "          const docLink = document.createElement('div');\n",
              "          docLink.innerHTML = docLinkHtml;\n",
              "          element.appendChild(docLink);\n",
              "        }\n",
              "      </script>\n",
              "    </div>\n",
              "  </div>\n",
              "  "
            ]
          },
          "metadata": {},
          "execution_count": 34
        }
      ]
    },
    {
      "cell_type": "code",
      "source": [
        "# Define Data\n",
        "year = CountByYear.Year\n",
        "Count = CountByYear[\"TotalPay\"]\n",
        "\n",
        "# Plot horizontal bar chart\n",
        "\n",
        "bars = plt.barh( year, Count)\n",
        "\n",
        "# To get data labels\n",
        "\n",
        "for  bar in bars:\n",
        "    width = bar.get_width()\n",
        "    label_y = bar.get_y() + bar.get_height() / 2\n",
        "    plt.text(width, label_y, s=f'{width}')\n",
        "    \n",
        "# Define axes labels\n",
        "\n",
        "plt.xlabel(\"Year\")\n",
        "plt.ylabel(\"No. of employees\")\n",
        "\n",
        "# Display a bar chart\n",
        "    \n",
        "plt.show()"
      ],
      "metadata": {
        "colab": {
          "base_uri": "https://localhost:8080/",
          "height": 278
        },
        "id": "BWKXmrKAlP5S",
        "outputId": "01676ce6-01c3-4bd0-f9d3-377bcc3a9c21"
      },
      "execution_count": null,
      "outputs": [
        {
          "output_type": "display_data",
          "data": {
            "text/plain": [
              "<Figure size 432x288 with 1 Axes>"
            ],
            "image/png": "[encoded data removed]"
          },
          "metadata": {
            "needs_background": "light"
          }
        }
      ]
    },
    {
      "cell_type": "code",
      "source": [
        "x = [1, 2, 3, 4] \n",
        "y = CountByYear[\"TotalPay\"]\n",
        "\n",
        "bars = plt.bar(x, y)\n",
        "\n",
        "for i in range(len(y)):\n",
        "        plt.text(bars[i].get_width()*(i+1),y[i],y[i], ha = 'center')\n",
        "\n",
        "plt.show()"
      ],
      "metadata": {
        "id": "YZxHP4rbzshP",
        "outputId": "857f7d17-e388-4c7d-d15c-e39a84d5383d",
        "colab": {
          "base_uri": "https://localhost:8080/",
          "height": 265
        }
      },
      "execution_count": null,
      "outputs": [
        {
          "output_type": "display_data",
          "data": {
            "text/plain": [
              "<Figure size 432x288 with 1 Axes>"
            ],
            "image/png": "[encoded data removed]"
          },
          "metadata": {
            "needs_background": "light"
          }
        }
      ]
    },
    {
      "cell_type": "code",
      "source": [
        "for index, row in groupedvalues.iterrows():\n",
        "  print(row.Count)"
      ],
      "metadata": {
        "colab": {
          "base_uri": "https://localhost:8080/"
        },
        "id": "-XjGtrLMm_Rg",
        "outputId": "442eb8ed-a500-4753-d419-7ebf35f517e5"
      },
      "execution_count": null,
      "outputs": [
        {
          "output_type": "stream",
          "name": "stdout",
          "text": [
            "36156\n",
            "36741\n",
            "37318\n",
            "38071\n"
          ]
        }
      ]
    },
    {
      "cell_type": "code",
      "source": [
        "sal.Year.value_counts().index"
      ],
      "metadata": {
        "colab": {
          "base_uri": "https://localhost:8080/"
        },
        "id": "SRyJ8DnIlWU7",
        "outputId": "8f713cce-3032-4491-ee15-965578b4f8ff"
      },
      "execution_count": null,
      "outputs": [
        {
          "output_type": "execute_result",
          "data": {
            "text/plain": [
              "DatetimeIndex(['2014-01-01', '2013-01-01', '2012-01-01', '2011-01-01'], dtype='datetime64[ns]', freq=None)"
            ]
          },
          "metadata": {},
          "execution_count": 242
        }
      ]
    },
    {
      "cell_type": "code",
      "source": [
        "plt.hist(sal.Benefits,  facecolor='blue', alpha=0.5)\n",
        "plt.show()"
      ],
      "metadata": {
        "id": "ky1qIOt7tib6",
        "colab": {
          "base_uri": "https://localhost:8080/",
          "height": 265
        },
        "outputId": "925453e2-bc4c-4871-8725-4335827b6643"
      },
      "execution_count": null,
      "outputs": [
        {
          "output_type": "display_data",
          "data": {
            "text/plain": [
              "<Figure size 432x288 with 1 Axes>"
            ],
            "image/png": "[encoded data removed]"
          },
          "metadata": {
            "needs_background": "light"
          }
        }
      ]
    },
    {
      "cell_type": "markdown",
      "source": [
        "1.\tКак со временем менялись зарплаты между разными группами (группировка по Department - fire, medicine, police)? (максимальная, медианная, средняя)\n",
        "2.\tКак распределяются базовая оплата, сверхурочная работа и льготы между разными группами? Нужно построить диаграммы по распределению со временем для каждого департамента по базовым, сверхурочным и льготам\n",
        "3.\tКак распределяется бюджет на разные группы (department) с течением времени?\n",
        "4.\tКакое количество людей в каждом департаменте? \n",
        "5.\tКакое количество с разным уровнем дохода? (гистограмма с шагом в 5к) \n",
        "6.\tНа базе линейной регрессии постройте прогноз по тому, какие будут закупке в следующий год по каждому департаменту\n"
      ],
      "metadata": {
        "id": "YD16XuXktjTI"
      }
    },
    {
      "cell_type": "code",
      "source": [
        "text_transformer = TfidfVectorizer()"
      ],
      "metadata": {
        "id": "Su8DfiCC2A74"
      },
      "execution_count": null,
      "outputs": []
    },
    {
      "cell_type": "code",
      "source": [
        "text = text_transformer.fit_transform(sal['JobTitle'].str.lower())"
      ],
      "metadata": {
        "id": "to50Duck5eHv"
      },
      "execution_count": null,
      "outputs": []
    },
    {
      "cell_type": "code",
      "source": [
        "text"
      ],
      "metadata": {
        "colab": {
          "base_uri": "https://localhost:8080/"
        },
        "id": "yLMDR0bk5q3M",
        "outputId": "227e4e84-d075-4e66-9fc8-eb8a1969560e"
      },
      "execution_count": null,
      "outputs": [
        {
          "output_type": "execute_result",
          "data": {
            "text/plain": [
              "<148286x854 sparse matrix of type '<class 'numpy.float64'>'\n",
              "\twith 371780 stored elements in Compressed Sparse Row format>"
            ]
          },
          "metadata": {},
          "execution_count": 25
        }
      ]
    },
    {
      "cell_type": "markdown",
      "source": [
        "**Conclusions**"
      ],
      "metadata": {
        "id": "ueOtd-aIFZLj"
      }
    },
    {
      "cell_type": "code",
      "source": [
        "#https://www.glassdoor.com/Salaries/san-francisco-lieutenant-salary-SRCH_IL.0,13_IC1147401_KO14,24.htm\n",
        "#beuatiful vizualisation"
      ],
      "metadata": {
        "id": "TOAf5h3RFb4a"
      },
      "execution_count": null,
      "outputs": []
    }
  ]
}