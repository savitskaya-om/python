{
  "nbformat": 4,
  "nbformat_minor": 0,
  "metadata": {
    "colab": {
      "name": "Untitled8.ipynb",
      "provenance": [],
      "authorship_tag": "ABX9TyMpeDdx0E3eWkVwt5qCaq/c",
      "include_colab_link": true
    },
    "kernelspec": {
      "name": "python3",
      "display_name": "Python 3"
    },
    "language_info": {
      "name": "python"
    }
  },
  "cells": [
    {
      "cell_type": "markdown",
      "metadata": {
        "id": "view-in-github",
        "colab_type": "text"
      },
      "source": [
        "<a href=\"https://colab.research.google.com/github/savitskaya-om/python/blob/main/project/PROJECT.ipynb\" target=\"_parent\"><img src=\"https://colab.research.google.com/assets/colab-badge.svg\" alt=\"Open In Colab\"/></a>"
      ]
    },
    {
      "cell_type": "markdown",
      "source": [
        "**Import Libraries**"
      ],
      "metadata": {
        "id": "aPZ-Caiqwc7Z"
      }
    },
    {
      "cell_type": "code",
      "source": [
        "import pandas as pd\n",
        "import numpy as np\n",
        "import matplotlib.pyplot as plt\n",
        "import seaborn as sns\n",
        "\n",
        "from sklearn.model_selection import train_test_split\n",
        "from sklearn.feature_extraction.text import TfidfVectorizer\n",
        "from sklearn import tree\n",
        "from sklearn.metrics import f1_score"
      ],
      "metadata": {
        "id": "unmdpW6FrTz3"
      },
      "execution_count": 1,
      "outputs": []
    },
    {
      "cell_type": "markdown",
      "source": [
        "**Load Data**"
      ],
      "metadata": {
        "id": "s4Exod5qwnzP"
      }
    },
    {
      "cell_type": "code",
      "execution_count": 2,
      "metadata": {
        "colab": {
          "base_uri": "https://localhost:8080/"
        },
        "id": "0GJF7vUWq7Cf",
        "outputId": "38dd1d2f-95f2-4bf6-e2f5-d09495b28aef"
      },
      "outputs": [
        {
          "output_type": "stream",
          "name": "stdout",
          "text": [
            "Cloning into 'Kaggle-SF-Salaries'...\n",
            "remote: Enumerating objects: 19, done.\u001b[K\n",
            "remote: Total 19 (delta 0), reused 0 (delta 0), pack-reused 19\u001b[K\n",
            "Unpacking objects: 100% (19/19), done.\n"
          ]
        }
      ],
      "source": [
        "!git clone https://github.com/Kokkalo4/Kaggle-SF-Salaries "
      ]
    },
    {
      "cell_type": "code",
      "source": [
        "sal = pd.read_csv(\"Kaggle-SF-Salaries/Salaries.csv\")"
      ],
      "metadata": {
        "colab": {
          "base_uri": "https://localhost:8080/"
        },
        "id": "-nfLkKpUrIxw",
        "outputId": "2e969af1-f004-4b9e-e368-2eeaaba67e4f"
      },
      "execution_count": 3,
      "outputs": [
        {
          "output_type": "stream",
          "name": "stderr",
          "text": [
            "/usr/local/lib/python3.7/dist-packages/IPython/core/interactiveshell.py:3326: DtypeWarning: Columns (3,4,5,6,12) have mixed types.Specify dtype option on import or set low_memory=False.\n",
            "  exec(code_obj, self.user_global_ns, self.user_ns)\n"
          ]
        }
      ]
    },
    {
      "cell_type": "markdown",
      "source": [
        "**Overview**"
      ],
      "metadata": {
        "id": "AuoPIRMBwtdm"
      }
    },
    {
      "cell_type": "code",
      "source": [
        "sal.head()"
      ],
      "metadata": {
        "colab": {
          "base_uri": "https://localhost:8080/",
          "height": 337
        },
        "id": "aZrXfqNzrPtY",
        "outputId": "2d23f1b5-6125-471e-c37c-f609b5cd3c84"
      },
      "execution_count": 4,
      "outputs": [
        {
          "output_type": "execute_result",
          "data": {
            "text/plain": [
              "   Id       EmployeeName                                        JobTitle  \\\n",
              "0   1     NATHANIEL FORD  GENERAL MANAGER-METROPOLITAN TRANSIT AUTHORITY   \n",
              "1   2       GARY JIMENEZ                 CAPTAIN III (POLICE DEPARTMENT)   \n",
              "2   3     ALBERT PARDINI                 CAPTAIN III (POLICE DEPARTMENT)   \n",
              "3   4  CHRISTOPHER CHONG            WIRE ROPE CABLE MAINTENANCE MECHANIC   \n",
              "4   5    PATRICK GARDNER    DEPUTY CHIEF OF DEPARTMENT,(FIRE DEPARTMENT)   \n",
              "\n",
              "     BasePay OvertimePay   OtherPay Benefits   TotalPay  TotalPayBenefits  \\\n",
              "0  167411.18         0.0  400184.25      NaN  567595.43         567595.43   \n",
              "1  155966.02   245131.88  137811.38      NaN  538909.28         538909.28   \n",
              "2  212739.13   106088.18    16452.6      NaN  335279.91         335279.91   \n",
              "3    77916.0    56120.71   198306.9      NaN  332343.61         332343.61   \n",
              "4   134401.6      9737.0  182234.59      NaN  326373.19         326373.19   \n",
              "\n",
              "   Year  Notes         Agency Status  \n",
              "0  2011    NaN  San Francisco    NaN  \n",
              "1  2011    NaN  San Francisco    NaN  \n",
              "2  2011    NaN  San Francisco    NaN  \n",
              "3  2011    NaN  San Francisco    NaN  \n",
              "4  2011    NaN  San Francisco    NaN  "
            ],
            "text/html": [
              "\n",
              "  <div id=\"df-784d1561-9148-4853-a210-d2a032b8cb60\">\n",
              "    <div class=\"colab-df-container\">\n",
              "      <div>\n",
              "<style scoped>\n",
              "    .dataframe tbody tr th:only-of-type {\n",
              "        vertical-align: middle;\n",
              "    }\n",
              "\n",
              "    .dataframe tbody tr th {\n",
              "        vertical-align: top;\n",
              "    }\n",
              "\n",
              "    .dataframe thead th {\n",
              "        text-align: right;\n",
              "    }\n",
              "</style>\n",
              "<table border=\"1\" class=\"dataframe\">\n",
              "  <thead>\n",
              "    <tr style=\"text-align: right;\">\n",
              "      <th></th>\n",
              "      <th>Id</th>\n",
              "      <th>EmployeeName</th>\n",
              "      <th>JobTitle</th>\n",
              "      <th>BasePay</th>\n",
              "      <th>OvertimePay</th>\n",
              "      <th>OtherPay</th>\n",
              "      <th>Benefits</th>\n",
              "      <th>TotalPay</th>\n",
              "      <th>TotalPayBenefits</th>\n",
              "      <th>Year</th>\n",
              "      <th>Notes</th>\n",
              "      <th>Agency</th>\n",
              "      <th>Status</th>\n",
              "    </tr>\n",
              "  </thead>\n",
              "  <tbody>\n",
              "    <tr>\n",
              "      <th>0</th>\n",
              "      <td>1</td>\n",
              "      <td>NATHANIEL FORD</td>\n",
              "      <td>GENERAL MANAGER-METROPOLITAN TRANSIT AUTHORITY</td>\n",
              "      <td>167411.18</td>\n",
              "      <td>0.0</td>\n",
              "      <td>400184.25</td>\n",
              "      <td>NaN</td>\n",
              "      <td>567595.43</td>\n",
              "      <td>567595.43</td>\n",
              "      <td>2011</td>\n",
              "      <td>NaN</td>\n",
              "      <td>San Francisco</td>\n",
              "      <td>NaN</td>\n",
              "    </tr>\n",
              "    <tr>\n",
              "      <th>1</th>\n",
              "      <td>2</td>\n",
              "      <td>GARY JIMENEZ</td>\n",
              "      <td>CAPTAIN III (POLICE DEPARTMENT)</td>\n",
              "      <td>155966.02</td>\n",
              "      <td>245131.88</td>\n",
              "      <td>137811.38</td>\n",
              "      <td>NaN</td>\n",
              "      <td>538909.28</td>\n",
              "      <td>538909.28</td>\n",
              "      <td>2011</td>\n",
              "      <td>NaN</td>\n",
              "      <td>San Francisco</td>\n",
              "      <td>NaN</td>\n",
              "    </tr>\n",
              "    <tr>\n",
              "      <th>2</th>\n",
              "      <td>3</td>\n",
              "      <td>ALBERT PARDINI</td>\n",
              "      <td>CAPTAIN III (POLICE DEPARTMENT)</td>\n",
              "      <td>212739.13</td>\n",
              "      <td>106088.18</td>\n",
              "      <td>16452.6</td>\n",
              "      <td>NaN</td>\n",
              "      <td>335279.91</td>\n",
              "      <td>335279.91</td>\n",
              "      <td>2011</td>\n",
              "      <td>NaN</td>\n",
              "      <td>San Francisco</td>\n",
              "      <td>NaN</td>\n",
              "    </tr>\n",
              "    <tr>\n",
              "      <th>3</th>\n",
              "      <td>4</td>\n",
              "      <td>CHRISTOPHER CHONG</td>\n",
              "      <td>WIRE ROPE CABLE MAINTENANCE MECHANIC</td>\n",
              "      <td>77916.0</td>\n",
              "      <td>56120.71</td>\n",
              "      <td>198306.9</td>\n",
              "      <td>NaN</td>\n",
              "      <td>332343.61</td>\n",
              "      <td>332343.61</td>\n",
              "      <td>2011</td>\n",
              "      <td>NaN</td>\n",
              "      <td>San Francisco</td>\n",
              "      <td>NaN</td>\n",
              "    </tr>\n",
              "    <tr>\n",
              "      <th>4</th>\n",
              "      <td>5</td>\n",
              "      <td>PATRICK GARDNER</td>\n",
              "      <td>DEPUTY CHIEF OF DEPARTMENT,(FIRE DEPARTMENT)</td>\n",
              "      <td>134401.6</td>\n",
              "      <td>9737.0</td>\n",
              "      <td>182234.59</td>\n",
              "      <td>NaN</td>\n",
              "      <td>326373.19</td>\n",
              "      <td>326373.19</td>\n",
              "      <td>2011</td>\n",
              "      <td>NaN</td>\n",
              "      <td>San Francisco</td>\n",
              "      <td>NaN</td>\n",
              "    </tr>\n",
              "  </tbody>\n",
              "</table>\n",
              "</div>\n",
              "      <button class=\"colab-df-convert\" onclick=\"convertToInteractive('df-784d1561-9148-4853-a210-d2a032b8cb60')\"\n",
              "              title=\"Convert this dataframe to an interactive table.\"\n",
              "              style=\"display:none;\">\n",
              "        \n",
              "  <svg xmlns=\"http://www.w3.org/2000/svg\" height=\"24px\"viewBox=\"0 0 24 24\"\n",
              "       width=\"24px\">\n",
              "    <path d=\"M0 0h24v24H0V0z\" fill=\"none\"/>\n",
              "    <path d=\"M18.56 5.44l.94 2.06.94-2.06 2.06-.94-2.06-.94-.94-2.06-.94 2.06-2.06.94zm-11 1L8.5 8.5l.94-2.06 2.06-.94-2.06-.94L8.5 2.5l-.94 2.06-2.06.94zm10 10l.94 2.06.94-2.06 2.06-.94-2.06-.94-.94-2.06-.94 2.06-2.06.94z\"/><path d=\"M17.41 7.96l-1.37-1.37c-.4-.4-.92-.59-1.43-.59-.52 0-1.04.2-1.43.59L10.3 9.45l-7.72 7.72c-.78.78-.78 2.05 0 2.83L4 21.41c.39.39.9.59 1.41.59.51 0 1.02-.2 1.41-.59l7.78-7.78 2.81-2.81c.8-.78.8-2.07 0-2.86zM5.41 20L4 18.59l7.72-7.72 1.47 1.35L5.41 20z\"/>\n",
              "  </svg>\n",
              "      </button>\n",
              "      \n",
              "  <style>\n",
              "    .colab-df-container {\n",
              "      display:flex;\n",
              "      flex-wrap:wrap;\n",
              "      gap: 12px;\n",
              "    }\n",
              "\n",
              "    .colab-df-convert {\n",
              "      background-color: #E8F0FE;\n",
              "      border: none;\n",
              "      border-radius: 50%;\n",
              "      cursor: pointer;\n",
              "      display: none;\n",
              "      fill: #1967D2;\n",
              "      height: 32px;\n",
              "      padding: 0 0 0 0;\n",
              "      width: 32px;\n",
              "    }\n",
              "\n",
              "    .colab-df-convert:hover {\n",
              "      background-color: #E2EBFA;\n",
              "      box-shadow: 0px 1px 2px rgba(60, 64, 67, 0.3), 0px 1px 3px 1px rgba(60, 64, 67, 0.15);\n",
              "      fill: #174EA6;\n",
              "    }\n",
              "\n",
              "    [theme=dark] .colab-df-convert {\n",
              "      background-color: #3B4455;\n",
              "      fill: #D2E3FC;\n",
              "    }\n",
              "\n",
              "    [theme=dark] .colab-df-convert:hover {\n",
              "      background-color: #434B5C;\n",
              "      box-shadow: 0px 1px 3px 1px rgba(0, 0, 0, 0.15);\n",
              "      filter: drop-shadow(0px 1px 2px rgba(0, 0, 0, 0.3));\n",
              "      fill: #FFFFFF;\n",
              "    }\n",
              "  </style>\n",
              "\n",
              "      <script>\n",
              "        const buttonEl =\n",
              "          document.querySelector('#df-784d1561-9148-4853-a210-d2a032b8cb60 button.colab-df-convert');\n",
              "        buttonEl.style.display =\n",
              "          google.colab.kernel.accessAllowed ? 'block' : 'none';\n",
              "\n",
              "        async function convertToInteractive(key) {\n",
              "          const element = document.querySelector('#df-784d1561-9148-4853-a210-d2a032b8cb60');\n",
              "          const dataTable =\n",
              "            await google.colab.kernel.invokeFunction('convertToInteractive',\n",
              "                                                     [key], {});\n",
              "          if (!dataTable) return;\n",
              "\n",
              "          const docLinkHtml = 'Like what you see? Visit the ' +\n",
              "            '<a target=\"_blank\" href=https://colab.research.google.com/notebooks/data_table.ipynb>data table notebook</a>'\n",
              "            + ' to learn more about interactive tables.';\n",
              "          element.innerHTML = '';\n",
              "          dataTable['output_type'] = 'display_data';\n",
              "          await google.colab.output.renderOutput(dataTable, element);\n",
              "          const docLink = document.createElement('div');\n",
              "          docLink.innerHTML = docLinkHtml;\n",
              "          element.appendChild(docLink);\n",
              "        }\n",
              "      </script>\n",
              "    </div>\n",
              "  </div>\n",
              "  "
            ]
          },
          "metadata": {},
          "execution_count": 4
        }
      ]
    },
    {
      "cell_type": "code",
      "source": [
        "sal.info()"
      ],
      "metadata": {
        "colab": {
          "base_uri": "https://localhost:8080/"
        },
        "id": "CQps6E1XrQa3",
        "outputId": "9d9fa499-5d44-4f18-eb52-401caebaebfa"
      },
      "execution_count": 5,
      "outputs": [
        {
          "output_type": "stream",
          "name": "stdout",
          "text": [
            "<class 'pandas.core.frame.DataFrame'>\n",
            "RangeIndex: 148654 entries, 0 to 148653\n",
            "Data columns (total 13 columns):\n",
            " #   Column            Non-Null Count   Dtype  \n",
            "---  ------            --------------   -----  \n",
            " 0   Id                148654 non-null  int64  \n",
            " 1   EmployeeName      148654 non-null  object \n",
            " 2   JobTitle          148654 non-null  object \n",
            " 3   BasePay           148049 non-null  object \n",
            " 4   OvertimePay       148654 non-null  object \n",
            " 5   OtherPay          148654 non-null  object \n",
            " 6   Benefits          112495 non-null  object \n",
            " 7   TotalPay          148654 non-null  float64\n",
            " 8   TotalPayBenefits  148654 non-null  float64\n",
            " 9   Year              148654 non-null  int64  \n",
            " 10  Notes             0 non-null       float64\n",
            " 11  Agency            148654 non-null  object \n",
            " 12  Status            38119 non-null   object \n",
            "dtypes: float64(3), int64(2), object(8)\n",
            "memory usage: 14.7+ MB\n"
          ]
        }
      ]
    },
    {
      "cell_type": "code",
      "source": [
        "sal.describe()"
      ],
      "metadata": {
        "colab": {
          "base_uri": "https://localhost:8080/",
          "height": 300
        },
        "id": "X9rCEveDsVtl",
        "outputId": "289298b7-bb1b-4583-d9da-3259d3f59879"
      },
      "execution_count": 6,
      "outputs": [
        {
          "output_type": "execute_result",
          "data": {
            "text/plain": [
              "                  Id       TotalPay  TotalPayBenefits           Year  Notes\n",
              "count  148654.000000  148654.000000     148654.000000  148654.000000    0.0\n",
              "mean    74327.500000   74768.321972      93692.554811    2012.522643    NaN\n",
              "std     42912.857795   50517.005274      62793.533483       1.117538    NaN\n",
              "min         1.000000    -618.130000       -618.130000    2011.000000    NaN\n",
              "25%     37164.250000   36168.995000      44065.650000    2012.000000    NaN\n",
              "50%     74327.500000   71426.610000      92404.090000    2013.000000    NaN\n",
              "75%    111490.750000  105839.135000     132876.450000    2014.000000    NaN\n",
              "max    148654.000000  567595.430000     567595.430000    2014.000000    NaN"
            ],
            "text/html": [
              "\n",
              "  <div id=\"df-a3f8a36c-dc89-4fd2-9c66-dfe8651316c6\">\n",
              "    <div class=\"colab-df-container\">\n",
              "      <div>\n",
              "<style scoped>\n",
              "    .dataframe tbody tr th:only-of-type {\n",
              "        vertical-align: middle;\n",
              "    }\n",
              "\n",
              "    .dataframe tbody tr th {\n",
              "        vertical-align: top;\n",
              "    }\n",
              "\n",
              "    .dataframe thead th {\n",
              "        text-align: right;\n",
              "    }\n",
              "</style>\n",
              "<table border=\"1\" class=\"dataframe\">\n",
              "  <thead>\n",
              "    <tr style=\"text-align: right;\">\n",
              "      <th></th>\n",
              "      <th>Id</th>\n",
              "      <th>TotalPay</th>\n",
              "      <th>TotalPayBenefits</th>\n",
              "      <th>Year</th>\n",
              "      <th>Notes</th>\n",
              "    </tr>\n",
              "  </thead>\n",
              "  <tbody>\n",
              "    <tr>\n",
              "      <th>count</th>\n",
              "      <td>148654.000000</td>\n",
              "      <td>148654.000000</td>\n",
              "      <td>148654.000000</td>\n",
              "      <td>148654.000000</td>\n",
              "      <td>0.0</td>\n",
              "    </tr>\n",
              "    <tr>\n",
              "      <th>mean</th>\n",
              "      <td>74327.500000</td>\n",
              "      <td>74768.321972</td>\n",
              "      <td>93692.554811</td>\n",
              "      <td>2012.522643</td>\n",
              "      <td>NaN</td>\n",
              "    </tr>\n",
              "    <tr>\n",
              "      <th>std</th>\n",
              "      <td>42912.857795</td>\n",
              "      <td>50517.005274</td>\n",
              "      <td>62793.533483</td>\n",
              "      <td>1.117538</td>\n",
              "      <td>NaN</td>\n",
              "    </tr>\n",
              "    <tr>\n",
              "      <th>min</th>\n",
              "      <td>1.000000</td>\n",
              "      <td>-618.130000</td>\n",
              "      <td>-618.130000</td>\n",
              "      <td>2011.000000</td>\n",
              "      <td>NaN</td>\n",
              "    </tr>\n",
              "    <tr>\n",
              "      <th>25%</th>\n",
              "      <td>37164.250000</td>\n",
              "      <td>36168.995000</td>\n",
              "      <td>44065.650000</td>\n",
              "      <td>2012.000000</td>\n",
              "      <td>NaN</td>\n",
              "    </tr>\n",
              "    <tr>\n",
              "      <th>50%</th>\n",
              "      <td>74327.500000</td>\n",
              "      <td>71426.610000</td>\n",
              "      <td>92404.090000</td>\n",
              "      <td>2013.000000</td>\n",
              "      <td>NaN</td>\n",
              "    </tr>\n",
              "    <tr>\n",
              "      <th>75%</th>\n",
              "      <td>111490.750000</td>\n",
              "      <td>105839.135000</td>\n",
              "      <td>132876.450000</td>\n",
              "      <td>2014.000000</td>\n",
              "      <td>NaN</td>\n",
              "    </tr>\n",
              "    <tr>\n",
              "      <th>max</th>\n",
              "      <td>148654.000000</td>\n",
              "      <td>567595.430000</td>\n",
              "      <td>567595.430000</td>\n",
              "      <td>2014.000000</td>\n",
              "      <td>NaN</td>\n",
              "    </tr>\n",
              "  </tbody>\n",
              "</table>\n",
              "</div>\n",
              "      <button class=\"colab-df-convert\" onclick=\"convertToInteractive('df-a3f8a36c-dc89-4fd2-9c66-dfe8651316c6')\"\n",
              "              title=\"Convert this dataframe to an interactive table.\"\n",
              "              style=\"display:none;\">\n",
              "        \n",
              "  <svg xmlns=\"http://www.w3.org/2000/svg\" height=\"24px\"viewBox=\"0 0 24 24\"\n",
              "       width=\"24px\">\n",
              "    <path d=\"M0 0h24v24H0V0z\" fill=\"none\"/>\n",
              "    <path d=\"M18.56 5.44l.94 2.06.94-2.06 2.06-.94-2.06-.94-.94-2.06-.94 2.06-2.06.94zm-11 1L8.5 8.5l.94-2.06 2.06-.94-2.06-.94L8.5 2.5l-.94 2.06-2.06.94zm10 10l.94 2.06.94-2.06 2.06-.94-2.06-.94-.94-2.06-.94 2.06-2.06.94z\"/><path d=\"M17.41 7.96l-1.37-1.37c-.4-.4-.92-.59-1.43-.59-.52 0-1.04.2-1.43.59L10.3 9.45l-7.72 7.72c-.78.78-.78 2.05 0 2.83L4 21.41c.39.39.9.59 1.41.59.51 0 1.02-.2 1.41-.59l7.78-7.78 2.81-2.81c.8-.78.8-2.07 0-2.86zM5.41 20L4 18.59l7.72-7.72 1.47 1.35L5.41 20z\"/>\n",
              "  </svg>\n",
              "      </button>\n",
              "      \n",
              "  <style>\n",
              "    .colab-df-container {\n",
              "      display:flex;\n",
              "      flex-wrap:wrap;\n",
              "      gap: 12px;\n",
              "    }\n",
              "\n",
              "    .colab-df-convert {\n",
              "      background-color: #E8F0FE;\n",
              "      border: none;\n",
              "      border-radius: 50%;\n",
              "      cursor: pointer;\n",
              "      display: none;\n",
              "      fill: #1967D2;\n",
              "      height: 32px;\n",
              "      padding: 0 0 0 0;\n",
              "      width: 32px;\n",
              "    }\n",
              "\n",
              "    .colab-df-convert:hover {\n",
              "      background-color: #E2EBFA;\n",
              "      box-shadow: 0px 1px 2px rgba(60, 64, 67, 0.3), 0px 1px 3px 1px rgba(60, 64, 67, 0.15);\n",
              "      fill: #174EA6;\n",
              "    }\n",
              "\n",
              "    [theme=dark] .colab-df-convert {\n",
              "      background-color: #3B4455;\n",
              "      fill: #D2E3FC;\n",
              "    }\n",
              "\n",
              "    [theme=dark] .colab-df-convert:hover {\n",
              "      background-color: #434B5C;\n",
              "      box-shadow: 0px 1px 3px 1px rgba(0, 0, 0, 0.15);\n",
              "      filter: drop-shadow(0px 1px 2px rgba(0, 0, 0, 0.3));\n",
              "      fill: #FFFFFF;\n",
              "    }\n",
              "  </style>\n",
              "\n",
              "      <script>\n",
              "        const buttonEl =\n",
              "          document.querySelector('#df-a3f8a36c-dc89-4fd2-9c66-dfe8651316c6 button.colab-df-convert');\n",
              "        buttonEl.style.display =\n",
              "          google.colab.kernel.accessAllowed ? 'block' : 'none';\n",
              "\n",
              "        async function convertToInteractive(key) {\n",
              "          const element = document.querySelector('#df-a3f8a36c-dc89-4fd2-9c66-dfe8651316c6');\n",
              "          const dataTable =\n",
              "            await google.colab.kernel.invokeFunction('convertToInteractive',\n",
              "                                                     [key], {});\n",
              "          if (!dataTable) return;\n",
              "\n",
              "          const docLinkHtml = 'Like what you see? Visit the ' +\n",
              "            '<a target=\"_blank\" href=https://colab.research.google.com/notebooks/data_table.ipynb>data table notebook</a>'\n",
              "            + ' to learn more about interactive tables.';\n",
              "          element.innerHTML = '';\n",
              "          dataTable['output_type'] = 'display_data';\n",
              "          await google.colab.output.renderOutput(dataTable, element);\n",
              "          const docLink = document.createElement('div');\n",
              "          docLink.innerHTML = docLinkHtml;\n",
              "          element.appendChild(docLink);\n",
              "        }\n",
              "      </script>\n",
              "    </div>\n",
              "  </div>\n",
              "  "
            ]
          },
          "metadata": {},
          "execution_count": 6
        }
      ]
    },
    {
      "cell_type": "code",
      "source": [
        "sal.describe(include = ['O'])"
      ],
      "metadata": {
        "colab": {
          "base_uri": "https://localhost:8080/",
          "height": 175
        },
        "id": "GyqxKTtz37BE",
        "outputId": "f7abdc12-a52d-4ecc-ecf1-53c4e0ceb6cc"
      },
      "execution_count": 7,
      "outputs": [
        {
          "output_type": "execute_result",
          "data": {
            "text/plain": [
              "       EmployeeName          JobTitle   BasePay  OvertimePay  OtherPay  \\\n",
              "count        148654            148654  148049.0     148654.0  148654.0   \n",
              "unique       110811              2159  109900.0      66555.0   84968.0   \n",
              "top       Kevin Lee  Transit Operator       0.0          0.0       0.0   \n",
              "freq             13              7036     875.0      66103.0   35218.0   \n",
              "\n",
              "        Benefits         Agency Status  \n",
              "count   112495.0         148654  38119  \n",
              "unique   99635.0              1      2  \n",
              "top          0.0  San Francisco     FT  \n",
              "freq      1053.0         148654  22334  "
            ],
            "text/html": [
              "\n",
              "  <div id=\"df-d0c659a0-5331-46ae-8be3-bbc2c9dbe0a2\">\n",
              "    <div class=\"colab-df-container\">\n",
              "      <div>\n",
              "<style scoped>\n",
              "    .dataframe tbody tr th:only-of-type {\n",
              "        vertical-align: middle;\n",
              "    }\n",
              "\n",
              "    .dataframe tbody tr th {\n",
              "        vertical-align: top;\n",
              "    }\n",
              "\n",
              "    .dataframe thead th {\n",
              "        text-align: right;\n",
              "    }\n",
              "</style>\n",
              "<table border=\"1\" class=\"dataframe\">\n",
              "  <thead>\n",
              "    <tr style=\"text-align: right;\">\n",
              "      <th></th>\n",
              "      <th>EmployeeName</th>\n",
              "      <th>JobTitle</th>\n",
              "      <th>BasePay</th>\n",
              "      <th>OvertimePay</th>\n",
              "      <th>OtherPay</th>\n",
              "      <th>Benefits</th>\n",
              "      <th>Agency</th>\n",
              "      <th>Status</th>\n",
              "    </tr>\n",
              "  </thead>\n",
              "  <tbody>\n",
              "    <tr>\n",
              "      <th>count</th>\n",
              "      <td>148654</td>\n",
              "      <td>148654</td>\n",
              "      <td>148049.0</td>\n",
              "      <td>148654.0</td>\n",
              "      <td>148654.0</td>\n",
              "      <td>112495.0</td>\n",
              "      <td>148654</td>\n",
              "      <td>38119</td>\n",
              "    </tr>\n",
              "    <tr>\n",
              "      <th>unique</th>\n",
              "      <td>110811</td>\n",
              "      <td>2159</td>\n",
              "      <td>109900.0</td>\n",
              "      <td>66555.0</td>\n",
              "      <td>84968.0</td>\n",
              "      <td>99635.0</td>\n",
              "      <td>1</td>\n",
              "      <td>2</td>\n",
              "    </tr>\n",
              "    <tr>\n",
              "      <th>top</th>\n",
              "      <td>Kevin Lee</td>\n",
              "      <td>Transit Operator</td>\n",
              "      <td>0.0</td>\n",
              "      <td>0.0</td>\n",
              "      <td>0.0</td>\n",
              "      <td>0.0</td>\n",
              "      <td>San Francisco</td>\n",
              "      <td>FT</td>\n",
              "    </tr>\n",
              "    <tr>\n",
              "      <th>freq</th>\n",
              "      <td>13</td>\n",
              "      <td>7036</td>\n",
              "      <td>875.0</td>\n",
              "      <td>66103.0</td>\n",
              "      <td>35218.0</td>\n",
              "      <td>1053.0</td>\n",
              "      <td>148654</td>\n",
              "      <td>22334</td>\n",
              "    </tr>\n",
              "  </tbody>\n",
              "</table>\n",
              "</div>\n",
              "      <button class=\"colab-df-convert\" onclick=\"convertToInteractive('df-d0c659a0-5331-46ae-8be3-bbc2c9dbe0a2')\"\n",
              "              title=\"Convert this dataframe to an interactive table.\"\n",
              "              style=\"display:none;\">\n",
              "        \n",
              "  <svg xmlns=\"http://www.w3.org/2000/svg\" height=\"24px\"viewBox=\"0 0 24 24\"\n",
              "       width=\"24px\">\n",
              "    <path d=\"M0 0h24v24H0V0z\" fill=\"none\"/>\n",
              "    <path d=\"M18.56 5.44l.94 2.06.94-2.06 2.06-.94-2.06-.94-.94-2.06-.94 2.06-2.06.94zm-11 1L8.5 8.5l.94-2.06 2.06-.94-2.06-.94L8.5 2.5l-.94 2.06-2.06.94zm10 10l.94 2.06.94-2.06 2.06-.94-2.06-.94-.94-2.06-.94 2.06-2.06.94z\"/><path d=\"M17.41 7.96l-1.37-1.37c-.4-.4-.92-.59-1.43-.59-.52 0-1.04.2-1.43.59L10.3 9.45l-7.72 7.72c-.78.78-.78 2.05 0 2.83L4 21.41c.39.39.9.59 1.41.59.51 0 1.02-.2 1.41-.59l7.78-7.78 2.81-2.81c.8-.78.8-2.07 0-2.86zM5.41 20L4 18.59l7.72-7.72 1.47 1.35L5.41 20z\"/>\n",
              "  </svg>\n",
              "      </button>\n",
              "      \n",
              "  <style>\n",
              "    .colab-df-container {\n",
              "      display:flex;\n",
              "      flex-wrap:wrap;\n",
              "      gap: 12px;\n",
              "    }\n",
              "\n",
              "    .colab-df-convert {\n",
              "      background-color: #E8F0FE;\n",
              "      border: none;\n",
              "      border-radius: 50%;\n",
              "      cursor: pointer;\n",
              "      display: none;\n",
              "      fill: #1967D2;\n",
              "      height: 32px;\n",
              "      padding: 0 0 0 0;\n",
              "      width: 32px;\n",
              "    }\n",
              "\n",
              "    .colab-df-convert:hover {\n",
              "      background-color: #E2EBFA;\n",
              "      box-shadow: 0px 1px 2px rgba(60, 64, 67, 0.3), 0px 1px 3px 1px rgba(60, 64, 67, 0.15);\n",
              "      fill: #174EA6;\n",
              "    }\n",
              "\n",
              "    [theme=dark] .colab-df-convert {\n",
              "      background-color: #3B4455;\n",
              "      fill: #D2E3FC;\n",
              "    }\n",
              "\n",
              "    [theme=dark] .colab-df-convert:hover {\n",
              "      background-color: #434B5C;\n",
              "      box-shadow: 0px 1px 3px 1px rgba(0, 0, 0, 0.15);\n",
              "      filter: drop-shadow(0px 1px 2px rgba(0, 0, 0, 0.3));\n",
              "      fill: #FFFFFF;\n",
              "    }\n",
              "  </style>\n",
              "\n",
              "      <script>\n",
              "        const buttonEl =\n",
              "          document.querySelector('#df-d0c659a0-5331-46ae-8be3-bbc2c9dbe0a2 button.colab-df-convert');\n",
              "        buttonEl.style.display =\n",
              "          google.colab.kernel.accessAllowed ? 'block' : 'none';\n",
              "\n",
              "        async function convertToInteractive(key) {\n",
              "          const element = document.querySelector('#df-d0c659a0-5331-46ae-8be3-bbc2c9dbe0a2');\n",
              "          const dataTable =\n",
              "            await google.colab.kernel.invokeFunction('convertToInteractive',\n",
              "                                                     [key], {});\n",
              "          if (!dataTable) return;\n",
              "\n",
              "          const docLinkHtml = 'Like what you see? Visit the ' +\n",
              "            '<a target=\"_blank\" href=https://colab.research.google.com/notebooks/data_table.ipynb>data table notebook</a>'\n",
              "            + ' to learn more about interactive tables.';\n",
              "          element.innerHTML = '';\n",
              "          dataTable['output_type'] = 'display_data';\n",
              "          await google.colab.output.renderOutput(dataTable, element);\n",
              "          const docLink = document.createElement('div');\n",
              "          docLink.innerHTML = docLinkHtml;\n",
              "          element.appendChild(docLink);\n",
              "        }\n",
              "      </script>\n",
              "    </div>\n",
              "  </div>\n",
              "  "
            ]
          },
          "metadata": {},
          "execution_count": 7
        }
      ]
    },
    {
      "cell_type": "markdown",
      "source": [
        "**Clean data**"
      ],
      "metadata": {
        "id": "7hgGd5Kxwy6m"
      }
    },
    {
      "cell_type": "markdown",
      "source": [
        "Типы данных и неинформативные данные "
      ],
      "metadata": {
        "id": "S69rTthx3p5-"
      }
    },
    {
      "cell_type": "code",
      "source": [
        "# convert numeric columns to float, text column to string instead of object.\n",
        "sal[['BasePay', 'OvertimePay', 'OtherPay', 'Benefits']] = sal[['BasePay', 'OvertimePay', 'OtherPay', 'Benefits']].apply(pd.to_numeric, errors='coerce')\n",
        "sal[['EmployeeName', 'JobTitle']] = sal[['EmployeeName', 'JobTitle']].astype('string', errors='ignore')\n",
        "sal.Status = sal.Status.fillna(\"empty\")\n",
        "\n",
        "# convert year column to datetime type\n",
        "sal['Year'] = pd.to_datetime(sal.Year, format='%Y').dt.year\n",
        "\n",
        "# drop ['Notes'] columns as there are many missing values and column 'Agency' as it is not informative (contains just one unique value)\n",
        "sal.drop(columns = ['Notes','Agency'], inplace=True)"
      ],
      "metadata": {
        "id": "dVXtQIb95B8B"
      },
      "execution_count": 8,
      "outputs": []
    },
    {
      "cell_type": "code",
      "source": [
        "sal.dtypes"
      ],
      "metadata": {
        "id": "cKmnMYfWv28b",
        "colab": {
          "base_uri": "https://localhost:8080/"
        },
        "outputId": "ce85de46-d78d-4d47-f85e-8e1dccb02dce"
      },
      "execution_count": 9,
      "outputs": [
        {
          "output_type": "execute_result",
          "data": {
            "text/plain": [
              "Id                    int64\n",
              "EmployeeName         string\n",
              "JobTitle             string\n",
              "BasePay             float64\n",
              "OvertimePay         float64\n",
              "OtherPay            float64\n",
              "Benefits            float64\n",
              "TotalPay            float64\n",
              "TotalPayBenefits    float64\n",
              "Year                  int64\n",
              "Status               object\n",
              "dtype: object"
            ]
          },
          "metadata": {},
          "execution_count": 9
        }
      ]
    },
    {
      "cell_type": "code",
      "source": [
        "#check whether there are rows with missing values in 'TotalPay' column (not informative)\n",
        "sal[sal.TotalPay == 0].describe()"
      ],
      "metadata": {
        "colab": {
          "base_uri": "https://localhost:8080/",
          "height": 300
        },
        "id": "KGd8SjuBMKRE",
        "outputId": "ded1235e-3cd8-4bda-a5fa-a35b9919af87"
      },
      "execution_count": 10,
      "outputs": [
        {
          "output_type": "execute_result",
          "data": {
            "text/plain": [
              "                  Id  BasePay  OvertimePay  OtherPay     Benefits  TotalPay  \\\n",
              "count     368.000000     76.0        364.0     364.0   361.000000     368.0   \n",
              "mean   109608.964674      0.0          0.0       0.0  6795.511856       0.0   \n",
              "std     18735.983397      0.0          0.0       0.0  2481.110854       0.0   \n",
              "min     36157.000000      0.0          0.0       0.0   -33.890000       0.0   \n",
              "25%    106758.750000      0.0          0.0       0.0  7959.180000       0.0   \n",
              "50%    106850.500000      0.0          0.0       0.0  7959.180000       0.0   \n",
              "75%    106942.250000      0.0          0.0       0.0  7959.180000       0.0   \n",
              "max    148653.000000      0.0          0.0       0.0  8308.870000       0.0   \n",
              "\n",
              "       TotalPayBenefits         Year  \n",
              "count        368.000000   368.000000  \n",
              "mean        6666.249402  2013.057065  \n",
              "std         2627.268462     0.489123  \n",
              "min          -33.890000  2011.000000  \n",
              "25%         7959.180000  2013.000000  \n",
              "50%         7959.180000  2013.000000  \n",
              "75%         7959.180000  2013.000000  \n",
              "max         8308.870000  2014.000000  "
            ],
            "text/html": [
              "\n",
              "  <div id=\"df-c9f4b628-3529-40f6-8eda-7086c9e329fc\">\n",
              "    <div class=\"colab-df-container\">\n",
              "      <div>\n",
              "<style scoped>\n",
              "    .dataframe tbody tr th:only-of-type {\n",
              "        vertical-align: middle;\n",
              "    }\n",
              "\n",
              "    .dataframe tbody tr th {\n",
              "        vertical-align: top;\n",
              "    }\n",
              "\n",
              "    .dataframe thead th {\n",
              "        text-align: right;\n",
              "    }\n",
              "</style>\n",
              "<table border=\"1\" class=\"dataframe\">\n",
              "  <thead>\n",
              "    <tr style=\"text-align: right;\">\n",
              "      <th></th>\n",
              "      <th>Id</th>\n",
              "      <th>BasePay</th>\n",
              "      <th>OvertimePay</th>\n",
              "      <th>OtherPay</th>\n",
              "      <th>Benefits</th>\n",
              "      <th>TotalPay</th>\n",
              "      <th>TotalPayBenefits</th>\n",
              "      <th>Year</th>\n",
              "    </tr>\n",
              "  </thead>\n",
              "  <tbody>\n",
              "    <tr>\n",
              "      <th>count</th>\n",
              "      <td>368.000000</td>\n",
              "      <td>76.0</td>\n",
              "      <td>364.0</td>\n",
              "      <td>364.0</td>\n",
              "      <td>361.000000</td>\n",
              "      <td>368.0</td>\n",
              "      <td>368.000000</td>\n",
              "      <td>368.000000</td>\n",
              "    </tr>\n",
              "    <tr>\n",
              "      <th>mean</th>\n",
              "      <td>109608.964674</td>\n",
              "      <td>0.0</td>\n",
              "      <td>0.0</td>\n",
              "      <td>0.0</td>\n",
              "      <td>6795.511856</td>\n",
              "      <td>0.0</td>\n",
              "      <td>6666.249402</td>\n",
              "      <td>2013.057065</td>\n",
              "    </tr>\n",
              "    <tr>\n",
              "      <th>std</th>\n",
              "      <td>18735.983397</td>\n",
              "      <td>0.0</td>\n",
              "      <td>0.0</td>\n",
              "      <td>0.0</td>\n",
              "      <td>2481.110854</td>\n",
              "      <td>0.0</td>\n",
              "      <td>2627.268462</td>\n",
              "      <td>0.489123</td>\n",
              "    </tr>\n",
              "    <tr>\n",
              "      <th>min</th>\n",
              "      <td>36157.000000</td>\n",
              "      <td>0.0</td>\n",
              "      <td>0.0</td>\n",
              "      <td>0.0</td>\n",
              "      <td>-33.890000</td>\n",
              "      <td>0.0</td>\n",
              "      <td>-33.890000</td>\n",
              "      <td>2011.000000</td>\n",
              "    </tr>\n",
              "    <tr>\n",
              "      <th>25%</th>\n",
              "      <td>106758.750000</td>\n",
              "      <td>0.0</td>\n",
              "      <td>0.0</td>\n",
              "      <td>0.0</td>\n",
              "      <td>7959.180000</td>\n",
              "      <td>0.0</td>\n",
              "      <td>7959.180000</td>\n",
              "      <td>2013.000000</td>\n",
              "    </tr>\n",
              "    <tr>\n",
              "      <th>50%</th>\n",
              "      <td>106850.500000</td>\n",
              "      <td>0.0</td>\n",
              "      <td>0.0</td>\n",
              "      <td>0.0</td>\n",
              "      <td>7959.180000</td>\n",
              "      <td>0.0</td>\n",
              "      <td>7959.180000</td>\n",
              "      <td>2013.000000</td>\n",
              "    </tr>\n",
              "    <tr>\n",
              "      <th>75%</th>\n",
              "      <td>106942.250000</td>\n",
              "      <td>0.0</td>\n",
              "      <td>0.0</td>\n",
              "      <td>0.0</td>\n",
              "      <td>7959.180000</td>\n",
              "      <td>0.0</td>\n",
              "      <td>7959.180000</td>\n",
              "      <td>2013.000000</td>\n",
              "    </tr>\n",
              "    <tr>\n",
              "      <th>max</th>\n",
              "      <td>148653.000000</td>\n",
              "      <td>0.0</td>\n",
              "      <td>0.0</td>\n",
              "      <td>0.0</td>\n",
              "      <td>8308.870000</td>\n",
              "      <td>0.0</td>\n",
              "      <td>8308.870000</td>\n",
              "      <td>2014.000000</td>\n",
              "    </tr>\n",
              "  </tbody>\n",
              "</table>\n",
              "</div>\n",
              "      <button class=\"colab-df-convert\" onclick=\"convertToInteractive('df-c9f4b628-3529-40f6-8eda-7086c9e329fc')\"\n",
              "              title=\"Convert this dataframe to an interactive table.\"\n",
              "              style=\"display:none;\">\n",
              "        \n",
              "  <svg xmlns=\"http://www.w3.org/2000/svg\" height=\"24px\"viewBox=\"0 0 24 24\"\n",
              "       width=\"24px\">\n",
              "    <path d=\"M0 0h24v24H0V0z\" fill=\"none\"/>\n",
              "    <path d=\"M18.56 5.44l.94 2.06.94-2.06 2.06-.94-2.06-.94-.94-2.06-.94 2.06-2.06.94zm-11 1L8.5 8.5l.94-2.06 2.06-.94-2.06-.94L8.5 2.5l-.94 2.06-2.06.94zm10 10l.94 2.06.94-2.06 2.06-.94-2.06-.94-.94-2.06-.94 2.06-2.06.94z\"/><path d=\"M17.41 7.96l-1.37-1.37c-.4-.4-.92-.59-1.43-.59-.52 0-1.04.2-1.43.59L10.3 9.45l-7.72 7.72c-.78.78-.78 2.05 0 2.83L4 21.41c.39.39.9.59 1.41.59.51 0 1.02-.2 1.41-.59l7.78-7.78 2.81-2.81c.8-.78.8-2.07 0-2.86zM5.41 20L4 18.59l7.72-7.72 1.47 1.35L5.41 20z\"/>\n",
              "  </svg>\n",
              "      </button>\n",
              "      \n",
              "  <style>\n",
              "    .colab-df-container {\n",
              "      display:flex;\n",
              "      flex-wrap:wrap;\n",
              "      gap: 12px;\n",
              "    }\n",
              "\n",
              "    .colab-df-convert {\n",
              "      background-color: #E8F0FE;\n",
              "      border: none;\n",
              "      border-radius: 50%;\n",
              "      cursor: pointer;\n",
              "      display: none;\n",
              "      fill: #1967D2;\n",
              "      height: 32px;\n",
              "      padding: 0 0 0 0;\n",
              "      width: 32px;\n",
              "    }\n",
              "\n",
              "    .colab-df-convert:hover {\n",
              "      background-color: #E2EBFA;\n",
              "      box-shadow: 0px 1px 2px rgba(60, 64, 67, 0.3), 0px 1px 3px 1px rgba(60, 64, 67, 0.15);\n",
              "      fill: #174EA6;\n",
              "    }\n",
              "\n",
              "    [theme=dark] .colab-df-convert {\n",
              "      background-color: #3B4455;\n",
              "      fill: #D2E3FC;\n",
              "    }\n",
              "\n",
              "    [theme=dark] .colab-df-convert:hover {\n",
              "      background-color: #434B5C;\n",
              "      box-shadow: 0px 1px 3px 1px rgba(0, 0, 0, 0.15);\n",
              "      filter: drop-shadow(0px 1px 2px rgba(0, 0, 0, 0.3));\n",
              "      fill: #FFFFFF;\n",
              "    }\n",
              "  </style>\n",
              "\n",
              "      <script>\n",
              "        const buttonEl =\n",
              "          document.querySelector('#df-c9f4b628-3529-40f6-8eda-7086c9e329fc button.colab-df-convert');\n",
              "        buttonEl.style.display =\n",
              "          google.colab.kernel.accessAllowed ? 'block' : 'none';\n",
              "\n",
              "        async function convertToInteractive(key) {\n",
              "          const element = document.querySelector('#df-c9f4b628-3529-40f6-8eda-7086c9e329fc');\n",
              "          const dataTable =\n",
              "            await google.colab.kernel.invokeFunction('convertToInteractive',\n",
              "                                                     [key], {});\n",
              "          if (!dataTable) return;\n",
              "\n",
              "          const docLinkHtml = 'Like what you see? Visit the ' +\n",
              "            '<a target=\"_blank\" href=https://colab.research.google.com/notebooks/data_table.ipynb>data table notebook</a>'\n",
              "            + ' to learn more about interactive tables.';\n",
              "          element.innerHTML = '';\n",
              "          dataTable['output_type'] = 'display_data';\n",
              "          await google.colab.output.renderOutput(dataTable, element);\n",
              "          const docLink = document.createElement('div');\n",
              "          docLink.innerHTML = docLinkHtml;\n",
              "          element.appendChild(docLink);\n",
              "        }\n",
              "      </script>\n",
              "    </div>\n",
              "  </div>\n",
              "  "
            ]
          },
          "metadata": {},
          "execution_count": 10
        }
      ]
    },
    {
      "cell_type": "code",
      "source": [
        "#save part of the dataset with non-zero 'TotalPayBenefits' and  zero 'TotalPay' for potential separate analysis \n",
        "benefits_only = sal[(sal.TotalPay == 0) & (sal.TotalPayBenefits != 0)]\n",
        "print(f\"There are {len(benefits_only)} rows with non-zero 'TotalPayBenefits' and  zero 'TotalPay'\")\n",
        "benefits_only.head()"
      ],
      "metadata": {
        "colab": {
          "base_uri": "https://localhost:8080/",
          "height": 225
        },
        "id": "rs2rZsVBLTeZ",
        "outputId": "b0e0f18d-ec26-4431-e540-14bb431aee43"
      },
      "execution_count": 11,
      "outputs": [
        {
          "output_type": "stream",
          "name": "stdout",
          "text": [
            "There are 338 rows with non-zero 'TotalPayBenefits' and  zero 'TotalPay'\n"
          ]
        },
        {
          "output_type": "execute_result",
          "data": {
            "text/plain": [
              "          Id      EmployeeName                   JobTitle  BasePay  \\\n",
              "70877  70878     Roland Baylon      Deputy Court Clerk II      0.0   \n",
              "70927  70928  Felecia Phillips           Registered Nurse      0.0   \n",
              "70928  70929   Robert Giannini                    Painter      0.0   \n",
              "70932  70933        Nelly Kuan  Senior Eligibility Worker      0.0   \n",
              "70933  70934   William Mathews  Transit Power Line Worker      0.0   \n",
              "\n",
              "       OvertimePay  OtherPay  Benefits  TotalPay  TotalPayBenefits  Year  \\\n",
              "70877          0.0       0.0   3728.05       0.0           3728.05  2012   \n",
              "70927          0.0       0.0   3618.13       0.0           3618.13  2012   \n",
              "70928          0.0       0.0   3614.56       0.0           3614.56  2012   \n",
              "70932          0.0       0.0   3610.32       0.0           3610.32  2012   \n",
              "70933          0.0       0.0   3608.42       0.0           3608.42  2012   \n",
              "\n",
              "      Status  \n",
              "70877  empty  \n",
              "70927  empty  \n",
              "70928  empty  \n",
              "70932  empty  \n",
              "70933  empty  "
            ],
            "text/html": [
              "\n",
              "  <div id=\"df-d74c0501-106f-4553-945c-8696ce61946d\">\n",
              "    <div class=\"colab-df-container\">\n",
              "      <div>\n",
              "<style scoped>\n",
              "    .dataframe tbody tr th:only-of-type {\n",
              "        vertical-align: middle;\n",
              "    }\n",
              "\n",
              "    .dataframe tbody tr th {\n",
              "        vertical-align: top;\n",
              "    }\n",
              "\n",
              "    .dataframe thead th {\n",
              "        text-align: right;\n",
              "    }\n",
              "</style>\n",
              "<table border=\"1\" class=\"dataframe\">\n",
              "  <thead>\n",
              "    <tr style=\"text-align: right;\">\n",
              "      <th></th>\n",
              "      <th>Id</th>\n",
              "      <th>EmployeeName</th>\n",
              "      <th>JobTitle</th>\n",
              "      <th>BasePay</th>\n",
              "      <th>OvertimePay</th>\n",
              "      <th>OtherPay</th>\n",
              "      <th>Benefits</th>\n",
              "      <th>TotalPay</th>\n",
              "      <th>TotalPayBenefits</th>\n",
              "      <th>Year</th>\n",
              "      <th>Status</th>\n",
              "    </tr>\n",
              "  </thead>\n",
              "  <tbody>\n",
              "    <tr>\n",
              "      <th>70877</th>\n",
              "      <td>70878</td>\n",
              "      <td>Roland Baylon</td>\n",
              "      <td>Deputy Court Clerk II</td>\n",
              "      <td>0.0</td>\n",
              "      <td>0.0</td>\n",
              "      <td>0.0</td>\n",
              "      <td>3728.05</td>\n",
              "      <td>0.0</td>\n",
              "      <td>3728.05</td>\n",
              "      <td>2012</td>\n",
              "      <td>empty</td>\n",
              "    </tr>\n",
              "    <tr>\n",
              "      <th>70927</th>\n",
              "      <td>70928</td>\n",
              "      <td>Felecia Phillips</td>\n",
              "      <td>Registered Nurse</td>\n",
              "      <td>0.0</td>\n",
              "      <td>0.0</td>\n",
              "      <td>0.0</td>\n",
              "      <td>3618.13</td>\n",
              "      <td>0.0</td>\n",
              "      <td>3618.13</td>\n",
              "      <td>2012</td>\n",
              "      <td>empty</td>\n",
              "    </tr>\n",
              "    <tr>\n",
              "      <th>70928</th>\n",
              "      <td>70929</td>\n",
              "      <td>Robert Giannini</td>\n",
              "      <td>Painter</td>\n",
              "      <td>0.0</td>\n",
              "      <td>0.0</td>\n",
              "      <td>0.0</td>\n",
              "      <td>3614.56</td>\n",
              "      <td>0.0</td>\n",
              "      <td>3614.56</td>\n",
              "      <td>2012</td>\n",
              "      <td>empty</td>\n",
              "    </tr>\n",
              "    <tr>\n",
              "      <th>70932</th>\n",
              "      <td>70933</td>\n",
              "      <td>Nelly Kuan</td>\n",
              "      <td>Senior Eligibility Worker</td>\n",
              "      <td>0.0</td>\n",
              "      <td>0.0</td>\n",
              "      <td>0.0</td>\n",
              "      <td>3610.32</td>\n",
              "      <td>0.0</td>\n",
              "      <td>3610.32</td>\n",
              "      <td>2012</td>\n",
              "      <td>empty</td>\n",
              "    </tr>\n",
              "    <tr>\n",
              "      <th>70933</th>\n",
              "      <td>70934</td>\n",
              "      <td>William Mathews</td>\n",
              "      <td>Transit Power Line Worker</td>\n",
              "      <td>0.0</td>\n",
              "      <td>0.0</td>\n",
              "      <td>0.0</td>\n",
              "      <td>3608.42</td>\n",
              "      <td>0.0</td>\n",
              "      <td>3608.42</td>\n",
              "      <td>2012</td>\n",
              "      <td>empty</td>\n",
              "    </tr>\n",
              "  </tbody>\n",
              "</table>\n",
              "</div>\n",
              "      <button class=\"colab-df-convert\" onclick=\"convertToInteractive('df-d74c0501-106f-4553-945c-8696ce61946d')\"\n",
              "              title=\"Convert this dataframe to an interactive table.\"\n",
              "              style=\"display:none;\">\n",
              "        \n",
              "  <svg xmlns=\"http://www.w3.org/2000/svg\" height=\"24px\"viewBox=\"0 0 24 24\"\n",
              "       width=\"24px\">\n",
              "    <path d=\"M0 0h24v24H0V0z\" fill=\"none\"/>\n",
              "    <path d=\"M18.56 5.44l.94 2.06.94-2.06 2.06-.94-2.06-.94-.94-2.06-.94 2.06-2.06.94zm-11 1L8.5 8.5l.94-2.06 2.06-.94-2.06-.94L8.5 2.5l-.94 2.06-2.06.94zm10 10l.94 2.06.94-2.06 2.06-.94-2.06-.94-.94-2.06-.94 2.06-2.06.94z\"/><path d=\"M17.41 7.96l-1.37-1.37c-.4-.4-.92-.59-1.43-.59-.52 0-1.04.2-1.43.59L10.3 9.45l-7.72 7.72c-.78.78-.78 2.05 0 2.83L4 21.41c.39.39.9.59 1.41.59.51 0 1.02-.2 1.41-.59l7.78-7.78 2.81-2.81c.8-.78.8-2.07 0-2.86zM5.41 20L4 18.59l7.72-7.72 1.47 1.35L5.41 20z\"/>\n",
              "  </svg>\n",
              "      </button>\n",
              "      \n",
              "  <style>\n",
              "    .colab-df-container {\n",
              "      display:flex;\n",
              "      flex-wrap:wrap;\n",
              "      gap: 12px;\n",
              "    }\n",
              "\n",
              "    .colab-df-convert {\n",
              "      background-color: #E8F0FE;\n",
              "      border: none;\n",
              "      border-radius: 50%;\n",
              "      cursor: pointer;\n",
              "      display: none;\n",
              "      fill: #1967D2;\n",
              "      height: 32px;\n",
              "      padding: 0 0 0 0;\n",
              "      width: 32px;\n",
              "    }\n",
              "\n",
              "    .colab-df-convert:hover {\n",
              "      background-color: #E2EBFA;\n",
              "      box-shadow: 0px 1px 2px rgba(60, 64, 67, 0.3), 0px 1px 3px 1px rgba(60, 64, 67, 0.15);\n",
              "      fill: #174EA6;\n",
              "    }\n",
              "\n",
              "    [theme=dark] .colab-df-convert {\n",
              "      background-color: #3B4455;\n",
              "      fill: #D2E3FC;\n",
              "    }\n",
              "\n",
              "    [theme=dark] .colab-df-convert:hover {\n",
              "      background-color: #434B5C;\n",
              "      box-shadow: 0px 1px 3px 1px rgba(0, 0, 0, 0.15);\n",
              "      filter: drop-shadow(0px 1px 2px rgba(0, 0, 0, 0.3));\n",
              "      fill: #FFFFFF;\n",
              "    }\n",
              "  </style>\n",
              "\n",
              "      <script>\n",
              "        const buttonEl =\n",
              "          document.querySelector('#df-d74c0501-106f-4553-945c-8696ce61946d button.colab-df-convert');\n",
              "        buttonEl.style.display =\n",
              "          google.colab.kernel.accessAllowed ? 'block' : 'none';\n",
              "\n",
              "        async function convertToInteractive(key) {\n",
              "          const element = document.querySelector('#df-d74c0501-106f-4553-945c-8696ce61946d');\n",
              "          const dataTable =\n",
              "            await google.colab.kernel.invokeFunction('convertToInteractive',\n",
              "                                                     [key], {});\n",
              "          if (!dataTable) return;\n",
              "\n",
              "          const docLinkHtml = 'Like what you see? Visit the ' +\n",
              "            '<a target=\"_blank\" href=https://colab.research.google.com/notebooks/data_table.ipynb>data table notebook</a>'\n",
              "            + ' to learn more about interactive tables.';\n",
              "          element.innerHTML = '';\n",
              "          dataTable['output_type'] = 'display_data';\n",
              "          await google.colab.output.renderOutput(dataTable, element);\n",
              "          const docLink = document.createElement('div');\n",
              "          docLink.innerHTML = docLinkHtml;\n",
              "          element.appendChild(docLink);\n",
              "        }\n",
              "      </script>\n",
              "    </div>\n",
              "  </div>\n",
              "  "
            ]
          },
          "metadata": {},
          "execution_count": 11
        }
      ]
    },
    {
      "cell_type": "code",
      "source": [
        "#remove rows with zero 'TotalPay' values from main dataframe\n",
        "sal.drop(sal[sal.TotalPay == 0].index, inplace = True)"
      ],
      "metadata": {
        "id": "xoN_J121L85F"
      },
      "execution_count": 12,
      "outputs": []
    },
    {
      "cell_type": "markdown",
      "source": [
        "Пропущенные значения"
      ],
      "metadata": {
        "id": "0mcEvlAC-IJ9"
      }
    },
    {
      "cell_type": "code",
      "source": [
        "print(f\"sal.BasePay null values: {sal.BasePay.isnull().sum()}\\nsal.OvertimePay null values: {sal.OvertimePay.isnull().sum()}\\n \\\n",
        "sal.OtherPay null values: {sal.OtherPay.isnull().sum()}\\nsal.Benefits null values: {sal.Benefits.isnull().sum()}\\nsal.TotalPayBenefits null values: {sal.TotalPayBenefits.isnull().sum()}\")"
      ],
      "metadata": {
        "colab": {
          "base_uri": "https://localhost:8080/"
        },
        "id": "XOJ1t6bNTv4s",
        "outputId": "74d70d33-d97e-401c-b495-d098b6bd0590"
      },
      "execution_count": 13,
      "outputs": [
        {
          "output_type": "stream",
          "name": "stdout",
          "text": [
            "sal.BasePay null values: 317\n",
            "sal.OvertimePay null values: 0\n",
            " sal.OtherPay null values: 0\n",
            "sal.Benefits null values: 36156\n",
            "sal.TotalPayBenefits null values: 0\n"
          ]
        }
      ]
    },
    {
      "cell_type": "code",
      "source": [
        "#fill missing \"BasePay\" values \n",
        "sal.loc[sal.BasePay.isnull(),\"BasePay\"] = sal.loc[sal.BasePay.isnull(), \"TotalPay\"] - sal.loc[sal.BasePay.isnull(),\"OvertimePay\"] - sal.loc[sal.BasePay.isnull(), \"OtherPay\"]\n",
        "#fill missing \"Benefits\" values \n",
        "sal.loc[sal.Benefits.isnull(),\"Benefits\"] = sal.loc[sal.Benefits.isnull(), \"TotalPayBenefits\"] - sal.loc[sal.Benefits.isnull(),\"TotalPay\"]"
      ],
      "metadata": {
        "id": "BbOIClT5JajM"
      },
      "execution_count": 14,
      "outputs": []
    },
    {
      "cell_type": "code",
      "source": [
        "sal.describe()"
      ],
      "metadata": {
        "colab": {
          "base_uri": "https://localhost:8080/",
          "height": 300
        },
        "id": "Fvc-ol_Y67T1",
        "outputId": "e6b6963a-ed5c-4d6d-ee1b-9c695d9cd4a7"
      },
      "execution_count": 15,
      "outputs": [
        {
          "output_type": "execute_result",
          "data": {
            "text/plain": [
              "                  Id        BasePay    OvertimePay       OtherPay  \\\n",
              "count  148286.000000  148286.000000  148286.000000  148286.000000   \n",
              "mean    74239.942314   66217.654219    5078.495624    3657.723984   \n",
              "std     42919.899896   42813.312492   11465.676891    8064.453244   \n",
              "min         1.000000    -166.010000      -0.010000   -7058.590000   \n",
              "25%     37075.250000   33272.910000       0.000000       0.000000   \n",
              "50%     74171.500000   64957.515000       0.000000     819.535000   \n",
              "75%    111530.750000   94691.010000    4680.157500    4254.895000   \n",
              "max    148654.000000  319275.010000  245131.880000  400184.250000   \n",
              "\n",
              "            Benefits       TotalPay  TotalPayBenefits           Year  \n",
              "count  148286.000000  148286.000000     148286.000000  148286.000000  \n",
              "mean    18954.653363   74953.873827      93908.527191    2012.521317  \n",
              "std     17175.189711   50441.977909      62721.241666       1.118341  \n",
              "min       -13.800000    -618.130000       -618.130000    2011.000000  \n",
              "25%         0.000000   36679.020000      44691.035000    2012.000000  \n",
              "50%     23373.810000   71553.000000      92571.480000    2013.000000  \n",
              "75%     33492.905000  105967.057500     133004.167500    2014.000000  \n",
              "max     96570.660000  567595.430000     567595.430000    2014.000000  "
            ],
            "text/html": [
              "\n",
              "  <div id=\"df-c2c0c6f4-a780-46df-910b-5780b29bb6f9\">\n",
              "    <div class=\"colab-df-container\">\n",
              "      <div>\n",
              "<style scoped>\n",
              "    .dataframe tbody tr th:only-of-type {\n",
              "        vertical-align: middle;\n",
              "    }\n",
              "\n",
              "    .dataframe tbody tr th {\n",
              "        vertical-align: top;\n",
              "    }\n",
              "\n",
              "    .dataframe thead th {\n",
              "        text-align: right;\n",
              "    }\n",
              "</style>\n",
              "<table border=\"1\" class=\"dataframe\">\n",
              "  <thead>\n",
              "    <tr style=\"text-align: right;\">\n",
              "      <th></th>\n",
              "      <th>Id</th>\n",
              "      <th>BasePay</th>\n",
              "      <th>OvertimePay</th>\n",
              "      <th>OtherPay</th>\n",
              "      <th>Benefits</th>\n",
              "      <th>TotalPay</th>\n",
              "      <th>TotalPayBenefits</th>\n",
              "      <th>Year</th>\n",
              "    </tr>\n",
              "  </thead>\n",
              "  <tbody>\n",
              "    <tr>\n",
              "      <th>count</th>\n",
              "      <td>148286.000000</td>\n",
              "      <td>148286.000000</td>\n",
              "      <td>148286.000000</td>\n",
              "      <td>148286.000000</td>\n",
              "      <td>148286.000000</td>\n",
              "      <td>148286.000000</td>\n",
              "      <td>148286.000000</td>\n",
              "      <td>148286.000000</td>\n",
              "    </tr>\n",
              "    <tr>\n",
              "      <th>mean</th>\n",
              "      <td>74239.942314</td>\n",
              "      <td>66217.654219</td>\n",
              "      <td>5078.495624</td>\n",
              "      <td>3657.723984</td>\n",
              "      <td>18954.653363</td>\n",
              "      <td>74953.873827</td>\n",
              "      <td>93908.527191</td>\n",
              "      <td>2012.521317</td>\n",
              "    </tr>\n",
              "    <tr>\n",
              "      <th>std</th>\n",
              "      <td>42919.899896</td>\n",
              "      <td>42813.312492</td>\n",
              "      <td>11465.676891</td>\n",
              "      <td>8064.453244</td>\n",
              "      <td>17175.189711</td>\n",
              "      <td>50441.977909</td>\n",
              "      <td>62721.241666</td>\n",
              "      <td>1.118341</td>\n",
              "    </tr>\n",
              "    <tr>\n",
              "      <th>min</th>\n",
              "      <td>1.000000</td>\n",
              "      <td>-166.010000</td>\n",
              "      <td>-0.010000</td>\n",
              "      <td>-7058.590000</td>\n",
              "      <td>-13.800000</td>\n",
              "      <td>-618.130000</td>\n",
              "      <td>-618.130000</td>\n",
              "      <td>2011.000000</td>\n",
              "    </tr>\n",
              "    <tr>\n",
              "      <th>25%</th>\n",
              "      <td>37075.250000</td>\n",
              "      <td>33272.910000</td>\n",
              "      <td>0.000000</td>\n",
              "      <td>0.000000</td>\n",
              "      <td>0.000000</td>\n",
              "      <td>36679.020000</td>\n",
              "      <td>44691.035000</td>\n",
              "      <td>2012.000000</td>\n",
              "    </tr>\n",
              "    <tr>\n",
              "      <th>50%</th>\n",
              "      <td>74171.500000</td>\n",
              "      <td>64957.515000</td>\n",
              "      <td>0.000000</td>\n",
              "      <td>819.535000</td>\n",
              "      <td>23373.810000</td>\n",
              "      <td>71553.000000</td>\n",
              "      <td>92571.480000</td>\n",
              "      <td>2013.000000</td>\n",
              "    </tr>\n",
              "    <tr>\n",
              "      <th>75%</th>\n",
              "      <td>111530.750000</td>\n",
              "      <td>94691.010000</td>\n",
              "      <td>4680.157500</td>\n",
              "      <td>4254.895000</td>\n",
              "      <td>33492.905000</td>\n",
              "      <td>105967.057500</td>\n",
              "      <td>133004.167500</td>\n",
              "      <td>2014.000000</td>\n",
              "    </tr>\n",
              "    <tr>\n",
              "      <th>max</th>\n",
              "      <td>148654.000000</td>\n",
              "      <td>319275.010000</td>\n",
              "      <td>245131.880000</td>\n",
              "      <td>400184.250000</td>\n",
              "      <td>96570.660000</td>\n",
              "      <td>567595.430000</td>\n",
              "      <td>567595.430000</td>\n",
              "      <td>2014.000000</td>\n",
              "    </tr>\n",
              "  </tbody>\n",
              "</table>\n",
              "</div>\n",
              "      <button class=\"colab-df-convert\" onclick=\"convertToInteractive('df-c2c0c6f4-a780-46df-910b-5780b29bb6f9')\"\n",
              "              title=\"Convert this dataframe to an interactive table.\"\n",
              "              style=\"display:none;\">\n",
              "        \n",
              "  <svg xmlns=\"http://www.w3.org/2000/svg\" height=\"24px\"viewBox=\"0 0 24 24\"\n",
              "       width=\"24px\">\n",
              "    <path d=\"M0 0h24v24H0V0z\" fill=\"none\"/>\n",
              "    <path d=\"M18.56 5.44l.94 2.06.94-2.06 2.06-.94-2.06-.94-.94-2.06-.94 2.06-2.06.94zm-11 1L8.5 8.5l.94-2.06 2.06-.94-2.06-.94L8.5 2.5l-.94 2.06-2.06.94zm10 10l.94 2.06.94-2.06 2.06-.94-2.06-.94-.94-2.06-.94 2.06-2.06.94z\"/><path d=\"M17.41 7.96l-1.37-1.37c-.4-.4-.92-.59-1.43-.59-.52 0-1.04.2-1.43.59L10.3 9.45l-7.72 7.72c-.78.78-.78 2.05 0 2.83L4 21.41c.39.39.9.59 1.41.59.51 0 1.02-.2 1.41-.59l7.78-7.78 2.81-2.81c.8-.78.8-2.07 0-2.86zM5.41 20L4 18.59l7.72-7.72 1.47 1.35L5.41 20z\"/>\n",
              "  </svg>\n",
              "      </button>\n",
              "      \n",
              "  <style>\n",
              "    .colab-df-container {\n",
              "      display:flex;\n",
              "      flex-wrap:wrap;\n",
              "      gap: 12px;\n",
              "    }\n",
              "\n",
              "    .colab-df-convert {\n",
              "      background-color: #E8F0FE;\n",
              "      border: none;\n",
              "      border-radius: 50%;\n",
              "      cursor: pointer;\n",
              "      display: none;\n",
              "      fill: #1967D2;\n",
              "      height: 32px;\n",
              "      padding: 0 0 0 0;\n",
              "      width: 32px;\n",
              "    }\n",
              "\n",
              "    .colab-df-convert:hover {\n",
              "      background-color: #E2EBFA;\n",
              "      box-shadow: 0px 1px 2px rgba(60, 64, 67, 0.3), 0px 1px 3px 1px rgba(60, 64, 67, 0.15);\n",
              "      fill: #174EA6;\n",
              "    }\n",
              "\n",
              "    [theme=dark] .colab-df-convert {\n",
              "      background-color: #3B4455;\n",
              "      fill: #D2E3FC;\n",
              "    }\n",
              "\n",
              "    [theme=dark] .colab-df-convert:hover {\n",
              "      background-color: #434B5C;\n",
              "      box-shadow: 0px 1px 3px 1px rgba(0, 0, 0, 0.15);\n",
              "      filter: drop-shadow(0px 1px 2px rgba(0, 0, 0, 0.3));\n",
              "      fill: #FFFFFF;\n",
              "    }\n",
              "  </style>\n",
              "\n",
              "      <script>\n",
              "        const buttonEl =\n",
              "          document.querySelector('#df-c2c0c6f4-a780-46df-910b-5780b29bb6f9 button.colab-df-convert');\n",
              "        buttonEl.style.display =\n",
              "          google.colab.kernel.accessAllowed ? 'block' : 'none';\n",
              "\n",
              "        async function convertToInteractive(key) {\n",
              "          const element = document.querySelector('#df-c2c0c6f4-a780-46df-910b-5780b29bb6f9');\n",
              "          const dataTable =\n",
              "            await google.colab.kernel.invokeFunction('convertToInteractive',\n",
              "                                                     [key], {});\n",
              "          if (!dataTable) return;\n",
              "\n",
              "          const docLinkHtml = 'Like what you see? Visit the ' +\n",
              "            '<a target=\"_blank\" href=https://colab.research.google.com/notebooks/data_table.ipynb>data table notebook</a>'\n",
              "            + ' to learn more about interactive tables.';\n",
              "          element.innerHTML = '';\n",
              "          dataTable['output_type'] = 'display_data';\n",
              "          await google.colab.output.renderOutput(dataTable, element);\n",
              "          const docLink = document.createElement('div');\n",
              "          docLink.innerHTML = docLinkHtml;\n",
              "          element.appendChild(docLink);\n",
              "        }\n",
              "      </script>\n",
              "    </div>\n",
              "  </div>\n",
              "  "
            ]
          },
          "metadata": {},
          "execution_count": 15
        }
      ]
    },
    {
      "cell_type": "code",
      "source": [
        "print(f\"NaN values in modified dataset:\\n{sal.isnull().sum()}\")"
      ],
      "metadata": {
        "colab": {
          "base_uri": "https://localhost:8080/"
        },
        "id": "E8dNGUAZYENt",
        "outputId": "adf635d9-96f0-439c-f873-dbe41fd92475"
      },
      "execution_count": 16,
      "outputs": [
        {
          "output_type": "stream",
          "name": "stdout",
          "text": [
            "NaN values in modified dataset:\n",
            "Id                  0\n",
            "EmployeeName        0\n",
            "JobTitle            0\n",
            "BasePay             0\n",
            "OvertimePay         0\n",
            "OtherPay            0\n",
            "Benefits            0\n",
            "TotalPay            0\n",
            "TotalPayBenefits    0\n",
            "Year                0\n",
            "Status              0\n",
            "dtype: int64\n"
          ]
        }
      ]
    },
    {
      "cell_type": "markdown",
      "source": [
        "Дубликаты"
      ],
      "metadata": {
        "id": "fsqZ-6ogadq_"
      }
    },
    {
      "cell_type": "code",
      "source": [
        "print(f\"There are {sal.duplicated().sum()} duplicated values in the dataset\")"
      ],
      "metadata": {
        "colab": {
          "base_uri": "https://localhost:8080/"
        },
        "id": "YNb-Pn74Zp5Y",
        "outputId": "7f84abda-effa-43fd-dd2e-c06ddeb98ded"
      },
      "execution_count": 17,
      "outputs": [
        {
          "output_type": "stream",
          "name": "stdout",
          "text": [
            "There are 0 duplicated values in the dataset\n"
          ]
        }
      ]
    },
    {
      "cell_type": "markdown",
      "source": [
        "**Data Analysis**"
      ],
      "metadata": {
        "id": "c9XcJ_-SFWAU"
      }
    },
    {
      "cell_type": "markdown",
      "source": [
        "Выбросы"
      ],
      "metadata": {
        "id": "rH4yFAzvcTLD"
      }
    },
    {
      "cell_type": "code",
      "source": [
        "fig, axes = plt.subplots(1, 5, figsize=(32, 9))\n",
        "\n",
        "sns.boxplot(data = sal['TotalPay'], ax=axes[0]).set(xlabel='TotalPay')\n",
        "sns.boxplot(data = sal['BasePay'], ax=axes[1]).set(xlabel='BasePay')\n",
        "sns.boxplot(data = sal['OvertimePay'], ax=axes[2]).set(xlabel='OvertimePay')\n",
        "sns.boxplot(data = sal['OtherPay'], ax=axes[3]).set(xlabel='OtherPay')\n",
        "sns.boxplot(data = sal['Benefits'], ax=axes[4]).set(xlabel='Benefits')\n",
        "plt.show()"
      ],
      "metadata": {
        "colab": {
          "base_uri": "https://localhost:8080/",
          "height": 421
        },
        "id": "XH13BdRhcSGT",
        "outputId": "b616baba-f44f-4632-f69a-2b621b916d30"
      },
      "execution_count": 18,
      "outputs": [
        {
          "output_type": "display_data",
          "data": {
            "text/plain": [
              "<Figure size 2304x648 with 5 Axes>"
            ],
            "image/png": "[encoded data removed]"
          },
          "metadata": {
            "needs_background": "light"
          }
        }
      ]
    },
    {
      "cell_type": "code",
      "source": [
        "# outliers are values greater than (Q3+1.5*IQR)\n",
        "Q1 = np.percentile(sal['TotalPay'], 25, interpolation = 'midpoint')\n",
        "Q3 = np.percentile(sal['TotalPay'], 75, interpolation = 'midpoint')\n",
        "IQR = Q3 - Q1"
      ],
      "metadata": {
        "id": "OYyMScV4gUq0"
      },
      "execution_count": 19,
      "outputs": []
    },
    {
      "cell_type": "code",
      "source": [
        "# Upper bound\n",
        "upper = np.where(sal['TotalPay'] >= (Q3+1.5*IQR))\n",
        "# lower bound\n",
        "lower = np.where(sal['TotalPay'] <= (Q1-1.5*IQR))"
      ],
      "metadata": {
        "id": "cITtnnhxghhS"
      },
      "execution_count": 20,
      "outputs": []
    },
    {
      "cell_type": "code",
      "source": [
        "print (f\"В датасете всего {sal.iloc[upper].Id.count() + sal.iloc[lower].Id.count()} выбросов. Оставим пока как есть и попробуем проанализировать выбросы в разрезе по профессиям\")"
      ],
      "metadata": {
        "colab": {
          "base_uri": "https://localhost:8080/"
        },
        "id": "dPxkw0TF-Cg7",
        "outputId": "6f43b534-d421-4186-85b7-4ef07f07a8c2"
      },
      "execution_count": 21,
      "outputs": [
        {
          "output_type": "stream",
          "name": "stdout",
          "text": [
            "В датасете всего 1304 выбросов. Оставим пока как есть и попробуем проанализировать выбросы в разрезе по профессиям\n"
          ]
        }
      ]
    },
    {
      "cell_type": "markdown",
      "source": [
        "Добавим поле 'Profession', значения в котором будут определяться на основании  'JobTitle'"
      ],
      "metadata": {
        "id": "euGYnvFnOx5w"
      }
    },
    {
      "cell_type": "code",
      "source": [
        "sal.JobTitle = sal.JobTitle.str.lower()"
      ],
      "metadata": {
        "id": "B8VFIEUhyfQY"
      },
      "execution_count": 22,
      "outputs": []
    },
    {
      "cell_type": "code",
      "source": [
        "sal[\"Profession\"] = \"TBD\""
      ],
      "metadata": {
        "id": "kNtfcFKX5g5x"
      },
      "execution_count": 23,
      "outputs": []
    },
    {
      "cell_type": "code",
      "source": [
        "print(f\"Всего в датасете {sal['JobTitle'].nunique()} уникальных Job Titles.\\n30 наиболее частых:\")\n",
        "sal['JobTitle'].value_counts().head(25)"
      ],
      "metadata": {
        "colab": {
          "base_uri": "https://localhost:8080/"
        },
        "id": "WI2-YlgzEqFG",
        "outputId": "97a59d57-df9c-4bec-bd2c-01376e6ae148"
      },
      "execution_count": 24,
      "outputs": [
        {
          "output_type": "stream",
          "name": "stdout",
          "text": [
            "Всего в датасете 1633 уникальных Job Titles.\n",
            "30 наиболее частых:\n"
          ]
        },
        {
          "output_type": "execute_result",
          "data": {
            "text/plain": [
              "transit operator                9381\n",
              "special nurse                   5788\n",
              "registered nurse                4953\n",
              "custodian                       3208\n",
              "firefighter                     3147\n",
              "recreation leader               2660\n",
              "deputy sheriff                  2608\n",
              "public svc aide-public works    2516\n",
              "police officer 3                2417\n",
              "patient care assistant          1944\n",
              "public service trainee          1655\n",
              "attorney (civil/criminal)       1502\n",
              "police officer                  1472\n",
              "porter                          1464\n",
              "general laborer                 1399\n",
              "gardener                        1183\n",
              "police officer 2                1141\n",
              "parking control officer         1132\n",
              "library page                    1107\n",
              "senior clerk                    1063\n",
              "senior clerk typist             1049\n",
              "sergeant 3                      1047\n",
              "clerk                            980\n",
              "eligibility worker               980\n",
              "emt/paramedic/firefighter        917\n",
              "Name: JobTitle, dtype: Int64"
            ]
          },
          "metadata": {},
          "execution_count": 24
        }
      ]
    },
    {
      "cell_type": "markdown",
      "source": [
        "Сделаем разметку Job Title -> Profession для наиболее распространенных job titles из списка выше  "
      ],
      "metadata": {
        "id": "UiKE8h2ueBlz"
      }
    },
    {
      "cell_type": "code",
      "source": [
        "profession_dict = {\"police\":\"police\", \"fire\" : \"fire\", \"medical\": \"medicine\", \"transit\": \"transportation\", \"nurs\":\"medicine\", \"patient care assistant\": \"medicine\", \n",
        "                   \"custodian\": \"custodian\", \"attorney\": \"attorney\", \"sheriff\": \"sheriff\", \"clerk\": \"clerk\", \"public svc\" :\"public service jobs\", \n",
        "                   \"public service\":\"public service jobs\", \"sergeant\": \"police\", \"recreation\": \"recreation\", \"general laborer\":\"general laborer\",\"librar\":\"library\", \"porter\":\"porter\", \"gardener\":\"gardener\"} "
      ],
      "metadata": {
        "id": "rejYSxBeTLIv"
      },
      "execution_count": 25,
      "outputs": []
    },
    {
      "cell_type": "code",
      "source": [
        "def def_prof(): \n",
        "  \"\"\"function which fills in column 'Profession' in the dataset\"\"\"\n",
        "  for k,v in profession_dict.items():\n",
        "      sal.loc[sal['JobTitle'].str.contains(k), \"Profession\"] = v"
      ],
      "metadata": {
        "id": "o_Q0CArPU8Ha"
      },
      "execution_count": 26,
      "outputs": []
    },
    {
      "cell_type": "code",
      "source": [
        "def_prof()"
      ],
      "metadata": {
        "id": "hBGgb3OFg7ik"
      },
      "execution_count": 27,
      "outputs": []
    },
    {
      "cell_type": "markdown",
      "source": [
        "Проверим, какие Job Title осталичь неразмеченными"
      ],
      "metadata": {
        "id": "5vkMMYLAgHQe"
      }
    },
    {
      "cell_type": "code",
      "source": [
        "sal.loc[sal.Profession == \"TBD\", 'JobTitle'].value_counts().head(30)"
      ],
      "metadata": {
        "colab": {
          "base_uri": "https://localhost:8080/"
        },
        "id": "vj5hgqYvGepn",
        "outputId": "48eb9050-bb2a-487b-91a5-338e59b97eaf"
      },
      "execution_count": 28,
      "outputs": [
        {
          "output_type": "execute_result",
          "data": {
            "text/plain": [
              "parking control officer                1132\n",
              "eligibility worker                      980\n",
              "stationary engineer                     885\n",
              "senior eligibility worker               875\n",
              "protective services worker              822\n",
              "museum guard                            820\n",
              "senior administrative analyst           805\n",
              "school crossing guard                   712\n",
              "truck driver                            707\n",
              "food service worker                     700\n",
              "engineer                                629\n",
              "ps aide to prof                         626\n",
              "publ svc aide-asst to prof              574\n",
              "manager iii                             568\n",
              "automotive mechanic                     562\n",
              "mental health rehabilitation worker     559\n",
              "physician specialist                    528\n",
              "senior physician specialist             526\n",
              "manager ii                              517\n",
              "manager i                               512\n",
              "pr administrative analyst               511\n",
              "deputy probation officer                511\n",
              "assoc engineer                          507\n",
              "psychiatric social worker               498\n",
              "public safetycomm disp                  472\n",
              "hsa sr eligibility worker               467\n",
              "painter                                 467\n",
              "administrative analyst                  461\n",
              "counselor, juvenile hall                461\n",
              "asst engr                               460\n",
              "Name: JobTitle, dtype: Int64"
            ]
          },
          "metadata": {},
          "execution_count": 28
        }
      ]
    },
    {
      "cell_type": "code",
      "source": [
        "profession_dict.update({\"publ svc\": \"public service jobs\", \"ps aide\": \"public service jobs\", \"eligibility worker\": \"eligibility worker\", \"engineer\":\"engineer\"})\n",
        "def_prof()"
      ],
      "metadata": {
        "id": "iTmVxtvTgQRG"
      },
      "execution_count": 29,
      "outputs": []
    },
    {
      "cell_type": "code",
      "source": [
        "print(f\"Размечено {sal[~(sal.Profession == 'TBD')].Profession.count()} строк, не размечено -   {sal[sal.Profession == 'TBD'].Profession.count()} \")"
      ],
      "metadata": {
        "colab": {
          "base_uri": "https://localhost:8080/"
        },
        "id": "PsgXhTnSoQ6d",
        "outputId": "609ffbda-5490-4a33-e1bf-f28e781b6158"
      },
      "execution_count": 30,
      "outputs": [
        {
          "output_type": "stream",
          "name": "stdout",
          "text": [
            "Размечено 87671 строк, не размечено -   60615 \n"
          ]
        }
      ]
    },
    {
      "cell_type": "code",
      "source": [
        "plt.figure(figsize=(6,6))\n",
        "sectors = sal['Profession'].value_counts()[0:30]\n",
        "sns.barplot(y=sectors.index, x=sectors.values, alpha=0.6)\n",
        "plt.xlabel('Number of jobs', fontsize=16)\n",
        "plt.ylabel(\"Professions\", fontsize=16)\n",
        "plt.title(\"Number of professions\")\n",
        "plt.show();"
      ],
      "metadata": {
        "colab": {
          "base_uri": "https://localhost:8080/",
          "height": 409
        },
        "id": "rDe04GDz0eut",
        "outputId": "c691bdf3-3aac-42d9-e30f-03bc85eb4b3b"
      },
      "execution_count": 31,
      "outputs": [
        {
          "output_type": "display_data",
          "data": {
            "text/plain": [
              "<Figure size 432x432 with 1 Axes>"
            ],
            "image/png": "[encoded data removed]"
          },
          "metadata": {
            "needs_background": "light"
          }
        }
      ]
    },
    {
      "cell_type": "markdown",
      "source": [
        "Видно, что осталось много строк, где профессия не определена. Проанализируем, нужна ли дальнейшая грануляция для этих данных"
      ],
      "metadata": {
        "id": "UJHuYbe9ekq8"
      }
    },
    {
      "cell_type": "markdown",
      "source": [
        "Для начала проверим, менялось ли распределение зарплат от года к году в 2011 - 2014, чтобы понять нужно ли проводить анализ в разрезе профессия+год или можем анализировать просто по профессиям для упрощения"
      ],
      "metadata": {
        "id": "fGAazG4za8M8"
      }
    },
    {
      "cell_type": "code",
      "source": [
        "sns.kdeplot(data=sal, x=\"TotalPay\", hue=\"Year\")"
      ],
      "metadata": {
        "colab": {
          "base_uri": "https://localhost:8080/",
          "height": 308
        },
        "id": "3XFX8So_NE-e",
        "outputId": "1be486e8-8790-46ee-c046-055383c8edf7"
      },
      "execution_count": 32,
      "outputs": [
        {
          "output_type": "execute_result",
          "data": {
            "text/plain": [
              "<matplotlib.axes._subplots.AxesSubplot at 0x7f8c156946d0>"
            ]
          },
          "metadata": {},
          "execution_count": 32
        },
        {
          "output_type": "display_data",
          "data": {
            "text/plain": [
              "<Figure size 432x288 with 1 Axes>"
            ],
            "image/png": "[encoded data removed]"
          },
          "metadata": {
            "needs_background": "light"
          }
        }
      ]
    },
    {
      "cell_type": "markdown",
      "source": [
        "Видно, что распредение от года меняется несильно, поэтому для простоты анализ зарплаты в зависимости от профессии будем проводить без разбивки по годам. Также из графика плотности распределения видно, что распределение величины TotalPay имеет два пика"
      ],
      "metadata": {
        "id": "A0UySkILbINU"
      }
    },
    {
      "cell_type": "markdown",
      "source": [
        "Прежде чем продолжать анализ в разрезе по профессиям, проверим гипотезу: левый пик - это распределение зарплат для Part-time работников, а правый пик - для Full-time (поле Status)"
      ],
      "metadata": {
        "id": "uZaS7qqj9iwr"
      }
    },
    {
      "cell_type": "code",
      "source": [
        "sns.kdeplot(data=sal, x=\"TotalPay\", hue=\"Status\")"
      ],
      "metadata": {
        "id": "3bs8iOq_9i37",
        "outputId": "9e9b3f44-314f-4153-aba2-a832eb84508f",
        "colab": {
          "base_uri": "https://localhost:8080/",
          "height": 308
        }
      },
      "execution_count": 33,
      "outputs": [
        {
          "output_type": "execute_result",
          "data": {
            "text/plain": [
              "<matplotlib.axes._subplots.AxesSubplot at 0x7f8c12cbd950>"
            ]
          },
          "metadata": {},
          "execution_count": 33
        },
        {
          "output_type": "display_data",
          "data": {
            "text/plain": [
              "<Figure size 432x288 with 1 Axes>"
            ],
            "image/png": "[encoded data removed]"
          },
          "metadata": {
            "needs_background": "light"
          }
        }
      ]
    },
    {
      "cell_type": "markdown",
      "source": [
        "В датасете много строк, у которых поле Status не заполнено. Видно, что поле появилось только в 2014 году:"
      ],
      "metadata": {
        "id": "7iD5JsGRWKEw"
      }
    },
    {
      "cell_type": "code",
      "source": [
        "sal[[\"Status\",\"Year\"]].value_counts()"
      ],
      "metadata": {
        "colab": {
          "base_uri": "https://localhost:8080/"
        },
        "id": "R9kQe8WpWbrv",
        "outputId": "4fc97f3f-65bc-489b-a2d3-336d26e1c880"
      },
      "execution_count": 34,
      "outputs": [
        {
          "output_type": "execute_result",
          "data": {
            "text/plain": [
              "Status  Year\n",
              "empty   2013    37318\n",
              "        2012    36741\n",
              "        2011    36156\n",
              "FT      2014    22334\n",
              "PT      2014    15737\n",
              "dtype: int64"
            ]
          },
          "metadata": {},
          "execution_count": 34
        }
      ]
    },
    {
      "cell_type": "markdown",
      "source": [
        "Теперь посмотрим распределение зарплаты в разбивке по профессиям и годам"
      ],
      "metadata": {
        "id": "EnAFRy3Whn5L"
      }
    },
    {
      "cell_type": "code",
      "source": [
        "sns.catplot(x=\"Profession\", y=\"TotalPay\",  data=sal, aspect = 3, hue = \"Year\", dodge=True).set(title='TotalPay in 2011-2014 by Profession')"
      ],
      "metadata": {
        "colab": {
          "base_uri": "https://localhost:8080/",
          "height": 403
        },
        "id": "m8D5lZxMhS9b",
        "outputId": "bd0e86a2-5c20-4807-c3f2-9f0182b2ddd6"
      },
      "execution_count": 35,
      "outputs": [
        {
          "output_type": "execute_result",
          "data": {
            "text/plain": [
              "<seaborn.axisgrid.FacetGrid at 0x7f8c12c89290>"
            ]
          },
          "metadata": {},
          "execution_count": 35
        },
        {
          "output_type": "display_data",
          "data": {
            "text/plain": [
              "<Figure size 1141.38x360 with 1 Axes>"
            ],
            "image/png": "[encoded data removed]"
          },
          "metadata": {
            "needs_background": "light"
          }
        }
      ]
    },
    {
      "cell_type": "markdown",
      "source": [
        "Видим большие выбросы в сфере transportation, police в 2011 году и TBD (не определено) в 2014. Удалим 3 эти строки из датасета, чтобы не искажать статистику"
      ],
      "metadata": {
        "id": "HILmJfEmBc6O"
      }
    },
    {
      "cell_type": "code",
      "source": [
        "sal.nlargest(3, 'TotalPay').sort_values('TotalPay')"
      ],
      "metadata": {
        "colab": {
          "base_uri": "https://localhost:8080/",
          "height": 143
        },
        "id": "kFsA5zmOjNWg",
        "outputId": "fbd018ea-2873-4516-da66-9ff2ce1a7506"
      },
      "execution_count": 36,
      "outputs": [
        {
          "output_type": "execute_result",
          "data": {
            "text/plain": [
              "            Id    EmployeeName  \\\n",
              "110531  110532     David Shinn   \n",
              "1            2    GARY JIMENEZ   \n",
              "0            1  NATHANIEL FORD   \n",
              "\n",
              "                                              JobTitle    BasePay  \\\n",
              "110531                                  deputy chief 3  129150.01   \n",
              "1                      captain iii (police department)  155966.02   \n",
              "0       general manager-metropolitan transit authority  167411.18   \n",
              "\n",
              "        OvertimePay   OtherPay  Benefits   TotalPay  TotalPayBenefits  Year  \\\n",
              "110531         0.00  342802.63  38780.04  471952.64         510732.68  2014   \n",
              "1         245131.88  137811.38      0.00  538909.28         538909.28  2011   \n",
              "0              0.00  400184.25      0.00  567595.43         567595.43  2011   \n",
              "\n",
              "       Status      Profession  \n",
              "110531     PT             TBD  \n",
              "1       empty          police  \n",
              "0       empty  transportation  "
            ],
            "text/html": [
              "\n",
              "  <div id=\"df-626f3d7d-09a8-4a75-b20f-c6c3b6bee1a5\">\n",
              "    <div class=\"colab-df-container\">\n",
              "      <div>\n",
              "<style scoped>\n",
              "    .dataframe tbody tr th:only-of-type {\n",
              "        vertical-align: middle;\n",
              "    }\n",
              "\n",
              "    .dataframe tbody tr th {\n",
              "        vertical-align: top;\n",
              "    }\n",
              "\n",
              "    .dataframe thead th {\n",
              "        text-align: right;\n",
              "    }\n",
              "</style>\n",
              "<table border=\"1\" class=\"dataframe\">\n",
              "  <thead>\n",
              "    <tr style=\"text-align: right;\">\n",
              "      <th></th>\n",
              "      <th>Id</th>\n",
              "      <th>EmployeeName</th>\n",
              "      <th>JobTitle</th>\n",
              "      <th>BasePay</th>\n",
              "      <th>OvertimePay</th>\n",
              "      <th>OtherPay</th>\n",
              "      <th>Benefits</th>\n",
              "      <th>TotalPay</th>\n",
              "      <th>TotalPayBenefits</th>\n",
              "      <th>Year</th>\n",
              "      <th>Status</th>\n",
              "      <th>Profession</th>\n",
              "    </tr>\n",
              "  </thead>\n",
              "  <tbody>\n",
              "    <tr>\n",
              "      <th>110531</th>\n",
              "      <td>110532</td>\n",
              "      <td>David Shinn</td>\n",
              "      <td>deputy chief 3</td>\n",
              "      <td>129150.01</td>\n",
              "      <td>0.00</td>\n",
              "      <td>342802.63</td>\n",
              "      <td>38780.04</td>\n",
              "      <td>471952.64</td>\n",
              "      <td>510732.68</td>\n",
              "      <td>2014</td>\n",
              "      <td>PT</td>\n",
              "      <td>TBD</td>\n",
              "    </tr>\n",
              "    <tr>\n",
              "      <th>1</th>\n",
              "      <td>2</td>\n",
              "      <td>GARY JIMENEZ</td>\n",
              "      <td>captain iii (police department)</td>\n",
              "      <td>155966.02</td>\n",
              "      <td>245131.88</td>\n",
              "      <td>137811.38</td>\n",
              "      <td>0.00</td>\n",
              "      <td>538909.28</td>\n",
              "      <td>538909.28</td>\n",
              "      <td>2011</td>\n",
              "      <td>empty</td>\n",
              "      <td>police</td>\n",
              "    </tr>\n",
              "    <tr>\n",
              "      <th>0</th>\n",
              "      <td>1</td>\n",
              "      <td>NATHANIEL FORD</td>\n",
              "      <td>general manager-metropolitan transit authority</td>\n",
              "      <td>167411.18</td>\n",
              "      <td>0.00</td>\n",
              "      <td>400184.25</td>\n",
              "      <td>0.00</td>\n",
              "      <td>567595.43</td>\n",
              "      <td>567595.43</td>\n",
              "      <td>2011</td>\n",
              "      <td>empty</td>\n",
              "      <td>transportation</td>\n",
              "    </tr>\n",
              "  </tbody>\n",
              "</table>\n",
              "</div>\n",
              "      <button class=\"colab-df-convert\" onclick=\"convertToInteractive('df-626f3d7d-09a8-4a75-b20f-c6c3b6bee1a5')\"\n",
              "              title=\"Convert this dataframe to an interactive table.\"\n",
              "              style=\"display:none;\">\n",
              "        \n",
              "  <svg xmlns=\"http://www.w3.org/2000/svg\" height=\"24px\"viewBox=\"0 0 24 24\"\n",
              "       width=\"24px\">\n",
              "    <path d=\"M0 0h24v24H0V0z\" fill=\"none\"/>\n",
              "    <path d=\"M18.56 5.44l.94 2.06.94-2.06 2.06-.94-2.06-.94-.94-2.06-.94 2.06-2.06.94zm-11 1L8.5 8.5l.94-2.06 2.06-.94-2.06-.94L8.5 2.5l-.94 2.06-2.06.94zm10 10l.94 2.06.94-2.06 2.06-.94-2.06-.94-.94-2.06-.94 2.06-2.06.94z\"/><path d=\"M17.41 7.96l-1.37-1.37c-.4-.4-.92-.59-1.43-.59-.52 0-1.04.2-1.43.59L10.3 9.45l-7.72 7.72c-.78.78-.78 2.05 0 2.83L4 21.41c.39.39.9.59 1.41.59.51 0 1.02-.2 1.41-.59l7.78-7.78 2.81-2.81c.8-.78.8-2.07 0-2.86zM5.41 20L4 18.59l7.72-7.72 1.47 1.35L5.41 20z\"/>\n",
              "  </svg>\n",
              "      </button>\n",
              "      \n",
              "  <style>\n",
              "    .colab-df-container {\n",
              "      display:flex;\n",
              "      flex-wrap:wrap;\n",
              "      gap: 12px;\n",
              "    }\n",
              "\n",
              "    .colab-df-convert {\n",
              "      background-color: #E8F0FE;\n",
              "      border: none;\n",
              "      border-radius: 50%;\n",
              "      cursor: pointer;\n",
              "      display: none;\n",
              "      fill: #1967D2;\n",
              "      height: 32px;\n",
              "      padding: 0 0 0 0;\n",
              "      width: 32px;\n",
              "    }\n",
              "\n",
              "    .colab-df-convert:hover {\n",
              "      background-color: #E2EBFA;\n",
              "      box-shadow: 0px 1px 2px rgba(60, 64, 67, 0.3), 0px 1px 3px 1px rgba(60, 64, 67, 0.15);\n",
              "      fill: #174EA6;\n",
              "    }\n",
              "\n",
              "    [theme=dark] .colab-df-convert {\n",
              "      background-color: #3B4455;\n",
              "      fill: #D2E3FC;\n",
              "    }\n",
              "\n",
              "    [theme=dark] .colab-df-convert:hover {\n",
              "      background-color: #434B5C;\n",
              "      box-shadow: 0px 1px 3px 1px rgba(0, 0, 0, 0.15);\n",
              "      filter: drop-shadow(0px 1px 2px rgba(0, 0, 0, 0.3));\n",
              "      fill: #FFFFFF;\n",
              "    }\n",
              "  </style>\n",
              "\n",
              "      <script>\n",
              "        const buttonEl =\n",
              "          document.querySelector('#df-626f3d7d-09a8-4a75-b20f-c6c3b6bee1a5 button.colab-df-convert');\n",
              "        buttonEl.style.display =\n",
              "          google.colab.kernel.accessAllowed ? 'block' : 'none';\n",
              "\n",
              "        async function convertToInteractive(key) {\n",
              "          const element = document.querySelector('#df-626f3d7d-09a8-4a75-b20f-c6c3b6bee1a5');\n",
              "          const dataTable =\n",
              "            await google.colab.kernel.invokeFunction('convertToInteractive',\n",
              "                                                     [key], {});\n",
              "          if (!dataTable) return;\n",
              "\n",
              "          const docLinkHtml = 'Like what you see? Visit the ' +\n",
              "            '<a target=\"_blank\" href=https://colab.research.google.com/notebooks/data_table.ipynb>data table notebook</a>'\n",
              "            + ' to learn more about interactive tables.';\n",
              "          element.innerHTML = '';\n",
              "          dataTable['output_type'] = 'display_data';\n",
              "          await google.colab.output.renderOutput(dataTable, element);\n",
              "          const docLink = document.createElement('div');\n",
              "          docLink.innerHTML = docLinkHtml;\n",
              "          element.appendChild(docLink);\n",
              "        }\n",
              "      </script>\n",
              "    </div>\n",
              "  </div>\n",
              "  "
            ]
          },
          "metadata": {},
          "execution_count": 36
        }
      ]
    },
    {
      "cell_type": "code",
      "source": [
        "sal = sal[~(sal.Id.isin(sal.nlargest(3, 'TotalPay').Id))]"
      ],
      "metadata": {
        "id": "m_aq61OxCoOD"
      },
      "execution_count": null,
      "outputs": []
    },
    {
      "cell_type": "markdown",
      "source": [
        "Построим гистограммы для величины TotalPay для разных профессий"
      ],
      "metadata": {
        "id": "NkWZnsQJImfW"
      }
    },
    {
      "cell_type": "code",
      "source": [
        "plt.figure(figsize=(24,16))\n",
        "for i, prof in enumerate(sal.Profession.unique()):   \n",
        "  plt.subplot(5,4,i+1)\n",
        "  sns.histplot(data=sal.loc[sal.Profession.str.contains(prof)], x=\"TotalPay\", hue=\"Profession\")\n",
        "plt.subplots_adjust(wspace=0.5,hspace=0.5)"
      ],
      "metadata": {
        "colab": {
          "base_uri": "https://localhost:8080/",
          "height": 922
        },
        "id": "e3NGizYWIZP8",
        "outputId": "cdedb99a-587a-4f66-9c14-cbdb844f08a4"
      },
      "execution_count": 37,
      "outputs": [
        {
          "output_type": "display_data",
          "data": {
            "text/plain": [
              "<Figure size 1728x1152 with 17 Axes>"
            ],
            "image/png": "[encoded data removed]"
          },
          "metadata": {
            "needs_background": "light"
          }
        }
      ]
    },
    {
      "cell_type": "markdown",
      "source": [
        "Видно, что величина TotalPay для данных, у которых Profession не определено (=\"TBD\"), принимает значение в широком диапазоне, поэтому продолжим определение Profession"
      ],
      "metadata": {
        "id": "SjI21ilgLAca"
      }
    },
    {
      "cell_type": "markdown",
      "source": [
        "Ниже суммируем статистическую информацию в табличном виде"
      ],
      "metadata": {
        "id": "wtJ8e1SsKG28"
      }
    },
    {
      "cell_type": "code",
      "source": [
        "sal_wide = pd.pivot_table (sal, index = 'Id', values = 'TotalPay', columns = 'Profession',  aggfunc=np.sum)\n",
        "sal_wide.describe()"
      ],
      "metadata": {
        "colab": {
          "base_uri": "https://localhost:8080/",
          "height": 399
        },
        "id": "vYK9fQTw1Fp_",
        "outputId": "b1c3bbbf-17c3-4823-eb50-ee0cfc281938"
      },
      "execution_count": 38,
      "outputs": [
        {
          "output_type": "execute_result",
          "data": {
            "text/plain": [
              "Profession            TBD       attorney          clerk     custodian  \\\n",
              "count        60615.000000    1840.000000    9321.000000   3208.000000   \n",
              "mean         75945.516078  135990.361413   48251.942425  45533.580916   \n",
              "std          44829.621544   49646.944200   23719.213171  17123.862850   \n",
              "min           -618.130000      13.350000       4.750000     41.950000   \n",
              "25%          49143.245000  105170.375000   35193.300000  37628.810000   \n",
              "50%          76411.010000  148434.400000   54502.010000  52498.850000   \n",
              "75%         100554.480000  175970.350000   64237.110000  56933.155000   \n",
              "max         471952.640000  252221.060000  118781.480000  83846.770000   \n",
              "\n",
              "Profession  eligibility worker       engineer           fire       gardener  \\\n",
              "count              2719.000000    4747.000000    5838.000000    1270.000000   \n",
              "mean              59292.141188   99437.800011  151943.666694   53917.547331   \n",
              "std               22294.659679   35971.827658   51034.576876   18767.650483   \n",
              "min                  59.420000     162.660000       5.800000      21.830000   \n",
              "25%               52917.680000   82038.225000  130373.125000   50063.670000   \n",
              "50%               66066.390000  102937.100000  153828.885000   60218.975000   \n",
              "75%               72952.375000  123747.060000  181509.412500   64680.455000   \n",
              "max              128779.860000  241126.970000  362844.660000  110355.700000   \n",
              "\n",
              "Profession  general laborer        library       medicine         police  \\\n",
              "count           1582.000000    2974.000000   17509.000000    9574.000000   \n",
              "mean           55331.393508   44669.454536   70547.555755  126678.749560   \n",
              "std            20202.749938   27276.249539   52624.917201   42869.677681   \n",
              "min               14.260000      17.780000       3.280000      21.980000   \n",
              "25%            50156.105000   22223.055000   21183.260000  112965.025000   \n",
              "50%            60677.555000   39436.620000   64622.790000  132735.855000   \n",
              "75%            66596.430000   70729.742500  114818.610000  152238.577500   \n",
              "max           128032.170000  155687.410000  278569.210000  538909.280000   \n",
              "\n",
              "Profession         porter  public service jobs     recreation        sheriff  \\\n",
              "count         1694.000000          6740.000000    3072.000000    3532.000000   \n",
              "mean         48247.693129          9468.735335   11613.496839  102592.510906   \n",
              "std          27324.754018          9410.494608   16296.155749   38214.971678   \n",
              "min             81.740000            10.670000      15.500000      24.760000   \n",
              "25%          23782.510000          2813.662500    2625.360000   91406.965000   \n",
              "50%          53111.570000          6650.825000    6423.725000  105981.900000   \n",
              "75%          59690.235000         12886.640000   12247.205000  121882.192500   \n",
              "max         144228.560000         80393.020000  100515.400000  308434.840000   \n",
              "\n",
              "Profession  transportation  \n",
              "count         12051.000000  \n",
              "mean          71724.200988  \n",
              "std           35614.295090  \n",
              "min               0.300000  \n",
              "25%           53987.090000  \n",
              "50%           75108.760000  \n",
              "75%           90496.865000  \n",
              "max          567595.430000  "
            ],
            "text/html": [
              "\n",
              "  <div id=\"df-0aef5b0c-e137-41b3-8861-018c75ce1319\">\n",
              "    <div class=\"colab-df-container\">\n",
              "      <div>\n",
              "<style scoped>\n",
              "    .dataframe tbody tr th:only-of-type {\n",
              "        vertical-align: middle;\n",
              "    }\n",
              "\n",
              "    .dataframe tbody tr th {\n",
              "        vertical-align: top;\n",
              "    }\n",
              "\n",
              "    .dataframe thead th {\n",
              "        text-align: right;\n",
              "    }\n",
              "</style>\n",
              "<table border=\"1\" class=\"dataframe\">\n",
              "  <thead>\n",
              "    <tr style=\"text-align: right;\">\n",
              "      <th>Profession</th>\n",
              "      <th>TBD</th>\n",
              "      <th>attorney</th>\n",
              "      <th>clerk</th>\n",
              "      <th>custodian</th>\n",
              "      <th>eligibility worker</th>\n",
              "      <th>engineer</th>\n",
              "      <th>fire</th>\n",
              "      <th>gardener</th>\n",
              "      <th>general laborer</th>\n",
              "      <th>library</th>\n",
              "      <th>medicine</th>\n",
              "      <th>police</th>\n",
              "      <th>porter</th>\n",
              "      <th>public service jobs</th>\n",
              "      <th>recreation</th>\n",
              "      <th>sheriff</th>\n",
              "      <th>transportation</th>\n",
              "    </tr>\n",
              "  </thead>\n",
              "  <tbody>\n",
              "    <tr>\n",
              "      <th>count</th>\n",
              "      <td>60615.000000</td>\n",
              "      <td>1840.000000</td>\n",
              "      <td>9321.000000</td>\n",
              "      <td>3208.000000</td>\n",
              "      <td>2719.000000</td>\n",
              "      <td>4747.000000</td>\n",
              "      <td>5838.000000</td>\n",
              "      <td>1270.000000</td>\n",
              "      <td>1582.000000</td>\n",
              "      <td>2974.000000</td>\n",
              "      <td>17509.000000</td>\n",
              "      <td>9574.000000</td>\n",
              "      <td>1694.000000</td>\n",
              "      <td>6740.000000</td>\n",
              "      <td>3072.000000</td>\n",
              "      <td>3532.000000</td>\n",
              "      <td>12051.000000</td>\n",
              "    </tr>\n",
              "    <tr>\n",
              "      <th>mean</th>\n",
              "      <td>75945.516078</td>\n",
              "      <td>135990.361413</td>\n",
              "      <td>48251.942425</td>\n",
              "      <td>45533.580916</td>\n",
              "      <td>59292.141188</td>\n",
              "      <td>99437.800011</td>\n",
              "      <td>151943.666694</td>\n",
              "      <td>53917.547331</td>\n",
              "      <td>55331.393508</td>\n",
              "      <td>44669.454536</td>\n",
              "      <td>70547.555755</td>\n",
              "      <td>126678.749560</td>\n",
              "      <td>48247.693129</td>\n",
              "      <td>9468.735335</td>\n",
              "      <td>11613.496839</td>\n",
              "      <td>102592.510906</td>\n",
              "      <td>71724.200988</td>\n",
              "    </tr>\n",
              "    <tr>\n",
              "      <th>std</th>\n",
              "      <td>44829.621544</td>\n",
              "      <td>49646.944200</td>\n",
              "      <td>23719.213171</td>\n",
              "      <td>17123.862850</td>\n",
              "      <td>22294.659679</td>\n",
              "      <td>35971.827658</td>\n",
              "      <td>51034.576876</td>\n",
              "      <td>18767.650483</td>\n",
              "      <td>20202.749938</td>\n",
              "      <td>27276.249539</td>\n",
              "      <td>52624.917201</td>\n",
              "      <td>42869.677681</td>\n",
              "      <td>27324.754018</td>\n",
              "      <td>9410.494608</td>\n",
              "      <td>16296.155749</td>\n",
              "      <td>38214.971678</td>\n",
              "      <td>35614.295090</td>\n",
              "    </tr>\n",
              "    <tr>\n",
              "      <th>min</th>\n",
              "      <td>-618.130000</td>\n",
              "      <td>13.350000</td>\n",
              "      <td>4.750000</td>\n",
              "      <td>41.950000</td>\n",
              "      <td>59.420000</td>\n",
              "      <td>162.660000</td>\n",
              "      <td>5.800000</td>\n",
              "      <td>21.830000</td>\n",
              "      <td>14.260000</td>\n",
              "      <td>17.780000</td>\n",
              "      <td>3.280000</td>\n",
              "      <td>21.980000</td>\n",
              "      <td>81.740000</td>\n",
              "      <td>10.670000</td>\n",
              "      <td>15.500000</td>\n",
              "      <td>24.760000</td>\n",
              "      <td>0.300000</td>\n",
              "    </tr>\n",
              "    <tr>\n",
              "      <th>25%</th>\n",
              "      <td>49143.245000</td>\n",
              "      <td>105170.375000</td>\n",
              "      <td>35193.300000</td>\n",
              "      <td>37628.810000</td>\n",
              "      <td>52917.680000</td>\n",
              "      <td>82038.225000</td>\n",
              "      <td>130373.125000</td>\n",
              "      <td>50063.670000</td>\n",
              "      <td>50156.105000</td>\n",
              "      <td>22223.055000</td>\n",
              "      <td>21183.260000</td>\n",
              "      <td>112965.025000</td>\n",
              "      <td>23782.510000</td>\n",
              "      <td>2813.662500</td>\n",
              "      <td>2625.360000</td>\n",
              "      <td>91406.965000</td>\n",
              "      <td>53987.090000</td>\n",
              "    </tr>\n",
              "    <tr>\n",
              "      <th>50%</th>\n",
              "      <td>76411.010000</td>\n",
              "      <td>148434.400000</td>\n",
              "      <td>54502.010000</td>\n",
              "      <td>52498.850000</td>\n",
              "      <td>66066.390000</td>\n",
              "      <td>102937.100000</td>\n",
              "      <td>153828.885000</td>\n",
              "      <td>60218.975000</td>\n",
              "      <td>60677.555000</td>\n",
              "      <td>39436.620000</td>\n",
              "      <td>64622.790000</td>\n",
              "      <td>132735.855000</td>\n",
              "      <td>53111.570000</td>\n",
              "      <td>6650.825000</td>\n",
              "      <td>6423.725000</td>\n",
              "      <td>105981.900000</td>\n",
              "      <td>75108.760000</td>\n",
              "    </tr>\n",
              "    <tr>\n",
              "      <th>75%</th>\n",
              "      <td>100554.480000</td>\n",
              "      <td>175970.350000</td>\n",
              "      <td>64237.110000</td>\n",
              "      <td>56933.155000</td>\n",
              "      <td>72952.375000</td>\n",
              "      <td>123747.060000</td>\n",
              "      <td>181509.412500</td>\n",
              "      <td>64680.455000</td>\n",
              "      <td>66596.430000</td>\n",
              "      <td>70729.742500</td>\n",
              "      <td>114818.610000</td>\n",
              "      <td>152238.577500</td>\n",
              "      <td>59690.235000</td>\n",
              "      <td>12886.640000</td>\n",
              "      <td>12247.205000</td>\n",
              "      <td>121882.192500</td>\n",
              "      <td>90496.865000</td>\n",
              "    </tr>\n",
              "    <tr>\n",
              "      <th>max</th>\n",
              "      <td>471952.640000</td>\n",
              "      <td>252221.060000</td>\n",
              "      <td>118781.480000</td>\n",
              "      <td>83846.770000</td>\n",
              "      <td>128779.860000</td>\n",
              "      <td>241126.970000</td>\n",
              "      <td>362844.660000</td>\n",
              "      <td>110355.700000</td>\n",
              "      <td>128032.170000</td>\n",
              "      <td>155687.410000</td>\n",
              "      <td>278569.210000</td>\n",
              "      <td>538909.280000</td>\n",
              "      <td>144228.560000</td>\n",
              "      <td>80393.020000</td>\n",
              "      <td>100515.400000</td>\n",
              "      <td>308434.840000</td>\n",
              "      <td>567595.430000</td>\n",
              "    </tr>\n",
              "  </tbody>\n",
              "</table>\n",
              "</div>\n",
              "      <button class=\"colab-df-convert\" onclick=\"convertToInteractive('df-0aef5b0c-e137-41b3-8861-018c75ce1319')\"\n",
              "              title=\"Convert this dataframe to an interactive table.\"\n",
              "              style=\"display:none;\">\n",
              "        \n",
              "  <svg xmlns=\"http://www.w3.org/2000/svg\" height=\"24px\"viewBox=\"0 0 24 24\"\n",
              "       width=\"24px\">\n",
              "    <path d=\"M0 0h24v24H0V0z\" fill=\"none\"/>\n",
              "    <path d=\"M18.56 5.44l.94 2.06.94-2.06 2.06-.94-2.06-.94-.94-2.06-.94 2.06-2.06.94zm-11 1L8.5 8.5l.94-2.06 2.06-.94-2.06-.94L8.5 2.5l-.94 2.06-2.06.94zm10 10l.94 2.06.94-2.06 2.06-.94-2.06-.94-.94-2.06-.94 2.06-2.06.94z\"/><path d=\"M17.41 7.96l-1.37-1.37c-.4-.4-.92-.59-1.43-.59-.52 0-1.04.2-1.43.59L10.3 9.45l-7.72 7.72c-.78.78-.78 2.05 0 2.83L4 21.41c.39.39.9.59 1.41.59.51 0 1.02-.2 1.41-.59l7.78-7.78 2.81-2.81c.8-.78.8-2.07 0-2.86zM5.41 20L4 18.59l7.72-7.72 1.47 1.35L5.41 20z\"/>\n",
              "  </svg>\n",
              "      </button>\n",
              "      \n",
              "  <style>\n",
              "    .colab-df-container {\n",
              "      display:flex;\n",
              "      flex-wrap:wrap;\n",
              "      gap: 12px;\n",
              "    }\n",
              "\n",
              "    .colab-df-convert {\n",
              "      background-color: #E8F0FE;\n",
              "      border: none;\n",
              "      border-radius: 50%;\n",
              "      cursor: pointer;\n",
              "      display: none;\n",
              "      fill: #1967D2;\n",
              "      height: 32px;\n",
              "      padding: 0 0 0 0;\n",
              "      width: 32px;\n",
              "    }\n",
              "\n",
              "    .colab-df-convert:hover {\n",
              "      background-color: #E2EBFA;\n",
              "      box-shadow: 0px 1px 2px rgba(60, 64, 67, 0.3), 0px 1px 3px 1px rgba(60, 64, 67, 0.15);\n",
              "      fill: #174EA6;\n",
              "    }\n",
              "\n",
              "    [theme=dark] .colab-df-convert {\n",
              "      background-color: #3B4455;\n",
              "      fill: #D2E3FC;\n",
              "    }\n",
              "\n",
              "    [theme=dark] .colab-df-convert:hover {\n",
              "      background-color: #434B5C;\n",
              "      box-shadow: 0px 1px 3px 1px rgba(0, 0, 0, 0.15);\n",
              "      filter: drop-shadow(0px 1px 2px rgba(0, 0, 0, 0.3));\n",
              "      fill: #FFFFFF;\n",
              "    }\n",
              "  </style>\n",
              "\n",
              "      <script>\n",
              "        const buttonEl =\n",
              "          document.querySelector('#df-0aef5b0c-e137-41b3-8861-018c75ce1319 button.colab-df-convert');\n",
              "        buttonEl.style.display =\n",
              "          google.colab.kernel.accessAllowed ? 'block' : 'none';\n",
              "\n",
              "        async function convertToInteractive(key) {\n",
              "          const element = document.querySelector('#df-0aef5b0c-e137-41b3-8861-018c75ce1319');\n",
              "          const dataTable =\n",
              "            await google.colab.kernel.invokeFunction('convertToInteractive',\n",
              "                                                     [key], {});\n",
              "          if (!dataTable) return;\n",
              "\n",
              "          const docLinkHtml = 'Like what you see? Visit the ' +\n",
              "            '<a target=\"_blank\" href=https://colab.research.google.com/notebooks/data_table.ipynb>data table notebook</a>'\n",
              "            + ' to learn more about interactive tables.';\n",
              "          element.innerHTML = '';\n",
              "          dataTable['output_type'] = 'display_data';\n",
              "          await google.colab.output.renderOutput(dataTable, element);\n",
              "          const docLink = document.createElement('div');\n",
              "          docLink.innerHTML = docLinkHtml;\n",
              "          element.appendChild(docLink);\n",
              "        }\n",
              "      </script>\n",
              "    </div>\n",
              "  </div>\n",
              "  "
            ]
          },
          "metadata": {},
          "execution_count": 38
        }
      ]
    },
    {
      "cell_type": "markdown",
      "source": [
        "Проанализируем  подмножество нашего датасета, в котором пока не определено поле Profession."
      ],
      "metadata": {
        "id": "lwA7ax9UL3zQ"
      }
    },
    {
      "cell_type": "markdown",
      "source": [
        "Boxplot для подмножества датасета, у которого Profession остался неопределенным"
      ],
      "metadata": {
        "id": "KctYUm692vir"
      }
    },
    {
      "cell_type": "code",
      "source": [
        "ax = sns.boxplot(x=\"Year\", y=\"TotalPay\", data=sal[(sal.Profession == \"TBD\")])\n",
        "plt.show()"
      ],
      "metadata": {
        "colab": {
          "base_uri": "https://localhost:8080/",
          "height": 279
        },
        "id": "9JrkPJ0D2H8-",
        "outputId": "2744017d-6ce5-428b-ab07-0047ed6789d4"
      },
      "execution_count": 39,
      "outputs": [
        {
          "output_type": "display_data",
          "data": {
            "text/plain": [
              "<Figure size 432x288 with 1 Axes>"
            ],
            "image/png": "[encoded data removed]"
          },
          "metadata": {
            "needs_background": "light"
          }
        }
      ]
    },
    {
      "cell_type": "markdown",
      "source": [
        "Шаг1. Выбросы"
      ],
      "metadata": {
        "id": "MboHrOFZo30I"
      }
    },
    {
      "cell_type": "code",
      "source": [
        "Q1_TBD = np.percentile(sal.loc[sal.Profession == \"TBD\", 'TotalPay'], 25, interpolation = 'midpoint')\n",
        "Q3_TBD = np.percentile(sal.loc[sal.Profession == \"TBD\", 'TotalPay'], 75, interpolation = 'midpoint')\n",
        "IQR_TBD = Q3_TBD - Q1_TBD"
      ],
      "metadata": {
        "id": "VQLUgLRaLTn5"
      },
      "execution_count": 40,
      "outputs": []
    },
    {
      "cell_type": "code",
      "source": [
        "sal.loc[(sal.TotalPay >= (Q3_TBD+1.5*IQR_TBD))& (sal.Profession == 'TBD'),\"JobTitle\"].value_counts().head(30)"
      ],
      "metadata": {
        "id": "YF3pGOq6NCS2",
        "outputId": "4bcf8dd8-9727-4ab1-e351-e9aec25cb19f",
        "colab": {
          "base_uri": "https://localhost:8080/"
        }
      },
      "execution_count": 41,
      "outputs": [
        {
          "output_type": "execute_result",
          "data": {
            "text/plain": [
              "senior physician specialist         170\n",
              "lieutenant 3                        155\n",
              "head atty, civil & criminal         115\n",
              "inspector 3                         108\n",
              "captain 3                            96\n",
              "manager viii                         75\n",
              "dep dir iv                           56\n",
              "captain, emergency med svcs          54\n",
              "anesthetist                          49\n",
              "manager vii                          47\n",
              "supervising physician spec           41\n",
              "dep dir v                            41\n",
              "manager vi                           33\n",
              "physician specialist                 23\n",
              "deputy chief 3                       20\n",
              "dept head iii                        20\n",
              "commander 3                          18\n",
              "dept head v                          17\n",
              "supervising physician specialist     15\n",
              "dept head iv                         15\n",
              "incident support specialist          15\n",
              "eng/arch/landscape arch sr           15\n",
              "deputy director v                    14\n",
              "project manager 4                    14\n",
              "dep dir iii                          14\n",
              "manager viii, mta                    14\n",
              "deputy dir i, mta                    13\n",
              "chief atty1 (civil & criminal)       13\n",
              "assistant deputy chief 2             11\n",
              "pharmacist                           11\n",
              "Name: JobTitle, dtype: Int64"
            ]
          },
          "metadata": {},
          "execution_count": 41
        }
      ]
    },
    {
      "cell_type": "code",
      "source": [
        "profession_dict.update({\"atty\": \"attorney\", \"physician\": \"physician\", \"anesthetist\": \"medicine\", \"engineer\": \"engineer\", \"emergency med\": \"medicine\", \"lieutenant\":\"police\",\n",
        "                        \"captain\": \"captain\", \"inspector\": \"inspector\", \"dep\": \"executives\", \"manager\":\"manager\", \"deputy\": \"executives\", \"head\": \"executives\"})\n",
        "def_prof()"
      ],
      "metadata": {
        "id": "UbBnjtxoPUMD"
      },
      "execution_count": 42,
      "outputs": []
    },
    {
      "cell_type": "markdown",
      "source": [
        "Шаг 2. Хвост распределения"
      ],
      "metadata": {
        "id": "fZz9P8uNo9l-"
      }
    },
    {
      "cell_type": "code",
      "source": [
        "sns.histplot(data=sal.loc[sal.Profession.str.contains(\"TBD\")], x=\"TotalPay\")"
      ],
      "metadata": {
        "id": "qrbyKm-PRTeG",
        "outputId": "79f4525e-5d17-49da-abf1-45498527f4c8",
        "colab": {
          "base_uri": "https://localhost:8080/",
          "height": 297
        }
      },
      "execution_count": 43,
      "outputs": [
        {
          "output_type": "execute_result",
          "data": {
            "text/plain": [
              "<matplotlib.axes._subplots.AxesSubplot at 0x7f8c111e3090>"
            ]
          },
          "metadata": {},
          "execution_count": 43
        },
        {
          "output_type": "display_data",
          "data": {
            "text/plain": [
              "<Figure size 432x288 with 1 Axes>"
            ],
            "image/png": "[encoded data removed]"
          },
          "metadata": {
            "needs_background": "light"
          }
        }
      ]
    },
    {
      "cell_type": "code",
      "source": [
        "sal.loc[(sal.Profession.str.contains(\"TBD\"))&(sal.TotalPay>70000), \"JobTitle\"].value_counts().head(30) #greater than average"
      ],
      "metadata": {
        "id": "0PMjSwr0Pm4h",
        "outputId": "ff5efedf-3e5f-4be4-d98f-4946dbeaec87",
        "colab": {
          "base_uri": "https://localhost:8080/"
        }
      },
      "execution_count": 44,
      "outputs": [
        {
          "output_type": "execute_result",
          "data": {
            "text/plain": [
              "protective services worker        684\n",
              "senior administrative analyst     638\n",
              "automotive mechanic               478\n",
              "truck driver                      454\n",
              "pr administrative analyst         437\n",
              "asst engr                         415\n",
              "public safetycomm disp            405\n",
              "stationary eng, sewage plant      390\n",
              "electronic maintenance tech       389\n",
              "senior personnel analyst          347\n",
              "psychiatric social worker         338\n",
              "electrician                       318\n",
              "painter                           314\n",
              "administrative analyst            297\n",
              "is business analyst-principal     263\n",
              "eng/arch/landscape arch sr        262\n",
              "automotive service worker         251\n",
              "carpenter                         233\n",
              "parking control officer           232\n",
              "accountant iii                    223\n",
              "program specialist                221\n",
              "is business analyst-senior        218\n",
              "plumber                           218\n",
              "senior social worker              216\n",
              "automotive machinist              216\n",
              "utility plumber                   203\n",
              "hospital eligiblity worker        187\n",
              "utility specialist                186\n",
              "pharmacy technician               186\n",
              "marriage, family & child cnslr    179\n",
              "Name: JobTitle, dtype: Int64"
            ]
          },
          "metadata": {},
          "execution_count": 44
        }
      ]
    },
    {
      "cell_type": "code",
      "source": [
        "profession_dict.update({\"protective services worker\": \"protective services worker\", \"administrative analyst\": \"administrative analyst\", \"accountant\": \"accountant\", \n",
        "                        \"analyst\": \"analyst\", \"asst engr\": \"engineer\", \"stationary eng, sewage plant\":\"engineer\", \"electric\":\"electrician\", \"electronic maintenance\":\"electrician\",\n",
        "                        \"painter\":\"painter\", \"pharma\":\"medicine\", \"driver\":\"driver\", \"utility \":\"utility\", \"eligiblity worker\":\"eligibility worker\"})\n",
        "def_prof()"
      ],
      "metadata": {
        "id": "5mqr2VMvAwfV"
      },
      "execution_count": 45,
      "outputs": []
    },
    {
      "cell_type": "code",
      "source": [
        "pd.pivot_table (sal, index = 'Id', values = 'TotalPay', columns = 'Profession',  aggfunc=np.sum).describe()"
      ],
      "metadata": {
        "colab": {
          "base_uri": "https://localhost:8080/",
          "height": 428
        },
        "id": "I-FjVONiFEsT",
        "outputId": "961373fe-983c-4631-ac17-38870936fe81"
      },
      "execution_count": 46,
      "outputs": [
        {
          "output_type": "execute_result",
          "data": {
            "text/plain": [
              "Profession            TBD     accountant        analyst       attorney  \\\n",
              "count        39660.000000    1010.000000    4721.000000    1922.000000   \n",
              "mean         63594.236764   72673.134069   82415.229498  133529.893314   \n",
              "std          37873.901494   27113.484656   29656.649652   51011.426901   \n",
              "min           -618.130000      70.230000      16.090000      13.350000   \n",
              "25%          35742.127500   59322.792500   67898.010000  103460.982500   \n",
              "50%          67160.775000   77272.505000   88687.330000  144169.205000   \n",
              "75%          87527.090000   94042.630000  103091.490000  171782.940000   \n",
              "max         390111.980000  119516.190000  178813.700000  252221.060000   \n",
              "\n",
              "Profession        captain          clerk     custodian         driver  \\\n",
              "count          514.000000    8538.000000   3208.000000     725.000000   \n",
              "mean        197159.122685   46288.433799  45533.580916   70163.648841   \n",
              "std          37618.684195   22938.013370  17123.862850   25233.149089   \n",
              "min           3259.400000       4.750000     41.950000     114.040000   \n",
              "25%         174348.630000   32026.625000  37628.810000   61700.240000   \n",
              "50%         197935.290000   53539.400000  52498.850000   77557.340000   \n",
              "75%         216691.800000   61877.030000  56933.155000   86484.930000   \n",
              "max         350403.410000  118781.480000  83846.770000  122908.440000   \n",
              "\n",
              "Profession    electrician  eligibility worker  ...        painter  \\\n",
              "count         2486.000000         2975.000000  ...     592.000000   \n",
              "mean         99649.235893        60103.041748  ...   71151.973260   \n",
              "std          39129.529789        21878.396503  ...   26793.109383   \n",
              "min             48.410000           59.420000  ...     137.480000   \n",
              "25%          87660.685000        53979.630000  ...   65265.360000   \n",
              "50%         104928.770000        66690.340000  ...   78241.050000   \n",
              "75%         121378.757500        74052.575000  ...   83868.620000   \n",
              "max         336393.730000       128779.860000  ...  163802.870000   \n",
              "\n",
              "Profession      physician         police         porter  \\\n",
              "count         1210.000000    9892.000000    1694.000000   \n",
              "mean        101918.629636  129514.278205   48247.693129   \n",
              "std          73084.899768   44743.132928   27324.754018   \n",
              "min             81.780000      21.980000      81.740000   \n",
              "25%          27998.127500  113895.427500   23782.510000   \n",
              "50%          98692.395000  133712.655000   53111.570000   \n",
              "75%         169922.837500  156632.095000   59690.235000   \n",
              "max         322886.840000  362844.660000  144228.560000   \n",
              "\n",
              "Profession  protective services worker  public service jobs     recreation  \\\n",
              "count                       822.000000          6740.000000    3072.000000   \n",
              "mean                      83900.316411          9468.735335   11613.496839   \n",
              "std                       21394.809847          9410.494608   16296.155749   \n",
              "min                          43.500000            10.670000      15.500000   \n",
              "25%                       80258.260000          2813.662500    2625.360000   \n",
              "50%                       89566.260000          6650.825000    6423.725000   \n",
              "75%                       95746.047500         12886.640000   12247.205000   \n",
              "max                      128631.240000         80393.020000  100515.400000   \n",
              "\n",
              "Profession        sheriff  transportation        utility  \n",
              "count          305.000000    10907.000000     849.000000  \n",
              "mean         37088.216295    69000.242433   95564.950118  \n",
              "std          36193.787593    34034.370069   38606.839882  \n",
              "min             24.760000        0.300000      24.520000  \n",
              "25%          17607.760000    50119.510000   69183.570000  \n",
              "50%          36837.510000    73871.130000  102351.740000  \n",
              "75%          45185.030000    87652.175000  123255.790000  \n",
              "max         231739.640000   230239.980000  187528.180000  \n",
              "\n",
              "[8 rows x 29 columns]"
            ],
            "text/html": [
              "\n",
              "  <div id=\"df-f93560e4-ddc9-4308-9f70-4dc030319e43\">\n",
              "    <div class=\"colab-df-container\">\n",
              "      <div>\n",
              "<style scoped>\n",
              "    .dataframe tbody tr th:only-of-type {\n",
              "        vertical-align: middle;\n",
              "    }\n",
              "\n",
              "    .dataframe tbody tr th {\n",
              "        vertical-align: top;\n",
              "    }\n",
              "\n",
              "    .dataframe thead th {\n",
              "        text-align: right;\n",
              "    }\n",
              "</style>\n",
              "<table border=\"1\" class=\"dataframe\">\n",
              "  <thead>\n",
              "    <tr style=\"text-align: right;\">\n",
              "      <th>Profession</th>\n",
              "      <th>TBD</th>\n",
              "      <th>accountant</th>\n",
              "      <th>analyst</th>\n",
              "      <th>attorney</th>\n",
              "      <th>captain</th>\n",
              "      <th>clerk</th>\n",
              "      <th>custodian</th>\n",
              "      <th>driver</th>\n",
              "      <th>electrician</th>\n",
              "      <th>eligibility worker</th>\n",
              "      <th>...</th>\n",
              "      <th>painter</th>\n",
              "      <th>physician</th>\n",
              "      <th>police</th>\n",
              "      <th>porter</th>\n",
              "      <th>protective services worker</th>\n",
              "      <th>public service jobs</th>\n",
              "      <th>recreation</th>\n",
              "      <th>sheriff</th>\n",
              "      <th>transportation</th>\n",
              "      <th>utility</th>\n",
              "    </tr>\n",
              "  </thead>\n",
              "  <tbody>\n",
              "    <tr>\n",
              "      <th>count</th>\n",
              "      <td>39660.000000</td>\n",
              "      <td>1010.000000</td>\n",
              "      <td>4721.000000</td>\n",
              "      <td>1922.000000</td>\n",
              "      <td>514.000000</td>\n",
              "      <td>8538.000000</td>\n",
              "      <td>3208.000000</td>\n",
              "      <td>725.000000</td>\n",
              "      <td>2486.000000</td>\n",
              "      <td>2975.000000</td>\n",
              "      <td>...</td>\n",
              "      <td>592.000000</td>\n",
              "      <td>1210.000000</td>\n",
              "      <td>9892.000000</td>\n",
              "      <td>1694.000000</td>\n",
              "      <td>822.000000</td>\n",
              "      <td>6740.000000</td>\n",
              "      <td>3072.000000</td>\n",
              "      <td>305.000000</td>\n",
              "      <td>10907.000000</td>\n",
              "      <td>849.000000</td>\n",
              "    </tr>\n",
              "    <tr>\n",
              "      <th>mean</th>\n",
              "      <td>63594.236764</td>\n",
              "      <td>72673.134069</td>\n",
              "      <td>82415.229498</td>\n",
              "      <td>133529.893314</td>\n",
              "      <td>197159.122685</td>\n",
              "      <td>46288.433799</td>\n",
              "      <td>45533.580916</td>\n",
              "      <td>70163.648841</td>\n",
              "      <td>99649.235893</td>\n",
              "      <td>60103.041748</td>\n",
              "      <td>...</td>\n",
              "      <td>71151.973260</td>\n",
              "      <td>101918.629636</td>\n",
              "      <td>129514.278205</td>\n",
              "      <td>48247.693129</td>\n",
              "      <td>83900.316411</td>\n",
              "      <td>9468.735335</td>\n",
              "      <td>11613.496839</td>\n",
              "      <td>37088.216295</td>\n",
              "      <td>69000.242433</td>\n",
              "      <td>95564.950118</td>\n",
              "    </tr>\n",
              "    <tr>\n",
              "      <th>std</th>\n",
              "      <td>37873.901494</td>\n",
              "      <td>27113.484656</td>\n",
              "      <td>29656.649652</td>\n",
              "      <td>51011.426901</td>\n",
              "      <td>37618.684195</td>\n",
              "      <td>22938.013370</td>\n",
              "      <td>17123.862850</td>\n",
              "      <td>25233.149089</td>\n",
              "      <td>39129.529789</td>\n",
              "      <td>21878.396503</td>\n",
              "      <td>...</td>\n",
              "      <td>26793.109383</td>\n",
              "      <td>73084.899768</td>\n",
              "      <td>44743.132928</td>\n",
              "      <td>27324.754018</td>\n",
              "      <td>21394.809847</td>\n",
              "      <td>9410.494608</td>\n",
              "      <td>16296.155749</td>\n",
              "      <td>36193.787593</td>\n",
              "      <td>34034.370069</td>\n",
              "      <td>38606.839882</td>\n",
              "    </tr>\n",
              "    <tr>\n",
              "      <th>min</th>\n",
              "      <td>-618.130000</td>\n",
              "      <td>70.230000</td>\n",
              "      <td>16.090000</td>\n",
              "      <td>13.350000</td>\n",
              "      <td>3259.400000</td>\n",
              "      <td>4.750000</td>\n",
              "      <td>41.950000</td>\n",
              "      <td>114.040000</td>\n",
              "      <td>48.410000</td>\n",
              "      <td>59.420000</td>\n",
              "      <td>...</td>\n",
              "      <td>137.480000</td>\n",
              "      <td>81.780000</td>\n",
              "      <td>21.980000</td>\n",
              "      <td>81.740000</td>\n",
              "      <td>43.500000</td>\n",
              "      <td>10.670000</td>\n",
              "      <td>15.500000</td>\n",
              "      <td>24.760000</td>\n",
              "      <td>0.300000</td>\n",
              "      <td>24.520000</td>\n",
              "    </tr>\n",
              "    <tr>\n",
              "      <th>25%</th>\n",
              "      <td>35742.127500</td>\n",
              "      <td>59322.792500</td>\n",
              "      <td>67898.010000</td>\n",
              "      <td>103460.982500</td>\n",
              "      <td>174348.630000</td>\n",
              "      <td>32026.625000</td>\n",
              "      <td>37628.810000</td>\n",
              "      <td>61700.240000</td>\n",
              "      <td>87660.685000</td>\n",
              "      <td>53979.630000</td>\n",
              "      <td>...</td>\n",
              "      <td>65265.360000</td>\n",
              "      <td>27998.127500</td>\n",
              "      <td>113895.427500</td>\n",
              "      <td>23782.510000</td>\n",
              "      <td>80258.260000</td>\n",
              "      <td>2813.662500</td>\n",
              "      <td>2625.360000</td>\n",
              "      <td>17607.760000</td>\n",
              "      <td>50119.510000</td>\n",
              "      <td>69183.570000</td>\n",
              "    </tr>\n",
              "    <tr>\n",
              "      <th>50%</th>\n",
              "      <td>67160.775000</td>\n",
              "      <td>77272.505000</td>\n",
              "      <td>88687.330000</td>\n",
              "      <td>144169.205000</td>\n",
              "      <td>197935.290000</td>\n",
              "      <td>53539.400000</td>\n",
              "      <td>52498.850000</td>\n",
              "      <td>77557.340000</td>\n",
              "      <td>104928.770000</td>\n",
              "      <td>66690.340000</td>\n",
              "      <td>...</td>\n",
              "      <td>78241.050000</td>\n",
              "      <td>98692.395000</td>\n",
              "      <td>133712.655000</td>\n",
              "      <td>53111.570000</td>\n",
              "      <td>89566.260000</td>\n",
              "      <td>6650.825000</td>\n",
              "      <td>6423.725000</td>\n",
              "      <td>36837.510000</td>\n",
              "      <td>73871.130000</td>\n",
              "      <td>102351.740000</td>\n",
              "    </tr>\n",
              "    <tr>\n",
              "      <th>75%</th>\n",
              "      <td>87527.090000</td>\n",
              "      <td>94042.630000</td>\n",
              "      <td>103091.490000</td>\n",
              "      <td>171782.940000</td>\n",
              "      <td>216691.800000</td>\n",
              "      <td>61877.030000</td>\n",
              "      <td>56933.155000</td>\n",
              "      <td>86484.930000</td>\n",
              "      <td>121378.757500</td>\n",
              "      <td>74052.575000</td>\n",
              "      <td>...</td>\n",
              "      <td>83868.620000</td>\n",
              "      <td>169922.837500</td>\n",
              "      <td>156632.095000</td>\n",
              "      <td>59690.235000</td>\n",
              "      <td>95746.047500</td>\n",
              "      <td>12886.640000</td>\n",
              "      <td>12247.205000</td>\n",
              "      <td>45185.030000</td>\n",
              "      <td>87652.175000</td>\n",
              "      <td>123255.790000</td>\n",
              "    </tr>\n",
              "    <tr>\n",
              "      <th>max</th>\n",
              "      <td>390111.980000</td>\n",
              "      <td>119516.190000</td>\n",
              "      <td>178813.700000</td>\n",
              "      <td>252221.060000</td>\n",
              "      <td>350403.410000</td>\n",
              "      <td>118781.480000</td>\n",
              "      <td>83846.770000</td>\n",
              "      <td>122908.440000</td>\n",
              "      <td>336393.730000</td>\n",
              "      <td>128779.860000</td>\n",
              "      <td>...</td>\n",
              "      <td>163802.870000</td>\n",
              "      <td>322886.840000</td>\n",
              "      <td>362844.660000</td>\n",
              "      <td>144228.560000</td>\n",
              "      <td>128631.240000</td>\n",
              "      <td>80393.020000</td>\n",
              "      <td>100515.400000</td>\n",
              "      <td>231739.640000</td>\n",
              "      <td>230239.980000</td>\n",
              "      <td>187528.180000</td>\n",
              "    </tr>\n",
              "  </tbody>\n",
              "</table>\n",
              "<p>8 rows × 29 columns</p>\n",
              "</div>\n",
              "      <button class=\"colab-df-convert\" onclick=\"convertToInteractive('df-f93560e4-ddc9-4308-9f70-4dc030319e43')\"\n",
              "              title=\"Convert this dataframe to an interactive table.\"\n",
              "              style=\"display:none;\">\n",
              "        \n",
              "  <svg xmlns=\"http://www.w3.org/2000/svg\" height=\"24px\"viewBox=\"0 0 24 24\"\n",
              "       width=\"24px\">\n",
              "    <path d=\"M0 0h24v24H0V0z\" fill=\"none\"/>\n",
              "    <path d=\"M18.56 5.44l.94 2.06.94-2.06 2.06-.94-2.06-.94-.94-2.06-.94 2.06-2.06.94zm-11 1L8.5 8.5l.94-2.06 2.06-.94-2.06-.94L8.5 2.5l-.94 2.06-2.06.94zm10 10l.94 2.06.94-2.06 2.06-.94-2.06-.94-.94-2.06-.94 2.06-2.06.94z\"/><path d=\"M17.41 7.96l-1.37-1.37c-.4-.4-.92-.59-1.43-.59-.52 0-1.04.2-1.43.59L10.3 9.45l-7.72 7.72c-.78.78-.78 2.05 0 2.83L4 21.41c.39.39.9.59 1.41.59.51 0 1.02-.2 1.41-.59l7.78-7.78 2.81-2.81c.8-.78.8-2.07 0-2.86zM5.41 20L4 18.59l7.72-7.72 1.47 1.35L5.41 20z\"/>\n",
              "  </svg>\n",
              "      </button>\n",
              "      \n",
              "  <style>\n",
              "    .colab-df-container {\n",
              "      display:flex;\n",
              "      flex-wrap:wrap;\n",
              "      gap: 12px;\n",
              "    }\n",
              "\n",
              "    .colab-df-convert {\n",
              "      background-color: #E8F0FE;\n",
              "      border: none;\n",
              "      border-radius: 50%;\n",
              "      cursor: pointer;\n",
              "      display: none;\n",
              "      fill: #1967D2;\n",
              "      height: 32px;\n",
              "      padding: 0 0 0 0;\n",
              "      width: 32px;\n",
              "    }\n",
              "\n",
              "    .colab-df-convert:hover {\n",
              "      background-color: #E2EBFA;\n",
              "      box-shadow: 0px 1px 2px rgba(60, 64, 67, 0.3), 0px 1px 3px 1px rgba(60, 64, 67, 0.15);\n",
              "      fill: #174EA6;\n",
              "    }\n",
              "\n",
              "    [theme=dark] .colab-df-convert {\n",
              "      background-color: #3B4455;\n",
              "      fill: #D2E3FC;\n",
              "    }\n",
              "\n",
              "    [theme=dark] .colab-df-convert:hover {\n",
              "      background-color: #434B5C;\n",
              "      box-shadow: 0px 1px 3px 1px rgba(0, 0, 0, 0.15);\n",
              "      filter: drop-shadow(0px 1px 2px rgba(0, 0, 0, 0.3));\n",
              "      fill: #FFFFFF;\n",
              "    }\n",
              "  </style>\n",
              "\n",
              "      <script>\n",
              "        const buttonEl =\n",
              "          document.querySelector('#df-f93560e4-ddc9-4308-9f70-4dc030319e43 button.colab-df-convert');\n",
              "        buttonEl.style.display =\n",
              "          google.colab.kernel.accessAllowed ? 'block' : 'none';\n",
              "\n",
              "        async function convertToInteractive(key) {\n",
              "          const element = document.querySelector('#df-f93560e4-ddc9-4308-9f70-4dc030319e43');\n",
              "          const dataTable =\n",
              "            await google.colab.kernel.invokeFunction('convertToInteractive',\n",
              "                                                     [key], {});\n",
              "          if (!dataTable) return;\n",
              "\n",
              "          const docLinkHtml = 'Like what you see? Visit the ' +\n",
              "            '<a target=\"_blank\" href=https://colab.research.google.com/notebooks/data_table.ipynb>data table notebook</a>'\n",
              "            + ' to learn more about interactive tables.';\n",
              "          element.innerHTML = '';\n",
              "          dataTable['output_type'] = 'display_data';\n",
              "          await google.colab.output.renderOutput(dataTable, element);\n",
              "          const docLink = document.createElement('div');\n",
              "          docLink.innerHTML = docLinkHtml;\n",
              "          element.appendChild(docLink);\n",
              "        }\n",
              "      </script>\n",
              "    </div>\n",
              "  </div>\n",
              "  "
            ]
          },
          "metadata": {},
          "execution_count": 46
        }
      ]
    },
    {
      "cell_type": "code",
      "source": [
        "pd.cut(sal.loc[sal.Profession ==\"TBD\", \"TotalPay\"], bins=6).value_counts()"
      ],
      "metadata": {
        "colab": {
          "base_uri": "https://localhost:8080/"
        },
        "id": "SsWULTQjLiAv",
        "outputId": "6ed76c6e-e4a6-4ba7-8251-44f3871431e1"
      },
      "execution_count": 47,
      "outputs": [
        {
          "output_type": "execute_result",
          "data": {
            "text/plain": [
              "(64503.555, 129625.24]     19885\n",
              "(-1008.86, 64503.555]      18443\n",
              "(129625.24, 194746.925]     1226\n",
              "(194746.925, 259868.61]       81\n",
              "(259868.61, 324990.295]       20\n",
              "(324990.295, 390111.98]        5\n",
              "Name: TotalPay, dtype: int64"
            ]
          },
          "metadata": {},
          "execution_count": 47
        }
      ]
    },
    {
      "cell_type": "code",
      "source": [
        "sal.loc[(sal.Profession.str.contains(\"TBD\"))&(sal.TotalPay>130000), \"JobTitle\"].value_counts().head(20) #from 3+ buckets"
      ],
      "metadata": {
        "outputId": "2d0f105f-6dd7-40ee-94cb-84bf5fc0f2da",
        "colab": {
          "base_uri": "https://localhost:8080/"
        },
        "id": "RCjyeQm-EJaP"
      },
      "execution_count": 48,
      "outputs": [
        {
          "output_type": "execute_result",
          "data": {
            "text/plain": [
              "eng/arch/landscape arch sr        252\n",
              "is project director               123\n",
              "train controller                   36\n",
              "diagnostic imaging tech ii         32\n",
              "automotive mechanic                29\n",
              "electrl trnst mech, asst sprv      27\n",
              "incident support specialist        25\n",
              "maintenance machinist              22\n",
              "architect                          21\n",
              "communications systems tech        20\n",
              "public safetycomm disp             20\n",
              "station agent, muni railway        20\n",
              "bldgs & grounds maint supt         19\n",
              "electr maint tech asst sprv        18\n",
              "sr power generation tech           18\n",
              "commander 3                        18\n",
              "mayoral staff xvii                 17\n",
              "automotive trnst shop sprv 1       15\n",
              "chf statnry eng,wtrtreat plnt      15\n",
              "wire rope cable maint mechanic     15\n",
              "Name: JobTitle, dtype: Int64"
            ]
          },
          "metadata": {},
          "execution_count": 48
        }
      ]
    },
    {
      "cell_type": "code",
      "source": [
        "profession_dict.update({\"arch\" :\"architect\", \"director\":\"executives\", \"maint\":\"maintenance\"})\n",
        "def_prof()"
      ],
      "metadata": {
        "id": "6jS6dkfToP45"
      },
      "execution_count": 49,
      "outputs": []
    },
    {
      "cell_type": "markdown",
      "source": [
        "Для немногочисленных высокооплачиваемых профессий поле Profession определим равным JobTitle"
      ],
      "metadata": {
        "id": "TM1qIVbWsY98"
      }
    },
    {
      "cell_type": "code",
      "source": [
        "sal.loc[(sal.Profession.str.contains(\"TBD\"))&(sal.TotalPay>130000), \"Profession\"] = sal.loc[(sal.Profession.str.contains(\"TBD\"))&(sal.TotalPay>130000), \"JobTitle\"]"
      ],
      "metadata": {
        "id": "pQ7A6AiDrofR"
      },
      "execution_count": 50,
      "outputs": []
    },
    {
      "cell_type": "markdown",
      "source": [
        "Boxplot для подмножества датасета, у которого Profession остался неопределенным, после всех преобразований и статистика по всем профессиям (ниже)"
      ],
      "metadata": {
        "id": "lgE8c0Zn1eCd"
      }
    },
    {
      "cell_type": "code",
      "source": [
        "#fig, axes = plt.subplots(1, 1, figsize=(32, 12))\n",
        "ax = sns.boxplot(x=\"Year\", y=\"TotalPay\", data=sal[(sal.Profession == \"TBD\")])\n",
        "plt.show()"
      ],
      "metadata": {
        "colab": {
          "base_uri": "https://localhost:8080/",
          "height": 279
        },
        "id": "tA4ap3jxtg7e",
        "outputId": "1cda75fd-109f-439a-d0e3-6c20e778bfdf"
      },
      "execution_count": 51,
      "outputs": [
        {
          "output_type": "display_data",
          "data": {
            "text/plain": [
              "<Figure size 432x288 with 1 Axes>"
            ],
            "image/png": "[encoded data removed]"
          },
          "metadata": {
            "needs_background": "light"
          }
        }
      ]
    },
    {
      "cell_type": "code",
      "source": [
        "pd.pivot_table (sal, index = 'Id', values = 'TotalPay', columns = 'Profession',  aggfunc=np.sum).describe()"
      ],
      "metadata": {
        "colab": {
          "base_uri": "https://localhost:8080/",
          "height": 445
        },
        "id": "pxioVp4bzWsM",
        "outputId": "4b5e9415-b0e3-4bc5-cd93-d1568850f327"
      },
      "execution_count": 52,
      "outputs": [
        {
          "output_type": "execute_result",
          "data": {
            "text/plain": [
              "Profession            TBD     accountant  administrator, dph  \\\n",
              "count        36254.000000    1010.000000            2.000000   \n",
              "mean         60643.492574   72673.134069       256750.460000   \n",
              "std          33454.622477   27113.484656        36584.997752   \n",
              "min           -618.130000      70.230000       230880.960000   \n",
              "25%          36094.585000   59322.792500       243815.710000   \n",
              "50%          66223.770000   77272.505000       256750.460000   \n",
              "75%          84564.030000   94042.630000       269685.210000   \n",
              "max         129996.740000  119516.190000       282619.960000   \n",
              "\n",
              "Profession  airport operations supervisor        analyst      architect  \\\n",
              "count                            3.000000    4721.000000    1655.000000   \n",
              "mean                        148845.796667   82415.229498   65376.213142   \n",
              "std                          10264.785963   29656.649652   59424.497097   \n",
              "min                         138875.470000      16.090000      32.290000   \n",
              "25%                         143577.865000   67898.010000   12447.760000   \n",
              "50%                         148280.260000   88687.330000   35902.570000   \n",
              "75%                         153830.960000  103091.490000  114814.780000   \n",
              "max                         159381.660000  178813.700000  201803.000000   \n",
              "\n",
              "Profession       assessor  asst chf prob ofc, juv prob  \\\n",
              "count            4.000000                         1.00   \n",
              "mean        169384.880000                    170847.04   \n",
              "std           7018.920394                          NaN   \n",
              "min         164425.000000                    170847.04   \n",
              "25%         165613.382500                    170847.04   \n",
              "50%         166677.300000                    170847.04   \n",
              "75%         170448.797500                    170847.04   \n",
              "max         179759.920000                    170847.04   \n",
              "\n",
              "Profession  asst chf, bur clm invest&admin  asst dir clinical svcs 2  ...  \\\n",
              "count                             2.000000                      1.00  ...   \n",
              "mean                         144649.245000                 141457.64  ...   \n",
              "std                            4651.001924                       NaN  ...   \n",
              "min                          141360.490000                 141457.64  ...   \n",
              "25%                          143004.867500                 141457.64  ...   \n",
              "50%                          144649.245000                 141457.64  ...   \n",
              "75%                          146293.622500                 141457.64  ...   \n",
              "max                          147938.000000                 141457.64  ...   \n",
              "\n",
              "Profession  trans safety specialist  \\\n",
              "count                      7.000000   \n",
              "mean                  139789.574286   \n",
              "std                     5796.113578   \n",
              "min                   132315.430000   \n",
              "25%                   136307.180000   \n",
              "50%                   139215.770000   \n",
              "75%                   142654.030000   \n",
              "max                   149073.400000   \n",
              "\n",
              "Profession  transmission and distribution line worker  \\\n",
              "count                                            1.00   \n",
              "mean                                        140455.72   \n",
              "std                                               NaN   \n",
              "min                                         140455.72   \n",
              "25%                                         140455.72   \n",
              "50%                                         140455.72   \n",
              "75%                                         140455.72   \n",
              "max                                         140455.72   \n",
              "\n",
              "Profession  transmission line supervisor 1  transmission line supervisor i  \\\n",
              "count                             8.000000                        2.000000   \n",
              "mean                         166440.937500                   151381.155000   \n",
              "std                           19835.146402                    15010.003132   \n",
              "min                          143452.950000                   140767.480000   \n",
              "25%                          149868.787500                   146074.317500   \n",
              "50%                          166060.920000                   151381.155000   \n",
              "75%                          178847.820000                   156687.992500   \n",
              "max                          194942.980000                   161994.830000   \n",
              "\n",
              "Profession  transportation      treasurer  trnst power line wrk sprv 2  \\\n",
              "count         10907.000000       4.000000                     3.000000   \n",
              "mean          69000.242433  169537.992500                175467.503333   \n",
              "std           34034.370069    8243.792213                 17160.758064   \n",
              "min               0.300000  160257.080000                156037.850000   \n",
              "25%           50119.510000  163856.652500                168925.005000   \n",
              "50%           73871.130000  170129.620000                181812.160000   \n",
              "75%           87652.175000  175810.960000                185182.330000   \n",
              "max          230239.980000  177635.650000                188552.500000   \n",
              "\n",
              "Profession        utility  water const&main supt         welder  \n",
              "count          849.000000               4.000000       8.000000  \n",
              "mean         95564.950118          171744.620000  145653.845000  \n",
              "std          38606.839882           15978.469864   20307.643416  \n",
              "min             24.520000          149737.920000  130901.280000  \n",
              "25%          69183.570000          165088.545000  134193.137500  \n",
              "50%         102351.740000          176353.335000  137373.925000  \n",
              "75%         123255.790000          183009.410000  146182.355000  \n",
              "max         187528.180000          184533.890000  190014.480000  \n",
              "\n",
              "[8 rows x 166 columns]"
            ],
            "text/html": [
              "\n",
              "  <div id=\"df-796faf7b-b60b-4873-ad19-9057b38dcabd\">\n",
              "    <div class=\"colab-df-container\">\n",
              "      <div>\n",
              "<style scoped>\n",
              "    .dataframe tbody tr th:only-of-type {\n",
              "        vertical-align: middle;\n",
              "    }\n",
              "\n",
              "    .dataframe tbody tr th {\n",
              "        vertical-align: top;\n",
              "    }\n",
              "\n",
              "    .dataframe thead th {\n",
              "        text-align: right;\n",
              "    }\n",
              "</style>\n",
              "<table border=\"1\" class=\"dataframe\">\n",
              "  <thead>\n",
              "    <tr style=\"text-align: right;\">\n",
              "      <th>Profession</th>\n",
              "      <th>TBD</th>\n",
              "      <th>accountant</th>\n",
              "      <th>administrator, dph</th>\n",
              "      <th>airport operations supervisor</th>\n",
              "      <th>analyst</th>\n",
              "      <th>architect</th>\n",
              "      <th>assessor</th>\n",
              "      <th>asst chf prob ofc, juv prob</th>\n",
              "      <th>asst chf, bur clm invest&amp;admin</th>\n",
              "      <th>asst dir clinical svcs 2</th>\n",
              "      <th>...</th>\n",
              "      <th>trans safety specialist</th>\n",
              "      <th>transmission and distribution line worker</th>\n",
              "      <th>transmission line supervisor 1</th>\n",
              "      <th>transmission line supervisor i</th>\n",
              "      <th>transportation</th>\n",
              "      <th>treasurer</th>\n",
              "      <th>trnst power line wrk sprv 2</th>\n",
              "      <th>utility</th>\n",
              "      <th>water const&amp;main supt</th>\n",
              "      <th>welder</th>\n",
              "    </tr>\n",
              "  </thead>\n",
              "  <tbody>\n",
              "    <tr>\n",
              "      <th>count</th>\n",
              "      <td>36254.000000</td>\n",
              "      <td>1010.000000</td>\n",
              "      <td>2.000000</td>\n",
              "      <td>3.000000</td>\n",
              "      <td>4721.000000</td>\n",
              "      <td>1655.000000</td>\n",
              "      <td>4.000000</td>\n",
              "      <td>1.00</td>\n",
              "      <td>2.000000</td>\n",
              "      <td>1.00</td>\n",
              "      <td>...</td>\n",
              "      <td>7.000000</td>\n",
              "      <td>1.00</td>\n",
              "      <td>8.000000</td>\n",
              "      <td>2.000000</td>\n",
              "      <td>10907.000000</td>\n",
              "      <td>4.000000</td>\n",
              "      <td>3.000000</td>\n",
              "      <td>849.000000</td>\n",
              "      <td>4.000000</td>\n",
              "      <td>8.000000</td>\n",
              "    </tr>\n",
              "    <tr>\n",
              "      <th>mean</th>\n",
              "      <td>60643.492574</td>\n",
              "      <td>72673.134069</td>\n",
              "      <td>256750.460000</td>\n",
              "      <td>148845.796667</td>\n",
              "      <td>82415.229498</td>\n",
              "      <td>65376.213142</td>\n",
              "      <td>169384.880000</td>\n",
              "      <td>170847.04</td>\n",
              "      <td>144649.245000</td>\n",
              "      <td>141457.64</td>\n",
              "      <td>...</td>\n",
              "      <td>139789.574286</td>\n",
              "      <td>140455.72</td>\n",
              "      <td>166440.937500</td>\n",
              "      <td>151381.155000</td>\n",
              "      <td>69000.242433</td>\n",
              "      <td>169537.992500</td>\n",
              "      <td>175467.503333</td>\n",
              "      <td>95564.950118</td>\n",
              "      <td>171744.620000</td>\n",
              "      <td>145653.845000</td>\n",
              "    </tr>\n",
              "    <tr>\n",
              "      <th>std</th>\n",
              "      <td>33454.622477</td>\n",
              "      <td>27113.484656</td>\n",
              "      <td>36584.997752</td>\n",
              "      <td>10264.785963</td>\n",
              "      <td>29656.649652</td>\n",
              "      <td>59424.497097</td>\n",
              "      <td>7018.920394</td>\n",
              "      <td>NaN</td>\n",
              "      <td>4651.001924</td>\n",
              "      <td>NaN</td>\n",
              "      <td>...</td>\n",
              "      <td>5796.113578</td>\n",
              "      <td>NaN</td>\n",
              "      <td>19835.146402</td>\n",
              "      <td>15010.003132</td>\n",
              "      <td>34034.370069</td>\n",
              "      <td>8243.792213</td>\n",
              "      <td>17160.758064</td>\n",
              "      <td>38606.839882</td>\n",
              "      <td>15978.469864</td>\n",
              "      <td>20307.643416</td>\n",
              "    </tr>\n",
              "    <tr>\n",
              "      <th>min</th>\n",
              "      <td>-618.130000</td>\n",
              "      <td>70.230000</td>\n",
              "      <td>230880.960000</td>\n",
              "      <td>138875.470000</td>\n",
              "      <td>16.090000</td>\n",
              "      <td>32.290000</td>\n",
              "      <td>164425.000000</td>\n",
              "      <td>170847.04</td>\n",
              "      <td>141360.490000</td>\n",
              "      <td>141457.64</td>\n",
              "      <td>...</td>\n",
              "      <td>132315.430000</td>\n",
              "      <td>140455.72</td>\n",
              "      <td>143452.950000</td>\n",
              "      <td>140767.480000</td>\n",
              "      <td>0.300000</td>\n",
              "      <td>160257.080000</td>\n",
              "      <td>156037.850000</td>\n",
              "      <td>24.520000</td>\n",
              "      <td>149737.920000</td>\n",
              "      <td>130901.280000</td>\n",
              "    </tr>\n",
              "    <tr>\n",
              "      <th>25%</th>\n",
              "      <td>36094.585000</td>\n",
              "      <td>59322.792500</td>\n",
              "      <td>243815.710000</td>\n",
              "      <td>143577.865000</td>\n",
              "      <td>67898.010000</td>\n",
              "      <td>12447.760000</td>\n",
              "      <td>165613.382500</td>\n",
              "      <td>170847.04</td>\n",
              "      <td>143004.867500</td>\n",
              "      <td>141457.64</td>\n",
              "      <td>...</td>\n",
              "      <td>136307.180000</td>\n",
              "      <td>140455.72</td>\n",
              "      <td>149868.787500</td>\n",
              "      <td>146074.317500</td>\n",
              "      <td>50119.510000</td>\n",
              "      <td>163856.652500</td>\n",
              "      <td>168925.005000</td>\n",
              "      <td>69183.570000</td>\n",
              "      <td>165088.545000</td>\n",
              "      <td>134193.137500</td>\n",
              "    </tr>\n",
              "    <tr>\n",
              "      <th>50%</th>\n",
              "      <td>66223.770000</td>\n",
              "      <td>77272.505000</td>\n",
              "      <td>256750.460000</td>\n",
              "      <td>148280.260000</td>\n",
              "      <td>88687.330000</td>\n",
              "      <td>35902.570000</td>\n",
              "      <td>166677.300000</td>\n",
              "      <td>170847.04</td>\n",
              "      <td>144649.245000</td>\n",
              "      <td>141457.64</td>\n",
              "      <td>...</td>\n",
              "      <td>139215.770000</td>\n",
              "      <td>140455.72</td>\n",
              "      <td>166060.920000</td>\n",
              "      <td>151381.155000</td>\n",
              "      <td>73871.130000</td>\n",
              "      <td>170129.620000</td>\n",
              "      <td>181812.160000</td>\n",
              "      <td>102351.740000</td>\n",
              "      <td>176353.335000</td>\n",
              "      <td>137373.925000</td>\n",
              "    </tr>\n",
              "    <tr>\n",
              "      <th>75%</th>\n",
              "      <td>84564.030000</td>\n",
              "      <td>94042.630000</td>\n",
              "      <td>269685.210000</td>\n",
              "      <td>153830.960000</td>\n",
              "      <td>103091.490000</td>\n",
              "      <td>114814.780000</td>\n",
              "      <td>170448.797500</td>\n",
              "      <td>170847.04</td>\n",
              "      <td>146293.622500</td>\n",
              "      <td>141457.64</td>\n",
              "      <td>...</td>\n",
              "      <td>142654.030000</td>\n",
              "      <td>140455.72</td>\n",
              "      <td>178847.820000</td>\n",
              "      <td>156687.992500</td>\n",
              "      <td>87652.175000</td>\n",
              "      <td>175810.960000</td>\n",
              "      <td>185182.330000</td>\n",
              "      <td>123255.790000</td>\n",
              "      <td>183009.410000</td>\n",
              "      <td>146182.355000</td>\n",
              "    </tr>\n",
              "    <tr>\n",
              "      <th>max</th>\n",
              "      <td>129996.740000</td>\n",
              "      <td>119516.190000</td>\n",
              "      <td>282619.960000</td>\n",
              "      <td>159381.660000</td>\n",
              "      <td>178813.700000</td>\n",
              "      <td>201803.000000</td>\n",
              "      <td>179759.920000</td>\n",
              "      <td>170847.04</td>\n",
              "      <td>147938.000000</td>\n",
              "      <td>141457.64</td>\n",
              "      <td>...</td>\n",
              "      <td>149073.400000</td>\n",
              "      <td>140455.72</td>\n",
              "      <td>194942.980000</td>\n",
              "      <td>161994.830000</td>\n",
              "      <td>230239.980000</td>\n",
              "      <td>177635.650000</td>\n",
              "      <td>188552.500000</td>\n",
              "      <td>187528.180000</td>\n",
              "      <td>184533.890000</td>\n",
              "      <td>190014.480000</td>\n",
              "    </tr>\n",
              "  </tbody>\n",
              "</table>\n",
              "<p>8 rows × 166 columns</p>\n",
              "</div>\n",
              "      <button class=\"colab-df-convert\" onclick=\"convertToInteractive('df-796faf7b-b60b-4873-ad19-9057b38dcabd')\"\n",
              "              title=\"Convert this dataframe to an interactive table.\"\n",
              "              style=\"display:none;\">\n",
              "        \n",
              "  <svg xmlns=\"http://www.w3.org/2000/svg\" height=\"24px\"viewBox=\"0 0 24 24\"\n",
              "       width=\"24px\">\n",
              "    <path d=\"M0 0h24v24H0V0z\" fill=\"none\"/>\n",
              "    <path d=\"M18.56 5.44l.94 2.06.94-2.06 2.06-.94-2.06-.94-.94-2.06-.94 2.06-2.06.94zm-11 1L8.5 8.5l.94-2.06 2.06-.94-2.06-.94L8.5 2.5l-.94 2.06-2.06.94zm10 10l.94 2.06.94-2.06 2.06-.94-2.06-.94-.94-2.06-.94 2.06-2.06.94z\"/><path d=\"M17.41 7.96l-1.37-1.37c-.4-.4-.92-.59-1.43-.59-.52 0-1.04.2-1.43.59L10.3 9.45l-7.72 7.72c-.78.78-.78 2.05 0 2.83L4 21.41c.39.39.9.59 1.41.59.51 0 1.02-.2 1.41-.59l7.78-7.78 2.81-2.81c.8-.78.8-2.07 0-2.86zM5.41 20L4 18.59l7.72-7.72 1.47 1.35L5.41 20z\"/>\n",
              "  </svg>\n",
              "      </button>\n",
              "      \n",
              "  <style>\n",
              "    .colab-df-container {\n",
              "      display:flex;\n",
              "      flex-wrap:wrap;\n",
              "      gap: 12px;\n",
              "    }\n",
              "\n",
              "    .colab-df-convert {\n",
              "      background-color: #E8F0FE;\n",
              "      border: none;\n",
              "      border-radius: 50%;\n",
              "      cursor: pointer;\n",
              "      display: none;\n",
              "      fill: #1967D2;\n",
              "      height: 32px;\n",
              "      padding: 0 0 0 0;\n",
              "      width: 32px;\n",
              "    }\n",
              "\n",
              "    .colab-df-convert:hover {\n",
              "      background-color: #E2EBFA;\n",
              "      box-shadow: 0px 1px 2px rgba(60, 64, 67, 0.3), 0px 1px 3px 1px rgba(60, 64, 67, 0.15);\n",
              "      fill: #174EA6;\n",
              "    }\n",
              "\n",
              "    [theme=dark] .colab-df-convert {\n",
              "      background-color: #3B4455;\n",
              "      fill: #D2E3FC;\n",
              "    }\n",
              "\n",
              "    [theme=dark] .colab-df-convert:hover {\n",
              "      background-color: #434B5C;\n",
              "      box-shadow: 0px 1px 3px 1px rgba(0, 0, 0, 0.15);\n",
              "      filter: drop-shadow(0px 1px 2px rgba(0, 0, 0, 0.3));\n",
              "      fill: #FFFFFF;\n",
              "    }\n",
              "  </style>\n",
              "\n",
              "      <script>\n",
              "        const buttonEl =\n",
              "          document.querySelector('#df-796faf7b-b60b-4873-ad19-9057b38dcabd button.colab-df-convert');\n",
              "        buttonEl.style.display =\n",
              "          google.colab.kernel.accessAllowed ? 'block' : 'none';\n",
              "\n",
              "        async function convertToInteractive(key) {\n",
              "          const element = document.querySelector('#df-796faf7b-b60b-4873-ad19-9057b38dcabd');\n",
              "          const dataTable =\n",
              "            await google.colab.kernel.invokeFunction('convertToInteractive',\n",
              "                                                     [key], {});\n",
              "          if (!dataTable) return;\n",
              "\n",
              "          const docLinkHtml = 'Like what you see? Visit the ' +\n",
              "            '<a target=\"_blank\" href=https://colab.research.google.com/notebooks/data_table.ipynb>data table notebook</a>'\n",
              "            + ' to learn more about interactive tables.';\n",
              "          element.innerHTML = '';\n",
              "          dataTable['output_type'] = 'display_data';\n",
              "          await google.colab.output.renderOutput(dataTable, element);\n",
              "          const docLink = document.createElement('div');\n",
              "          docLink.innerHTML = docLinkHtml;\n",
              "          element.appendChild(docLink);\n",
              "        }\n",
              "      </script>\n",
              "    </div>\n",
              "  </div>\n",
              "  "
            ]
          },
          "metadata": {},
          "execution_count": 52
        }
      ]
    },
    {
      "cell_type": "markdown",
      "source": [
        "Модель определения Profession по JobTitle на размеченных нами данных"
      ],
      "metadata": {
        "id": "M_ExyD7IErHV"
      }
    },
    {
      "cell_type": "code",
      "source": [
        "sal.Profession.isna().sum()"
      ],
      "metadata": {
        "colab": {
          "base_uri": "https://localhost:8080/"
        },
        "id": "kKsThICjCZ4m",
        "outputId": "c5e9ffcc-bf82-46af-ac2a-6ce406889360"
      },
      "execution_count": null,
      "outputs": [
        {
          "output_type": "execute_result",
          "data": {
            "text/plain": [
              "0"
            ]
          },
          "metadata": {},
          "execution_count": 160
        }
      ]
    },
    {
      "cell_type": "code",
      "source": [
        "rs= 12"
      ],
      "metadata": {
        "id": "hyJ39Gw66-JB"
      },
      "execution_count": null,
      "outputs": []
    },
    {
      "cell_type": "code",
      "source": [
        "vectorizer = TfidfVectorizer()"
      ],
      "metadata": {
        "id": "HDhYMbaT6Bzi"
      },
      "execution_count": null,
      "outputs": []
    },
    {
      "cell_type": "code",
      "source": [
        "job_vec = vectorizer.fit_transform(sal['JobTitle'])"
      ],
      "metadata": {
        "id": "ZjlxHX116X8S"
      },
      "execution_count": null,
      "outputs": []
    },
    {
      "cell_type": "code",
      "source": [
        "X_train, X_test, y_train, y_test = train_test_split(job_vec, sal['Profession'], test_size=0.2, random_state=rs)"
      ],
      "metadata": {
        "id": "zHy_8hnm63hh"
      },
      "execution_count": null,
      "outputs": []
    },
    {
      "cell_type": "code",
      "source": [
        "clf = tree.DecisionTreeClassifier()"
      ],
      "metadata": {
        "id": "9f_YA1927OKg"
      },
      "execution_count": null,
      "outputs": []
    },
    {
      "cell_type": "code",
      "source": [
        "clf.fit(X_train,y_train)"
      ],
      "metadata": {
        "colab": {
          "base_uri": "https://localhost:8080/"
        },
        "id": "Rdo0B5yn8Clh",
        "outputId": "8a9b0e7a-d384-449d-b392-26a957607a36"
      },
      "execution_count": null,
      "outputs": [
        {
          "output_type": "execute_result",
          "data": {
            "text/plain": [
              "DecisionTreeClassifier()"
            ]
          },
          "metadata": {},
          "execution_count": 166
        }
      ]
    },
    {
      "cell_type": "code",
      "source": [
        "pred = clf.predict(X_test)\n",
        "print('Качество модели по метрике F1', f1_score(y_test,pred,average='weighted'))"
      ],
      "metadata": {
        "colab": {
          "base_uri": "https://localhost:8080/"
        },
        "id": "JUdET6Pm8CtP",
        "outputId": "2b2ced7b-cd63-43f6-a322-63f9de086e20"
      },
      "execution_count": null,
      "outputs": [
        {
          "output_type": "stream",
          "name": "stdout",
          "text": [
            "Качество модели по метрике F1 0.9949455706529876\n"
          ]
        }
      ]
    },
    {
      "cell_type": "markdown",
      "source": [
        "Теперь ответим на вопросы в задании"
      ],
      "metadata": {
        "id": "Y8mCvxZu2hX9"
      }
    },
    {
      "cell_type": "markdown",
      "source": [
        "1.\tКак со временем менялись зарплаты между разными группами (группировка по Department - fire, medicine, police)? (максимальная, медианная, средняя)\n"
      ],
      "metadata": {
        "id": "YD16XuXktjTI"
      }
    },
    {
      "cell_type": "code",
      "source": [
        "sal_slice = sal.loc[sal.Profession.isin(['fire', 'police', 'medicine'])]"
      ],
      "metadata": {
        "id": "vk-dN3iVXmoY"
      },
      "execution_count": 53,
      "outputs": []
    },
    {
      "cell_type": "code",
      "source": [
        "sns.set(rc = {'figure.figsize':(15,8)})\n",
        "sns.boxplot(data=sal_slice, x=\"Year\", y=\"TotalPay\",  hue = \"Profession\").set(title='TotalPay')"
      ],
      "metadata": {
        "id": "2_9L-M7l3G85",
        "outputId": "766e49e6-67a5-49e2-d475-d47a2909a8b6",
        "colab": {
          "base_uri": "https://localhost:8080/",
          "height": 536
        }
      },
      "execution_count": 55,
      "outputs": [
        {
          "output_type": "execute_result",
          "data": {
            "text/plain": [
              "[Text(0.5, 1.0, 'TotalPay')]"
            ]
          },
          "metadata": {},
          "execution_count": 55
        },
        {
          "output_type": "display_data",
          "data": {
            "text/plain": [
              "<Figure size 1080x576 with 1 Axes>"
            ],
            "image/png": "[encoded data removed]"
          },
          "metadata": {}
        }
      ]
    },
    {
      "cell_type": "markdown",
      "source": [
        "1) Из графика видно, что средняя зарплата в сфере медицины в период 2011 - 2014 ниже, чем в полиции и у пожарных. Ниже проверим гипотезу о том, что в медицине средняя зарплата ниже за счет того, что много сотрудников part-time\n",
        "2) Во всех сферах разброс зарплат большой\n",
        "3) В полиции и пожарной службе, кроме того, много зарплат, которые определяются как выбросы.\n",
        "4) Минимальные зарплаты во всех сферах одинаковые - это величина около нуля (по-видимому, опять же, part-time сотрудники)\n",
        "5)  Максимальные зарплаты в 2011 году были примерно одинаковвые во всех трех сферах, в 2012-2014 максимальные зарплаты в прлиции и пожарной службе стали выше, чем в 2011 году, а у медиков остались примерно на уровне 2011 года."
      ],
      "metadata": {
        "id": "_jgXJTS43PB3"
      }
    },
    {
      "cell_type": "markdown",
      "source": [
        "2.\tКак распределяются базовая оплата, сверхурочная работа и льготы между разными группами? Нужно построить диаграммы по распределению со временем для каждого департамента по базовым, сверхурочным и льготам"
      ],
      "metadata": {
        "id": "L10v7of024On"
      }
    },
    {
      "cell_type": "code",
      "source": [
        "fig, axes = plt.subplots(1, 5, figsize=(32, 9))\n",
        "\n",
        "sns.boxplot(data=sal_slice, x=\"Year\", y=\"TotalPay\",  hue = \"Profession\", ax=axes[0]).set(xlabel='TotalPay')\n",
        "sns.boxplot(data=sal_slice, x=\"Year\", y=\"BasePay\",  hue = \"Profession\", ax=axes[1]).set(xlabel='BasePay')\n",
        "sns.boxplot(data=sal_slice, x=\"Year\", y=\"OvertimePay\",  hue = \"Profession\", ax=axes[2]).set(xlabel='OvertimePay')\n",
        "sns.boxplot(data=sal_slice, x=\"Year\", y=\"OtherPay\",  hue = \"Profession\", ax=axes[3]).set(xlabel='OtherPay')\n",
        "sns.boxplot(data=sal_slice, x=\"Year\", y=\"Benefits\",  hue = \"Profession\", ax=axes[4]).set(xlabel='Benefits')\n",
        "plt.show()"
      ],
      "metadata": {
        "colab": {
          "base_uri": "https://localhost:8080/",
          "height": 557
        },
        "id": "vMkqN9G3s2Mj",
        "outputId": "672026ab-a1e2-4cc1-8ae3-21d5bcaf395e"
      },
      "execution_count": null,
      "outputs": [
        {
          "output_type": "display_data",
          "data": {
            "text/plain": [
              "<Figure size 2304x648 with 5 Axes>"
            ],
            "image/png": "[encoded data removed]"
          },
          "metadata": {}
        }
      ]
    },
    {
      "cell_type": "markdown",
      "source": [
        "3.\tКак распределяется бюджет на разные группы (department) с течением времени?\n",
        "4.\tКакое количество людей в каждом департаменте? \n",
        "5.\tКакое количество с разным уровнем дохода? (гистограмма с шагом в 5к) \n",
        "6.\tНа базе линейной регрессии постройте прогноз по тому, какие будут закупке в следующий год по каждому департаменту"
      ],
      "metadata": {
        "id": "UlKmMEuy7J42"
      }
    },
    {
      "cell_type": "code",
      "source": [],
      "metadata": {
        "id": "9y9Ogbwl7K7M"
      },
      "execution_count": null,
      "outputs": []
    },
    {
      "cell_type": "code",
      "source": [
        "ax = sns.countplot(x=\"Year\", hue=\"Profession\", data=sal_slice, palette=\"Set1\")"
      ],
      "metadata": {
        "id": "f4YCiLP0b09m",
        "outputId": "346812f0-e54e-4ef1-bbc0-3f7dc83b680f",
        "colab": {
          "base_uri": "https://localhost:8080/",
          "height": 611
        }
      },
      "execution_count": null,
      "outputs": [
        {
          "output_type": "display_data",
          "data": {
            "text/plain": [
              "<Figure size 1080x720 with 1 Axes>"
            ],
            "image/png": "[encoded data removed]"
          },
          "metadata": {}
        }
      ]
    },
    {
      "cell_type": "code",
      "source": [
        "fig, axes = plt.subplots(1, 3, figsize=(32, 9))\n",
        "\n",
        "sns.histplot(data=sal_slice.loc[sal_slice.Profession == \"fire\"], x=\"TotalPay\", binwidth=5000, ax=axes[0]).set(xlabel='fire')\n",
        "sns.histplot(data=sal_slice.loc[sal_slice.Profession == \"police\"], x=\"TotalPay\", binwidth=5000, ax=axes[1]).set(xlabel='police')\n",
        "sns.histplot(data=sal_slice.loc[sal_slice.Profession == \"medicine\"], x=\"TotalPay\", binwidth=5000, ax=axes[2]).set(xlabel='medicine')\n",
        "plt.show()"
      ],
      "metadata": {
        "id": "maQ9j0c4a_YA",
        "outputId": "fbb7ebe9-646d-4524-c4ea-17df15324c85",
        "colab": {
          "base_uri": "https://localhost:8080/",
          "height": 557
        }
      },
      "execution_count": null,
      "outputs": [
        {
          "output_type": "display_data",
          "data": {
            "text/plain": [
              "<Figure size 2304x648 with 3 Axes>"
            ],
            "image/png": "[encoded data removed]"
          },
          "metadata": {}
        }
      ]
    },
    {
      "cell_type": "code",
      "source": [
        "sns.countplot(x=\"Profession\", hue=\"Status\", data=sal_slice.loc[sal_slice.Year == 2014], palette=\"Set1\")"
      ],
      "metadata": {
        "id": "-Lh8uI_JdmpJ",
        "outputId": "0d9dad45-c70d-4a3c-fc7b-99dc90295176",
        "colab": {
          "base_uri": "https://localhost:8080/",
          "height": 628
        }
      },
      "execution_count": null,
      "outputs": [
        {
          "output_type": "execute_result",
          "data": {
            "text/plain": [
              "<matplotlib.axes._subplots.AxesSubplot at 0x7f1b45fb6250>"
            ]
          },
          "metadata": {},
          "execution_count": 282
        },
        {
          "output_type": "display_data",
          "data": {
            "text/plain": [
              "<Figure size 1080x720 with 1 Axes>"
            ],
            "image/png": "[encoded data removed]"
          },
          "metadata": {}
        }
      ]
    },
    {
      "cell_type": "code",
      "source": [
        "medians = sal_slice.groupby(['Year', 'Profession'])['TotalPay'].median().reset_index()\n",
        "means = sal_slice.groupby(['Year', 'Profession'])['TotalPay'].mean().reset_index()\n",
        "maxs = sal_slice.groupby(['Year', 'Profession'])['TotalPay'].max().reset_index()\n",
        "mins = sal_slice.groupby(['Year', 'Profession'])['TotalPay'].min().reset_index()"
      ],
      "metadata": {
        "id": "bdu97u9mteUt"
      },
      "execution_count": null,
      "outputs": []
    },
    {
      "cell_type": "code",
      "source": [
        "sal_slice_medians = pd.pivot_table (sal_slice, index = \"Profession\", values = 'TotalPay', columns = 'Year',  aggfunc=np.median)\n",
        "new_col = []\n",
        "for el in sal_slice_medians.columns.values: \n",
        "  new_col.append((str(el) + \" median\")) \n",
        "sal_slice_medians.columns = new_col \n",
        "sal_slice_medians"
      ],
      "metadata": {
        "id": "kVqFoZGsOMVz",
        "outputId": "5bf0ff09-3c19-486d-9ac7-0d56695633e7",
        "colab": {
          "base_uri": "https://localhost:8080/",
          "height": 175
        }
      },
      "execution_count": null,
      "outputs": [
        {
          "output_type": "execute_result",
          "data": {
            "text/plain": [
              "            2011 median  2012 median  2013 median  2014 median\n",
              "Profession                                                    \n",
              "fire         137867.255   146499.880   155441.660   144783.775\n",
              "medicine      65532.700    64291.625    66393.385    64202.250\n",
              "police       120538.460   133475.775   143316.240   138599.380"
            ],
            "text/html": [
              "\n",
              "  <div id=\"df-711bfdd7-c8e9-4e6b-9477-3bf3f17b38dc\">\n",
              "    <div class=\"colab-df-container\">\n",
              "      <div>\n",
              "<style scoped>\n",
              "    .dataframe tbody tr th:only-of-type {\n",
              "        vertical-align: middle;\n",
              "    }\n",
              "\n",
              "    .dataframe tbody tr th {\n",
              "        vertical-align: top;\n",
              "    }\n",
              "\n",
              "    .dataframe thead th {\n",
              "        text-align: right;\n",
              "    }\n",
              "</style>\n",
              "<table border=\"1\" class=\"dataframe\">\n",
              "  <thead>\n",
              "    <tr style=\"text-align: right;\">\n",
              "      <th></th>\n",
              "      <th>2011 median</th>\n",
              "      <th>2012 median</th>\n",
              "      <th>2013 median</th>\n",
              "      <th>2014 median</th>\n",
              "    </tr>\n",
              "    <tr>\n",
              "      <th>Profession</th>\n",
              "      <th></th>\n",
              "      <th></th>\n",
              "      <th></th>\n",
              "      <th></th>\n",
              "    </tr>\n",
              "  </thead>\n",
              "  <tbody>\n",
              "    <tr>\n",
              "      <th>fire</th>\n",
              "      <td>137867.255</td>\n",
              "      <td>146499.880</td>\n",
              "      <td>155441.660</td>\n",
              "      <td>144783.775</td>\n",
              "    </tr>\n",
              "    <tr>\n",
              "      <th>medicine</th>\n",
              "      <td>65532.700</td>\n",
              "      <td>64291.625</td>\n",
              "      <td>66393.385</td>\n",
              "      <td>64202.250</td>\n",
              "    </tr>\n",
              "    <tr>\n",
              "      <th>police</th>\n",
              "      <td>120538.460</td>\n",
              "      <td>133475.775</td>\n",
              "      <td>143316.240</td>\n",
              "      <td>138599.380</td>\n",
              "    </tr>\n",
              "  </tbody>\n",
              "</table>\n",
              "</div>\n",
              "      <button class=\"colab-df-convert\" onclick=\"convertToInteractive('df-711bfdd7-c8e9-4e6b-9477-3bf3f17b38dc')\"\n",
              "              title=\"Convert this dataframe to an interactive table.\"\n",
              "              style=\"display:none;\">\n",
              "        \n",
              "  <svg xmlns=\"http://www.w3.org/2000/svg\" height=\"24px\"viewBox=\"0 0 24 24\"\n",
              "       width=\"24px\">\n",
              "    <path d=\"M0 0h24v24H0V0z\" fill=\"none\"/>\n",
              "    <path d=\"M18.56 5.44l.94 2.06.94-2.06 2.06-.94-2.06-.94-.94-2.06-.94 2.06-2.06.94zm-11 1L8.5 8.5l.94-2.06 2.06-.94-2.06-.94L8.5 2.5l-.94 2.06-2.06.94zm10 10l.94 2.06.94-2.06 2.06-.94-2.06-.94-.94-2.06-.94 2.06-2.06.94z\"/><path d=\"M17.41 7.96l-1.37-1.37c-.4-.4-.92-.59-1.43-.59-.52 0-1.04.2-1.43.59L10.3 9.45l-7.72 7.72c-.78.78-.78 2.05 0 2.83L4 21.41c.39.39.9.59 1.41.59.51 0 1.02-.2 1.41-.59l7.78-7.78 2.81-2.81c.8-.78.8-2.07 0-2.86zM5.41 20L4 18.59l7.72-7.72 1.47 1.35L5.41 20z\"/>\n",
              "  </svg>\n",
              "      </button>\n",
              "      \n",
              "  <style>\n",
              "    .colab-df-container {\n",
              "      display:flex;\n",
              "      flex-wrap:wrap;\n",
              "      gap: 12px;\n",
              "    }\n",
              "\n",
              "    .colab-df-convert {\n",
              "      background-color: #E8F0FE;\n",
              "      border: none;\n",
              "      border-radius: 50%;\n",
              "      cursor: pointer;\n",
              "      display: none;\n",
              "      fill: #1967D2;\n",
              "      height: 32px;\n",
              "      padding: 0 0 0 0;\n",
              "      width: 32px;\n",
              "    }\n",
              "\n",
              "    .colab-df-convert:hover {\n",
              "      background-color: #E2EBFA;\n",
              "      box-shadow: 0px 1px 2px rgba(60, 64, 67, 0.3), 0px 1px 3px 1px rgba(60, 64, 67, 0.15);\n",
              "      fill: #174EA6;\n",
              "    }\n",
              "\n",
              "    [theme=dark] .colab-df-convert {\n",
              "      background-color: #3B4455;\n",
              "      fill: #D2E3FC;\n",
              "    }\n",
              "\n",
              "    [theme=dark] .colab-df-convert:hover {\n",
              "      background-color: #434B5C;\n",
              "      box-shadow: 0px 1px 3px 1px rgba(0, 0, 0, 0.15);\n",
              "      filter: drop-shadow(0px 1px 2px rgba(0, 0, 0, 0.3));\n",
              "      fill: #FFFFFF;\n",
              "    }\n",
              "  </style>\n",
              "\n",
              "      <script>\n",
              "        const buttonEl =\n",
              "          document.querySelector('#df-711bfdd7-c8e9-4e6b-9477-3bf3f17b38dc button.colab-df-convert');\n",
              "        buttonEl.style.display =\n",
              "          google.colab.kernel.accessAllowed ? 'block' : 'none';\n",
              "\n",
              "        async function convertToInteractive(key) {\n",
              "          const element = document.querySelector('#df-711bfdd7-c8e9-4e6b-9477-3bf3f17b38dc');\n",
              "          const dataTable =\n",
              "            await google.colab.kernel.invokeFunction('convertToInteractive',\n",
              "                                                     [key], {});\n",
              "          if (!dataTable) return;\n",
              "\n",
              "          const docLinkHtml = 'Like what you see? Visit the ' +\n",
              "            '<a target=\"_blank\" href=https://colab.research.google.com/notebooks/data_table.ipynb>data table notebook</a>'\n",
              "            + ' to learn more about interactive tables.';\n",
              "          element.innerHTML = '';\n",
              "          dataTable['output_type'] = 'display_data';\n",
              "          await google.colab.output.renderOutput(dataTable, element);\n",
              "          const docLink = document.createElement('div');\n",
              "          docLink.innerHTML = docLinkHtml;\n",
              "          element.appendChild(docLink);\n",
              "        }\n",
              "      </script>\n",
              "    </div>\n",
              "  </div>\n",
              "  "
            ]
          },
          "metadata": {},
          "execution_count": 266
        }
      ]
    },
    {
      "cell_type": "code",
      "source": [
        "sal_slice_counts =  pd.pivot_table (sal_slice[[\"Year\", \"Profession\"]].value_counts().reset_index(), index = \"Profession\", values = 0, columns = 'Year',  aggfunc=np.median)\n",
        "new_col = []\n",
        "for el in sal_slice_counts.columns.values: \n",
        "  new_col.append((str(el) + \" emp_count\")) \n",
        "sal_slice_counts.columns = new_col\n",
        "sal_slice_counts"
      ],
      "metadata": {
        "id": "YdSkLvuBN2dd",
        "outputId": "58f3fb3a-3ae3-47f9-8c7e-e9e98645a24e",
        "colab": {
          "base_uri": "https://localhost:8080/",
          "height": 175
        }
      },
      "execution_count": null,
      "outputs": [
        {
          "output_type": "execute_result",
          "data": {
            "text/plain": [
              "            2011 emp_count  2012 emp_count  2013 emp_count  2014 emp_count\n",
              "Profession                                                                \n",
              "fire                  1118            1129            1145            1188\n",
              "medicine              3863            4628            4714            4748\n",
              "police                1945            2620            2640            2687"
            ],
            "text/html": [
              "\n",
              "  <div id=\"df-8dba19da-76f8-42f1-a7a9-0cc4bb25cae9\">\n",
              "    <div class=\"colab-df-container\">\n",
              "      <div>\n",
              "<style scoped>\n",
              "    .dataframe tbody tr th:only-of-type {\n",
              "        vertical-align: middle;\n",
              "    }\n",
              "\n",
              "    .dataframe tbody tr th {\n",
              "        vertical-align: top;\n",
              "    }\n",
              "\n",
              "    .dataframe thead th {\n",
              "        text-align: right;\n",
              "    }\n",
              "</style>\n",
              "<table border=\"1\" class=\"dataframe\">\n",
              "  <thead>\n",
              "    <tr style=\"text-align: right;\">\n",
              "      <th></th>\n",
              "      <th>2011 emp_count</th>\n",
              "      <th>2012 emp_count</th>\n",
              "      <th>2013 emp_count</th>\n",
              "      <th>2014 emp_count</th>\n",
              "    </tr>\n",
              "    <tr>\n",
              "      <th>Profession</th>\n",
              "      <th></th>\n",
              "      <th></th>\n",
              "      <th></th>\n",
              "      <th></th>\n",
              "    </tr>\n",
              "  </thead>\n",
              "  <tbody>\n",
              "    <tr>\n",
              "      <th>fire</th>\n",
              "      <td>1118</td>\n",
              "      <td>1129</td>\n",
              "      <td>1145</td>\n",
              "      <td>1188</td>\n",
              "    </tr>\n",
              "    <tr>\n",
              "      <th>medicine</th>\n",
              "      <td>3863</td>\n",
              "      <td>4628</td>\n",
              "      <td>4714</td>\n",
              "      <td>4748</td>\n",
              "    </tr>\n",
              "    <tr>\n",
              "      <th>police</th>\n",
              "      <td>1945</td>\n",
              "      <td>2620</td>\n",
              "      <td>2640</td>\n",
              "      <td>2687</td>\n",
              "    </tr>\n",
              "  </tbody>\n",
              "</table>\n",
              "</div>\n",
              "      <button class=\"colab-df-convert\" onclick=\"convertToInteractive('df-8dba19da-76f8-42f1-a7a9-0cc4bb25cae9')\"\n",
              "              title=\"Convert this dataframe to an interactive table.\"\n",
              "              style=\"display:none;\">\n",
              "        \n",
              "  <svg xmlns=\"http://www.w3.org/2000/svg\" height=\"24px\"viewBox=\"0 0 24 24\"\n",
              "       width=\"24px\">\n",
              "    <path d=\"M0 0h24v24H0V0z\" fill=\"none\"/>\n",
              "    <path d=\"M18.56 5.44l.94 2.06.94-2.06 2.06-.94-2.06-.94-.94-2.06-.94 2.06-2.06.94zm-11 1L8.5 8.5l.94-2.06 2.06-.94-2.06-.94L8.5 2.5l-.94 2.06-2.06.94zm10 10l.94 2.06.94-2.06 2.06-.94-2.06-.94-.94-2.06-.94 2.06-2.06.94z\"/><path d=\"M17.41 7.96l-1.37-1.37c-.4-.4-.92-.59-1.43-.59-.52 0-1.04.2-1.43.59L10.3 9.45l-7.72 7.72c-.78.78-.78 2.05 0 2.83L4 21.41c.39.39.9.59 1.41.59.51 0 1.02-.2 1.41-.59l7.78-7.78 2.81-2.81c.8-.78.8-2.07 0-2.86zM5.41 20L4 18.59l7.72-7.72 1.47 1.35L5.41 20z\"/>\n",
              "  </svg>\n",
              "      </button>\n",
              "      \n",
              "  <style>\n",
              "    .colab-df-container {\n",
              "      display:flex;\n",
              "      flex-wrap:wrap;\n",
              "      gap: 12px;\n",
              "    }\n",
              "\n",
              "    .colab-df-convert {\n",
              "      background-color: #E8F0FE;\n",
              "      border: none;\n",
              "      border-radius: 50%;\n",
              "      cursor: pointer;\n",
              "      display: none;\n",
              "      fill: #1967D2;\n",
              "      height: 32px;\n",
              "      padding: 0 0 0 0;\n",
              "      width: 32px;\n",
              "    }\n",
              "\n",
              "    .colab-df-convert:hover {\n",
              "      background-color: #E2EBFA;\n",
              "      box-shadow: 0px 1px 2px rgba(60, 64, 67, 0.3), 0px 1px 3px 1px rgba(60, 64, 67, 0.15);\n",
              "      fill: #174EA6;\n",
              "    }\n",
              "\n",
              "    [theme=dark] .colab-df-convert {\n",
              "      background-color: #3B4455;\n",
              "      fill: #D2E3FC;\n",
              "    }\n",
              "\n",
              "    [theme=dark] .colab-df-convert:hover {\n",
              "      background-color: #434B5C;\n",
              "      box-shadow: 0px 1px 3px 1px rgba(0, 0, 0, 0.15);\n",
              "      filter: drop-shadow(0px 1px 2px rgba(0, 0, 0, 0.3));\n",
              "      fill: #FFFFFF;\n",
              "    }\n",
              "  </style>\n",
              "\n",
              "      <script>\n",
              "        const buttonEl =\n",
              "          document.querySelector('#df-8dba19da-76f8-42f1-a7a9-0cc4bb25cae9 button.colab-df-convert');\n",
              "        buttonEl.style.display =\n",
              "          google.colab.kernel.accessAllowed ? 'block' : 'none';\n",
              "\n",
              "        async function convertToInteractive(key) {\n",
              "          const element = document.querySelector('#df-8dba19da-76f8-42f1-a7a9-0cc4bb25cae9');\n",
              "          const dataTable =\n",
              "            await google.colab.kernel.invokeFunction('convertToInteractive',\n",
              "                                                     [key], {});\n",
              "          if (!dataTable) return;\n",
              "\n",
              "          const docLinkHtml = 'Like what you see? Visit the ' +\n",
              "            '<a target=\"_blank\" href=https://colab.research.google.com/notebooks/data_table.ipynb>data table notebook</a>'\n",
              "            + ' to learn more about interactive tables.';\n",
              "          element.innerHTML = '';\n",
              "          dataTable['output_type'] = 'display_data';\n",
              "          await google.colab.output.renderOutput(dataTable, element);\n",
              "          const docLink = document.createElement('div');\n",
              "          docLink.innerHTML = docLinkHtml;\n",
              "          element.appendChild(docLink);\n",
              "        }\n",
              "      </script>\n",
              "    </div>\n",
              "  </div>\n",
              "  "
            ]
          },
          "metadata": {},
          "execution_count": 267
        }
      ]
    },
    {
      "cell_type": "code",
      "source": [
        "sal_slice_medians.join(sal_slice_counts)"
      ],
      "metadata": {
        "id": "LOxkCfhuVl_b",
        "outputId": "1e151534-ef56-4c6a-a76f-ce8fd46f520f",
        "colab": {
          "base_uri": "https://localhost:8080/",
          "height": 175
        }
      },
      "execution_count": null,
      "outputs": [
        {
          "output_type": "execute_result",
          "data": {
            "text/plain": [
              "            2011 median  2012 median  2013 median  2014 median  \\\n",
              "Profession                                                       \n",
              "fire         137867.255   146499.880   155441.660   144783.775   \n",
              "medicine      65532.700    64291.625    66393.385    64202.250   \n",
              "police       120538.460   133475.775   143316.240   138599.380   \n",
              "\n",
              "            2011 emp_count  2012 emp_count  2013 emp_count  2014 emp_count  \n",
              "Profession                                                                  \n",
              "fire                  1118            1129            1145            1188  \n",
              "medicine              3863            4628            4714            4748  \n",
              "police                1945            2620            2640            2687  "
            ],
            "text/html": [
              "\n",
              "  <div id=\"df-c71cac48-d373-43cd-af19-b9884d485ad8\">\n",
              "    <div class=\"colab-df-container\">\n",
              "      <div>\n",
              "<style scoped>\n",
              "    .dataframe tbody tr th:only-of-type {\n",
              "        vertical-align: middle;\n",
              "    }\n",
              "\n",
              "    .dataframe tbody tr th {\n",
              "        vertical-align: top;\n",
              "    }\n",
              "\n",
              "    .dataframe thead th {\n",
              "        text-align: right;\n",
              "    }\n",
              "</style>\n",
              "<table border=\"1\" class=\"dataframe\">\n",
              "  <thead>\n",
              "    <tr style=\"text-align: right;\">\n",
              "      <th></th>\n",
              "      <th>2011 median</th>\n",
              "      <th>2012 median</th>\n",
              "      <th>2013 median</th>\n",
              "      <th>2014 median</th>\n",
              "      <th>2011 emp_count</th>\n",
              "      <th>2012 emp_count</th>\n",
              "      <th>2013 emp_count</th>\n",
              "      <th>2014 emp_count</th>\n",
              "    </tr>\n",
              "    <tr>\n",
              "      <th>Profession</th>\n",
              "      <th></th>\n",
              "      <th></th>\n",
              "      <th></th>\n",
              "      <th></th>\n",
              "      <th></th>\n",
              "      <th></th>\n",
              "      <th></th>\n",
              "      <th></th>\n",
              "    </tr>\n",
              "  </thead>\n",
              "  <tbody>\n",
              "    <tr>\n",
              "      <th>fire</th>\n",
              "      <td>137867.255</td>\n",
              "      <td>146499.880</td>\n",
              "      <td>155441.660</td>\n",
              "      <td>144783.775</td>\n",
              "      <td>1118</td>\n",
              "      <td>1129</td>\n",
              "      <td>1145</td>\n",
              "      <td>1188</td>\n",
              "    </tr>\n",
              "    <tr>\n",
              "      <th>medicine</th>\n",
              "      <td>65532.700</td>\n",
              "      <td>64291.625</td>\n",
              "      <td>66393.385</td>\n",
              "      <td>64202.250</td>\n",
              "      <td>3863</td>\n",
              "      <td>4628</td>\n",
              "      <td>4714</td>\n",
              "      <td>4748</td>\n",
              "    </tr>\n",
              "    <tr>\n",
              "      <th>police</th>\n",
              "      <td>120538.460</td>\n",
              "      <td>133475.775</td>\n",
              "      <td>143316.240</td>\n",
              "      <td>138599.380</td>\n",
              "      <td>1945</td>\n",
              "      <td>2620</td>\n",
              "      <td>2640</td>\n",
              "      <td>2687</td>\n",
              "    </tr>\n",
              "  </tbody>\n",
              "</table>\n",
              "</div>\n",
              "      <button class=\"colab-df-convert\" onclick=\"convertToInteractive('df-c71cac48-d373-43cd-af19-b9884d485ad8')\"\n",
              "              title=\"Convert this dataframe to an interactive table.\"\n",
              "              style=\"display:none;\">\n",
              "        \n",
              "  <svg xmlns=\"http://www.w3.org/2000/svg\" height=\"24px\"viewBox=\"0 0 24 24\"\n",
              "       width=\"24px\">\n",
              "    <path d=\"M0 0h24v24H0V0z\" fill=\"none\"/>\n",
              "    <path d=\"M18.56 5.44l.94 2.06.94-2.06 2.06-.94-2.06-.94-.94-2.06-.94 2.06-2.06.94zm-11 1L8.5 8.5l.94-2.06 2.06-.94-2.06-.94L8.5 2.5l-.94 2.06-2.06.94zm10 10l.94 2.06.94-2.06 2.06-.94-2.06-.94-.94-2.06-.94 2.06-2.06.94z\"/><path d=\"M17.41 7.96l-1.37-1.37c-.4-.4-.92-.59-1.43-.59-.52 0-1.04.2-1.43.59L10.3 9.45l-7.72 7.72c-.78.78-.78 2.05 0 2.83L4 21.41c.39.39.9.59 1.41.59.51 0 1.02-.2 1.41-.59l7.78-7.78 2.81-2.81c.8-.78.8-2.07 0-2.86zM5.41 20L4 18.59l7.72-7.72 1.47 1.35L5.41 20z\"/>\n",
              "  </svg>\n",
              "      </button>\n",
              "      \n",
              "  <style>\n",
              "    .colab-df-container {\n",
              "      display:flex;\n",
              "      flex-wrap:wrap;\n",
              "      gap: 12px;\n",
              "    }\n",
              "\n",
              "    .colab-df-convert {\n",
              "      background-color: #E8F0FE;\n",
              "      border: none;\n",
              "      border-radius: 50%;\n",
              "      cursor: pointer;\n",
              "      display: none;\n",
              "      fill: #1967D2;\n",
              "      height: 32px;\n",
              "      padding: 0 0 0 0;\n",
              "      width: 32px;\n",
              "    }\n",
              "\n",
              "    .colab-df-convert:hover {\n",
              "      background-color: #E2EBFA;\n",
              "      box-shadow: 0px 1px 2px rgba(60, 64, 67, 0.3), 0px 1px 3px 1px rgba(60, 64, 67, 0.15);\n",
              "      fill: #174EA6;\n",
              "    }\n",
              "\n",
              "    [theme=dark] .colab-df-convert {\n",
              "      background-color: #3B4455;\n",
              "      fill: #D2E3FC;\n",
              "    }\n",
              "\n",
              "    [theme=dark] .colab-df-convert:hover {\n",
              "      background-color: #434B5C;\n",
              "      box-shadow: 0px 1px 3px 1px rgba(0, 0, 0, 0.15);\n",
              "      filter: drop-shadow(0px 1px 2px rgba(0, 0, 0, 0.3));\n",
              "      fill: #FFFFFF;\n",
              "    }\n",
              "  </style>\n",
              "\n",
              "      <script>\n",
              "        const buttonEl =\n",
              "          document.querySelector('#df-c71cac48-d373-43cd-af19-b9884d485ad8 button.colab-df-convert');\n",
              "        buttonEl.style.display =\n",
              "          google.colab.kernel.accessAllowed ? 'block' : 'none';\n",
              "\n",
              "        async function convertToInteractive(key) {\n",
              "          const element = document.querySelector('#df-c71cac48-d373-43cd-af19-b9884d485ad8');\n",
              "          const dataTable =\n",
              "            await google.colab.kernel.invokeFunction('convertToInteractive',\n",
              "                                                     [key], {});\n",
              "          if (!dataTable) return;\n",
              "\n",
              "          const docLinkHtml = 'Like what you see? Visit the ' +\n",
              "            '<a target=\"_blank\" href=https://colab.research.google.com/notebooks/data_table.ipynb>data table notebook</a>'\n",
              "            + ' to learn more about interactive tables.';\n",
              "          element.innerHTML = '';\n",
              "          dataTable['output_type'] = 'display_data';\n",
              "          await google.colab.output.renderOutput(dataTable, element);\n",
              "          const docLink = document.createElement('div');\n",
              "          docLink.innerHTML = docLinkHtml;\n",
              "          element.appendChild(docLink);\n",
              "        }\n",
              "      </script>\n",
              "    </div>\n",
              "  </div>\n",
              "  "
            ]
          },
          "metadata": {},
          "execution_count": 263
        }
      ]
    },
    {
      "cell_type": "code",
      "source": [
        "from sklearn.linear_model import LinearRegression\n",
        "from sklearn.preprocessing import LabelEncoder\n",
        "lin = LinearRegression()\n",
        "le = LabelEncoder()"
      ],
      "metadata": {
        "id": "o8wliytzeDHy"
      },
      "execution_count": null,
      "outputs": []
    },
    {
      "cell_type": "code",
      "source": [
        "sal_slice['Prof_encoded'] = le.fit_transform(sal_slice['Profession'])\n",
        "sal_slice['Stat_encoded'] = le.fit_transform(sal_slice['Status'])"
      ],
      "metadata": {
        "id": "AJil9V6xfH99",
        "outputId": "6f715844-b7f2-4af1-cf75-66a8c6418fc6",
        "colab": {
          "base_uri": "https://localhost:8080/"
        }
      },
      "execution_count": null,
      "outputs": [
        {
          "output_type": "stream",
          "name": "stderr",
          "text": [
            "/usr/local/lib/python3.7/dist-packages/ipykernel_launcher.py:1: SettingWithCopyWarning: \n",
            "A value is trying to be set on a copy of a slice from a DataFrame.\n",
            "Try using .loc[row_indexer,col_indexer] = value instead\n",
            "\n",
            "See the caveats in the documentation: https://pandas.pydata.org/pandas-docs/stable/user_guide/indexing.html#returning-a-view-versus-a-copy\n",
            "  \"\"\"Entry point for launching an IPython kernel.\n",
            "/usr/local/lib/python3.7/dist-packages/ipykernel_launcher.py:2: SettingWithCopyWarning: \n",
            "A value is trying to be set on a copy of a slice from a DataFrame.\n",
            "Try using .loc[row_indexer,col_indexer] = value instead\n",
            "\n",
            "See the caveats in the documentation: https://pandas.pydata.org/pandas-docs/stable/user_guide/indexing.html#returning-a-view-versus-a-copy\n",
            "  \n"
          ]
        }
      ]
    },
    {
      "cell_type": "code",
      "source": [
        "sal_slice.head()"
      ],
      "metadata": {
        "id": "4TW0rRX1fvMb",
        "outputId": "e5774d95-95ea-4653-bfe4-fda2a91df52f",
        "colab": {
          "base_uri": "https://localhost:8080/",
          "height": 206
        }
      },
      "execution_count": null,
      "outputs": [
        {
          "output_type": "execute_result",
          "data": {
            "text/plain": [
              "    Id   EmployeeName                            JobTitle    BasePay  \\\n",
              "19  20  ELLEN MOFFATT          assistant medical examiner  257510.59   \n",
              "20  21     VENUS AZAR          assistant medical examiner  257510.48   \n",
              "21  22   JUDY MELINEK          assistant medical examiner  257510.44   \n",
              "25  26   GREGORY SUHR                     chief of police  256470.41   \n",
              "36  37   SUSAN CURRIN  administrator, sfgh medical center  245124.44   \n",
              "\n",
              "    OvertimePay  OtherPay  Benefits   TotalPay  TotalPayBenefits  Year Status  \\\n",
              "19       880.16  16159.50       0.0  274550.25         274550.25  2011  empty   \n",
              "20         0.00  16679.79       0.0  274190.27         274190.27  2011  empty   \n",
              "21       377.21  15883.56       0.0  273771.21         273771.21  2011  empty   \n",
              "25         0.00  11522.18       0.0  267992.59         267992.59  2011  empty   \n",
              "36         0.00  12000.00       0.0  257124.44         257124.44  2011  empty   \n",
              "\n",
              "   Profession  Prof_encoded  Stat_encoded  \n",
              "19   medicine             1             2  \n",
              "20   medicine             1             2  \n",
              "21   medicine             1             2  \n",
              "25     police             2             2  \n",
              "36   medicine             1             2  "
            ],
            "text/html": [
              "\n",
              "  <div id=\"df-1a2a9a7f-3e4f-4935-80df-0da80bac256b\">\n",
              "    <div class=\"colab-df-container\">\n",
              "      <div>\n",
              "<style scoped>\n",
              "    .dataframe tbody tr th:only-of-type {\n",
              "        vertical-align: middle;\n",
              "    }\n",
              "\n",
              "    .dataframe tbody tr th {\n",
              "        vertical-align: top;\n",
              "    }\n",
              "\n",
              "    .dataframe thead th {\n",
              "        text-align: right;\n",
              "    }\n",
              "</style>\n",
              "<table border=\"1\" class=\"dataframe\">\n",
              "  <thead>\n",
              "    <tr style=\"text-align: right;\">\n",
              "      <th></th>\n",
              "      <th>Id</th>\n",
              "      <th>EmployeeName</th>\n",
              "      <th>JobTitle</th>\n",
              "      <th>BasePay</th>\n",
              "      <th>OvertimePay</th>\n",
              "      <th>OtherPay</th>\n",
              "      <th>Benefits</th>\n",
              "      <th>TotalPay</th>\n",
              "      <th>TotalPayBenefits</th>\n",
              "      <th>Year</th>\n",
              "      <th>Status</th>\n",
              "      <th>Profession</th>\n",
              "      <th>Prof_encoded</th>\n",
              "      <th>Stat_encoded</th>\n",
              "    </tr>\n",
              "  </thead>\n",
              "  <tbody>\n",
              "    <tr>\n",
              "      <th>19</th>\n",
              "      <td>20</td>\n",
              "      <td>ELLEN MOFFATT</td>\n",
              "      <td>assistant medical examiner</td>\n",
              "      <td>257510.59</td>\n",
              "      <td>880.16</td>\n",
              "      <td>16159.50</td>\n",
              "      <td>0.0</td>\n",
              "      <td>274550.25</td>\n",
              "      <td>274550.25</td>\n",
              "      <td>2011</td>\n",
              "      <td>empty</td>\n",
              "      <td>medicine</td>\n",
              "      <td>1</td>\n",
              "      <td>2</td>\n",
              "    </tr>\n",
              "    <tr>\n",
              "      <th>20</th>\n",
              "      <td>21</td>\n",
              "      <td>VENUS AZAR</td>\n",
              "      <td>assistant medical examiner</td>\n",
              "      <td>257510.48</td>\n",
              "      <td>0.00</td>\n",
              "      <td>16679.79</td>\n",
              "      <td>0.0</td>\n",
              "      <td>274190.27</td>\n",
              "      <td>274190.27</td>\n",
              "      <td>2011</td>\n",
              "      <td>empty</td>\n",
              "      <td>medicine</td>\n",
              "      <td>1</td>\n",
              "      <td>2</td>\n",
              "    </tr>\n",
              "    <tr>\n",
              "      <th>21</th>\n",
              "      <td>22</td>\n",
              "      <td>JUDY MELINEK</td>\n",
              "      <td>assistant medical examiner</td>\n",
              "      <td>257510.44</td>\n",
              "      <td>377.21</td>\n",
              "      <td>15883.56</td>\n",
              "      <td>0.0</td>\n",
              "      <td>273771.21</td>\n",
              "      <td>273771.21</td>\n",
              "      <td>2011</td>\n",
              "      <td>empty</td>\n",
              "      <td>medicine</td>\n",
              "      <td>1</td>\n",
              "      <td>2</td>\n",
              "    </tr>\n",
              "    <tr>\n",
              "      <th>25</th>\n",
              "      <td>26</td>\n",
              "      <td>GREGORY SUHR</td>\n",
              "      <td>chief of police</td>\n",
              "      <td>256470.41</td>\n",
              "      <td>0.00</td>\n",
              "      <td>11522.18</td>\n",
              "      <td>0.0</td>\n",
              "      <td>267992.59</td>\n",
              "      <td>267992.59</td>\n",
              "      <td>2011</td>\n",
              "      <td>empty</td>\n",
              "      <td>police</td>\n",
              "      <td>2</td>\n",
              "      <td>2</td>\n",
              "    </tr>\n",
              "    <tr>\n",
              "      <th>36</th>\n",
              "      <td>37</td>\n",
              "      <td>SUSAN CURRIN</td>\n",
              "      <td>administrator, sfgh medical center</td>\n",
              "      <td>245124.44</td>\n",
              "      <td>0.00</td>\n",
              "      <td>12000.00</td>\n",
              "      <td>0.0</td>\n",
              "      <td>257124.44</td>\n",
              "      <td>257124.44</td>\n",
              "      <td>2011</td>\n",
              "      <td>empty</td>\n",
              "      <td>medicine</td>\n",
              "      <td>1</td>\n",
              "      <td>2</td>\n",
              "    </tr>\n",
              "  </tbody>\n",
              "</table>\n",
              "</div>\n",
              "      <button class=\"colab-df-convert\" onclick=\"convertToInteractive('df-1a2a9a7f-3e4f-4935-80df-0da80bac256b')\"\n",
              "              title=\"Convert this dataframe to an interactive table.\"\n",
              "              style=\"display:none;\">\n",
              "        \n",
              "  <svg xmlns=\"http://www.w3.org/2000/svg\" height=\"24px\"viewBox=\"0 0 24 24\"\n",
              "       width=\"24px\">\n",
              "    <path d=\"M0 0h24v24H0V0z\" fill=\"none\"/>\n",
              "    <path d=\"M18.56 5.44l.94 2.06.94-2.06 2.06-.94-2.06-.94-.94-2.06-.94 2.06-2.06.94zm-11 1L8.5 8.5l.94-2.06 2.06-.94-2.06-.94L8.5 2.5l-.94 2.06-2.06.94zm10 10l.94 2.06.94-2.06 2.06-.94-2.06-.94-.94-2.06-.94 2.06-2.06.94z\"/><path d=\"M17.41 7.96l-1.37-1.37c-.4-.4-.92-.59-1.43-.59-.52 0-1.04.2-1.43.59L10.3 9.45l-7.72 7.72c-.78.78-.78 2.05 0 2.83L4 21.41c.39.39.9.59 1.41.59.51 0 1.02-.2 1.41-.59l7.78-7.78 2.81-2.81c.8-.78.8-2.07 0-2.86zM5.41 20L4 18.59l7.72-7.72 1.47 1.35L5.41 20z\"/>\n",
              "  </svg>\n",
              "      </button>\n",
              "      \n",
              "  <style>\n",
              "    .colab-df-container {\n",
              "      display:flex;\n",
              "      flex-wrap:wrap;\n",
              "      gap: 12px;\n",
              "    }\n",
              "\n",
              "    .colab-df-convert {\n",
              "      background-color: #E8F0FE;\n",
              "      border: none;\n",
              "      border-radius: 50%;\n",
              "      cursor: pointer;\n",
              "      display: none;\n",
              "      fill: #1967D2;\n",
              "      height: 32px;\n",
              "      padding: 0 0 0 0;\n",
              "      width: 32px;\n",
              "    }\n",
              "\n",
              "    .colab-df-convert:hover {\n",
              "      background-color: #E2EBFA;\n",
              "      box-shadow: 0px 1px 2px rgba(60, 64, 67, 0.3), 0px 1px 3px 1px rgba(60, 64, 67, 0.15);\n",
              "      fill: #174EA6;\n",
              "    }\n",
              "\n",
              "    [theme=dark] .colab-df-convert {\n",
              "      background-color: #3B4455;\n",
              "      fill: #D2E3FC;\n",
              "    }\n",
              "\n",
              "    [theme=dark] .colab-df-convert:hover {\n",
              "      background-color: #434B5C;\n",
              "      box-shadow: 0px 1px 3px 1px rgba(0, 0, 0, 0.15);\n",
              "      filter: drop-shadow(0px 1px 2px rgba(0, 0, 0, 0.3));\n",
              "      fill: #FFFFFF;\n",
              "    }\n",
              "  </style>\n",
              "\n",
              "      <script>\n",
              "        const buttonEl =\n",
              "          document.querySelector('#df-1a2a9a7f-3e4f-4935-80df-0da80bac256b button.colab-df-convert');\n",
              "        buttonEl.style.display =\n",
              "          google.colab.kernel.accessAllowed ? 'block' : 'none';\n",
              "\n",
              "        async function convertToInteractive(key) {\n",
              "          const element = document.querySelector('#df-1a2a9a7f-3e4f-4935-80df-0da80bac256b');\n",
              "          const dataTable =\n",
              "            await google.colab.kernel.invokeFunction('convertToInteractive',\n",
              "                                                     [key], {});\n",
              "          if (!dataTable) return;\n",
              "\n",
              "          const docLinkHtml = 'Like what you see? Visit the ' +\n",
              "            '<a target=\"_blank\" href=https://colab.research.google.com/notebooks/data_table.ipynb>data table notebook</a>'\n",
              "            + ' to learn more about interactive tables.';\n",
              "          element.innerHTML = '';\n",
              "          dataTable['output_type'] = 'display_data';\n",
              "          await google.colab.output.renderOutput(dataTable, element);\n",
              "          const docLink = document.createElement('div');\n",
              "          docLink.innerHTML = docLinkHtml;\n",
              "          element.appendChild(docLink);\n",
              "        }\n",
              "      </script>\n",
              "    </div>\n",
              "  </div>\n",
              "  "
            ]
          },
          "metadata": {},
          "execution_count": 305
        }
      ]
    },
    {
      "cell_type": "code",
      "source": [
        "X = sal_slice[[\"Year\", \"Prof_encoded\", \"Stat_encoded\"]]\n",
        "y = sal_slice.TotalPay\n",
        "reg = lin.fit(X, y)"
      ],
      "metadata": {
        "id": "QIvgtcBaeZAO"
      },
      "execution_count": null,
      "outputs": []
    },
    {
      "cell_type": "code",
      "source": [
        "medians['Prof_encoded'] = le.fit_transform(medians['Profession'])"
      ],
      "metadata": {
        "id": "_CT3EpMlhA8w"
      },
      "execution_count": null,
      "outputs": []
    },
    {
      "cell_type": "code",
      "source": [
        "X = medians[[\"Year\", \"Prof_encoded\"]]\n",
        "y = medians.TotalPay\n",
        "reg = lin.fit(X.values, y)"
      ],
      "metadata": {
        "id": "ym7MGbM2hK0_"
      },
      "execution_count": null,
      "outputs": []
    },
    {
      "cell_type": "code",
      "source": [
        "medians"
      ],
      "metadata": {
        "id": "gSjKQqBDi3fU",
        "outputId": "d2776f9b-6464-4807-8aeb-0618f84608f9",
        "colab": {
          "base_uri": "https://localhost:8080/",
          "height": 426
        }
      },
      "execution_count": null,
      "outputs": [
        {
          "output_type": "execute_result",
          "data": {
            "text/plain": [
              "    Year Profession    TotalPay\n",
              "0   2011       fire  137867.255\n",
              "1   2011   medicine   65532.700\n",
              "2   2011     police  120538.460\n",
              "3   2012       fire  146499.880\n",
              "4   2012   medicine   64291.625\n",
              "5   2012     police  133475.775\n",
              "6   2013       fire  155441.660\n",
              "7   2013   medicine   66393.385\n",
              "8   2013     police  143316.240\n",
              "9   2014       fire  144783.775\n",
              "10  2014   medicine   64202.250\n",
              "11  2014     police  138599.380"
            ],
            "text/html": [
              "\n",
              "  <div id=\"df-bf448429-89b0-439a-8643-14ad15f5d11d\">\n",
              "    <div class=\"colab-df-container\">\n",
              "      <div>\n",
              "<style scoped>\n",
              "    .dataframe tbody tr th:only-of-type {\n",
              "        vertical-align: middle;\n",
              "    }\n",
              "\n",
              "    .dataframe tbody tr th {\n",
              "        vertical-align: top;\n",
              "    }\n",
              "\n",
              "    .dataframe thead th {\n",
              "        text-align: right;\n",
              "    }\n",
              "</style>\n",
              "<table border=\"1\" class=\"dataframe\">\n",
              "  <thead>\n",
              "    <tr style=\"text-align: right;\">\n",
              "      <th></th>\n",
              "      <th>Year</th>\n",
              "      <th>Profession</th>\n",
              "      <th>TotalPay</th>\n",
              "    </tr>\n",
              "  </thead>\n",
              "  <tbody>\n",
              "    <tr>\n",
              "      <th>0</th>\n",
              "      <td>2011</td>\n",
              "      <td>fire</td>\n",
              "      <td>137867.255</td>\n",
              "    </tr>\n",
              "    <tr>\n",
              "      <th>1</th>\n",
              "      <td>2011</td>\n",
              "      <td>medicine</td>\n",
              "      <td>65532.700</td>\n",
              "    </tr>\n",
              "    <tr>\n",
              "      <th>2</th>\n",
              "      <td>2011</td>\n",
              "      <td>police</td>\n",
              "      <td>120538.460</td>\n",
              "    </tr>\n",
              "    <tr>\n",
              "      <th>3</th>\n",
              "      <td>2012</td>\n",
              "      <td>fire</td>\n",
              "      <td>146499.880</td>\n",
              "    </tr>\n",
              "    <tr>\n",
              "      <th>4</th>\n",
              "      <td>2012</td>\n",
              "      <td>medicine</td>\n",
              "      <td>64291.625</td>\n",
              "    </tr>\n",
              "    <tr>\n",
              "      <th>5</th>\n",
              "      <td>2012</td>\n",
              "      <td>police</td>\n",
              "      <td>133475.775</td>\n",
              "    </tr>\n",
              "    <tr>\n",
              "      <th>6</th>\n",
              "      <td>2013</td>\n",
              "      <td>fire</td>\n",
              "      <td>155441.660</td>\n",
              "    </tr>\n",
              "    <tr>\n",
              "      <th>7</th>\n",
              "      <td>2013</td>\n",
              "      <td>medicine</td>\n",
              "      <td>66393.385</td>\n",
              "    </tr>\n",
              "    <tr>\n",
              "      <th>8</th>\n",
              "      <td>2013</td>\n",
              "      <td>police</td>\n",
              "      <td>143316.240</td>\n",
              "    </tr>\n",
              "    <tr>\n",
              "      <th>9</th>\n",
              "      <td>2014</td>\n",
              "      <td>fire</td>\n",
              "      <td>144783.775</td>\n",
              "    </tr>\n",
              "    <tr>\n",
              "      <th>10</th>\n",
              "      <td>2014</td>\n",
              "      <td>medicine</td>\n",
              "      <td>64202.250</td>\n",
              "    </tr>\n",
              "    <tr>\n",
              "      <th>11</th>\n",
              "      <td>2014</td>\n",
              "      <td>police</td>\n",
              "      <td>138599.380</td>\n",
              "    </tr>\n",
              "  </tbody>\n",
              "</table>\n",
              "</div>\n",
              "      <button class=\"colab-df-convert\" onclick=\"convertToInteractive('df-bf448429-89b0-439a-8643-14ad15f5d11d')\"\n",
              "              title=\"Convert this dataframe to an interactive table.\"\n",
              "              style=\"display:none;\">\n",
              "        \n",
              "  <svg xmlns=\"http://www.w3.org/2000/svg\" height=\"24px\"viewBox=\"0 0 24 24\"\n",
              "       width=\"24px\">\n",
              "    <path d=\"M0 0h24v24H0V0z\" fill=\"none\"/>\n",
              "    <path d=\"M18.56 5.44l.94 2.06.94-2.06 2.06-.94-2.06-.94-.94-2.06-.94 2.06-2.06.94zm-11 1L8.5 8.5l.94-2.06 2.06-.94-2.06-.94L8.5 2.5l-.94 2.06-2.06.94zm10 10l.94 2.06.94-2.06 2.06-.94-2.06-.94-.94-2.06-.94 2.06-2.06.94z\"/><path d=\"M17.41 7.96l-1.37-1.37c-.4-.4-.92-.59-1.43-.59-.52 0-1.04.2-1.43.59L10.3 9.45l-7.72 7.72c-.78.78-.78 2.05 0 2.83L4 21.41c.39.39.9.59 1.41.59.51 0 1.02-.2 1.41-.59l7.78-7.78 2.81-2.81c.8-.78.8-2.07 0-2.86zM5.41 20L4 18.59l7.72-7.72 1.47 1.35L5.41 20z\"/>\n",
              "  </svg>\n",
              "      </button>\n",
              "      \n",
              "  <style>\n",
              "    .colab-df-container {\n",
              "      display:flex;\n",
              "      flex-wrap:wrap;\n",
              "      gap: 12px;\n",
              "    }\n",
              "\n",
              "    .colab-df-convert {\n",
              "      background-color: #E8F0FE;\n",
              "      border: none;\n",
              "      border-radius: 50%;\n",
              "      cursor: pointer;\n",
              "      display: none;\n",
              "      fill: #1967D2;\n",
              "      height: 32px;\n",
              "      padding: 0 0 0 0;\n",
              "      width: 32px;\n",
              "    }\n",
              "\n",
              "    .colab-df-convert:hover {\n",
              "      background-color: #E2EBFA;\n",
              "      box-shadow: 0px 1px 2px rgba(60, 64, 67, 0.3), 0px 1px 3px 1px rgba(60, 64, 67, 0.15);\n",
              "      fill: #174EA6;\n",
              "    }\n",
              "\n",
              "    [theme=dark] .colab-df-convert {\n",
              "      background-color: #3B4455;\n",
              "      fill: #D2E3FC;\n",
              "    }\n",
              "\n",
              "    [theme=dark] .colab-df-convert:hover {\n",
              "      background-color: #434B5C;\n",
              "      box-shadow: 0px 1px 3px 1px rgba(0, 0, 0, 0.15);\n",
              "      filter: drop-shadow(0px 1px 2px rgba(0, 0, 0, 0.3));\n",
              "      fill: #FFFFFF;\n",
              "    }\n",
              "  </style>\n",
              "\n",
              "      <script>\n",
              "        const buttonEl =\n",
              "          document.querySelector('#df-bf448429-89b0-439a-8643-14ad15f5d11d button.colab-df-convert');\n",
              "        buttonEl.style.display =\n",
              "          google.colab.kernel.accessAllowed ? 'block' : 'none';\n",
              "\n",
              "        async function convertToInteractive(key) {\n",
              "          const element = document.querySelector('#df-bf448429-89b0-439a-8643-14ad15f5d11d');\n",
              "          const dataTable =\n",
              "            await google.colab.kernel.invokeFunction('convertToInteractive',\n",
              "                                                     [key], {});\n",
              "          if (!dataTable) return;\n",
              "\n",
              "          const docLinkHtml = 'Like what you see? Visit the ' +\n",
              "            '<a target=\"_blank\" href=https://colab.research.google.com/notebooks/data_table.ipynb>data table notebook</a>'\n",
              "            + ' to learn more about interactive tables.';\n",
              "          element.innerHTML = '';\n",
              "          dataTable['output_type'] = 'display_data';\n",
              "          await google.colab.output.renderOutput(dataTable, element);\n",
              "          const docLink = document.createElement('div');\n",
              "          docLink.innerHTML = docLinkHtml;\n",
              "          element.appendChild(docLink);\n",
              "        }\n",
              "      </script>\n",
              "    </div>\n",
              "  </div>\n",
              "  "
            ]
          },
          "metadata": {},
          "execution_count": 348
        }
      ]
    },
    {
      "cell_type": "code",
      "source": [
        "lin.predict([[2015, 1]])"
      ],
      "metadata": {
        "id": "wrkTSFhQi96s",
        "outputId": "a293477c-6666-4f23-af38-212f8150a6e1",
        "colab": {
          "base_uri": "https://localhost:8080/"
        }
      },
      "execution_count": null,
      "outputs": [
        {
          "output_type": "execute_result",
          "data": {
            "text/plain": [
              "array([122730.61333333])"
            ]
          },
          "metadata": {},
          "execution_count": 333
        }
      ]
    },
    {
      "cell_type": "code",
      "source": [
        "for code in [0,1,2]:\n",
        "  print(le.inverse_transform([code])[0], lin.predict([[2014, code]])[0])"
      ],
      "metadata": {
        "id": "W45h7NA0gANq",
        "outputId": "03436945-a84c-47eb-e8ce-0b80286a3bf2",
        "colab": {
          "base_uri": "https://localhost:8080/"
        }
      },
      "execution_count": null,
      "outputs": [
        {
          "output_type": "stream",
          "name": "stdout",
          "text": [
            "fire 125752.62020833418\n",
            "medicine 119669.78083333373\n",
            "police 113586.94145833421\n"
          ]
        }
      ]
    },
    {
      "cell_type": "code",
      "source": [
        "dummies = pd.get_dummies(medians.Profession, prefix='Prof')\n",
        "medians = medians.join(dummies)"
      ],
      "metadata": {
        "id": "5CyM2SiMj9Ia"
      },
      "execution_count": null,
      "outputs": []
    },
    {
      "cell_type": "code",
      "source": [
        "for dum in dummies.columns.values:\n",
        "  print(dum)\n",
        "  #print(dum, lin.predict([[2014, code]])[0])\n",
        "\n"
      ],
      "metadata": {
        "id": "t73a9kdCld1t",
        "outputId": "e2b3d917-c0f9-45f6-aebb-7ab0160ba313",
        "colab": {
          "base_uri": "https://localhost:8080/"
        }
      },
      "execution_count": null,
      "outputs": [
        {
          "output_type": "stream",
          "name": "stdout",
          "text": [
            "Prof_fire\n",
            "Prof_medicine\n",
            "Prof_police\n"
          ]
        }
      ]
    },
    {
      "cell_type": "code",
      "source": [
        "X = medians.drop(['Profession', 'TotalPay'], axis = 1)\n",
        "y = medians.TotalPay\n",
        "reg = lin.fit(X.values, y)"
      ],
      "metadata": {
        "id": "1BY-F4-UkIWX"
      },
      "execution_count": null,
      "outputs": []
    },
    {
      "cell_type": "code",
      "source": [
        "lin.predict([[2015, 0,0,1]])"
      ],
      "metadata": {
        "id": "z17HFx5Ok2De",
        "outputId": "9412e09b-22c8-4f14-a49a-528e9396fb4b",
        "colab": {
          "base_uri": "https://localhost:8080/"
        }
      },
      "execution_count": null,
      "outputs": [
        {
          "output_type": "execute_result",
          "data": {
            "text/plain": [
              "array([141634.545])"
            ]
          },
          "metadata": {},
          "execution_count": 346
        }
      ]
    },
    {
      "cell_type": "code",
      "source": [
        "text_transformer = TfidfVectorizer()"
      ],
      "metadata": {
        "id": "Su8DfiCC2A74"
      },
      "execution_count": null,
      "outputs": []
    },
    {
      "cell_type": "code",
      "source": [
        "text = text_transformer.fit_transform(sal['JobTitle'].str.lower())"
      ],
      "metadata": {
        "id": "to50Duck5eHv"
      },
      "execution_count": null,
      "outputs": []
    },
    {
      "cell_type": "code",
      "source": [
        "text"
      ],
      "metadata": {
        "colab": {
          "base_uri": "https://localhost:8080/"
        },
        "id": "yLMDR0bk5q3M",
        "outputId": "227e4e84-d075-4e66-9fc8-eb8a1969560e"
      },
      "execution_count": null,
      "outputs": [
        {
          "output_type": "execute_result",
          "data": {
            "text/plain": [
              "<148286x854 sparse matrix of type '<class 'numpy.float64'>'\n",
              "\twith 371780 stored elements in Compressed Sparse Row format>"
            ]
          },
          "metadata": {},
          "execution_count": 25
        }
      ]
    },
    {
      "cell_type": "markdown",
      "source": [
        "**Conclusions**"
      ],
      "metadata": {
        "id": "ueOtd-aIFZLj"
      }
    },
    {
      "cell_type": "code",
      "source": [
        "#https://www.glassdoor.com/Salaries/san-francisco-lieutenant-salary-SRCH_IL.0,13_IC1147401_KO14,24.htm\n",
        "#nice vizualisation"
      ],
      "metadata": {
        "id": "TOAf5h3RFb4a"
      },
      "execution_count": null,
      "outputs": []
    }
  ]
}